{
 "cells": [
  {
   "cell_type": "code",
   "execution_count": 1,
   "metadata": {},
   "outputs": [
    {
     "name": "stderr",
     "output_type": "stream",
     "text": [
      "/Users/dongjustin/miniconda2/envs/text2scene/lib/python3.7/importlib/_bootstrap.py:219: RuntimeWarning: numpy.ufunc size changed, may indicate binary incompatibility. Expected 192 from C header, got 216 from PyObject\n",
      "  return f(*args, **kwds)\n",
      "/Users/dongjustin/miniconda2/envs/text2scene/lib/python3.7/importlib/_bootstrap.py:219: RuntimeWarning: numpy.ufunc size changed, may indicate binary incompatibility. Expected 192 from C header, got 216 from PyObject\n",
      "  return f(*args, **kwds)\n",
      "/Users/dongjustin/miniconda2/envs/text2scene/lib/python3.7/importlib/_bootstrap.py:219: RuntimeWarning: numpy.ufunc size changed, may indicate binary incompatibility. Expected 192 from C header, got 216 from PyObject\n",
      "  return f(*args, **kwds)\n",
      "/Users/dongjustin/miniconda2/envs/text2scene/lib/python3.7/importlib/_bootstrap.py:219: RuntimeWarning: numpy.ufunc size changed, may indicate binary incompatibility. Expected 192 from C header, got 216 from PyObject\n",
      "  return f(*args, **kwds)\n",
      "/Users/dongjustin/miniconda2/envs/text2scene/lib/python3.7/importlib/_bootstrap.py:219: RuntimeWarning: numpy.ufunc size changed, may indicate binary incompatibility. Expected 192 from C header, got 216 from PyObject\n",
      "  return f(*args, **kwds)\n",
      "/Users/dongjustin/miniconda2/envs/text2scene/lib/python3.7/importlib/_bootstrap.py:219: RuntimeWarning: numpy.ufunc size changed, may indicate binary incompatibility. Expected 192 from C header, got 216 from PyObject\n",
      "  return f(*args, **kwds)\n",
      "/Users/dongjustin/miniconda2/envs/text2scene/lib/python3.7/importlib/_bootstrap.py:219: RuntimeWarning: numpy.ufunc size changed, may indicate binary incompatibility. Expected 192 from C header, got 216 from PyObject\n",
      "  return f(*args, **kwds)\n",
      "/Users/dongjustin/miniconda2/envs/text2scene/lib/python3.7/importlib/_bootstrap.py:219: RuntimeWarning: numpy.ufunc size changed, may indicate binary incompatibility. Expected 192 from C header, got 216 from PyObject\n",
      "  return f(*args, **kwds)\n",
      "/Users/dongjustin/miniconda2/envs/text2scene/lib/python3.7/importlib/_bootstrap.py:219: RuntimeWarning: numpy.ufunc size changed, may indicate binary incompatibility. Expected 192 from C header, got 216 from PyObject\n",
      "  return f(*args, **kwds)\n",
      "/Users/dongjustin/miniconda2/envs/text2scene/lib/python3.7/importlib/_bootstrap.py:219: RuntimeWarning: numpy.ufunc size changed, may indicate binary incompatibility. Expected 192 from C header, got 216 from PyObject\n",
      "  return f(*args, **kwds)\n",
      "/Users/dongjustin/miniconda2/envs/text2scene/lib/python3.7/importlib/_bootstrap.py:219: RuntimeWarning: numpy.ufunc size changed, may indicate binary incompatibility. Expected 192 from C header, got 216 from PyObject\n",
      "  return f(*args, **kwds)\n",
      "/Users/dongjustin/miniconda2/envs/text2scene/lib/python3.7/importlib/_bootstrap.py:219: RuntimeWarning: numpy.ufunc size changed, may indicate binary incompatibility. Expected 192 from C header, got 216 from PyObject\n",
      "  return f(*args, **kwds)\n",
      "/Users/dongjustin/miniconda2/envs/text2scene/lib/python3.7/importlib/_bootstrap.py:219: RuntimeWarning: numpy.ufunc size changed, may indicate binary incompatibility. Expected 192 from C header, got 216 from PyObject\n",
      "  return f(*args, **kwds)\n",
      "/Users/dongjustin/miniconda2/envs/text2scene/lib/python3.7/importlib/_bootstrap.py:219: RuntimeWarning: numpy.ufunc size changed, may indicate binary incompatibility. Expected 192 from C header, got 216 from PyObject\n",
      "  return f(*args, **kwds)\n",
      "/Users/dongjustin/miniconda2/envs/text2scene/lib/python3.7/importlib/_bootstrap.py:219: RuntimeWarning: numpy.ufunc size changed, may indicate binary incompatibility. Expected 192 from C header, got 216 from PyObject\n",
      "  return f(*args, **kwds)\n",
      "/Users/dongjustin/miniconda2/envs/text2scene/lib/python3.7/importlib/_bootstrap.py:219: RuntimeWarning: numpy.ufunc size changed, may indicate binary incompatibility. Expected 192 from C header, got 216 from PyObject\n",
      "  return f(*args, **kwds)\n",
      "/Users/dongjustin/miniconda2/envs/text2scene/lib/python3.7/importlib/_bootstrap.py:219: RuntimeWarning: numpy.ufunc size changed, may indicate binary incompatibility. Expected 192 from C header, got 216 from PyObject\n",
      "  return f(*args, **kwds)\n",
      "/Users/dongjustin/miniconda2/envs/text2scene/lib/python3.7/importlib/_bootstrap.py:219: RuntimeWarning: numpy.ufunc size changed, may indicate binary incompatibility. Expected 192 from C header, got 216 from PyObject\n",
      "  return f(*args, **kwds)\n",
      "/Users/dongjustin/miniconda2/envs/text2scene/lib/python3.7/importlib/_bootstrap.py:219: RuntimeWarning: numpy.ufunc size changed, may indicate binary incompatibility. Expected 192 from C header, got 216 from PyObject\n",
      "  return f(*args, **kwds)\n",
      "/Users/dongjustin/miniconda2/envs/text2scene/lib/python3.7/importlib/_bootstrap.py:219: RuntimeWarning: numpy.ufunc size changed, may indicate binary incompatibility. Expected 192 from C header, got 216 from PyObject\n",
      "  return f(*args, **kwds)\n",
      "/Users/dongjustin/miniconda2/envs/text2scene/lib/python3.7/importlib/_bootstrap.py:219: RuntimeWarning: numpy.ufunc size changed, may indicate binary incompatibility. Expected 192 from C header, got 216 from PyObject\n",
      "  return f(*args, **kwds)\n",
      "/Users/dongjustin/miniconda2/envs/text2scene/lib/python3.7/importlib/_bootstrap.py:219: RuntimeWarning: numpy.ufunc size changed, may indicate binary incompatibility. Expected 192 from C header, got 216 from PyObject\n",
      "  return f(*args, **kwds)\n",
      "/Users/dongjustin/miniconda2/envs/text2scene/lib/python3.7/site-packages/nltk/decorators.py:68: DeprecationWarning: `formatargspec` is deprecated since Python 3.5. Use `signature` and the `Signature` object directly\n",
      "  regargs, varargs, varkwargs, defaults, formatvalue=lambda value: \"\"\n",
      "/Users/dongjustin/miniconda2/envs/text2scene/lib/python3.7/site-packages/nltk/lm/counter.py:15: DeprecationWarning: Using or importing the ABCs from 'collections' instead of from 'collections.abc' is deprecated, and in 3.8 it will stop working\n",
      "  from collections import Sequence, defaultdict\n",
      "/Users/dongjustin/miniconda2/envs/text2scene/lib/python3.7/site-packages/nltk/lm/vocabulary.py:13: DeprecationWarning: Using or importing the ABCs from 'collections' instead of from 'collections.abc' is deprecated, and in 3.8 it will stop working\n",
      "  from collections import Counter, Iterable\n",
      "/Users/dongjustin/miniconda2/envs/text2scene/lib/python3.7/importlib/_bootstrap.py:219: RuntimeWarning: numpy.ufunc size changed, may indicate binary incompatibility. Expected 192 from C header, got 216 from PyObject\n",
      "  return f(*args, **kwds)\n",
      "/Users/dongjustin/miniconda2/envs/text2scene/lib/python3.7/importlib/_bootstrap.py:219: RuntimeWarning: numpy.ufunc size changed, may indicate binary incompatibility. Expected 192 from C header, got 216 from PyObject\n",
      "  return f(*args, **kwds)\n",
      "/Users/dongjustin/miniconda2/envs/text2scene/lib/python3.7/importlib/_bootstrap.py:219: RuntimeWarning: numpy.ufunc size changed, may indicate binary incompatibility. Expected 192 from C header, got 216 from PyObject\n",
      "  return f(*args, **kwds)\n",
      "/Users/dongjustin/miniconda2/envs/text2scene/lib/python3.7/importlib/_bootstrap.py:219: RuntimeWarning: numpy.ufunc size changed, may indicate binary incompatibility. Expected 192 from C header, got 216 from PyObject\n",
      "  return f(*args, **kwds)\n",
      "/Users/dongjustin/miniconda2/envs/text2scene/lib/python3.7/importlib/_bootstrap.py:219: RuntimeWarning: numpy.ufunc size changed, may indicate binary incompatibility. Expected 192 from C header, got 216 from PyObject\n",
      "  return f(*args, **kwds)\n",
      "/Users/dongjustin/miniconda2/envs/text2scene/lib/python3.7/importlib/_bootstrap.py:219: RuntimeWarning: numpy.ufunc size changed, may indicate binary incompatibility. Expected 192 from C header, got 216 from PyObject\n",
      "  return f(*args, **kwds)\n",
      "/Users/dongjustin/miniconda2/envs/text2scene/lib/python3.7/importlib/_bootstrap.py:219: RuntimeWarning: numpy.ufunc size changed, may indicate binary incompatibility. Expected 192 from C header, got 216 from PyObject\n",
      "  return f(*args, **kwds)\n",
      "/Users/dongjustin/miniconda2/envs/text2scene/lib/python3.7/importlib/_bootstrap.py:219: RuntimeWarning: numpy.ufunc size changed, may indicate binary incompatibility. Expected 192 from C header, got 216 from PyObject\n",
      "  return f(*args, **kwds)\n",
      "/Users/dongjustin/miniconda2/envs/text2scene/lib/python3.7/importlib/_bootstrap.py:219: RuntimeWarning: numpy.ufunc size changed, may indicate binary incompatibility. Expected 192 from C header, got 216 from PyObject\n",
      "  return f(*args, **kwds)\n",
      "/Users/dongjustin/miniconda2/envs/text2scene/lib/python3.7/importlib/_bootstrap.py:219: RuntimeWarning: numpy.ufunc size changed, may indicate binary incompatibility. Expected 192 from C header, got 216 from PyObject\n",
      "  return f(*args, **kwds)\n",
      "/Users/dongjustin/miniconda2/envs/text2scene/lib/python3.7/importlib/_bootstrap.py:219: RuntimeWarning: numpy.ufunc size changed, may indicate binary incompatibility. Expected 192 from C header, got 216 from PyObject\n",
      "  return f(*args, **kwds)\n",
      "/Users/dongjustin/miniconda2/envs/text2scene/lib/python3.7/importlib/_bootstrap.py:219: RuntimeWarning: numpy.ufunc size changed, may indicate binary incompatibility. Expected 192 from C header, got 216 from PyObject\n",
      "  return f(*args, **kwds)\n",
      "/Users/dongjustin/miniconda2/envs/text2scene/lib/python3.7/importlib/_bootstrap.py:219: RuntimeWarning: numpy.ufunc size changed, may indicate binary incompatibility. Expected 192 from C header, got 216 from PyObject\n",
      "  return f(*args, **kwds)\n",
      "/Users/dongjustin/miniconda2/envs/text2scene/lib/python3.7/importlib/_bootstrap.py:219: RuntimeWarning: numpy.ufunc size changed, may indicate binary incompatibility. Expected 192 from C header, got 216 from PyObject\n",
      "  return f(*args, **kwds)\n",
      "/Users/dongjustin/miniconda2/envs/text2scene/lib/python3.7/importlib/_bootstrap.py:219: RuntimeWarning: numpy.ufunc size changed, may indicate binary incompatibility. Expected 192 from C header, got 216 from PyObject\n",
      "  return f(*args, **kwds)\n",
      "/Users/dongjustin/miniconda2/envs/text2scene/lib/python3.7/importlib/_bootstrap.py:219: RuntimeWarning: numpy.ufunc size changed, may indicate binary incompatibility. Expected 192 from C header, got 216 from PyObject\n",
      "  return f(*args, **kwds)\n",
      "/Users/dongjustin/miniconda2/envs/text2scene/lib/python3.7/importlib/_bootstrap.py:219: RuntimeWarning: numpy.ufunc size changed, may indicate binary incompatibility. Expected 192 from C header, got 216 from PyObject\n",
      "  return f(*args, **kwds)\n",
      "/Users/dongjustin/miniconda2/envs/text2scene/lib/python3.7/importlib/_bootstrap.py:219: RuntimeWarning: numpy.ufunc size changed, may indicate binary incompatibility. Expected 192 from C header, got 216 from PyObject\n",
      "  return f(*args, **kwds)\n",
      "/Users/dongjustin/miniconda2/envs/text2scene/lib/python3.7/importlib/_bootstrap.py:219: RuntimeWarning: numpy.ufunc size changed, may indicate binary incompatibility. Expected 192 from C header, got 216 from PyObject\n",
      "  return f(*args, **kwds)\n",
      "/Users/dongjustin/miniconda2/envs/text2scene/lib/python3.7/importlib/_bootstrap.py:219: RuntimeWarning: numpy.ufunc size changed, may indicate binary incompatibility. Expected 192 from C header, got 216 from PyObject\n",
      "  return f(*args, **kwds)\n"
     ]
    },
    {
     "name": "stderr",
     "output_type": "stream",
     "text": [
      "/Users/dongjustin/miniconda2/envs/text2scene/lib/python3.7/site-packages/thinc/neural/train.py:7: DeprecationWarning: Using or importing the ABCs from 'collections' instead of from 'collections.abc' is deprecated, and in 3.8 it will stop working\n",
      "  from .optimizers import Adam, linear_decay\n",
      "/Users/dongjustin/miniconda2/envs/text2scene/lib/python3.7/site-packages/thinc/check.py:4: DeprecationWarning: Using or importing the ABCs from 'collections' instead of from 'collections.abc' is deprecated, and in 3.8 it will stop working\n",
      "  from collections import Sequence, Sized, Iterable, Callable\n"
     ]
    }
   ],
   "source": [
    "from collections import defaultdict\n",
    "import dill\n",
    "import glob\n",
    "import warnings\n",
    "warnings.filterwarnings('always')\n",
    "\n",
    "from tools.text_process import SpacyLemmaTokenizer\n",
    "from tools.image_process import LayerName, getLayerNames\n",
    "from tools.instance import Node\n",
    "from tools.containers import Picture, Description\n",
    "from tools.knowledge import LayerBase, TextBase\n",
    "from tools.common import ravel\n",
    "\n",
    "from models.encoder import TextPictureRavelEncoder"
   ]
  },
  {
   "cell_type": "code",
   "execution_count": 2,
   "metadata": {
    "scrolled": true
   },
   "outputs": [
    {
     "name": "stdout",
     "output_type": "stream",
     "text": [
      "50\n"
     ]
    },
    {
     "data": {
      "text/plain": [
       "75"
      ]
     },
     "execution_count": 2,
     "metadata": {},
     "output_type": "execute_result"
    }
   ],
   "source": [
    "layerbase = LayerBase()\n",
    "print(layerbase.index(Node('man','subj')))\n",
    "\n",
    "textbase = TextBase()\n",
    "len(textbase.vocab_)#index('man','n')\n",
    "# textbase.vocab_"
   ]
  },
  {
   "cell_type": "code",
   "execution_count": 3,
   "metadata": {
    "scrolled": true
   },
   "outputs": [
    {
     "name": "stdout",
     "output_type": "stream",
     "text": [
      "#background; #alien(have[robot],stand); #man(exercise,step_on[stone]); #man(work,play[computer],sit)\n"
     ]
    },
    {
     "data": {
      "text/plain": [
       "A man played the computer. A man stepped on the stone and exercised. They had a robot."
      ]
     },
     "execution_count": 3,
     "metadata": {},
     "output_type": "execute_result"
    }
   ],
   "source": [
    "img_dir='images'\n",
    "txt_dir='text'\n",
    "name = 'Firmware'\n",
    "\n",
    "description = Description('%s/%s.txt' % (txt_dir, name))\n",
    "picture = Picture('%s/%s.svg' % (img_dir, name))\n",
    "print(picture)\n",
    "description"
   ]
  },
  {
   "cell_type": "code",
   "execution_count": 4,
   "metadata": {},
   "outputs": [
    {
     "name": "stdout",
     "output_type": "stream",
     "text": [
      " - Initiate layer base..\n",
      " - Initiate text base..\n",
      " - Load relatedness dict..\n",
      " - Initiate scaler..\n",
      " - List feature names..\n"
     ]
    },
    {
     "data": {
      "text/plain": [
       "(505,)"
      ]
     },
     "execution_count": 4,
     "metadata": {},
     "output_type": "execute_result"
    }
   ],
   "source": [
    "encoder = TextPictureRavelEncoder()\n",
    "vec = encoder.encode(description, picture)#.toarray()\n",
    "vec.shape"
   ]
  },
  {
   "cell_type": "code",
   "execution_count": 5,
   "metadata": {},
   "outputs": [],
   "source": [
    "class Dataset():\n",
    "    def __init__(self, img_dir='images',\n",
    "                       txt_dir='text',\n",
    "                       names=[]):\n",
    "        \n",
    "        self.img_dir = img_dir\n",
    "        self.txt_dir = txt_dir\n",
    "        self.names = names # specify training data\n",
    "\n",
    "        print(' - Initialize encoder..')\n",
    "        self.encoder = Encoder(names=names)\n",
    "        self.features_ = self.encoder.features_\n",
    "\n",
    "    def _get_pair(self, txt_name=None, img_name=None,\n",
    "                        ran_txt=False, ran_img=False,\n",
    "                        fake_img=False):\n",
    "        ##### preprocess\n",
    "        ## text\n",
    "        assert txt_name\n",
    "        doc = Description(txt_name)\n",
    "            \n",
    "        if ran_txt:\n",
    "            # make sure random chosen doc are different\n",
    "            while True:\n",
    "                ran_doc = random.choice(list(self.encoder.textbase.doc_vocab_))\n",
    "                if ran_doc != doc:\n",
    "                    break\n",
    "            doc = ran_doc\n",
    "        else:\n",
    "            # use true doc\n",
    "            pass\n",
    "        \n",
    "        ## image\n",
    "        assert img_name\n",
    "        pic = Picture(img_name)\n",
    "        \n",
    "        if ran_img:\n",
    "            # then choose one from all unique pictures\n",
    "            assert not fake_img\n",
    "            \n",
    "            # make sure random chosen pic are different\n",
    "            while True:\n",
    "                ran_pic = random.choice(list(self.encoder.layerbase.pic_vocab_))\n",
    "                if ran_pic != pic:\n",
    "                    break\n",
    "            pic = ran_pic\n",
    "            \n",
    "        elif fake_img:\n",
    "            # then choose several unique layers\n",
    "            assert not ran_img\n",
    "            \n",
    "            # make sure random chosen pic are different\n",
    "            while True:\n",
    "                # randomly choose 1 - 5 layers\n",
    "                num_layers = random.choice(range(1,6))\n",
    "                ran_layers = []\n",
    "                for _ in range(num_layers):\n",
    "                    ran_layers.append(random.choice(list(self.encoder.layerbase.layer_vocab_)))\n",
    "                ran_pic = Picture(layernames=[l.s for l in ran_layers])\n",
    "                if ran_pic != pic:\n",
    "                    break\n",
    "            pic = ran_pic                \n",
    "        else:\n",
    "            # use true pic\n",
    "            pass\n",
    "\n",
    "        return doc, pic\n",
    "\n",
    "    def encode(self, doc, pic):\n",
    "        return self.encoder.encode(doc, pic)\n",
    "\n",
    "    def __getitem__(self, name):\n",
    "        img_name = '%s/%s.svg' % (self.img_dir, name)\n",
    "        txt_name = '%s/%s.txt' % (self.txt_dir, name)\n",
    "\n",
    "        # assert((layers and sent) or (not layers and not sent)), 'layers and sentence must be provided together, or neither'\n",
    "\n",
    "        # get layers\n",
    "        # if not layers and not sent:\n",
    "        #     layers, sent = self.getOneLayerSent(**kwargs)\n",
    "\n",
    "        # triplets\n",
    "        triplets = []\n",
    "        triplets_pair = []\n",
    "\n",
    "        # true match\n",
    "        doc, pic = self._get_pair(txt_name=txt_name,\n",
    "                                  img_name=img_name)\n",
    "        triplets_pair.append((doc, pic))\n",
    "        # print('- encode true pairs..')\n",
    "        triplets.append(self.encode(doc, pic))\n",
    "\n",
    "\n",
    "        # mismatched text\n",
    "        doc, pic = self._get_pair(txt_name=txt_name,\n",
    "                                      img_name=img_name,\n",
    "                                      ran_txt=True)\n",
    "        triplets_pair.append((doc, pic))\n",
    "        # print('- encode true pic and ran doc..')\n",
    "        triplets.append(self.encode(doc, pic))\n",
    "\n",
    "        # mismatched image\n",
    "        doc, pic = self._get_pair(txt_name=txt_name,\n",
    "                                      img_name=img_name,\n",
    "                                      ran_img=True)\n",
    "        triplets_pair.append((doc, pic))\n",
    "        # print('- encode true doc and ran pic..')\n",
    "        triplets.append(self.encode(doc, pic))\n",
    "    \n",
    "        # fake image\n",
    "        # triplets.append(self.encode(txt_name=txt_name,\n",
    "        #                             fake_img=True))\n",
    "\n",
    "        # concatenate\n",
    "        xs = np.vstack(triplets)\n",
    "        ys = np.array([1,0,0]).reshape(-1,1)\n",
    "\n",
    "        return sparse.csr_matrix(np.hstack([xs, ys])), triplets_pair\n",
    "\n",
    "    def getFakeLayers(self):\n",
    "        pass\n",
    "        return ranGenLayer()\n",
    "\n",
    "    def __len__(self):\n",
    "        # return len(glob.glob(self.img_dir+'/*.svg'))\n",
    "        # return len(list(getOrderedList(self.img_dir+'/*.svg')))\n",
    "        # return len(list(getFiles(self.img_dir, ext='.svg', index=self.index)))\n",
    "        return len(self.names)\n"
   ]
  },
  {
   "cell_type": "code",
   "execution_count": 577,
   "metadata": {},
   "outputs": [
    {
     "name": "stdout",
     "output_type": "stream",
     "text": [
      " - Initialize encoder..\n",
      " - Initiate layer base..\n",
      " - Initiate text base..\n",
      " - Load relatedness dict..\n",
      " - Initiate scaler..\n",
      "- encode true pairs..\n",
      " -- gen sparse..\n",
      " -- scale..\n",
      " -- gen hists..\n",
      "- encode true pic and ran doc..\n",
      " -- gen sparse..\n",
      " -- scale..\n",
      " -- gen hists..\n",
      "- encode true doc and ran pic..\n",
      " -- gen sparse..\n",
      " -- scale..\n",
      " -- gen hists..\n"
     ]
    },
    {
     "data": {
      "text/plain": [
       "(<3x506 sparse matrix of type '<class 'numpy.int64'>'\n",
       " \twith 54 stored elements in Compressed Sparse Row format>,\n",
       " [(Two women enjoyed fireworks in the wild.,\n",
       "   #background; #woman(stand,talk); #woman(point_to,show,stand); #wild(have[firework,plant])),\n",
       "  (A man is standing and a woman is sitting with a computer to transfer money.,\n",
       "   #background; #woman(stand,talk); #woman(point_to,show,stand); #wild(have[firework,plant])),\n",
       "  (Two women enjoyed fireworks in the wild.,\n",
       "   #background; #woman(sit_on[chair]))])"
      ]
     },
     "execution_count": 577,
     "metadata": {},
     "output_type": "execute_result"
    }
   ],
   "source": [
    "dataset = Dataset()\n",
    "dataset['Fireworks']"
   ]
  },
  {
   "cell_type": "code",
   "execution_count": 6,
   "metadata": {},
   "outputs": [],
   "source": [
    "import re\n",
    "import random\n",
    "from sklearn.linear_model import LogisticRegression\n",
    "from ana.visual import STAT, ROC, FEAT\n",
    "random.seed(7)\n",
    "np.random.seed(7)\n",
    "\n",
    "class Pipeline:\n",
    "    def __init__(self):\n",
    "        print(' ------ train test split -------')\n",
    "        self.train_names, self.test_names = self.train_test_split()\n",
    "        # assert('Frozen' in self.train_names)\n",
    "        \n",
    "        print(' ------ build dataset -------')\n",
    "        self.dataset = Dataset(names=self.train_names)\n",
    "        \n",
    "        print(' ------ gather data -------')\n",
    "        \n",
    "        # self.train_set, self.test_set = \n",
    "        self.build_data(self.train_names,self.test_names)\n",
    "#         print(' ------ train classifier -------')\n",
    "#         self.clf = self.train_classifier(self.train_set)\n",
    "#         self.evaluate(sel.clf, self.train_set, self.test_set)\n",
    "    \n",
    "    def _get_root(self, path):\n",
    "        return re.findall(r'\\/(\\w+)\\.', path)[0]\n",
    "    \n",
    "    def train_test_split(self, test_r=0.2, shuffle=True):\n",
    "        names = [self._get_root(path) for path in glob.glob('images/*.svg')]\n",
    "        names_ = [self._get_root(path) for path in glob.glob('text/*.txt')]\n",
    "        \n",
    "        # names must be unique\n",
    "        assert(len(names) == len(set(names)))\n",
    "        # names from both sides must be identical\n",
    "        assert(set(names) == set(names_))\n",
    "        \n",
    "        if shuffle:\n",
    "            random.shuffle(names)\n",
    "        \n",
    "        ind = int(len(names) * (1-test_r))\n",
    "        \n",
    "        return names[:ind], names[ind:]\n",
    "    \n",
    "    def __fetch_data(self, names):\n",
    "        data = []\n",
    "        pairs = []\n",
    "        for c, name in enumerate(names):\n",
    "            print('    Fetching: [%i] - %s' % (c, name), end='\\r')\n",
    "            vec, pair = self.dataset[name]\n",
    "            data.append(vec)\n",
    "            pairs.extend(pair)\n",
    "        print('     Fetched: [%i]' % (c+1))\n",
    "        data = sparse.vstack(data)\n",
    "        return data, pairs\n",
    "    \n",
    "    def build_data(self, train, test):\n",
    "#         train_set = []\n",
    "#         train_pairs = []\n",
    "#         for name in train:\n",
    "#             print('     ------ Fetching [%s]' % name,\n",
    "#                   end='\\r')\n",
    "#             vec, pair = self.dataset[name]\n",
    "#             train_set.append(vec)\n",
    "#             train_pairs.append(pair)\n",
    "        \n",
    "        print(' -------------- train set ---------------- ')\n",
    "        self.train_set, self.train_pairs = self.__fetch_data(train) # np.vstack(train_set)\n",
    "        \n",
    "        print(' -------------- test set ---------------- ')\n",
    "        # test_set = np.vstack([self.dataset[name] for name in test])\n",
    "        self.test_set, self.test_pairs = self.__fetch_data(test)\n",
    "        # return train_set, test_set\n",
    "        # return None, None\n",
    "    \n",
    "    def train_classifier(self, train_set, class_weight={1: 1, 0: 0.1}, C=1.0):\n",
    "        clf = LogisticRegression(# random_state=0,\n",
    "                         solver='liblinear',\n",
    "                         class_weight=class_weight,\n",
    "                         penalty='l1',\n",
    "                         C=C,\n",
    "                         max_iter=100)\n",
    "        \n",
    "        clf.fit(train_set[:,:-1],\n",
    "                train_set[:,-1].toarray().flatten())\n",
    "        return clf\n",
    "    \n",
    "    def evaluate(self, clf, train_set, test_set):\n",
    "        print('------- train ---------')\n",
    "        y_true = train_set[:,-1].toarray().flatten()\n",
    "        y_prob = clf.predict_proba(train_set[:,:-1])[:,1]\n",
    "        STAT(y_true, y_prob, path='STAT_%s' % suffix)\n",
    "        \n",
    "        print('------- test ---------')\n",
    "        y_true = test_set[:,-1].toarray().flatten()\n",
    "        y_prob = clf.predict_proba(test_set[:,:-1])[:,1]\n",
    "        STAT(y_true, y_prob, path='STAT_%s' % suffix)"
   ]
  },
  {
   "cell_type": "code",
   "execution_count": 7,
   "metadata": {},
   "outputs": [],
   "source": [
    "### it's ok to have layerbase cover all the pictures\n",
    "### because pictures are made from our layer base anyway\n",
    "### not like text can type arbitraily\n",
    "\n",
    "### 1.0: categories are fixed, thus no way there's an unseen category"
   ]
  },
  {
   "cell_type": "code",
   "execution_count": 8,
   "metadata": {
    "scrolled": true
   },
   "outputs": [
    {
     "name": "stdout",
     "output_type": "stream",
     "text": [
      " ------ train test split -------\n",
      " ------ build dataset -------\n",
      " - Initialize encoder..\n",
      " - Initiate layer base..\n",
      " - Initiate text base..\n",
      " - Load relatedness dict..\n",
      " - Initiate scaler..\n",
      " - List feature names..\n",
      " ------ gather data -------\n",
      " -------------- train set ---------------- \n",
      "     Fetched: [32] - track_and_field\n",
      " -------------- test set ---------------- \n",
      "    Fetching: [1] - Fishingelopment\r"
     ]
    },
    {
     "name": "stderr",
     "output_type": "stream",
     "text": [
      "/Users/dongjustin/miniconda2/envs/text2scene/lib/python3.7/site-packages/ipykernel_launcher.py:55: UserWarning: Unseen word encountered! fish(VERB)\n",
      "/Users/dongjustin/miniconda2/envs/text2scene/lib/python3.7/site-packages/ipykernel_launcher.py:55: UserWarning: Unseen word encountered! lake(NOUN)\n",
      "/Users/dongjustin/miniconda2/envs/text2scene/lib/python3.7/site-packages/ipykernel_launcher.py:55: UserWarning: Unseen word encountered! fish(VERB)\n",
      "/Users/dongjustin/miniconda2/envs/text2scene/lib/python3.7/site-packages/ipykernel_launcher.py:55: UserWarning: Unseen word encountered! lake(NOUN)\n",
      "/Users/dongjustin/miniconda2/envs/text2scene/lib/python3.7/site-packages/ipykernel_launcher.py:55: UserWarning: Unseen word encountered! snowman(NOUN)\n",
      "/Users/dongjustin/miniconda2/envs/text2scene/lib/python3.7/site-packages/ipykernel_launcher.py:64: UserWarning: No word in \"There is a snowman.\" are seen. Returned zero matrix.\n"
     ]
    },
    {
     "name": "stdout",
     "output_type": "stream",
     "text": [
      "    Fetching: [2] - Frozen\r"
     ]
    },
    {
     "name": "stderr",
     "output_type": "stream",
     "text": [
      "/Users/dongjustin/miniconda2/envs/text2scene/lib/python3.7/site-packages/ipykernel_launcher.py:55: UserWarning: Unseen word encountered! snowman(NOUN)\n",
      "/Users/dongjustin/miniconda2/envs/text2scene/lib/python3.7/site-packages/ipykernel_launcher.py:64: UserWarning: No word in \"There is a snowman.\" are seen. Returned zero matrix.\n"
     ]
    },
    {
     "name": "stdout",
     "output_type": "stream",
     "text": [
      "    Fetching: [4] - Follow_me_drone\r"
     ]
    },
    {
     "name": "stderr",
     "output_type": "stream",
     "text": [
      "/Users/dongjustin/miniconda2/envs/text2scene/lib/python3.7/site-packages/ipykernel_launcher.py:55: UserWarning: Unseen word encountered! drone(NOUN)\n",
      "/Users/dongjustin/miniconda2/envs/text2scene/lib/python3.7/site-packages/ipykernel_launcher.py:55: UserWarning: Unseen word encountered! drone(NOUN)\n"
     ]
    },
    {
     "name": "stdout",
     "output_type": "stream",
     "text": [
      "    Fetching: [5] - wind_turbine\r"
     ]
    },
    {
     "name": "stderr",
     "output_type": "stream",
     "text": [
      "/Users/dongjustin/miniconda2/envs/text2scene/lib/python3.7/site-packages/ipykernel_launcher.py:55: UserWarning: Unseen word encountered! windmill(NOUN)\n",
      "/Users/dongjustin/miniconda2/envs/text2scene/lib/python3.7/site-packages/ipykernel_launcher.py:55: UserWarning: Unseen word encountered! windmill(NOUN)\n"
     ]
    },
    {
     "name": "stdout",
     "output_type": "stream",
     "text": [
      "    Fetching: [6] - Gaming\r"
     ]
    },
    {
     "name": "stderr",
     "output_type": "stream",
     "text": [
      "/Users/dongjustin/miniconda2/envs/text2scene/lib/python3.7/site-packages/ipykernel_launcher.py:55: UserWarning: Unseen word encountered! gamepad(NOUN)\n",
      "/Users/dongjustin/miniconda2/envs/text2scene/lib/python3.7/site-packages/ipykernel_launcher.py:55: UserWarning: Unseen word encountered! gamepad(NOUN)\n",
      "/Users/dongjustin/miniconda2/envs/text2scene/lib/python3.7/site-packages/ipykernel_launcher.py:55: UserWarning: Unseen word encountered! think(VERB)\n"
     ]
    },
    {
     "name": "stdout",
     "output_type": "stream",
     "text": [
      "     Fetched: [8] - Forgot_password\n"
     ]
    },
    {
     "name": "stderr",
     "output_type": "stream",
     "text": [
      "/Users/dongjustin/miniconda2/envs/text2scene/lib/python3.7/site-packages/ipykernel_launcher.py:55: UserWarning: Unseen word encountered! think(VERB)\n"
     ]
    }
   ],
   "source": [
    "pipeline = Pipeline()"
   ]
  },
  {
   "cell_type": "code",
   "execution_count": 9,
   "metadata": {
    "scrolled": true
   },
   "outputs": [
    {
     "data": {
      "text/plain": [
       "[(A woman is playing with her computer next to a web page.,\n",
       "  #background; #other(have[website]); #wild(have[leaf]); #woman(sit,watch,play[computer])),\n",
       " (A woman is sitting on the clouds and the sun.,\n",
       "  #background; #other(have[website]); #wild(have[leaf]); #woman(sit,watch,play[computer])),\n",
       " (A woman is playing with her computer next to a web page.,\n",
       "  #background; #wild(have[plant]); #other(have[gamepad]); #man(touch,stand)),\n",
       " (A man is fishing on the lake.,\n",
       "  #background; #wild(have[lake,hill,cloud]); #wild(have[boat]); #man(fishing,stand,hold[fishing_rod])),\n",
       " (A woman is sitting at her desk.,\n",
       "  #background; #wild(have[lake,hill,cloud]); #wild(have[boat]); #man(fishing,stand,hold[fishing_rod])),\n",
       " (A man is fishing on the lake.,\n",
       "  #background; #chart(have[list]); #woman(stand,present)),\n",
       " (There is a snowman., #alien(have[snowman])),\n",
       " (A man is standing against the camera., #alien(have[snowman])),\n",
       " (There is a snowman.,\n",
       "  #background; #other(have[website]); #wild(have[leaf]); #woman(sit,watch,play[computer])),\n",
       " (A woman is writing a web page with a pen.,\n",
       "  #background; #other(have[website,plant]); #woman(stand,hold[pencil])),\n",
       " (A woman is sitting at her desk.,\n",
       "  #background; #other(have[website,plant]); #woman(stand,hold[pencil])),\n",
       " (A woman is writing a web page with a pen.,\n",
       "  #background; #other(have[plant,circle]); #man(sit)),\n",
       " (A woman watches the drone.,\n",
       "  #background; #other(have[drone]); #woman(watch,have[head_shot])),\n",
       " (A woman is showing a chart.,\n",
       "  #background; #other(have[drone]); #woman(watch,have[head_shot])),\n",
       " (A woman watches the drone.,\n",
       "  #wild(have[hill,cloud]); #accessory(have[leaf]); #wild(have[balloon]); #woman(sit,hold[phone])),\n",
       " (A woman is walking in front of three windmills.,\n",
       "  #background; #other(have[windmill]); #woman(walk,watch)),\n",
       " (A man stands next to the folder.,\n",
       "  #background; #other(have[windmill]); #woman(walk,watch)),\n",
       " (A woman is walking in front of three windmills.,\n",
       "  #background; #other(have[plant,circle]); #man(sit)),\n",
       " (A man touches a gamepad.,\n",
       "  #background; #wild(have[plant]); #other(have[gamepad]); #man(touch,stand)),\n",
       " (A woman is showing a chart.,\n",
       "  #background; #wild(have[plant]); #other(have[gamepad]); #man(touch,stand)),\n",
       " (A man touches a gamepad.,\n",
       "  #background; #wild(have[guideboard,plant]); #woman(walk)),\n",
       " (A man is thinking., #background; #man(think)),\n",
       " (A woman sits using a computer., #background; #man(think)),\n",
       " (A man is thinking., #other(have[sun,cloud]); #woman(sit))]"
      ]
     },
     "execution_count": 9,
     "metadata": {},
     "output_type": "execute_result"
    }
   ],
   "source": [
    "pipeline.test_pairs"
   ]
  },
  {
   "cell_type": "code",
   "execution_count": 10,
   "metadata": {},
   "outputs": [],
   "source": [
    "def train_classifier(train_set, class_weight={1: 1, 0: 0.1}, C=1.0):\n",
    "    clf = LogisticRegression(# random_state=0,\n",
    "                     solver='liblinear',\n",
    "                     class_weight=class_weight,\n",
    "                     penalty='l1',\n",
    "                     C=C,\n",
    "                     max_iter=100)\n",
    "\n",
    "    clf.fit(train_set[:,:-1],\n",
    "            train_set[:,-1].toarray().flatten())\n",
    "    return clf\n",
    "\n",
    "def evaluate(clf, pipeline, save=False, suffix='temp'):\n",
    "    print('------- train ---------')\n",
    "    y_true = pipeline.train_set[:,-1].toarray().flatten()\n",
    "    y_prob = clf.predict_proba(pipeline.train_set[:,:-1])[:,1]\n",
    "    STAT(y_true, y_prob, path='STAT_%s' % suffix)\n",
    "\n",
    "    print('------- test ---------')\n",
    "    y_true = pipeline.test_set[:,-1].toarray().flatten()\n",
    "    y_prob = clf.predict_proba(pipeline.test_set[:,:-1])[:,1]\n",
    "    STAT(y_true, y_prob, path='STAT_%s' % suffix)\n",
    "    \n",
    "    ROC(y_true, y_prob, path='ROC_%s' % suffix)\n",
    "    \n",
    "    FEAT(pipeline.dataset, clf, path='FEAT_%s' % suffix, top=20)\n",
    "    "
   ]
  },
  {
   "cell_type": "code",
   "execution_count": 11,
   "metadata": {
    "scrolled": false
   },
   "outputs": [
    {
     "name": "stdout",
     "output_type": "stream",
     "text": [
      "------- train ---------\n",
      "32 positives out of 96 test examples\n",
      "Overall accuracy: 0.739583\n",
      "*Recall(thresh=0.5)/AccuracyOf1: 0.968750\n",
      "Precision(thresh=0.5): 0.563636\n",
      "AccuracyOf0(thresh=0.5): 0.739583\n",
      "------- test ---------\n",
      "8 positives out of 24 test examples\n",
      "Overall accuracy: 0.750000\n",
      "*Recall(thresh=0.5)/AccuracyOf1: 0.750000\n",
      "Precision(thresh=0.5): 0.600000\n",
      "AccuracyOf0(thresh=0.5): 0.750000\n",
      "precision | recall | F1 | threshold\n",
      "------------------------------\n",
      "0.571 | 1.000 | 0.727 | 0.462\n",
      "0.538 | 0.875 | 0.667 | 0.486\n",
      "0.583 | 0.875 | 0.700 | 0.500\n",
      "0.600 | 0.750 | 0.667 | 0.613\n",
      "0.667 | 0.750 | 0.706 | 0.646\n",
      "0.625 | 0.625 | 0.625 | 0.664\n",
      "0.571 | 0.500 | 0.533 | 0.666\n",
      "0.667 | 0.500 | 0.571 | 0.666\n",
      "0.500 | 0.250 | 0.333 | 0.675\n",
      "0.667 | 0.250 | 0.364 | 0.675\n",
      "1.000 | 0.250 | 0.400 | 0.696\n",
      "1.000 | 0.125 | 0.222 | 0.709\n",
      "------------------------------\n"
     ]
    },
    {
     "data": {
      "image/png": "[encoded data removed]",
      "text/plain": [
       "<Figure size 432x288 with 1 Axes>"
      ]
     },
     "metadata": {
      "needs_background": "light"
     },
     "output_type": "display_data"
    },
    {
     "data": {
      "image/png": "[encoded data removed]",
      "text/plain": [
       "<Figure size 432x288 with 1 Axes>"
      ]
     },
     "metadata": {
      "needs_background": "light"
     },
     "output_type": "display_data"
    },
    {
     "data": {
      "image/png": "[encoded data removed]",
      "text/plain": [
       "<Figure size 720x288 with 2 Axes>"
      ]
     },
     "metadata": {
      "needs_background": "light"
     },
     "output_type": "display_data"
    },
    {
     "data": {
      "image/png": "[encoded data removed]",
      "text/plain": [
       "<Figure size 288x504 with 1 Axes>"
      ]
     },
     "metadata": {
      "needs_background": "light"
     },
     "output_type": "display_data"
    }
   ],
   "source": [
    "clf = train_classifier(pipeline.train_set, class_weight={1: 1, 0: 0.3}, C=1)\n",
    "evaluate(clf, pipeline)"
   ]
  },
  {
   "cell_type": "code",
   "execution_count": null,
   "metadata": {},
   "outputs": [],
   "source": []
  },
  {
   "cell_type": "code",
   "execution_count": null,
   "metadata": {},
   "outputs": [],
   "source": []
  },
  {
   "cell_type": "code",
   "execution_count": null,
   "metadata": {},
   "outputs": [],
   "source": []
  },
  {
   "cell_type": "code",
   "execution_count": 401,
   "metadata": {},
   "outputs": [
    {
     "name": "stdout",
     "output_type": "stream",
     "text": [
      "82\n"
     ]
    },
    {
     "data": {
      "text/plain": [
       "'\\nlayer keywords\\nthen fetch these contain the tokens in the transformed(to keyword) description\\n\\nhow?\\nfor each keyword, fetch a layer?\\n'"
      ]
     },
     "execution_count": 401,
     "metadata": {},
     "output_type": "execute_result"
    }
   ],
   "source": [
    "from collections import Counter\n",
    "print(len(layerbase.layer_vocab_))\n",
    "c = Counter(layerbase.layer_vocab_)\n",
    "for layer, count in c.most_common():\n",
    "    if count <= 1: break\n",
    "    print(ravel(layer.entities_), count)\n",
    "\"\"\"\n",
    "layer keywords\n",
    "then fetch these contain the tokens in the transformed(to keyword) description\n",
    "\n",
    "how?\n",
    "for each keyword, fetch a layer?\n",
    "\"\"\""
   ]
  },
  {
   "cell_type": "markdown",
   "metadata": {},
   "source": [
    "### generator"
   ]
  },
  {
   "cell_type": "code",
   "execution_count": 8,
   "metadata": {},
   "outputs": [
    {
     "name": "stdout",
     "output_type": "stream",
     "text": [
      "0 A DT True\n",
      "1 joyful JJ False\n",
      "2 man NN False\n",
      "3 plays VBZ False\n",
      "4 computer NN False\n",
      "5 frequently RB False\n",
      "6 and CC True\n",
      "7 sits VBZ False\n",
      "8 on IN True\n",
      "9 the DT True\n",
      "10 ground NN False\n"
     ]
    }
   ],
   "source": [
    "import spacy\n",
    "# from spacy.pipeline import Tagger\n",
    "nlp = spacy.load(\"en_core_web_sm\")\n",
    "# tagger = Tagger(nlp.vocab)\n",
    "# tagger = nlp.create_pipe(\"tagger\")\n",
    "# tagger(\n",
    "doc = nlp(u'A joyful man plays computer frequently and sits on the ground')\n",
    "for token in doc:\n",
    "    print(token.i, token.text, token.tag_, token.is_stop)\n"
   ]
  },
  {
   "cell_type": "code",
   "execution_count": 10,
   "metadata": {},
   "outputs": [
    {
     "data": {
      "text/plain": [
       "False"
      ]
     },
     "execution_count": 10,
     "metadata": {},
     "output_type": "execute_result"
    }
   ],
   "source": [
    "token.is_space"
   ]
  },
  {
   "cell_type": "code",
   "execution_count": 72,
   "metadata": {},
   "outputs": [
    {
     "ename": "AttributeError",
     "evalue": "'spacy.tokens.doc.Doc' object has no attribute 'lower'",
     "output_type": "error",
     "traceback": [
      "\u001b[0;31m---------------------------------------------------------------------------\u001b[0m",
      "\u001b[0;31mAttributeError\u001b[0m                            Traceback (most recent call last)",
      "\u001b[0;32m<ipython-input-72-0ab29e4b441f>\u001b[0m in \u001b[0;36m<module>\u001b[0;34m\u001b[0m\n\u001b[1;32m      3\u001b[0m \u001b[0mlemmatizer\u001b[0m \u001b[0;34m=\u001b[0m \u001b[0mLemmatizer\u001b[0m\u001b[0;34m(\u001b[0m\u001b[0mLEMMA_INDEX\u001b[0m\u001b[0;34m,\u001b[0m \u001b[0mLEMMA_EXC\u001b[0m\u001b[0;34m,\u001b[0m \u001b[0mLEMMA_RULES\u001b[0m\u001b[0;34m)\u001b[0m\u001b[0;34m\u001b[0m\u001b[0;34m\u001b[0m\u001b[0m\n\u001b[1;32m      4\u001b[0m \u001b[0mtoken\u001b[0m \u001b[0;34m=\u001b[0m \u001b[0mnlp\u001b[0m\u001b[0;34m(\u001b[0m\u001b[0;34m'ducks'\u001b[0m\u001b[0;34m)\u001b[0m\u001b[0;34m\u001b[0m\u001b[0;34m\u001b[0m\u001b[0m\n\u001b[0;32m----> 5\u001b[0;31m \u001b[0mlemmas\u001b[0m \u001b[0;34m=\u001b[0m \u001b[0mlemmatizer\u001b[0m\u001b[0;34m(\u001b[0m\u001b[0mtoken\u001b[0m\u001b[0;34m,\u001b[0m \u001b[0;34mu\"adjective\"\u001b[0m\u001b[0;34m)\u001b[0m\u001b[0;34m\u001b[0m\u001b[0;34m\u001b[0m\u001b[0m\n\u001b[0m\u001b[1;32m      6\u001b[0m \u001b[0;31m# assert lemmas == [u\"duck\"]\u001b[0m\u001b[0;34m\u001b[0m\u001b[0;34m\u001b[0m\u001b[0;34m\u001b[0m\u001b[0m\n\u001b[1;32m      7\u001b[0m \u001b[0mtype\u001b[0m\u001b[0;34m(\u001b[0m\u001b[0mtoken\u001b[0m\u001b[0;34m)\u001b[0m\u001b[0;34m\u001b[0m\u001b[0;34m\u001b[0m\u001b[0m\n",
      "\u001b[0;32m~/miniconda2/envs/text2scene/lib/python3.7/site-packages/spacy/lemmatizer.py\u001b[0m in \u001b[0;36m__call__\u001b[0;34m(self, string, univ_pos, morphology)\u001b[0m\n\u001b[1;32m     39\u001b[0m             \u001b[0;32mreturn\u001b[0m \u001b[0;34m[\u001b[0m\u001b[0mstring\u001b[0m\u001b[0;34m]\u001b[0m\u001b[0;34m\u001b[0m\u001b[0;34m\u001b[0m\u001b[0m\n\u001b[1;32m     40\u001b[0m         \u001b[0;32melse\u001b[0m\u001b[0;34m:\u001b[0m\u001b[0;34m\u001b[0m\u001b[0;34m\u001b[0m\u001b[0m\n\u001b[0;32m---> 41\u001b[0;31m             \u001b[0;32mreturn\u001b[0m \u001b[0;34m[\u001b[0m\u001b[0mstring\u001b[0m\u001b[0;34m.\u001b[0m\u001b[0mlower\u001b[0m\u001b[0;34m(\u001b[0m\u001b[0;34m)\u001b[0m\u001b[0;34m]\u001b[0m\u001b[0;34m\u001b[0m\u001b[0;34m\u001b[0m\u001b[0m\n\u001b[0m\u001b[1;32m     42\u001b[0m         \u001b[0;31m# See Issue #435 for example of where this logic is requied.\u001b[0m\u001b[0;34m\u001b[0m\u001b[0;34m\u001b[0m\u001b[0;34m\u001b[0m\u001b[0m\n\u001b[1;32m     43\u001b[0m         \u001b[0;32mif\u001b[0m \u001b[0mself\u001b[0m\u001b[0;34m.\u001b[0m\u001b[0mis_base_form\u001b[0m\u001b[0;34m(\u001b[0m\u001b[0muniv_pos\u001b[0m\u001b[0;34m,\u001b[0m \u001b[0mmorphology\u001b[0m\u001b[0;34m)\u001b[0m\u001b[0;34m:\u001b[0m\u001b[0;34m\u001b[0m\u001b[0;34m\u001b[0m\u001b[0m\n",
      "\u001b[0;31mAttributeError\u001b[0m: 'spacy.tokens.doc.Doc' object has no attribute 'lower'"
     ]
    }
   ],
   "source": [
    "from spacy.lemmatizer import Lemmatizer\n",
    "from spacy.lang.en import LEMMA_INDEX, LEMMA_EXC, LEMMA_RULES\n",
    "lemmatizer = Lemmatizer(LEMMA_INDEX, LEMMA_EXC, LEMMA_RULES)\n",
    "token = nlp('ducks')\n",
    "lemmas = lemmatizer(u\"ducks\", u\"adjective\")\n",
    "# assert lemmas == [u\"duck\"]\n",
    "type(token)"
   ]
  },
  {
   "cell_type": "code",
   "execution_count": 134,
   "metadata": {},
   "outputs": [
    {
     "name": "stdout",
     "output_type": "stream",
     "text": [
      "det(man-2, A:DT-1)\n",
      "nsubj(plays-3, man:NN-2)\n",
      "ROOT(plays-3, plays:VBZ-3)\n",
      "dobj(plays-3, computer:NN-4)\n",
      "cc(plays-3, and:CC-5)\n",
      "conj(plays-3, hits:VBZ-6)\n",
      "det(ground-8, the:DT-7)\n",
      "dobj(hits-6, ground:NN-8)\n",
      "punct(plays-3, .:.-9)\n",
      "det(woman-11, A:DT-10)\n",
      "nsubj(waving-13, woman:NN-11)\n",
      "aux(waving-13, is:VBZ-12)\n",
      "ROOT(waving-13, waving:VBG-13)\n",
      "punct(waving-13, .:.-14)\n"
     ]
    }
   ],
   "source": [
    "import spacy\n",
    "nlp = spacy.load(\"en_core_web_sm\")\n",
    "doc = nlp(u'A man plays computer and hits the ground. A woman is waving.')\n",
    "for token in doc:\n",
    "    print(\"{2}({3}-{6}, {0}:{1}-{5})\".format(token.text, token.tag_, token.dep_, token.head.text, token.head.tag_, token.i+1, token.head.i+1))"
   ]
  },
  {
   "cell_type": "code",
   "execution_count": 409,
   "metadata": {
    "scrolled": true
   },
   "outputs": [
    {
     "name": "stdout",
     "output_type": "stream",
     "text": [
      "det(man-2, A:DT-1)\n",
      "nsubj(lying-4, man:NN-2)\n",
      "aux(lying-4, is:VBZ-3)\n",
      "ROOT(lying-4, lying:VBG-4)\n",
      "prep(lying-4, on:IN-5)\n",
      "det(sofa-7, the:DT-6)\n",
      "pobj(on-5, sofa:NN-7)\n",
      "advcl(lying-4, watching:VBG-8)\n",
      "det(movie-10, the:DT-9)\n",
      "dobj(watching-8, movie:NN-10)\n"
     ]
    }
   ],
   "source": [
    "# doc = nlp(u'A man and a man play computer on the ground. A woman is waving.')\n",
    "# doc = nlp(u'There is a tree and some plants in the park')\n",
    "doc = nlp(u'A man is lying on the sofa watching the movie') # xcomp\n",
    "for token in doc:\n",
    "    print(\"{2}({3}-{6}, {0}:{1}-{5})\".format(token.text, token.tag_, token.dep_, token.head.text, token.head.tag_, token.i+1, token.head.i+1))"
   ]
  },
  {
   "cell_type": "code",
   "execution_count": 275,
   "metadata": {},
   "outputs": [
    {
     "data": {
      "text/plain": [
       "[a, and, plants, in]"
      ]
     },
     "execution_count": 275,
     "metadata": {},
     "output_type": "execute_result"
    }
   ],
   "source": [
    "list(list(list(doc.sents)[0].root.children)[1].children)"
   ]
  },
  {
   "cell_type": "code",
   "execution_count": 285,
   "metadata": {},
   "outputs": [
    {
     "name": "stdout",
     "output_type": "stream",
     "text": [
      "1\n"
     ]
    }
   ],
   "source": [
    "if list(doc.sents)[0].root.children:\n",
    "    print(1)"
   ]
  },
  {
   "cell_type": "code",
   "execution_count": 152,
   "metadata": {},
   "outputs": [
    {
     "data": {
      "text/plain": [
       "[ground]"
      ]
     },
     "execution_count": 152,
     "metadata": {},
     "output_type": "execute_result"
    }
   ],
   "source": [
    "list(list(doc[9].children)[0].children)"
   ]
  },
  {
   "cell_type": "code",
   "execution_count": 142,
   "metadata": {},
   "outputs": [
    {
     "data": {
      "text/plain": [
       "[[man, are, computer, and, sits, .], [woman, is, .]]"
      ]
     },
     "execution_count": 142,
     "metadata": {},
     "output_type": "execute_result"
    }
   ],
   "source": [
    "[list(sent.root.children) for sent in doc.sents]"
   ]
  },
  {
   "cell_type": "code",
   "execution_count": 154,
   "metadata": {},
   "outputs": [
    {
     "name": "stdout",
     "output_type": "stream",
     "text": [
      "[A man and a man are playing computer and sitting on the ground., A woman is waving.]\n",
      "['playing', 'waving']\n",
      "[['man', 'man', 'play', 'computer', 'sit', 'ground'], ['woman', 'wave']]\n"
     ]
    }
   ],
   "source": [
    "## entities detection\n",
    "list(doc.ents)\n",
    "## sentences\n",
    "print(list(doc.sents))\n",
    "print([s.root.text for s in doc.sents])\n",
    "\n",
    "\n",
    "## sentencizer # this would be sufficient for current ravel similarity\n",
    "doc = nlp(u'A man and a man are playing computer and sitting on the ground. A woman is waving.')\n",
    "keywords = []\n",
    "for s in doc.sents:\n",
    "    keywords.append([t.lemma_ for t in s if t.pos_ in ['VERB', 'NOUN'] and not t.is_stop])\n",
    "print(keywords)"
   ]
  },
  {
   "cell_type": "code",
   "execution_count": 160,
   "metadata": {},
   "outputs": [
    {
     "data": {
      "text/plain": [
       "<re.Match object; span=(0, 4), match='dobj'>"
      ]
     },
     "execution_count": 160,
     "metadata": {},
     "output_type": "execute_result"
    }
   ],
   "source": [
    "re.match(r'\\w+obj','dobj')"
   ]
  },
  {
   "cell_type": "code",
   "execution_count": 297,
   "metadata": {},
   "outputs": [],
   "source": [
    "def recur_search_children(root, dep_r=r'\\w*obj',\n",
    "                                pos_r=r'.*',\n",
    "                                skip_conj=True):\n",
    "    objs = []\n",
    "    for t in root.children:\n",
    "        if skip_conj:\n",
    "            if t.dep_ == 'conj':\n",
    "                continue\n",
    "        if re.match(dep_r, t.dep_) and re.match(pos_r, t.pos_):\n",
    "            objs.append(t)\n",
    "        if t.children:\n",
    "            objs.extend(recur_search_children(t, dep_r=dep_r,\n",
    "                                                 pos_r=pos_r,\n",
    "                                                 skip_conj=skip_conj))\n",
    "    return objs\n",
    "\n",
    "def rect_lemma(t):\n",
    "    if t.is_stop:\n",
    "        return 'have'\n",
    "    return t.lemma_\n",
    "\n",
    "def incre_name(s, dic):\n",
    "    count = 0\n",
    "    for k in dic:\n",
    "        sub = re.sub(r'\\w+(\\d+)','', k)\n",
    "        if re.match(r'%s\\d*' % sub, s):\n",
    "            count += 1\n",
    "    if count > 0:\n",
    "        return '%s%i' % (s, count)\n",
    "    return s\n",
    "    \n",
    "def parse(doc):\n",
    "    list_nested = []\n",
    "    for s in doc.sents:\n",
    "        nested_ = defaultdict(lambda: defaultdict(set))\n",
    "        # root verb\n",
    "        subjs = recur_search_children(s.root, dep_r=r'\\w*subj')\n",
    "        if not subjs:\n",
    "            subj_lemma = ''\n",
    "        elif len(subjs) == 1:\n",
    "            subj_lemma = subjs[0].lemma_\n",
    "        else:\n",
    "            raise ValueError\n",
    "        nested_[subj_lemma][rect_lemma(s.root)] = set()\n",
    "        \n",
    "        objs = recur_search_children(s.root,\n",
    "                                     dep_r=r'\\w*(?=obj|attr)',\n",
    "                                     skip_conj=False)\n",
    "        for obj in objs:\n",
    "            nested_[subj_lemma][rect_lemma(s.root)].add(obj.lemma_)\n",
    "        \n",
    "        # conj verbs\n",
    "        conj_acts = recur_search_children(s.root,\n",
    "                                          dep_r=r'\\w*conj',\n",
    "                                          pos_r=r'VERB',\n",
    "                                          skip_conj=False)\n",
    "        for act in conj_acts:\n",
    "            \n",
    "            nested_[subj_lemma][rect_lemma(act)] = set()\n",
    "            objs = recur_search_children(act,\n",
    "                                         dep_r=r'\\w*(?=obj|attr)',\n",
    "                                         skip_conj=False)            \n",
    "            for obj in objs:\n",
    "                nested_[subj_lemma][rect_lemma(act)].add(obj.lemma_) \n",
    "\n",
    "        # conj subjs\n",
    "        if subjs:\n",
    "            conj_subjs = recur_search_children(subjs[0],\n",
    "                                               dep_r=r'\\w*conj',\n",
    "                                               pos_r=r'NOUN',\n",
    "                                               skip_conj=False)\n",
    "\n",
    "            for conj_subj in conj_subjs:\n",
    "                conj_subj_lemma = incre_name(conj_subj.lemma_,\n",
    "                                             nested_)\n",
    "                nested_[conj_subj_lemma] = nested_[subj_lemma]\n",
    "        \n",
    "        list_nested.append(nested_)\n",
    "#     for subj in doc:\n",
    "#         if subj.dep_ == 'nsubj':\n",
    "#             assert(subj.head.pos_ == 'VERB')\n",
    "#             act = subj.head\n",
    "#             nested_entities[subj.lemma_][act.lemma_] = set()\n",
    "#             for token in doc:\n",
    "#                 if token.head == act and token.dep_ == 'dobj':\n",
    "#                     nested_entities[subj.lemma_][act.lemma_].add(token.lemma_)\n",
    "#                 if token.head == act and token.dep_ =='conj':\n",
    "#                     nested_entities[subj.lemma_][token.lemma_] = set()\n",
    "#                     for t in doc:\n",
    "#                         if t.head == token and t.dep_ == 'dobj':\n",
    "#                             nested_entities[subj.lemma_][token.lemma_].add(t.lemma_)\n",
    "#                 if token.head == act and token.dep_ == 'prep':\n",
    "#                     for t in doc:\n",
    "#                         if t.head == token and t.dep_ == 'pobj':\n",
    "#                             nested_entities[subj.lemma_]['have'].add(t.lemma_)\n",
    "# #             for token in doc:\n",
    "# #                 if token.\n",
    "    return list_nested"
   ]
  },
  {
   "cell_type": "code",
   "execution_count": 411,
   "metadata": {},
   "outputs": [],
   "source": [
    "# if conj subj: copy at the last"
   ]
  },
  {
   "cell_type": "code",
   "execution_count": 412,
   "metadata": {},
   "outputs": [],
   "source": []
  },
  {
   "cell_type": "code",
   "execution_count": null,
   "metadata": {},
   "outputs": [],
   "source": []
  },
  {
   "cell_type": "code",
   "execution_count": null,
   "metadata": {},
   "outputs": [],
   "source": []
  },
  {
   "cell_type": "code",
   "execution_count": null,
   "metadata": {},
   "outputs": [],
   "source": []
  },
  {
   "cell_type": "code",
   "execution_count": 401,
   "metadata": {},
   "outputs": [
    {
     "ename": "AttributeError",
     "evalue": "'dict' object has no attribute 'deepcopy'",
     "output_type": "error",
     "traceback": [
      "\u001b[0;31m---------------------------------------------------------------------------\u001b[0m",
      "\u001b[0;31mAttributeError\u001b[0m                            Traceback (most recent call last)",
      "\u001b[0;32m<ipython-input-401-b3939b495546>\u001b[0m in \u001b[0;36m<module>\u001b[0;34m\u001b[0m\n\u001b[1;32m      1\u001b[0m \u001b[0ma\u001b[0m \u001b[0;34m=\u001b[0m \u001b[0;34m{\u001b[0m\u001b[0;34m'a'\u001b[0m\u001b[0;34m:\u001b[0m\u001b[0;36m1\u001b[0m\u001b[0;34m}\u001b[0m\u001b[0;34m\u001b[0m\u001b[0;34m\u001b[0m\u001b[0m\n\u001b[0;32m----> 2\u001b[0;31m \u001b[0ma\u001b[0m\u001b[0;34m.\u001b[0m\u001b[0mdeepcopy\u001b[0m\u001b[0;34m(\u001b[0m\u001b[0;34m)\u001b[0m\u001b[0;34m\u001b[0m\u001b[0;34m\u001b[0m\u001b[0m\n\u001b[0m",
      "\u001b[0;31mAttributeError\u001b[0m: 'dict' object has no attribute 'deepcopy'"
     ]
    }
   ],
   "source": [
    "a = {'a':1}\n",
    "a.deepcopy()"
   ]
  },
  {
   "cell_type": "code",
   "execution_count": 375,
   "metadata": {},
   "outputs": [
    {
     "data": {
      "text/plain": [
       "[A,\n",
       " and,\n",
       " a,\n",
       " are,\n",
       " playing,\n",
       " computer,\n",
       " on,\n",
       " the,\n",
       " ground,\n",
       " in,\n",
       " the,\n",
       " park,\n",
       " .,\n",
       " A,\n",
       " woman,\n",
       " is,\n",
       " waving,\n",
       " .,\n",
       " A,\n",
       " man,\n",
       " is,\n",
       " playing,\n",
       " .,\n",
       " There,\n",
       " are,\n",
       " some,\n",
       " trees,\n",
       " and,\n",
       " plants,\n",
       " in,\n",
       " the,\n",
       " park,\n",
       " .]"
      ]
     },
     "execution_count": 375,
     "metadata": {},
     "output_type": "execute_result"
    }
   ],
   "source": [
    "l = list(doc)\n",
    "l.remove(doc[1])\n",
    "l.remove(doc[4])\n",
    "l"
   ]
  },
  {
   "cell_type": "code",
   "execution_count": 345,
   "metadata": {},
   "outputs": [
    {
     "name": "stdout",
     "output_type": "stream",
     "text": [
      "man\n"
     ]
    },
    {
     "data": {
      "text/plain": [
       "[man,\n",
       " playing,\n",
       " computer,\n",
       " ground,\n",
       " park,\n",
       " woman,\n",
       " waving,\n",
       " man,\n",
       " playing,\n",
       " trees,\n",
       " plants,\n",
       " park]"
      ]
     },
     "execution_count": 345,
     "metadata": {},
     "output_type": "execute_result"
    }
   ],
   "source": [
    "l = remove_stop(doc)\n",
    "print(list_tokens[0])\n",
    "l.remove(list_tokens[0])\n",
    "l"
   ]
  },
  {
   "cell_type": "code",
   "execution_count": 328,
   "metadata": {},
   "outputs": [
    {
     "data": {
      "text/plain": [
       "'man'"
      ]
     },
     "execution_count": 328,
     "metadata": {},
     "output_type": "execute_result"
    }
   ],
   "source": [
    "re.sub(r'(?<=\\w)\\d+','', 'man1')"
   ]
  },
  {
   "cell_type": "code",
   "execution_count": 324,
   "metadata": {},
   "outputs": [],
   "source": [
    "re.match(r'man\\d*', 'park')"
   ]
  },
  {
   "cell_type": "code",
   "execution_count": null,
   "metadata": {},
   "outputs": [],
   "source": []
  },
  {
   "cell_type": "code",
   "execution_count": null,
   "metadata": {},
   "outputs": [],
   "source": []
  },
  {
   "cell_type": "code",
   "execution_count": null,
   "metadata": {},
   "outputs": [],
   "source": []
  },
  {
   "cell_type": "code",
   "execution_count": null,
   "metadata": {},
   "outputs": [],
   "source": []
  },
  {
   "cell_type": "code",
   "execution_count": null,
   "metadata": {},
   "outputs": [],
   "source": []
  },
  {
   "cell_type": "code",
   "execution_count": 73,
   "metadata": {},
   "outputs": [
    {
     "data": {
      "text/plain": [
       "{'text': 'A man plays computer and sits on the ground. A woman is waving.',\n",
       " 'ents': [],\n",
       " 'sents': [{'start': 0, 'end': 44}, {'start': 45, 'end': 63}],\n",
       " 'tokens': [{'id': 0,\n",
       "   'start': 0,\n",
       "   'end': 1,\n",
       "   'pos': 'DET',\n",
       "   'tag': 'DT',\n",
       "   'dep': 'det',\n",
       "   'head': 1},\n",
       "  {'id': 1,\n",
       "   'start': 2,\n",
       "   'end': 5,\n",
       "   'pos': 'NOUN',\n",
       "   'tag': 'NN',\n",
       "   'dep': 'nsubj',\n",
       "   'head': 2},\n",
       "  {'id': 2,\n",
       "   'start': 6,\n",
       "   'end': 11,\n",
       "   'pos': 'VERB',\n",
       "   'tag': 'VBZ',\n",
       "   'dep': 'ROOT',\n",
       "   'head': 2},\n",
       "  {'id': 3,\n",
       "   'start': 12,\n",
       "   'end': 20,\n",
       "   'pos': 'NOUN',\n",
       "   'tag': 'NN',\n",
       "   'dep': 'dobj',\n",
       "   'head': 2},\n",
       "  {'id': 4,\n",
       "   'start': 21,\n",
       "   'end': 24,\n",
       "   'pos': 'CCONJ',\n",
       "   'tag': 'CC',\n",
       "   'dep': 'cc',\n",
       "   'head': 2},\n",
       "  {'id': 5,\n",
       "   'start': 25,\n",
       "   'end': 29,\n",
       "   'pos': 'VERB',\n",
       "   'tag': 'VBZ',\n",
       "   'dep': 'conj',\n",
       "   'head': 2},\n",
       "  {'id': 6,\n",
       "   'start': 30,\n",
       "   'end': 32,\n",
       "   'pos': 'ADP',\n",
       "   'tag': 'IN',\n",
       "   'dep': 'prep',\n",
       "   'head': 5},\n",
       "  {'id': 7,\n",
       "   'start': 33,\n",
       "   'end': 36,\n",
       "   'pos': 'DET',\n",
       "   'tag': 'DT',\n",
       "   'dep': 'det',\n",
       "   'head': 8},\n",
       "  {'id': 8,\n",
       "   'start': 37,\n",
       "   'end': 43,\n",
       "   'pos': 'NOUN',\n",
       "   'tag': 'NN',\n",
       "   'dep': 'pobj',\n",
       "   'head': 6},\n",
       "  {'id': 9,\n",
       "   'start': 43,\n",
       "   'end': 44,\n",
       "   'pos': 'PUNCT',\n",
       "   'tag': '.',\n",
       "   'dep': 'punct',\n",
       "   'head': 2},\n",
       "  {'id': 10,\n",
       "   'start': 45,\n",
       "   'end': 46,\n",
       "   'pos': 'DET',\n",
       "   'tag': 'DT',\n",
       "   'dep': 'det',\n",
       "   'head': 11},\n",
       "  {'id': 11,\n",
       "   'start': 47,\n",
       "   'end': 52,\n",
       "   'pos': 'NOUN',\n",
       "   'tag': 'NN',\n",
       "   'dep': 'nsubj',\n",
       "   'head': 13},\n",
       "  {'id': 12,\n",
       "   'start': 53,\n",
       "   'end': 55,\n",
       "   'pos': 'VERB',\n",
       "   'tag': 'VBZ',\n",
       "   'dep': 'aux',\n",
       "   'head': 13},\n",
       "  {'id': 13,\n",
       "   'start': 56,\n",
       "   'end': 62,\n",
       "   'pos': 'VERB',\n",
       "   'tag': 'VBG',\n",
       "   'dep': 'ROOT',\n",
       "   'head': 13},\n",
       "  {'id': 14,\n",
       "   'start': 62,\n",
       "   'end': 63,\n",
       "   'pos': 'PUNCT',\n",
       "   'tag': '.',\n",
       "   'dep': 'punct',\n",
       "   'head': 13}]}"
      ]
     },
     "execution_count": 73,
     "metadata": {},
     "output_type": "execute_result"
    }
   ],
   "source": [
    "doc.to_json()"
   ]
  },
  {
   "cell_type": "code",
   "execution_count": 62,
   "metadata": {},
   "outputs": [
    {
     "name": "stdout",
     "output_type": "stream",
     "text": [
      "plays\n",
      "waving\n",
      "man\n",
      "sits\n",
      "ground\n",
      "on\n",
      "woman\n"
     ]
    },
    {
     "data": {
      "text/plain": [
       "[['man', 'plays', 'computer'], ['woman', 'waving'], [], [], [], [], []]"
      ]
     },
     "execution_count": 62,
     "metadata": {},
     "output_type": "execute_result"
    }
   ],
   "source": [
    "tuples = []\n",
    "from collections import Counter\n",
    "for text, c in Counter([token.head.text for token in doc]).most_common():\n",
    "    print(text)\n",
    "    tuples.append([token.text for token in doc if token.head.text == text and token.dep_ in ['nsubj', 'ROOT', 'dobj', 'conj']])\n",
    "tuples"
   ]
  },
  {
   "cell_type": "code",
   "execution_count": 86,
   "metadata": {},
   "outputs": [
    {
     "name": "stdout",
     "output_type": "stream",
     "text": [
      "A a DET DT det\n",
      "man man NOUN NN nsubj\n",
      "plays play VERB VBZ ROOT\n",
      "computer computer NOUN NN dobj\n",
      "and and CCONJ CC cc\n",
      "sits sit VERB VBZ conj\n",
      "on on ADP IN prep\n",
      "the the DET DT det\n",
      "ground ground NOUN NN pobj\n",
      ". . PUNCT . punct\n",
      "A a DET DT det\n",
      "woman woman NOUN NN nsubj\n",
      "is be VERB VBZ aux\n",
      "waving wave VERB VBG ROOT\n",
      ". . PUNCT . punct\n"
     ]
    }
   ],
   "source": [
    "for token in doc:\n",
    "    print(token.text, token.lemma_, token.pos_, token.tag_, token.dep_)"
   ]
  },
  {
   "cell_type": "code",
   "execution_count": 27,
   "metadata": {},
   "outputs": [],
   "source": [
    "def generator(description):\n",
    "    \"\"\"\n",
    "    Given a description, propose several layers for selection\n",
    "    \"\"\"\n",
    "    assert(isinstance(description, Description))\n",
    "    "
   ]
  },
  {
   "cell_type": "code",
   "execution_count": 16,
   "metadata": {},
   "outputs": [
    {
     "data": {
      "text/plain": [
       "True"
      ]
     },
     "execution_count": 16,
     "metadata": {},
     "output_type": "execute_result"
    }
   ],
   "source": [
    "LayerName('#man(have[pant,woof],do[shit])').nested_entities_ == LayerName('#man(do[shit],have[woof,pant])').nested_entities_"
   ]
  },
  {
   "cell_type": "code",
   "execution_count": 21,
   "metadata": {},
   "outputs": [
    {
     "data": {
      "text/plain": [
       "dict_items([('man', {'have': {'woof', 'pant'}, 'do': {'shit'}})])"
      ]
     },
     "execution_count": 21,
     "metadata": {},
     "output_type": "execute_result"
    }
   ],
   "source": [
    "LayerName('#man(have[pant,woof],do[shit])').nested_entities_.items()"
   ]
  },
  {
   "cell_type": "code",
   "execution_count": 77,
   "metadata": {},
   "outputs": [
    {
     "data": {
      "text/plain": [
       "{1}"
      ]
     },
     "execution_count": 77,
     "metadata": {},
     "output_type": "execute_result"
    }
   ],
   "source": [
    "a = set()\n",
    "a.add(1)\n",
    "a\n",
    "a.union({1,2})\n",
    "a"
   ]
  },
  {
   "cell_type": "code",
   "execution_count": 22,
   "metadata": {},
   "outputs": [
    {
     "data": {
      "text/plain": [
       "((1,), (2,))"
      ]
     },
     "execution_count": 22,
     "metadata": {},
     "output_type": "execute_result"
    }
   ],
   "source": [
    "((1,),(2,))"
   ]
  },
  {
   "cell_type": "code",
   "execution_count": null,
   "metadata": {},
   "outputs": [],
   "source": []
  }
 ],
 "metadata": {
  "kernelspec": {
   "display_name": "text2scene",
   "language": "python",
   "name": "text2scene"
  },
  "language_info": {
   "codemirror_mode": {
    "name": "ipython",
    "version": 3
   },
   "file_extension": ".py",
   "mimetype": "text/x-python",
   "name": "python",
   "nbconvert_exporter": "python",
   "pygments_lexer": "ipython3",
   "version": "3.7.3"
  }
 },
 "nbformat": 4,
 "nbformat_minor": 2
}
