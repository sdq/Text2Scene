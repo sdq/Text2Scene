{
 "cells": [
  {
   "cell_type": "code",
   "execution_count": 1,
   "metadata": {},
   "outputs": [
    {
     "name": "stdout",
     "output_type": "stream",
     "text": [
      "Decoration..\n"
     ]
    }
   ],
   "source": [
    "from collections import defaultdict\n",
    "import pickle\n",
    "import glob\n",
    "import warnings\n",
    "warnings.filterwarnings('ignore')\n",
    "\n",
    "from tools.text_process import SimpleLemmaTokenizer\n",
    "from tools.instance import Node\n",
    "from tools.containers import LayerName, Picture, Description\n",
    "from tools.knowledge import LayerBase, TextBase\n",
    "# from tools.common import ravel\n",
    "\n",
    "# from models.encoder import TextPictureRavelHistSimiEncoder\n",
    "from models.dataset import Dataset\n",
    "from tools.common import getBase"
   ]
  },
  {
   "cell_type": "code",
   "execution_count": 2,
   "metadata": {
    "scrolled": true
   },
   "outputs": [],
   "source": [
    "# layerbase = LayerBase()\n",
    "# textbase = TextBase()\n",
    "\n",
    "# print(len(layerbase.vocab_))\n",
    "# print(type(layerbase.vocab_))\n",
    "# print(type(layerbase.vocab_[0]))\n",
    "# print(layerbase.vocab_[0].count)\n",
    "\n",
    "# print('----------')\n",
    "# print(len(textbase.vocab_))#index('man','n')\n",
    "# print(type(textbase.vocab_))\n",
    "# print(type(textbase.vocab_[0]))\n",
    "# print(dir(textbase.vocab_[0]))\n",
    "# print(textbase.vocab_[0].count)\n",
    "# # textbase.vocab_"
   ]
  },
  {
   "cell_type": "code",
   "execution_count": 3,
   "metadata": {
    "scrolled": true
   },
   "outputs": [],
   "source": [
    "# img_dir='images'\n",
    "# txt_dir='text'\n",
    "# name = 'Firmware'\n",
    "\n",
    "# description = Description('%s/%s.txt' % (txt_dir, name))\n",
    "# picture = Picture('%s/%s.svg' % (img_dir, name))\n",
    "# print(picture)\n",
    "# print(description)\n",
    "\n",
    "# encoder = TextPictureRavelHistSimiEncoder()\n",
    "# vec = encoder.encode(description, picture)#.toarray()\n",
    "# vec.shape"
   ]
  },
  {
   "cell_type": "code",
   "execution_count": 4,
   "metadata": {},
   "outputs": [],
   "source": [
    "import re\n",
    "import random\n",
    "from sklearn.linear_model import LogisticRegression\n",
    "from ana.visual import STAT, ROC, FEAT\n",
    "random.seed(7)\n",
    "np.random.seed(7)\n",
    "\n",
    "from models.generator import exhaustivePicGenerator\n",
    "from scipy import sparse\n",
    "\n",
    "class Pipeline:\n",
    "    def __init__(self, beam={'background': 2,\n",
    "                             'surrounding': 20,\n",
    "                             'character': 20,\n",
    "                             'accessory': 2}):\n",
    "        self.beam = beam\n",
    "        \n",
    "        print(' ------ train test split -------')\n",
    "        self.train_names, self.test_names = self.train_test_split()\n",
    "        # assert('Frozen' in self.train_names)\n",
    "        \n",
    "        print(' ------ build dataset -------')\n",
    "        self.dataset = Dataset(names=self.train_names)\n",
    "        \n",
    "        print(' ------ gather data -------')\n",
    "        \n",
    "        # self.train_set, self.test_set = \n",
    "        self.build_data(self.train_names,self.test_names)\n",
    "        \n",
    "        print(' ------ train and evaluation -------')\n",
    "        self.clf = self.train(self.train_set)\n",
    "        self.evaluate(self.clf, self.train_set, self.test_set)\n",
    "    \n",
    "#     def train_test_split(self, test_r=0.2, shuffle=True):\n",
    "#         names = [getBase(path) for path in glob.glob('images/*.svg')]\n",
    "#         names_ = [getBase(path) for path in glob.glob('text/*.txt')]\n",
    "        \n",
    "#         # names must be unique\n",
    "#         assert(len(names) == len(set(names)))\n",
    "#         # names from both sides must be identical\n",
    "#         assert(set(names) == set(names_))\n",
    "        \n",
    "#         if shuffle:\n",
    "#             random.shuffle(names)\n",
    "        \n",
    "#         ind = int(len(names) * (1-test_r))\n",
    "        \n",
    "#         return names[:ind], names[ind:]\n",
    "    \n",
    "    def train_test_split(self, test_r=0.2, shuffle=True):\n",
    "        \"\"\"\n",
    "        use fixed train and test set\n",
    "        \"\"\"\n",
    "        train = [getBase(path) for path in glob.glob('images_train/*.svg')]\n",
    "        test = [getBase(path) for path in glob.glob('images_val/*.svg')]\n",
    "        \n",
    "        return train, test\n",
    "    \n",
    "    def __fetch_data(self, names):\n",
    "        data = []\n",
    "        pairs = []\n",
    "        for c, name in enumerate(names):\n",
    "            print('    Fetching: [%i] - %s' % (c, name), end='\\r')\n",
    "            vec, pair = self.dataset[name]\n",
    "            data.append(vec)\n",
    "            pairs.extend(pair)\n",
    "        print('     Fetched: [%i]' % (c+1))\n",
    "        data = sparse.vstack(data)\n",
    "        return data, pairs\n",
    "    \n",
    "    def build_data(self, train, test):\n",
    "#         train_set = []\n",
    "#         train_pairs = []\n",
    "#         for name in train:\n",
    "#             print('     ------ Fetching [%s]' % name,\n",
    "#                   end='\\r')\n",
    "#             vec, pair = self.dataset[name]\n",
    "#             train_set.append(vec)\n",
    "#             train_pairs.append(pair)\n",
    "        \n",
    "        print(' -------------- train set ---------------- ')\n",
    "        self.train_set, self.train_pairs = self.__fetch_data(train) # np.vstack(train_set)\n",
    "        \n",
    "        print(' -------------- test set ---------------- ')\n",
    "        # test_set = np.vstack([self.dataset[name] for name in test])\n",
    "        self.test_set, self.test_pairs = self.__fetch_data(test)\n",
    "        # return train_set, test_set\n",
    "        # return None, None\n",
    "    \n",
    "    def train(self, train_set, class_weight={1: 1, 0: 0.1}, C=1.0):\n",
    "        clf = LogisticRegression(# random_state=0,\n",
    "                         solver='liblinear',\n",
    "                         class_weight=class_weight,\n",
    "                         penalty='l1',\n",
    "                         C=C,\n",
    "                         max_iter=100)\n",
    "\n",
    "        clf.fit(train_set[:,:-1],\n",
    "                train_set[:,-1].toarray().flatten())\n",
    "        return clf\n",
    "\n",
    "    def evaluate(self, clf, train_set, test_set, \n",
    "                 save=False, suffix='temp'):\n",
    "        print('------- train ---------')\n",
    "        y_true = train_set[:,-1].toarray().flatten()\n",
    "        y_prob = clf.predict_proba(train_set[:,:-1])[:,1]\n",
    "        STAT(y_true, y_prob, save=save)\n",
    "\n",
    "        print('------- test ---------')\n",
    "        y_true = test_set[:,-1].toarray().flatten()\n",
    "        y_prob = clf.predict_proba(test_set[:,:-1])[:,1]\n",
    "        \n",
    "        print('-- visual --')\n",
    "        STAT(y_true, y_prob, save=save)\n",
    "        ROC(y_true, y_prob, save=save)\n",
    "        FEAT(self.dataset, clf, save=save, top=20)\n",
    "\n",
    "    def predict(self, text, verbose=False):\n",
    "        \n",
    "        doc = Description(text=text)\n",
    "        probas = []\n",
    "        for i, pic in enumerate(exhaustivePicGenerator(self.dataset.encoder.layerbase, beam=self.beam, verbose=verbose)):\n",
    "            vec = self.dataset.encoder.encode(doc, pic)\n",
    "            probas.append((pic, self.clf.predict_proba([vec])[0,1]))\n",
    "            # if i > 10: break\n",
    "        # print(probas)\n",
    "        return sorted(probas, key=lambda x: x[1])[-1][0]"
   ]
  },
  {
   "cell_type": "code",
   "execution_count": 5,
   "metadata": {},
   "outputs": [],
   "source": [
    "### it's ok to have layerbase cover all the pictures\n",
    "### because pictures are made from our layer base anyway\n",
    "### not like text can type arbitraily\n",
    "\n",
    "### 1.0: categories are fixed, thus no way there's an unseen category"
   ]
  },
  {
   "cell_type": "code",
   "execution_count": 6,
   "metadata": {
    "scrolled": true
   },
   "outputs": [
    {
     "name": "stdout",
     "output_type": "stream",
     "text": [
      " ------ train test split -------\n",
      " ------ build dataset -------\n",
      " - Initialize encoder..\n",
      "Loading related dict..\n",
      " - Initiate layer base..\n",
      "doneimages/product_teardown.svg] \n",
      "\n",
      " - Initiate text base..\n",
      "donetext/product_teardown.txt]]\n",
      "\n",
      " - Initiate scaler..\n",
      " - List feature names..\n",
      " ------ gather data -------\n",
      " -------------- train set ---------------- \n",
      "     Fetched: [70] - product_teardowng\n",
      " -------------- test set ---------------- \n",
      "     Fetched: [20] - pure_loveng_process\n",
      " ------ train and evaluation -------\n",
      "------- train ---------\n",
      "70 positives out of 210 test examples\n",
      "Overall accuracy: 0.542857\n",
      "*Recall(thresh=0.5)/AccuracyOf1: 1.000000\n",
      "Precision(thresh=0.5): 0.421687\n",
      "AccuracyOf0(thresh=0.5): 0.542857\n",
      "------- test ---------\n",
      "-- visual --\n",
      "20 positives out of 60 test examples\n",
      "Overall accuracy: 0.516667\n",
      "*Recall(thresh=0.5)/AccuracyOf1: 0.950000\n",
      "Precision(thresh=0.5): 0.404255\n",
      "AccuracyOf0(thresh=0.5): 0.516667\n",
      "precision | recall | F1 | threshold\n",
      "------------------------------\n",
      "0.408 | 1.000 | 0.580 | 0.500\n",
      "0.404 | 0.950 | 0.567 | 0.505\n",
      "0.413 | 0.950 | 0.576 | 0.530\n",
      "0.422 | 0.950 | 0.585 | 0.543\n",
      "0.432 | 0.950 | 0.594 | 0.592\n",
      "0.442 | 0.950 | 0.603 | 0.621\n",
      "0.452 | 0.950 | 0.613 | 0.636\n",
      "0.463 | 0.950 | 0.623 | 0.664\n",
      "0.475 | 0.950 | 0.633 | 0.693\n",
      "0.487 | 0.950 | 0.644 | 0.703\n",
      "0.500 | 0.950 | 0.655 | 0.709\n",
      "0.514 | 0.950 | 0.667 | 0.715\n",
      "0.528 | 0.950 | 0.679 | 0.719\n",
      "0.543 | 0.950 | 0.691 | 0.740\n",
      "0.559 | 0.950 | 0.704 | 0.742\n",
      "0.576 | 0.950 | 0.717 | 0.757\n",
      "0.594 | 0.950 | 0.731 | 0.758\n",
      "0.613 | 0.950 | 0.745 | 0.759\n",
      "0.633 | 0.950 | 0.760 | 0.768\n",
      "0.655 | 0.950 | 0.776 | 0.810\n",
      "0.679 | 0.950 | 0.792 | 0.835\n",
      "0.667 | 0.900 | 0.766 | 0.846\n",
      "0.692 | 0.900 | 0.783 | 0.851\n",
      "0.680 | 0.850 | 0.756 | 0.853\n",
      "0.667 | 0.800 | 0.727 | 0.855\n",
      "0.652 | 0.750 | 0.698 | 0.857\n",
      "0.636 | 0.700 | 0.667 | 0.861\n",
      "0.650 | 0.650 | 0.650 | 0.861\n",
      "0.632 | 0.600 | 0.615 | 0.862\n",
      "0.667 | 0.600 | 0.632 | 0.869\n",
      "0.706 | 0.600 | 0.649 | 0.877\n",
      "0.750 | 0.600 | 0.667 | 0.877\n",
      "0.733 | 0.550 | 0.629 | 0.877\n",
      "0.714 | 0.500 | 0.588 | 0.884\n",
      "0.692 | 0.450 | 0.545 | 0.885\n",
      "0.667 | 0.400 | 0.500 | 0.886\n",
      "0.636 | 0.350 | 0.452 | 0.890\n",
      "0.700 | 0.350 | 0.467 | 0.893\n",
      "0.778 | 0.350 | 0.483 | 0.893\n",
      "0.750 | 0.300 | 0.429 | 0.898\n",
      "0.667 | 0.200 | 0.308 | 0.900\n",
      "0.600 | 0.150 | 0.240 | 0.902\n",
      "0.500 | 0.100 | 0.167 | 0.910\n",
      "0.667 | 0.100 | 0.174 | 0.913\n",
      "0.500 | 0.050 | 0.091 | 0.916\n",
      "1.000 | 0.050 | 0.095 | 0.921\n",
      "------------------------------\n"
     ]
    },
    {
     "data": {
      "image/png": "[encoded data removed]",
      "text/plain": [
       "<Figure size 432x288 with 1 Axes>"
      ]
     },
     "metadata": {
      "needs_background": "light"
     },
     "output_type": "display_data"
    },
    {
     "data": {
      "image/png": "[encoded data removed]",
      "text/plain": [
       "<Figure size 432x288 with 1 Axes>"
      ]
     },
     "metadata": {
      "needs_background": "light"
     },
     "output_type": "display_data"
    },
    {
     "data": {
      "image/png": "[encoded data removed]",
      "text/plain": [
       "<Figure size 720x288 with 2 Axes>"
      ]
     },
     "metadata": {
      "needs_background": "light"
     },
     "output_type": "display_data"
    },
    {
     "data": {
      "image/png": "[encoded data removed]",
      "text/plain": [
       "<Figure size 288x360 with 1 Axes>"
      ]
     },
     "metadata": {
      "needs_background": "light"
     },
     "output_type": "display_data"
    }
   ],
   "source": [
    "pipeline = Pipeline()"
   ]
  },
  {
   "cell_type": "code",
   "execution_count": 7,
   "metadata": {},
   "outputs": [],
   "source": [
    "## please restart and check this again - later\n",
    "## seems w/o bg not working"
   ]
  },
  {
   "cell_type": "code",
   "execution_count": 8,
   "metadata": {
    "scrolled": true
   },
   "outputs": [
    {
     "name": "stdout",
     "output_type": "stream",
     "text": [
      "Decoration..\n",
      "Loading related dict..\n",
      " -------------------------- \n",
      "texting\n",
      "A woman is standing by a tree with a mobile phone.\n",
      "\n",
      "#background; #other(have[tree,message]); #woman(stand,hold[phone])\n",
      "#office(have[draw,plant,cloth,hanger]); #woman(sit,hold[phone]); #accessory(have[dot])\n",
      "[#other(have[tree,message]), #woman(stand,hold[phone])]\n",
      "[#office(have[draw,plant,cloth,hanger]), #woman(sit,hold[phone]), #accessory(have[dot])]\n",
      "{'subj': 0.3333333333333333, 'act': 0.5785, 'obj': 0.3333333333333333, 'overall': 0.3823666666666667}\n",
      " -------------------------- \n",
      "weather\n",
      "A man is standing to give the weather report.\n",
      "\n",
      "#background; #accessory(have[plant]); #other(have[bulletin]); #man(stand,point_to)\n",
      "#chart(have[money,arrow]); #man(run); #accessory(have[leaf,rock])\n",
      "[#accessory(have[plant]), #other(have[bulletin]), #man(stand,point_to)]\n",
      "[#chart(have[money,arrow]), #man(run), #accessory(have[leaf,rock])]\n",
      "{'subj': 0.6666666666666666, 'act': 0.6666666666666666, 'obj': 0.0, 'overall': 0.4666666666666666}\n",
      " -------------------------- \n",
      "wandering_mind\n",
      "A man is sitting to rest.\n",
      "\n",
      "#background; #other(have[plant,circle]); #man(sit)\n",
      "#home(have[house,sun,tree]); #man(stand,hold[phone]); #accessory(have[tree])\n",
      "[#other(have[plant,circle]), #man(sit)]\n",
      "[#home(have[house,sun,tree]), #man(stand,hold[phone]), #accessory(have[tree])]\n",
      "{'subj': 0.3333333333333333, 'act': 0.41183333333333333, 'obj': 0.0, 'overall': 0.24903333333333336}\n",
      " -------------------------- \n",
      "Fitness_tracker\n",
      "A woman runs next to her phone.\n",
      "\n",
      "#office(have[phone]); #wild(have[plant,wind]); #woman(sport,run)\n",
      "#website(have[webpage]); #woman(walk,play[phone]); #accessory(have[dot])\n",
      "[#office(have[phone]), #wild(have[plant,wind]), #woman(sport,run)]\n",
      "[#website(have[webpage]), #woman(walk,play[phone]), #accessory(have[dot])]\n",
      "{'subj': 0.3333333333333333, 'act': 0.7162222222222222, 'obj': 0.0, 'overall': 0.3099111111111111}\n",
      " -------------------------- \n",
      "wall_post\n",
      "A woman is writing a web page with a pen.\n",
      "\n",
      "#background; #website(have[webpage,avatar]); #accessory(have[bonsai]); #woman(stand,hold[pencil])\n",
      "#chart(have[phone]); #woman(sit); #accessory(have[leaf])\n",
      "[#website(have[webpage,avatar]), #accessory(have[bonsai]), #woman(stand,hold[pencil])]\n",
      "[#chart(have[phone]), #woman(sit), #accessory(have[leaf])]\n",
      "{'subj': 0.6666666666666666, 'act': 0.7451666666666666, 'obj': 0.0, 'overall': 0.48236666666666667}\n",
      " -------------------------- \n",
      "web_development\n",
      "A woman is playing with her computer next to a web page.\n",
      "\n",
      "#background; #other(have[website]); #wild(have[leaf]); #woman(sit,watch,play[computer])\n",
      "#other(have[sun,cloud]); #woman(sit,hold[pizza]); #accessory(have[tree])\n",
      "[#other(have[website]), #wild(have[leaf]), #woman(sit,watch,play[computer])]\n",
      "[#other(have[sun,cloud]), #woman(sit,hold[pizza]), #accessory(have[tree])]\n",
      "{'subj': 0.6666666666666666, 'act': 0.75, 'obj': 0.0, 'overall': 0.48333333333333334}\n",
      " -------------------------- \n",
      "work_chat\n",
      "Two men and a woman are standing by the message.\n",
      "\n",
      "#background; #other(have[circle,message]); #woman(stand); #man(stand); #man(stand,put_up)\n",
      "#home(have[house,sun,tree]); #group(have[woman(stand,point),man(stand)]); #accessory(book)\n",
      "[#other(have[circle,message]), #woman(stand), #man(stand), #man(stand,put_up)]\n",
      "[#home(have[house,sun,tree]), #group(have[woman(stand,point),man(stand)]), #accessory(book)]\n",
      "Query Request (WeightedMeanIOU): 1 book - put_up\n",
      "{'subj': 0.1, 'act': 0.26666666666666666, 'obj': 0.0, 'overall': 0.10333333333333332}\n",
      " -------------------------- \n",
      "press_play\n",
      "A woman is sitting on a chair in the office, pointing at the pad.\n",
      "\n",
      "#background; #office(have[pad,plant,table]); #woman(sit_on[chair],point)\n",
      "#home(have[house,sun,tree]); #woman(sit,hold[phone],watch[computer]); #accessory(have[dot])\n",
      "[#office(have[pad,plant,table]), #woman(sit_on[chair],point)]\n",
      "[#home(have[house,sun,tree]), #woman(sit,hold[phone],watch[computer]), #accessory(have[dot])]\n",
      "{'subj': 0.3333333333333333, 'act': 0.37958333333333333, 'obj': 0.0, 'overall': 0.24258333333333337}\n",
      " -------------------------- \n",
      "problem_solving\n",
      "A man is walking and looking at his phone.\n",
      "\n",
      "#chart(have[sketch]); #accessory(have[diamond,plant]); #man(walk,hold[phone])\n",
      "#home(have[house,sun,tree]); #man(sit,play[computer])\n",
      "[#chart(have[sketch]), #accessory(have[diamond,plant]), #man(walk,hold[phone])]\n",
      "[#home(have[house,sun,tree]), #man(sit,play[computer])]\n",
      "{'subj': 0.3333333333333333, 'act': 0.3333333333333333, 'obj': 0.0, 'overall': 0.2333333333333333}\n",
      " -------------------------- \n",
      "videographer\n",
      "A man is standing against the camera.\n",
      "\n",
      "#background; #other(have[camera]); #wild(have[plant]); #man(stand)\n",
      "#home(have[house,sun,tree]); #man(stand,hold[phone]); #accessory(have[guardrail])\n",
      "[#other(have[camera]), #wild(have[plant]), #man(stand)]\n",
      "[#home(have[house,sun,tree]), #man(stand,hold[phone]), #accessory(have[guardrail])]\n",
      "{'subj': 0.3333333333333333, 'act': 0.8333333333333334, 'obj': 0.0, 'overall': 0.3333333333333333}\n",
      " -------------------------- \n",
      "true_friends\n",
      "A man and a woman are standing facing each other with bags on their backs.\n",
      "\n",
      "#wild(have[plant]); #woman(stand,hold[apple],carry[bag]); #man(stand,carry[bag])\n",
      "#other(have[sun,cloud]); #group(have[man(sit,hold),woman(lie,talk)]); #accessory\n",
      "[#wild(have[plant]), #woman(stand,hold[apple],carry[bag]), #man(stand,carry[bag])]\n",
      "[#other(have[sun,cloud]), #group(have[man(sit,hold),woman(lie,talk)]), #accessory]\n",
      "{'subj': 0.125, 'act': 0.32355, 'obj': 0.0, 'overall': 0.12721}\n",
      " -------------------------- \n",
      "Firmware\n",
      "A man played the computer. A man stepped on the stone and exercised. They had a robot.\n",
      "\n",
      "#background; #alien(have[robot],stand); #man(exercise,step_on[stone]); #man(work,play[computer],sit)\n",
      "#other(have[star,sky]); #group(have[man(drink[beer],sit,raise[arm]),man(sit,raise[arm],eat[chips])]); #accessory(have[leaf])\n",
      "[#alien(have[robot],stand), #man(exercise,step_on[stone]), #man(work,play[computer],sit)]\n",
      "[#other(have[star,sky]), #group(have[man(drink[beer],sit,raise[arm]),man(sit,raise[arm],eat[chips])]), #accessory(have[leaf])]\n",
      "{'subj': 0.0, 'act': 0.0, 'obj': 0.0, 'overall': 0.0}\n",
      " -------------------------- \n",
      "voice_control\n",
      "A woman is sitting at her desk.\n",
      "\n",
      "#background; #man(sit_on[chair],have[desk])\n",
      "#home(have[house,sun,tree]); #woman(sit,hold[phone],watch[computer]); #accessory(have[sign,leaf])\n",
      "[#man(sit_on[chair],have[desk])]\n",
      "[#home(have[house,sun,tree]), #woman(sit,hold[phone],watch[computer]), #accessory(have[sign,leaf])]\n",
      "{'subj': 0.0, 'act': 0.0, 'obj': 0.0, 'overall': 0.0}\n",
      " -------------------------- \n",
      "wishes\n",
      "A woman is standing with a lantern.\n",
      "\n",
      "#background; #wild(have[plant]); #woman(hold[lantern])\n",
      "#other(have[sun,cloud]); #woman(sit,hold[phone]); #accessory(have[tree])\n",
      "[#wild(have[plant]), #woman(hold[lantern])]\n",
      "[#other(have[sun,cloud]), #woman(sit,hold[phone]), #accessory(have[tree])]\n",
      "{'subj': 0.3333333333333333, 'act': 0.5, 'obj': 0.0, 'overall': 0.26666666666666666}\n",
      " -------------------------- \n",
      "Friendship\n",
      "A man talks with his friend under the tree.\n",
      "\n",
      "#background; #wild(have[tree,plant]); #man(lie_on[stone],talk); #man(sit,talk)\n",
      "#man(stand,hold[phone]); #accessory(have[leaf,rock])\n",
      "[#wild(have[tree,plant]), #man(lie_on[stone],talk), #man(sit,talk)]\n",
      "[#man(stand,hold[phone]), #accessory(have[leaf,rock])]\n",
      "{'subj': 0.3333333333333333, 'act': 0.38566666666666666, 'obj': 0.0, 'overall': 0.24380000000000002}\n",
      " -------------------------- \n",
      "process\n",
      "A woman is standing in front of three documents.\n",
      "\n",
      "#background; #chart(have[diagram,arrow]); #woman(stand,watch)\n",
      "#chart(have[list]); #woman(sit,hold[phone]); #accessory(have[circle,square])\n",
      "[#chart(have[diagram,arrow]), #woman(stand,watch)]\n",
      "[#chart(have[list]), #woman(sit,hold[phone]), #accessory(have[circle,square])]\n",
      "{'subj': 0.6666666666666666, 'act': 0.38566666666666666, 'obj': 0.0, 'overall': 0.4104666666666666}\n",
      " -------------------------- \n",
      "pure_love\n",
      "A man was sitting on a bench holding a woman with three balloons.\n",
      "\n",
      "#background; #wild(have[chair,leaf]); #group(have[woman(stand,hold[balloon]),man(sit)])\n",
      "#chart(have[phone]); #group(have[woman(talk),man(listen)]); #accessory\n",
      "[#wild(have[chair,leaf]), #group(have[woman(stand,hold[balloon]),man(sit)])]\n",
      "[#chart(have[phone]), #group(have[woman(talk),man(listen)]), #accessory]\n",
      "{'subj': 0.3333333333333333, 'act': 0.3333333333333333, 'obj': 0.0, 'overall': 0.2333333333333333}\n",
      " -------------------------- \n",
      "team_work\n"
     ]
    },
    {
     "name": "stdout",
     "output_type": "stream",
     "text": [
      "A man is sitting in front of the leaves, and a woman is standing.\n",
      "\n",
      "#background; #wild(have[leaf,sun,ground]); #man(sit); #woman(stand)\n",
      "#chart(have[phone]); #group(have[woman(hug),man(hug)]); #accessory(have[guardrail])\n",
      "[#wild(have[leaf,sun,ground]), #man(sit), #woman(stand)]\n",
      "[#chart(have[phone]), #group(have[woman(hug),man(hug)]), #accessory(have[guardrail])]\n",
      "{'subj': 0.125, 'act': 0.25, 'obj': 0.0, 'overall': 0.1125}\n",
      " -------------------------- \n",
      "prototyping_process\n",
      "A woman is standing in front of the drawing board with a pen.\n",
      "\n",
      "#background; #accessory(have[leaf]); #chart(have[pad,diagram]); #other(have[drawing_board]); #woman(stand,hold[pen])\n",
      "#other(have[sun,cloud]); #woman(sit,hold[phone],watch[computer]); #accessory(have[leaf])\n",
      "[#accessory(have[leaf]), #chart(have[pad,diagram]), #other(have[drawing_board]), #woman(stand,hold[pen])]\n",
      "[#other(have[sun,cloud]), #woman(sit,hold[phone],watch[computer]), #accessory(have[leaf])]\n",
      "{'subj': 0.75, 'act': 0.6225833333333334, 'obj': 0.25, 'overall': 0.5745166666666667}\n",
      " -------------------------- \n",
      "Frozen\n",
      "There is a snowman.\n",
      "\n",
      "#alien(have[snowman])\n",
      "#background; #wild(have[leaf,cloud]); #woman(stand,hold[flag])\n",
      "[#alien(have[snowman])]\n",
      "[#wild(have[leaf,cloud]), #woman(stand,hold[flag])]\n",
      "{'subj': 0.0, 'act': 0.5, 'obj': 0.0, 'overall': 0.1}\n"
     ]
    }
   ],
   "source": [
    "from models.metric import WeightedMeanIOU\n",
    "metric = WeightedMeanIOU()\n",
    "\n",
    "def avg_list_of_dict(ld):\n",
    "    keys = ld[0].keys()\n",
    "    avg_ = {}\n",
    "    for key in keys:\n",
    "        avg_[key] = sum([d[key] for d in ld]) / len(ld)\n",
    "    return avg_\n",
    "\n",
    "simis = []\n",
    "for name in [getBase(path) for path in glob.glob('text_val/*.txt')]:\n",
    "    print(' -------------------------- ')\n",
    "    print(name)\n",
    "    doc = Description('text_val/%s.txt' % name)\n",
    "    print(doc)\n",
    "    true_pic = Picture('images_val/%s.svg' % name)\n",
    "    gen_pic = pipeline.predict(doc.text_)\n",
    "    # gen_pic = random_gen(translate)\n",
    "    print(true_pic)\n",
    "    print(gen_pic)\n",
    "    simi = metric.picture_simi(true_pic, gen_pic, with_bg=False)\n",
    "    print(simi)\n",
    "    simis.append(simi)\n",
    "# print(sum(simis)/len(simis))\n",
    "test_simi_dict = avg_list_of_dict(simis)\n",
    "# print(avg_list_of_dict(simis))"
   ]
  },
  {
   "cell_type": "code",
   "execution_count": 13,
   "metadata": {},
   "outputs": [
    {
     "data": {
      "text/plain": [
       "0.265879753968254"
      ]
     },
     "execution_count": 13,
     "metadata": {},
     "output_type": "execute_result"
    }
   ],
   "source": [
    "li = [0.2424986507936508, 0.2558924722222222, 0.29924813888888885]\n",
    "sum(li)/len(li)"
   ]
  },
  {
   "cell_type": "code",
   "execution_count": 9,
   "metadata": {},
   "outputs": [
    {
     "name": "stdout",
     "output_type": "stream",
     "text": [
      " -------------------------- \n",
      "road_sign\n",
      "A man is standing in front of trees and signs.\n",
      "\n",
      "#wild(have[tree,sign,sun]); #man(stand)\n",
      "#other(have[sun,cloud]); #man(touch,stand); #accessory(have[leaf,rock])\n",
      "[#wild(have[tree,sign,sun]), #man(stand)]\n",
      "[#other(have[sun,cloud]), #man(touch,stand), #accessory(have[leaf,rock])]\n",
      "{'subj': 0.3333333333333333, 'act': 0.5, 'obj': 0.08333333333333333, 'overall': 0.2916666666666667}\n",
      " -------------------------- \n",
      "printing_invoices\n",
      "A man is sitting on a printer looking at his phone. A man and a woman are bending over to file.\n",
      "\n",
      "#background; #accessory(have[leaf]); #other(have[printer]); #man(lift); #woman(lift); #man(sit,hold[phone])\n",
      "#home(have[house,sun,tree]); #man(lift); #accessory(have[sign,leaf])\n",
      "[#accessory(have[leaf]), #other(have[printer]), #man(lift), #woman(lift), #man(sit,hold[phone])]\n",
      "[#home(have[house,sun,tree]), #man(lift), #accessory(have[sign,leaf])]\n",
      "{'subj': 0.4, 'act': 0.6, 'obj': 0.1, 'overall': 0.35}\n",
      " -------------------------- \n",
      "projections\n",
      "A man is standing in front of the pad.\n",
      "\n",
      "#background; #accessory(have[tree]); #man(stand,show)\n",
      "#other(have[sun,cloud]); #man(stand,hold[phone]); #accessory\n",
      "[#accessory(have[tree]), #man(stand,show)]\n",
      "[#other(have[sun,cloud]), #man(stand,hold[phone]), #accessory]\n",
      "{'subj': 0.6666666666666666, 'act': 0.1111111111111111, 'obj': 0.0, 'overall': 0.35555555555555557}\n",
      " -------------------------- \n",
      "to_do_list\n",
      "A woman is writing on a piece of paper with a pen.\n",
      "\n",
      "#background; #accessory(have[leaf]); #accessory(have[leaf]); #chart(have[list,paper]); #woman(bend,write)\n",
      "#background; #other(have[sun,cloud]); #woman(sit,hold[flower]); #accessory(have[circle,square])\n",
      "[#accessory(have[leaf]), #accessory(have[leaf]), #chart(have[list,paper]), #woman(bend,write)]\n",
      "[#other(have[sun,cloud]), #woman(sit,hold[flower]), #accessory(have[circle,square])]\n",
      "{'subj': 0.5, 'act': 0.5, 'obj': 0.0, 'overall': 0.35}\n",
      " -------------------------- \n",
      "professor\n",
      "A man is standing in front of the blackboard.\n",
      "\n",
      "#background; #other(have[blackboard]); #man(stand)\n",
      "#office(have[draw,plant,cloth,hanger]); #group(have[man(drink[beer],sit,raise[arm]),man(sit,raise[arm],eat[chips])])\n",
      "[#other(have[blackboard]), #man(stand)]\n",
      "[#office(have[draw,plant,cloth,hanger]), #group(have[man(drink[beer],sit,raise[arm]),man(sit,raise[arm],eat[chips])])]\n",
      "{'subj': 0.0, 'act': 0.3333333333333333, 'obj': 0.0, 'overall': 0.06666666666666667}\n",
      " -------------------------- \n",
      "taking_selfie\n",
      "A woman is taking a selfie.\n",
      "\n",
      "#background; #woman(hold[phone],take[selfie])\n",
      "#background; #other(have[dot,cup]); #woman(sit,hold[phone]); #accessory(have[leaf,plant])\n",
      "[#woman(hold[phone],take[selfie])]\n",
      "[#other(have[dot,cup]), #woman(sit,hold[phone]), #accessory(have[leaf,plant])]\n",
      "{'subj': 0.3333333333333333, 'act': 0.1111111111111111, 'obj': 0.16666666666666666, 'overall': 0.2388888888888889}\n",
      " -------------------------- \n",
      "user_flow\n",
      "A woman is standing and writing.\n",
      "\n",
      "#background; #accessory(have[plant]); #chart(have[paper]); #woman(hold[pen],point_to)\n",
      "#other(have[sun,cloud]); #woman(sit,hold[phone]); #accessory\n",
      "[#accessory(have[plant]), #chart(have[paper]), #woman(hold[pen],point_to)]\n",
      "[#other(have[sun,cloud]), #woman(sit,hold[phone]), #accessory]\n",
      "{'subj': 0.6666666666666666, 'act': 0.4444444444444444, 'obj': 0.0, 'overall': 0.4222222222222222}\n",
      " -------------------------- \n",
      "programmer\n",
      "A woman is sitting in front of a computer.\n",
      "\n",
      "#background; #woman(sit_on[chair],watch[computer])\n",
      "#other(have[sun,cloud]); #woman(sit,hold[phone]); #accessory(have[guardrail])\n",
      "[#woman(sit_on[chair],watch[computer])]\n",
      "[#other(have[sun,cloud]), #woman(sit,hold[phone]), #accessory(have[guardrail])]\n",
      "{'subj': 0.3333333333333333, 'act': 0.061666666666666675, 'obj': 0.0, 'overall': 0.17900000000000002}\n",
      " -------------------------- \n",
      "Gaming\n",
      "A man touches a game controllers.\n",
      "\n",
      "#background; #wild(have[plant]); #other(have[gamepad]); #man(touch,stand)\n",
      "#other(have[sun,cloud]); #man(sit,hold[phone]); #accessory(have[leaf,plant])\n",
      "[#wild(have[plant]), #other(have[gamepad]), #man(touch,stand)]\n",
      "[#other(have[sun,cloud]), #man(sit,hold[phone]), #accessory(have[leaf,plant])]\n",
      "{'subj': 0.6666666666666666, 'act': 0.719, 'obj': 0.16666666666666666, 'overall': 0.5271333333333333}\n",
      " -------------------------- \n",
      "teddy_bear\n",
      "A woman is sitting holding a bear.\n",
      "\n",
      "#background; #accessory(have[plant]); #woman(lean,play_with[toy])\n",
      "#other(have[sun,cloud]); #woman(sit,play[computer]); #accessory(have[dot])\n",
      "[#accessory(have[plant]), #woman(lean,play_with[toy])]\n",
      "[#other(have[sun,cloud]), #woman(sit,play[computer]), #accessory(have[dot])]\n",
      "{'subj': 0.6666666666666666, 'act': 0.37966666666666665, 'obj': 0.0, 'overall': 0.40926666666666667}\n",
      " -------------------------- \n",
      "wireframing\n",
      "A woman is standing in front of the computer.\n",
      "\n",
      "#background; #other(have[computer,plant,leaf]); #woman(stand)\n",
      "#chart(have[phone]); #woman(sit,hold[flower]); #accessory(have[dot])\n",
      "[#other(have[computer,plant,leaf]), #woman(stand)]\n",
      "[#chart(have[phone]), #woman(sit,hold[flower]), #accessory(have[dot])]\n",
      "{'subj': 0.3333333333333333, 'act': 0.41183333333333333, 'obj': 0.0, 'overall': 0.24903333333333336}\n",
      " -------------------------- \n",
      "Fishing\n",
      "A man is fishing on the lake.\n",
      "\n",
      "#background; #wild(have[lake,hill,cloud]); #wild(have[boat]); #man(fishing,stand,hold[fishing_rod])\n",
      "#other(have[sun,cloud]); #man(stand,point_to); #accessory(have[dot])\n",
      "[#wild(have[lake,hill,cloud]), #wild(have[boat]), #man(fishing,stand,hold[fishing_rod])]\n",
      "[#other(have[sun,cloud]), #man(stand,point_to), #accessory(have[dot])]\n",
      "{'subj': 0.3333333333333333, 'act': 0.75, 'obj': 0.08333333333333333, 'overall': 0.34166666666666673}\n",
      " -------------------------- \n",
      "pizza_sharing\n",
      "Three women are sitting on the sofa eating pizza.\n",
      "\n",
      "#background; #home(have[sofa]); #woman(sit,hold[pizza]); #woman(sit,hold[pizza]); #woman(sit,hold[pizza])\n",
      "#other(have[sun,cloud]); #woman(sit,hold[phone]); #accessory(have[sign,leaf])\n",
      "[#home(have[sofa]), #woman(sit,hold[pizza]), #woman(sit,hold[pizza]), #woman(sit,hold[pizza])]\n",
      "[#other(have[sun,cloud]), #woman(sit,hold[phone]), #accessory(have[sign,leaf])]\n",
      "{'subj': 0.2, 'act': 0.4, 'obj': 0.0, 'overall': 0.18}\n",
      " -------------------------- \n",
      "questions\n",
      "A woman is standing holding the sign.\n",
      "\n",
      "#background; #accessory(have[sign,leaf]); #woman(stand,hold[sign])\n",
      "#chart(have[phone]); #woman(sit,hold[pizza]); #accessory(have[circle,square])\n",
      "[#accessory(have[sign,leaf]), #woman(stand,hold[sign])]\n",
      "[#chart(have[phone]), #woman(sit,hold[pizza]), #accessory(have[circle,square])]\n",
      "{'subj': 0.6666666666666666, 'act': 0.5785, 'obj': 0.0, 'overall': 0.44903333333333334}\n",
      " -------------------------- \n",
      "Game_day\n",
      "Two man sat on the sofa celebrating a game.\n",
      "\n",
      "#background; #accessory; #home(have[sofa,toy,chips]); #group(have[man(drink[beer],sit,raise[arm]),man(sit,raise[arm],eat[chips])])\n",
      "#park(have[cloud,tree,hill]); #man(sit_on[chair],watch[computer]); #accessory(book)\n",
      "[#accessory, #home(have[sofa,toy,chips]), #group(have[man(drink[beer],sit,raise[arm]),man(sit,raise[arm],eat[chips])])]\n",
      "[#park(have[cloud,tree,hill]), #man(sit_on[chair],watch[computer]), #accessory(book)]\n",
      "{'subj': 0.25, 'act': 0.25, 'obj': 0.0, 'overall': 0.175}\n",
      " -------------------------- \n",
      "Freelancer\n",
      "A woman sit in the room and uses her computer.\n",
      "\n",
      "#background; #home(have[bookcase,apple,wall_clock]); #woman(play[computer],work,sit)\n",
      "#home(have[house,sun,tree]); #woman(sit,hold[phone],watch[computer]); #accessory(have[leaf,plant])\n",
      "[#home(have[bookcase,apple,wall_clock]), #woman(play[computer],work,sit)]\n",
      "[#home(have[house,sun,tree]), #woman(sit,hold[phone],watch[computer]), #accessory(have[leaf,plant])]\n",
      "{'subj': 0.6666666666666666, 'act': 0.39999999999999997, 'obj': 0.16666666666666666, 'overall': 0.4633333333333334}\n",
      " -------------------------- \n",
      "queue\n",
      "Three women and a man lined up at the fence.\n",
      "\n",
      "#woman(stand); #man(stand,hold[phone]); #man(stand); #woman(walk); #accessory(have[guardrail])\n",
      "#chart(have[list,paper]); #group(have[man(sit,hold),woman(lie,talk)]); #accessory(have[sign,leaf])\n",
      "[#woman(stand), #man(stand,hold[phone]), #man(stand), #woman(walk), #accessory(have[guardrail])]\n",
      "[#chart(have[list,paper]), #group(have[man(sit,hold),woman(lie,talk)]), #accessory(have[sign,leaf])]\n",
      "{'subj': 0.25, 'act': 0.22795833333333335, 'obj': 0.0, 'overall': 0.17059166666666667}\n",
      " -------------------------- \n",
      "posting_photo\n"
     ]
    },
    {
     "name": "stdout",
     "output_type": "stream",
     "text": [
      "A woman is standing in front of a computer pad mobile phone.\n",
      "\n",
      "#chart(have[computer]); #chart(have[pad]); #chart(have[phone]); #wild(have[tree]); #woman(stand,hold[computer])\n",
      "#other(have[sun,cloud]); #woman(sit,hold[phone],watch[computer]); #accessory\n",
      "[#chart(have[computer]), #chart(have[pad]), #chart(have[phone]), #wild(have[tree]), #woman(stand,hold[computer])]\n",
      "[#other(have[sun,cloud]), #woman(sit,hold[phone],watch[computer]), #accessory]\n",
      "{'subj': 0.16666666666666666, 'act': 0.24838888888888888, 'obj': 0.08333333333333333, 'overall': 0.1580111111111111}\n",
      " -------------------------- \n",
      "winter_designer\n",
      "A woman is sitting on a chair in the office.\n",
      "\n",
      "#background; #office(have[draw,plant,cloth,hanger]); #woman(sit_on[chair])\n",
      "#chart(have[phone]); #woman(sit,hold[flower]); #accessory\n",
      "[#office(have[draw,plant,cloth,hanger]), #woman(sit_on[chair])]\n",
      "[#chart(have[phone]), #woman(sit,hold[flower]), #accessory]\n",
      "{'subj': 0.3333333333333333, 'act': 0.42583333333333334, 'obj': 0.0, 'overall': 0.25183333333333335}\n",
      " -------------------------- \n",
      "transfer_money\n",
      "A man is standing and a woman is sitting with a computer to transfer money.\n",
      "\n",
      "#background; #woman(sit,play[computer]); #man(stand,hold[phone]); #chart(have[money,arrow])\n",
      "#home(have[house,sun,tree]); #group(have[woman(stand),man(stand)])\n",
      "[#woman(sit,play[computer]), #man(stand,hold[phone]), #chart(have[money,arrow])]\n",
      "[#home(have[house,sun,tree]), #group(have[woman(stand),man(stand)])]\n",
      "{'subj': 0.16666666666666666, 'act': 0.5576666666666666, 'obj': 0.0, 'overall': 0.19486666666666666}\n",
      " -------------------------- \n",
      "Follow_me_drone\n",
      "A woman watches the drone.\n",
      "\n",
      "#background; #other(have[drone]); #woman(watch,have[head_shot])\n",
      "#home(have[house,sun,tree]); #woman(play[computer],work,sit); #accessory(have[dot])\n",
      "[#other(have[drone]), #woman(watch,have[head_shot])]\n",
      "[#home(have[house,sun,tree]), #woman(play[computer],work,sit), #accessory(have[dot])]\n",
      "{'subj': 0.3333333333333333, 'act': 0.3333333333333333, 'obj': 0.0, 'overall': 0.2333333333333333}\n",
      " -------------------------- \n",
      "powerful\n",
      "A woman is sitting on a chair.\n",
      "\n",
      "#background; #home(have[bonsai,cocktail]); #woman(sit_on[chair])\n",
      "#other(have[webpage]); #woman(sit,hold[phone]); #accessory(have[leaf])\n",
      "[#home(have[bonsai,cocktail]), #woman(sit_on[chair])]\n",
      "[#other(have[webpage]), #woman(sit,hold[phone]), #accessory(have[leaf])]\n",
      "{'subj': 0.3333333333333333, 'act': 0.42583333333333334, 'obj': 0.0, 'overall': 0.25183333333333335}\n",
      " -------------------------- \n",
      "weather_app\n",
      "A woman is sitting on the clouds and the sun.\n",
      "\n",
      "#other(have[sun,cloud]); #woman(sit)\n",
      "#other(have[sun,cloud]); #woman(sit,hold[phone],watch[computer]); #accessory\n",
      "[#other(have[sun,cloud]), #woman(sit)]\n",
      "[#other(have[sun,cloud]), #woman(sit,hold[phone],watch[computer]), #accessory]\n",
      "{'subj': 0.6666666666666666, 'act': 0.4444444444444444, 'obj': 0.3333333333333333, 'overall': 0.5222222222222223}\n",
      " -------------------------- \n",
      "Focus\n",
      "A woman takes pictures under the tree.\n",
      "\n",
      "#background; #wild(have[tree,plant]); #woman(sit,take[pictures])\n",
      "#home(have[house,sun,tree]); #woman(sit,hold[phone]); #accessory(have[guardrail])\n",
      "[#wild(have[tree,plant]), #woman(sit,take[pictures])]\n",
      "[#home(have[house,sun,tree]), #woman(sit,hold[phone]), #accessory(have[guardrail])]\n",
      "{'subj': 0.3333333333333333, 'act': 0.5655, 'obj': 0.08333333333333333, 'overall': 0.3047666666666667}\n",
      " -------------------------- \n",
      "window_shopping\n",
      "A woman was looking at clothes in front of a glass case.\n",
      "\n",
      "#other(have[window,clothes]); #woman(stand,watch)\n",
      "#other(have[tree,brick]); #woman(sit,take[pictures]); #accessory(have[leaf,plant])\n",
      "[#other(have[window,clothes]), #woman(stand,watch)]\n",
      "[#other(have[tree,brick]), #woman(sit,take[pictures]), #accessory(have[leaf,plant])]\n",
      "{'subj': 0.6666666666666666, 'act': 0.38566666666666666, 'obj': 0.0, 'overall': 0.4104666666666666}\n",
      " -------------------------- \n",
      "young_and_happy\n",
      "A man is standing clutching at a street lamp.\n",
      "\n",
      "#background; #wild(have[leaf]); #man(stand,pull[street_lamp])\n",
      "#chart(have[phone]); #man(squat,play_with[toy]); #accessory(have[leaf,rock])\n",
      "[#wild(have[leaf]), #man(stand,pull[street_lamp])]\n",
      "[#chart(have[phone]), #man(squat,play_with[toy]), #accessory(have[leaf,rock])]\n",
      "{'subj': 0.3333333333333333, 'act': 0.3333333333333333, 'obj': 0.16666666666666666, 'overall': 0.2833333333333333}\n",
      " -------------------------- \n",
      "Fireworks\n",
      "Two women enjoyed fireworks in the wild.\n",
      "\n",
      "#background; #woman(stand,talk); #woman(point_to,show,stand); #wild(have[firework,plant])\n",
      "#chart(have[phone]); #woman(touch,stand,back_on); #accessory(have[leaf,plant])\n",
      "[#woman(stand,talk), #woman(point_to,show,stand), #wild(have[firework,plant])]\n",
      "[#chart(have[phone]), #woman(touch,stand,back_on), #accessory(have[leaf,plant])]\n",
      "Query Request (WeightedMeanIOU): 2 back_on - point_to\n",
      "{'subj': 0.25, 'act': 0.3125, 'obj': 0.08333333333333333, 'overall': 0.21250000000000002}\n",
      " -------------------------- \n",
      "podcast\n",
      "A woman is sitting at a table listening to music.\n",
      "\n",
      "#background; #accessory(book); #woman(listen[music])\n",
      "#other(have[sun,cloud]); #woman(sit,hold[phone],watch[computer]); #accessory(have[leaf])\n",
      "[#accessory(book), #woman(listen[music])]\n",
      "[#other(have[sun,cloud]), #woman(sit,hold[phone],watch[computer]), #accessory(have[leaf])]\n",
      "{'subj': 0.6666666666666666, 'act': 0.033666666666666664, 'obj': 0.0, 'overall': 0.3400666666666667}\n",
      " -------------------------- \n",
      "web_developer\n",
      "A man is playing with his computer next to a web page.\n",
      "\n",
      "#other(have[webpage]); #man(sit,play[computer])\n",
      "#home(have[house,sun,tree]); #man(run); #accessory(have[guardrail])\n",
      "[#other(have[webpage]), #man(sit,play[computer])]\n",
      "[#home(have[house,sun,tree]), #man(run), #accessory(have[guardrail])]\n",
      "{'subj': 0.3333333333333333, 'act': 0.3333333333333333, 'obj': 0.0, 'overall': 0.2333333333333333}\n",
      " -------------------------- \n",
      "Forgot_password\n",
      "A man is thinking.\n",
      "\n",
      "#background; #man(think)\n",
      "#background; #chart(have[phone]); #man(stand,pull[street_lamp]); #accessory(have[leaf,rock])\n",
      "[#man(think)]\n",
      "[#chart(have[phone]), #man(stand,pull[street_lamp]), #accessory(have[leaf,rock])]\n",
      "{'subj': 0.3333333333333333, 'act': 0.0, 'obj': 0.0, 'overall': 0.16666666666666666}\n",
      " -------------------------- \n",
      "Following\n",
      "A woman is showing a chart.\n",
      "\n",
      "#background; #chart(have[list]); #woman(stand,present)\n",
      "#background; #other(have[sun,cloud]); #woman(sit,hold[phone],watch[computer]); #accessory(have[circle,square])\n",
      "[#chart(have[list]), #woman(stand,present)]\n",
      "[#other(have[sun,cloud]), #woman(sit,hold[phone],watch[computer]), #accessory(have[circle,square])]\n",
      "{'subj': 0.3333333333333333, 'act': 0.3725833333333333, 'obj': 0.0, 'overall': 0.2411833333333333}\n",
      " -------------------------- \n",
      "working_late\n",
      "A woman is sitting by the window playing computer.\n",
      "\n",
      "#other(have[window,plant,building]); #woman(sit,play_with[computer])\n",
      "#chart(have[phone]); #woman(sit,hold[flower]); #accessory(have[dot])\n",
      "[#other(have[window,plant,building]), #woman(sit,play_with[computer])]\n",
      "[#chart(have[phone]), #woman(sit,hold[flower]), #accessory(have[dot])]\n",
      "{'subj': 0.3333333333333333, 'act': 0.4444444444444444, 'obj': 0.0, 'overall': 0.25555555555555554}\n",
      " -------------------------- \n",
      "walking_around\n",
      "A woman is walking.\n",
      "\n",
      "#background; #wild(have[guideboard,plant]); #woman(walk)\n",
      "#home(have[house,sun,tree]); #woman(walk,watch,hold[phone])\n",
      "[#wild(have[guideboard,plant]), #woman(walk)]\n",
      "[#home(have[house,sun,tree]), #woman(walk,watch,hold[phone])]\n",
      "{'subj': 0.5, 'act': 0.6666666666666666, 'obj': 0.0, 'overall': 0.3833333333333333}\n",
      " -------------------------- \n",
      "Gardening\n",
      "A woman touches the sunflowers.\n",
      "\n",
      "#background; #wild(have[sunflower]); #woman(touch,stand,back_on)\n",
      "#other(have[sun,cloud]); #woman(hold[phone],take[selfie]); #accessory(have[circle,square])\n",
      "[#wild(have[sunflower]), #woman(touch,stand,back_on)]\n",
      "[#other(have[sun,cloud]), #woman(hold[phone],take[selfie]), #accessory(have[circle,square])]\n",
      "{'subj': 0.3333333333333333, 'act': 0.3621666666666667, 'obj': 0.0, 'overall': 0.2391}\n",
      " -------------------------- \n",
      "warning_cyit\n",
      "A woman is standing with a flag beside some stones and a sign.\n",
      "\n",
      "#background; #wild(have[rock,sign]); #woman(stand,hold[flag])\n",
      "#home(have[house,sun,tree]); #woman(sit,take[pictures]); #accessory(have[leaf,rock])\n",
      "[#wild(have[rock,sign]), #woman(stand,hold[flag])]\n",
      "[#home(have[house,sun,tree]), #woman(sit,take[pictures]), #accessory(have[leaf,rock])]\n",
      "{'subj': 0.3333333333333333, 'act': 0.47733333333333333, 'obj': 0.1111111111111111, 'overall': 0.2954666666666667}\n",
      " -------------------------- \n",
      "Flowers\n"
     ]
    },
    {
     "name": "stdout",
     "output_type": "stream",
     "text": [
      "A woman holds a flower and sits on the grass.\n",
      "\n",
      "#wild(have[plant]); #woman(sit,hold[flower])\n",
      "#home(have[house,sun,tree]); #woman(sit,hold[phone],watch[computer]); #accessory(have[guardrail])\n",
      "[#wild(have[plant]), #woman(sit,hold[flower])]\n",
      "[#home(have[house,sun,tree]), #woman(sit,hold[phone],watch[computer]), #accessory(have[guardrail])]\n",
      "{'subj': 0.3333333333333333, 'act': 0.5555555555555555, 'obj': 0.0, 'overall': 0.27777777777777773}\n",
      " -------------------------- \n",
      "product_hunt\n",
      "A woman is standing next to the trophy and a cat.\n",
      "\n",
      "#accessory(have[dot]); #other(have[dot,cup]); #woman(stand)\n",
      "#home(have[sofa,toy,chips]); #woman(sit,hold[phone]); #accessory\n",
      "[#accessory(have[dot]), #other(have[dot,cup]), #woman(stand)]\n",
      "[#home(have[sofa,toy,chips]), #woman(sit,hold[phone]), #accessory]\n",
      "{'subj': 0.6666666666666666, 'act': 0.41183333333333333, 'obj': 0.0, 'overall': 0.41569999999999996}\n",
      " -------------------------- \n",
      "Fish_bowl\n",
      "A woman walk past a fish tank.\n",
      "\n",
      "#wild(have[fish,plant,water,fish_tank,cloud]); #woman(walk,play[phone])\n",
      "#other(have[sun,cloud]); #woman(hold[phone],take[selfie]); #accessory(have[circle,square])\n",
      "[#wild(have[fish,plant,water,fish_tank,cloud]), #woman(walk,play[phone])]\n",
      "[#other(have[sun,cloud]), #woman(hold[phone],take[selfie]), #accessory(have[circle,square])]\n",
      "{'subj': 0.3333333333333333, 'act': 0.3333333333333333, 'obj': 0.2222222222222222, 'overall': 0.3}\n",
      " -------------------------- \n",
      "programming\n",
      "A man is sitting in front of a computer.\n",
      "\n",
      "#background; #man(sit_on[chair],watch[computer])\n",
      "#home(have[house,sun,tree]); #man(collect[data]); #accessory(have[guardrail])\n",
      "[#man(sit_on[chair],watch[computer])]\n",
      "[#home(have[house,sun,tree]), #man(collect[data]), #accessory(have[guardrail])]\n",
      "{'subj': 0.3333333333333333, 'act': 0.0, 'obj': 0.0, 'overall': 0.16666666666666666}\n",
      " -------------------------- \n",
      "working_out\n",
      "A woman is standing with dumbbells and a man is running.\n",
      "\n",
      "#background; #wild(have[grass]); #woman(stand,hold[dumbbell]); #man(run)\n",
      "#other(have[leaf,plant,firework]); #group(have[man(sit,hold),woman(lie,talk)]); #accessory(have[circle,square])\n",
      "[#wild(have[grass]), #woman(stand,hold[dumbbell]), #man(run)]\n",
      "[#other(have[leaf,plant,firework]), #group(have[man(sit,hold),woman(lie,talk)]), #accessory(have[circle,square])]\n",
      "{'subj': 0.125, 'act': 0.3419375, 'obj': 0.0, 'overall': 0.1308875}\n",
      " -------------------------- \n",
      "toy_car\n",
      "A man is squatting down playing with a car.\n",
      "\n",
      "#other(have[tree,brick]); #man(squat,play_with[toy])\n",
      "#other(have[sun,cloud]); #man(stand,point_to); #accessory(have[tree])\n",
      "[#other(have[tree,brick]), #man(squat,play_with[toy])]\n",
      "[#other(have[sun,cloud]), #man(stand,point_to), #accessory(have[tree])]\n",
      "{'subj': 0.6666666666666666, 'act': 0.3333333333333333, 'obj': 0.0, 'overall': 0.39999999999999997}\n",
      " -------------------------- \n",
      "wedding\n",
      "A man and a woman are standing hugging at the wedding.\n",
      "\n",
      "#background; #background; #other(have[leaf,plant,firework]); #other(have[leaf,plant,firework]); #group(have[woman(hug),man(hug)]); #group(have[woman(hug),man(hug)])\n",
      "#other(have[blackboard]); #man(sit,play[computer]); #accessory(have[tree])\n",
      "[#other(have[leaf,plant,firework]), #other(have[leaf,plant,firework]), #group(have[woman(hug),man(hug)]), #group(have[woman(hug),man(hug)])]\n",
      "[#other(have[blackboard]), #man(sit,play[computer]), #accessory(have[tree])]\n",
      "{'subj': 0.375, 'act': 0.5, 'obj': 0.0, 'overall': 0.2875}\n",
      " -------------------------- \n",
      "visual_data\n",
      "A man is standing to collect data.\n",
      "\n",
      "#background; #wild(have[tree]); #man(collect[data])\n",
      "#other(have[window,clothes]); #man(sit,hold[phone]); #accessory(have[leaf])\n",
      "[#wild(have[tree]), #man(collect[data])]\n",
      "[#other(have[window,clothes]), #man(sit,hold[phone]), #accessory(have[leaf])]\n",
      "{'subj': 0.3333333333333333, 'act': 0.3333333333333333, 'obj': 0.0, 'overall': 0.2333333333333333}\n",
      " -------------------------- \n",
      "viral_tweet\n",
      "A woman is sitting in a hot air balloon.\n",
      "\n",
      "#wild(have[hill,cloud]); #accessory(have[leaf]); #wild(have[balloon]); #woman(sit,hold[phone])\n",
      "#chart(have[money,arrow]); #woman(sit,hold[flower]); #accessory(have[circle,square])\n",
      "[#wild(have[hill,cloud]), #accessory(have[leaf]), #wild(have[balloon]), #woman(sit,hold[phone])]\n",
      "[#chart(have[money,arrow]), #woman(sit,hold[flower]), #accessory(have[circle,square])]\n",
      "{'subj': 0.5, 'act': 0.75, 'obj': 0.0, 'overall': 0.39999999999999997}\n",
      " -------------------------- \n",
      "Forming_ideas\n",
      "A man walks past some objects.\n",
      "\n",
      "#background; #man(hold[cube],walk); #other(have[triangle,circle,square,tree])\n",
      "#chart(have[money,arrow]); #man(sit,hold[phone]); #accessory(have[plant])\n",
      "[#man(hold[cube],walk), #other(have[triangle,circle,square,tree])]\n",
      "[#chart(have[money,arrow]), #man(sit,hold[phone]), #accessory(have[plant])]\n",
      "{'subj': 0.3333333333333333, 'act': 0.4444444444444444, 'obj': 0.0, 'overall': 0.25555555555555554}\n",
      " -------------------------- \n",
      "winners\n",
      "A man and a woman are jumping in front of the cup.\n",
      "\n",
      "#background; #other(have[trophy]); #woman(jump); #man(jump)\n",
      "#other(have[sun,cloud]); #group(have[woman(stand,point),man(stand)]); #accessory\n",
      "[#other(have[trophy]), #woman(jump), #man(jump)]\n",
      "[#other(have[sun,cloud]), #group(have[woman(stand,point),man(stand)]), #accessory]\n",
      "{'subj': 0.375, 'act': 0.25, 'obj': 0.0, 'overall': 0.2375}\n",
      " -------------------------- \n",
      "word_of_mouth\n",
      "A man and a woman were whispering.\n",
      "\n",
      "#background; #accessory(have[leaf,plant]); #group(have[woman(talk),man(listen)])\n",
      "#other(have[webpage]); #group(have[woman(hug),man(lift)]); #accessory\n",
      "[#accessory(have[leaf,plant]), #group(have[woman(talk),man(listen)])]\n",
      "[#other(have[webpage]), #group(have[woman(hug),man(lift)]), #accessory]\n",
      "{'subj': 0.6666666666666666, 'act': 0.0, 'obj': 0.0, 'overall': 0.3333333333333333}\n",
      " -------------------------- \n",
      "Forever\n",
      "A couple were lying on the beach sunning themselves.\n",
      "\n",
      "#background; #wild(have[plant,beach,sun]); #group(have[man(sit,hold),woman(lie,talk)])\n",
      "#chart(have[phone]); #woman(sit,hold[phone]); #accessory\n",
      "[#wild(have[plant,beach,sun]), #group(have[man(sit,hold),woman(lie,talk)])]\n",
      "[#chart(have[phone]), #woman(sit,hold[phone]), #accessory]\n",
      "{'subj': 0.16666666666666666, 'act': 0.5, 'obj': 0.0, 'overall': 0.18333333333333335}\n",
      " -------------------------- \n",
      "working_remotely\n",
      "A woman is sitting at her desk, looking at her computer and making a phone call.\n",
      "\n",
      "#background; #other(have[tree,people]); #woman(sit,hold[phone],watch[computer])\n",
      "#other(have[blackboard]); #woman(sit,play_with[computer]); #accessory(have[sign,leaf])\n",
      "[#other(have[tree,people]), #woman(sit,hold[phone],watch[computer])]\n",
      "[#other(have[blackboard]), #woman(sit,play_with[computer]), #accessory(have[sign,leaf])]\n",
      "{'subj': 0.6666666666666666, 'act': 0.4166666666666667, 'obj': 0.16666666666666666, 'overall': 0.4666666666666666}\n",
      " -------------------------- \n",
      "wind_turbine\n",
      "A woman is walking in front of three windmills.\n",
      "\n",
      "#background; #other(have[windmill]); #woman(walk,watch)\n",
      "#home(have[house,sun,tree]); #woman(sit,hold[phone],watch[computer]); #accessory(have[dot])\n",
      "[#other(have[windmill]), #woman(walk,watch)]\n",
      "[#home(have[house,sun,tree]), #woman(sit,hold[phone],watch[computer]), #accessory(have[dot])]\n",
      "{'subj': 0.3333333333333333, 'act': 0.4166666666666667, 'obj': 0.0, 'overall': 0.25}\n",
      " -------------------------- \n",
      "popular\n",
      "A woman is standing in a text message.\n",
      "\n",
      "#chart(have[message,leaf]); #woman(stand)\n",
      "#other(have[sun,cloud]); #woman(sit,play_with[computer]); #accessory(have[leaf,rock])\n",
      "[#chart(have[message,leaf]), #woman(stand)]\n",
      "[#other(have[sun,cloud]), #woman(sit,play_with[computer]), #accessory(have[leaf,rock])]\n",
      "{'subj': 0.3333333333333333, 'act': 0.41183333333333333, 'obj': 0.1111111111111111, 'overall': 0.28236666666666665}\n",
      " -------------------------- \n",
      "product_tour\n",
      "A man and two women are standing looking at the display board.\n",
      "\n",
      "#background; #other(have[board,plant]); #woman(stand); #group(have[woman(stand,point),man(stand)])\n",
      "#chart(have[phone]); #group(have[woman(hug),man(lift)]); #accessory(have[dot])\n",
      "[#other(have[board,plant]), #woman(stand), #group(have[woman(stand,point),man(stand)])]\n",
      "[#chart(have[phone]), #group(have[woman(hug),man(lift)]), #accessory(have[dot])]\n",
      "{'subj': 0.25, 'act': 0.25, 'obj': 0.0, 'overall': 0.175}\n",
      " -------------------------- \n",
      "Folder\n",
      "A man stands next to the folder.\n",
      "\n",
      "#chart(have[folder,paper]); #man(stand)\n",
      "#home(have[house,sun,tree]); #man(sit_on[chair],watch[computer]); #accessory(have[plant])\n",
      "[#chart(have[folder,paper]), #man(stand)]\n",
      "[#home(have[house,sun,tree]), #man(sit_on[chair],watch[computer]), #accessory(have[plant])]\n",
      "{'subj': 0.3333333333333333, 'act': 0.38833333333333336, 'obj': 0.0, 'overall': 0.24433333333333337}\n",
      " -------------------------- \n",
      "track_and_field\n"
     ]
    },
    {
     "name": "stdout",
     "output_type": "stream",
     "text": [
      "A woman is running over hurdles.\n",
      "\n",
      "#background; #woman(exercise,run_over[hurdle])\n",
      "#home(have[house,sun,tree]); #woman(sit,hold[phone],watch[computer]); #accessory(have[guardrail])\n",
      "[#woman(exercise,run_over[hurdle])]\n",
      "[#home(have[house,sun,tree]), #woman(sit,hold[phone],watch[computer]), #accessory(have[guardrail])]\n",
      "{'subj': 0.3333333333333333, 'act': 0.0, 'obj': 0.0, 'overall': 0.16666666666666666}\n",
      " -------------------------- \n",
      "virtual_reality\n",
      "A man is lying watching a movie.\n",
      "\n",
      "#background; #man(lie_on[sofa],watch[movie])\n",
      "#background; #other(have[sun,cloud]); #man(sit,hold[phone]); #accessory(have[dot])\n",
      "[#man(lie_on[sofa],watch[movie])]\n",
      "[#other(have[sun,cloud]), #man(sit,hold[phone]), #accessory(have[dot])]\n",
      "{'subj': 0.3333333333333333, 'act': 0.0, 'obj': 0.0, 'overall': 0.16666666666666666}\n",
      " -------------------------- \n",
      "portfolio_update\n",
      "A woman is standing in front of the web page.\n",
      "\n",
      "#accessory(have[circle,square]); #website(have[webpage]); #woman(stand)\n",
      "#home(have[house,sun,tree]); #woman(sit,hold[pizza])\n",
      "[#accessory(have[circle,square]), #website(have[webpage]), #woman(stand)]\n",
      "[#home(have[house,sun,tree]), #woman(sit,hold[pizza])]\n",
      "{'subj': 0.3333333333333333, 'act': 0.41183333333333333, 'obj': 0.0, 'overall': 0.24903333333333336}\n",
      " -------------------------- \n",
      "product_teardown\n",
      "A man is standing up doing a puzzle.\n",
      "\n",
      "#background; #accessory(have[leaf,rock]); #man(stand,hold[puzzle])\n",
      "#home(have[house,sun,tree]); #man(stand,hold[phone]); #accessory\n",
      "[#accessory(have[leaf,rock]), #man(stand,hold[puzzle])]\n",
      "[#home(have[house,sun,tree]), #man(stand,hold[phone]), #accessory]\n",
      "{'subj': 0.6666666666666666, 'act': 0.3333333333333333, 'obj': 0.0, 'overall': 0.39999999999999997}\n",
      " -------------------------- \n",
      "For_sale\n",
      "A house with some tree.\n",
      "\n",
      "#home(have[house,sun,tree])\n",
      "#other(have[windmill]); #woman(sit,hold[phone]); #accessory(have[plant])\n",
      "[#home(have[house,sun,tree])]\n",
      "[#other(have[windmill]), #woman(sit,hold[phone]), #accessory(have[plant])]\n",
      "{'subj': 0.0, 'act': 0.3333333333333333, 'obj': 0.0, 'overall': 0.06666666666666667}\n",
      " -------------------------- \n",
      "usability_testing\n",
      "Two men are standing in front of the web page.\n",
      "\n",
      "#wild(have[rock,plant]); #website(have[webpage]); #man(stand); #man(stand,point_to)\n",
      "#chart(have[phone]); #group(have[man(drink[beer],sit,raise[arm]),man(sit,raise[arm],eat[chips])]); #accessory(have[dot])\n",
      "[#wild(have[rock,plant]), #website(have[webpage]), #man(stand), #man(stand,point_to)]\n",
      "[#chart(have[phone]), #group(have[man(drink[beer],sit,raise[arm]),man(sit,raise[arm],eat[chips])]), #accessory(have[dot])]\n",
      "{'subj': 0.0, 'act': 0.4, 'obj': 0.0, 'overall': 0.08}\n",
      " -------------------------- \n",
      "podcast_audience\n",
      "A woman is standing in front of her pad, while a man is looking at his mobile phone in his wheelchair.\n",
      "\n",
      "#other(have[pad,leaf]); #woman(stand); #man(sit_on[wheel_chair],hold[pohone])\n",
      "#chart(have[phone]); #man(lie_on[sofa],watch[movie]); #accessory(have[circle,square])\n",
      "[#other(have[pad,leaf]), #woman(stand), #man(sit_on[wheel_chair],hold[pohone])]\n",
      "[#chart(have[phone]), #man(lie_on[sofa],watch[movie]), #accessory(have[circle,square])]\n",
      "{'subj': 0.25, 'act': 0.27575, 'obj': 0.0, 'overall': 0.18014999999999998}\n",
      " -------------------------- \n",
      "wordpress\n",
      "A woman is walking beside the web page, looking down at her phone.\n",
      "\n",
      "#other(have[website,plant]); #woman(walk,watch,hold[phone])\n",
      "#chart(have[phone]); #woman(sit,hold[pizza]); #accessory(have[plant])\n",
      "[#other(have[website,plant]), #woman(walk,watch,hold[phone])]\n",
      "[#chart(have[phone]), #woman(sit,hold[pizza]), #accessory(have[plant])]\n",
      "{'subj': 0.3333333333333333, 'act': 0.4166666666666667, 'obj': 0.16666666666666666, 'overall': 0.3}\n",
      " -------------------------- \n",
      "women_day\n",
      "Four women are standing with the board.\n",
      "\n",
      "#other(have[star,sky]); #group(have[woman(stand,hold[card]),woman(stand),woman(stand,hold[card]),woman(stand,hold[card])])\n",
      "#home(have[house,sun,tree]); #woman(sit,hold[phone]); #accessory(have[leaf,plant])\n",
      "[#other(have[star,sky]), #group(have[woman(stand,hold[card]),woman(stand),woman(stand,hold[card]),woman(stand,hold[card])])]\n",
      "[#home(have[house,sun,tree]), #woman(sit,hold[phone]), #accessory(have[leaf,plant])]\n",
      "{'subj': 0.0, 'act': 0.25, 'obj': 0.0, 'overall': 0.05}\n",
      " -------------------------- \n",
      "post_online\n",
      "A man is standing in front of a mobile phone.\n",
      "\n",
      "#wild(have[tree]); #chart(have[phone]); #man(stand,put_up)\n",
      "#other(have[sun,cloud]); #man(sit,play[computer]); #accessory(have[guardrail])\n",
      "[#wild(have[tree]), #chart(have[phone]), #man(stand,put_up)]\n",
      "[#other(have[sun,cloud]), #man(sit,play[computer]), #accessory(have[guardrail])]\n",
      "{'subj': 0.3333333333333333, 'act': 0.719, 'obj': 0.0, 'overall': 0.31046666666666667}\n",
      " -------------------------- \n",
      "timeline\n",
      "A man is walking with some paper in his hand.\n",
      "\n",
      "#wild(have[plant]); #man(walk,hold[paper]); #chart(have[paper,arrow])\n",
      "#background; #home(have[house,sun,tree]); #man(stand,hold[phone]); #accessory(have[leaf])\n",
      "[#wild(have[plant]), #man(walk,hold[paper]), #chart(have[paper,arrow])]\n",
      "[#home(have[house,sun,tree]), #man(stand,hold[phone]), #accessory(have[leaf])]\n",
      "{'subj': 0.3333333333333333, 'act': 0.7777777777777777, 'obj': 0.0, 'overall': 0.3222222222222222}\n",
      " -------------------------- \n",
      "voice_interface\n",
      "A woman sits using a computer.\n",
      "\n",
      "#background; #park(have[plant]); #woman(sit,play[computer])\n",
      "#office(have[draw,plant,cloth,hanger]); #woman(hold[phone],take[selfie]); #accessory(have[tree])\n",
      "[#park(have[plant]), #woman(sit,play[computer])]\n",
      "[#office(have[draw,plant,cloth,hanger]), #woman(hold[phone],take[selfie]), #accessory(have[tree])]\n",
      "{'subj': 0.3333333333333333, 'act': 0.3333333333333333, 'obj': 0.08333333333333333, 'overall': 0.25833333333333336}\n",
      " -------------------------- \n",
      "throw_down\n",
      "A woman is sitting on the board with a ball.\n",
      "\n",
      "#background; #wild(have[leaf,hole]); #woman(sit_on[shelf],hold[ball])\n",
      "#other(have[board,plant]); #woman(sit,hold[phone],watch[computer]); #accessory(have[sign,leaf])\n",
      "[#wild(have[leaf,hole]), #woman(sit_on[shelf],hold[ball])]\n",
      "[#other(have[board,plant]), #woman(sit,hold[phone],watch[computer]), #accessory(have[sign,leaf])]\n",
      "{'subj': 0.3333333333333333, 'act': 0.5061111111111112, 'obj': 0.1111111111111111, 'overall': 0.3012222222222222}\n",
      " -------------------------- \n",
      "travel_booking\n",
      "A woman sits in front of a web page.\n",
      "\n",
      "#other(have[website,plant]); #woman(sit_on[bag])\n",
      "#home(have[house,sun,tree]); #woman(sit,hold[phone],watch[computer]); #accessory\n",
      "[#other(have[website,plant]), #woman(sit_on[bag])]\n",
      "[#home(have[house,sun,tree]), #woman(sit,hold[phone],watch[computer]), #accessory]\n",
      "{'subj': 0.3333333333333333, 'act': 0.395, 'obj': 0.0, 'overall': 0.2456666666666667}\n",
      " -------------------------- \n",
      "profile\n",
      "A man is walking beside the web page.\n",
      "\n",
      "#other(have[website,plant]); #man(stand,walk)\n",
      "#home(have[house,sun,tree]); #man(sit_on[wheel_chair],hold[pohone]); #accessory(have[sign,leaf])\n",
      "[#other(have[website,plant]), #man(stand,walk)]\n",
      "[#home(have[house,sun,tree]), #man(sit_on[wheel_chair],hold[pohone]), #accessory(have[sign,leaf])]\n",
      "{'subj': 0.3333333333333333, 'act': 0.37177777777777776, 'obj': 0.0, 'overall': 0.24102222222222225}\n",
      " -------------------------- \n",
      "together\n",
      "A man and a woman are standing hand in hand in the park.\n",
      "\n",
      "#park(have[cloud,tree,hill]); #group(have[woman(stand),man(stand)])\n",
      "#other(have[dot,cup]); #group(have[woman(stand),man(stand)]); #accessory(have[guardrail])\n",
      "[#park(have[cloud,tree,hill]), #group(have[woman(stand),man(stand)])]\n",
      "[#other(have[dot,cup]), #group(have[woman(stand),man(stand)]), #accessory(have[guardrail])]\n",
      "{'subj': 0.3333333333333333, 'act': 0.6666666666666666, 'obj': 0.0, 'overall': 0.3}\n",
      " -------------------------- \n",
      "play_time\n",
      "A man is holding a woman.\n",
      "\n",
      "#wild(have[leaf,cloud]); #group(have[woman(hug),man(lift)])\n",
      "#chart(have[phone]); #group(have[woman(talk),man(listen)]); #accessory(have[dot])\n",
      "[#wild(have[leaf,cloud]), #group(have[woman(hug),man(lift)])]\n",
      "[#chart(have[phone]), #group(have[woman(talk),man(listen)]), #accessory(have[dot])]\n",
      "{'subj': 0.3333333333333333, 'act': 0.3333333333333333, 'obj': 0.0, 'overall': 0.2333333333333333}\n"
     ]
    }
   ],
   "source": [
    "simis = []\n",
    "for name in [getBase(path) for path in glob.glob('text_train/*.txt')]:\n",
    "    print(' -------------------------- ')\n",
    "    print(name)\n",
    "    doc = Description('text_train/%s.txt' % name)\n",
    "    print(doc)\n",
    "    true_pic = Picture('images_train/%s.svg' % name)\n",
    "    gen_pic = pipeline.predict(doc.text_)\n",
    "    # gen_pic = random_gen(translate)\n",
    "    print(true_pic)\n",
    "    print(gen_pic)\n",
    "    simi = metric.picture_simi(true_pic, gen_pic, with_bg=False)\n",
    "    print(simi)\n",
    "    simis.append(simi)\n",
    "    \n",
    "train_simi_dict = avg_list_of_dict(simis)\n",
    "# print(sum(simis)/len(simis))"
   ]
  },
  {
   "cell_type": "code",
   "execution_count": 15,
   "metadata": {
    "scrolled": true
   },
   "outputs": [
    {
     "name": "stdout",
     "output_type": "stream",
     "text": [
      "& 0.26 & 0.24 & 0.35 & 0.31 & 0.36 & 0.35 & 0.06 & 0.03 & \n"
     ]
    }
   ],
   "source": [
    "print('& %.2f & %.2f & %.2f & %.2f & %.2f & %.2f & %.2f & %.2f & ' % (train_simi_dict['overall'], test_simi_dict['overall'],\n",
    " train_simi_dict['subj'], test_simi_dict['subj'],\n",
    " train_simi_dict['act'], test_simi_dict['act'],\n",
    " train_simi_dict['obj'], test_simi_dict['obj'],))"
   ]
  },
  {
   "cell_type": "code",
   "execution_count": 24,
   "metadata": {},
   "outputs": [
    {
     "data": {
      "text/plain": [
       "{background(subj): {}}"
      ]
     },
     "execution_count": 24,
     "metadata": {},
     "output_type": "execute_result"
    }
   ],
   "source": [
    "sorted(list(pipeline.dataset.encoder.layerbase.layer_vocab_))[11].nested_entities_"
   ]
  },
  {
   "cell_type": "code",
   "execution_count": 6,
   "metadata": {
    "scrolled": true
   },
   "outputs": [
    {
     "data": {
      "text/plain": [
       "[(A woman is sitting on a chair in the office.,\n",
       "  #background; #office(have[draw,plant,cloth,hanger]); #woman(sit_on[chair])),\n",
       " (A man was sitting on a bench holding a woman with three balloons.,\n",
       "  #background; #office(have[draw,plant,cloth,hanger]); #woman(sit_on[chair])),\n",
       " (A woman is sitting on a chair in the office.,\n",
       "  #background; #man(sit_on[chair],watch[computer])),\n",
       " (A man and two women are standing looking at the display board.,\n",
       "  #background; #other(have[board,plant]); #woman(stand); #group(have[woman(stand,point),man(stand)])),\n",
       " (A woman is walking.,\n",
       "  #background; #other(have[board,plant]); #woman(stand); #group(have[woman(stand,point),man(stand)])),\n",
       " (A man and two women are standing looking at the display board.,\n",
       "  #chart(have[computer]); #chart(have[pad]); #chart(have[phone]); #wild(have[tree]); #woman(stand,hold[computer])),\n",
       " (A man and a woman are jumping in front of the cup.,\n",
       "  #background; #other(have[trophy]); #woman(dance,cheers,hold_up[hands]); #man(jump)),\n",
       " (A man is standing in front of a mobile phone.,\n",
       "  #background; #other(have[trophy]); #woman(dance,cheers,hold_up[hands]); #man(jump)),\n",
       " (A man and a woman are jumping in front of the cup.,\n",
       "  #background; #wild(have[tree,plant]); #woman(sit,take[pictures])),\n",
       " (Two man sat on the sofa celebrating a game.,\n",
       "  #background; #accessory; #home(have[sofa,toy,chips]); #group(have[man(drink[beer],sit,raise[arm]),man(sit,raise[arm],eat[chips])])),\n",
       " (A woman watches the drone.,\n",
       "  #background; #accessory; #home(have[sofa,toy,chips]); #group(have[man(drink[beer],sit,raise[arm]),man(sit,raise[arm],eat[chips])])),\n",
       " (Two man sat on the sofa celebrating a game.,\n",
       "  #background; #accessory(have[sign,leaf]); #woman(stand,hold[sign])),\n",
       " (Three women and a man lined up at the fence.,\n",
       "  #woman(stand); #man(stand,hold[phone]); #man(stand); #woman(walk); #accessory(have[guardrail])),\n",
       " (A man is standing up doing a puzzle.,\n",
       "  #woman(stand); #man(stand,hold[phone]); #man(stand); #woman(walk); #accessory(have[guardrail])),\n",
       " (Three women and a man lined up at the fence.,\n",
       "  #background; #woman(sit_on[chair],watch[computer])),\n",
       " (A woman is standing with a flag beside some stones and a sign.,\n",
       "  #background; #wild(have[rock,sign]); #woman(stand,hold[flag])),\n",
       " (A woman is sitting by the window playing computer.,\n",
       "  #background; #wild(have[rock,sign]); #woman(stand,hold[flag])),\n",
       " (A woman is standing with a flag beside some stones and a sign.,\n",
       "  #woman(stand); #man(stand,hold[phone]); #man(stand); #woman(walk); #accessory(have[guardrail])),\n",
       " (A man is squatting down playing with a car.,\n",
       "  #other(have[tree,brick]); #man(squat,play_with[toy])),\n",
       " (A woman is sitting at her desk, looking at her computer and making a phone call.,\n",
       "  #other(have[tree,brick]); #man(squat,play_with[toy])),\n",
       " (A man is squatting down playing with a car., #alien(have[snowman])),\n",
       " (A man is standing and a woman is sitting with a computer to transfer money.,\n",
       "  #background; #woman(sit,play[computer]); #man(stand,hold[phone]); #chart(have[money,arrow])),\n",
       " (A man is standing against the camera.,\n",
       "  #background; #woman(sit,play[computer]); #man(stand,hold[phone]); #chart(have[money,arrow])),\n",
       " (A man is standing and a woman is sitting with a computer to transfer money.,\n",
       "  #background; #man(hold[cube],walk); #other(have[triangle,circle,square,tree])),\n",
       " (A man is holding a woman.,\n",
       "  #wild(have[leaf,cloud]); #group(have[woman(hug),man(lift)])),\n",
       " (Two men and a woman are standing by the message.,\n",
       "  #wild(have[leaf,cloud]); #group(have[woman(hug),man(lift)])),\n",
       " (A man is holding a woman., #other(have[website,plant]); #woman(sit_on[bag])),\n",
       " (A man is standing clutching at a street lamp.,\n",
       "  #background; #wild(have[leaf]); #man(stand,pull[street_lamp])),\n",
       " (A woman runs next to her phone.,\n",
       "  #background; #wild(have[leaf]); #man(stand,pull[street_lamp])),\n",
       " (A man is standing clutching at a street lamp.,\n",
       "  #background; #office(have[draw,plant,cloth,hanger]); #woman(sit_on[chair])),\n",
       " (A woman sit in the room and uses her computer.,\n",
       "  #background; #home(have[bookcase,apple,wall_clock]); #woman(play[computer],work,sit)),\n",
       " (A woman is sitting in a hot air balloon.,\n",
       "  #background; #home(have[bookcase,apple,wall_clock]); #woman(play[computer],work,sit)),\n",
       " (A woman sit in the room and uses her computer.,\n",
       "  #background; #other(have[tree,people]); #woman(sit,hold[phone],watch[computer])),\n",
       " (A woman is sitting on the board with a ball.,\n",
       "  #background; #wild(have[leaf,hole]); #woman(sit_on[shelf],hold[ball])),\n",
       " (A man is sitting on a printer looking at his phone. A man and a woman are bending over to file.,\n",
       "  #background; #wild(have[leaf,hole]); #woman(sit_on[shelf],hold[ball])),\n",
       " (A woman is sitting on the board with a ball.,\n",
       "  #other(have[window,clothes]); #woman(stand,watch)),\n",
       " (A woman is standing by a tree with a mobile phone.,\n",
       "  #background; #other(have[tree,message]); #woman(stand,hold[phone])),\n",
       " (A man is sitting on a printer looking at his phone. A man and a woman are bending over to file.,\n",
       "  #background; #other(have[tree,message]); #woman(stand,hold[phone])),\n",
       " (A woman is standing by a tree with a mobile phone.,\n",
       "  #background; #accessory(have[plant]); #woman(lean,play_with[toy])),\n",
       " (A woman is writing a web page with a pen.,\n",
       "  #background; #website(have[webpage,avatar]); #accessory(have[bonsai]); #woman(stand,hold[pencil])),\n",
       " (A man played the computer. A man stepped on the stone and exercised. They had a robot.,\n",
       "  #background; #website(have[webpage,avatar]); #accessory(have[bonsai]); #woman(stand,hold[pencil])),\n",
       " (A woman is writing a web page with a pen.,\n",
       "  #background; #man(sit_on[chair],watch[computer])),\n",
       " (A woman is running over hurdles.,\n",
       "  #background; #woman(exercise,run_over[hurdle])),\n",
       " (A man is standing to give the weather report.,\n",
       "  #background; #woman(exercise,run_over[hurdle])),\n",
       " (A woman is running over hurdles.,\n",
       "  #woman(stand); #man(stand,hold[phone]); #man(stand); #woman(walk); #accessory(have[guardrail])),\n",
       " (A woman is standing in front of three documents.,\n",
       "  #background; #chart(have[diagram,arrow]); #woman(stand,watch)),\n",
       " (A man is standing in front of trees and signs.,\n",
       "  #background; #chart(have[diagram,arrow]); #woman(stand,watch)),\n",
       " (A woman is standing in front of three documents.,\n",
       "  #background; #accessory(have[plant]); #other(have[bulletin]); #man(stand,point_to)),\n",
       " (A woman is sitting in front of a computer.,\n",
       "  #background; #woman(sit_on[chair],watch[computer])),\n",
       " (A woman walk past a fish tank.,\n",
       "  #background; #woman(sit_on[chair],watch[computer])),\n",
       " (A woman is sitting in front of a computer.,\n",
       "  #background; #wild(have[plant,beach,sun]); #group(have[man(sit,hold),woman(lie,talk)])),\n",
       " (A woman was looking at clothes in front of a glass case.,\n",
       "  #other(have[window,clothes]); #woman(stand,watch)),\n",
       " (A man is walking with some paper in his hand.,\n",
       "  #other(have[window,clothes]); #woman(stand,watch)),\n",
       " (A woman was looking at clothes in front of a glass case.,\n",
       "  #background; #woman(stand,talk); #woman(point_to,show,stand); #wild(have[firework,plant]))]"
      ]
     },
     "execution_count": 6,
     "metadata": {},
     "output_type": "execute_result"
    }
   ],
   "source": [
    "pipeline.test_pairs"
   ]
  },
  {
   "cell_type": "code",
   "execution_count": 7,
   "metadata": {},
   "outputs": [],
   "source": []
  },
  {
   "cell_type": "code",
   "execution_count": 16,
   "metadata": {
    "scrolled": false
   },
   "outputs": [
    {
     "name": "stdout",
     "output_type": "stream",
     "text": [
      "------- train ---------\n",
      "72 positives out of 216 test examples\n",
      "Overall accuracy: 0.773148\n",
      "*Recall(thresh=0.5)/AccuracyOf1: 0.972222\n",
      "Precision(thresh=0.5): 0.598291\n",
      "AccuracyOf0(thresh=0.5): 0.773148\n",
      "------- test ---------\n",
      "18 positives out of 54 test examples\n",
      "Overall accuracy: 0.796296\n",
      "*Recall(thresh=0.5)/AccuracyOf1: 0.888889\n",
      "Precision(thresh=0.5): 0.640000\n",
      "AccuracyOf0(thresh=0.5): 0.796296\n",
      "precision | recall | F1 | threshold\n",
      "------------------------------\n",
      "0.581 | 1.000 | 0.735 | 0.410\n",
      "0.567 | 0.944 | 0.708 | 0.422\n",
      "0.586 | 0.944 | 0.723 | 0.430\n",
      "0.607 | 0.944 | 0.739 | 0.442\n",
      "0.630 | 0.944 | 0.756 | 0.442\n",
      "0.654 | 0.944 | 0.773 | 0.459\n",
      "0.640 | 0.889 | 0.744 | 0.518\n",
      "0.625 | 0.833 | 0.714 | 0.568\n",
      "0.652 | 0.833 | 0.732 | 0.580\n",
      "0.682 | 0.833 | 0.750 | 0.628\n",
      "0.714 | 0.833 | 0.769 | 0.662\n",
      "0.700 | 0.778 | 0.737 | 0.667\n",
      "0.684 | 0.722 | 0.703 | 0.678\n",
      "0.722 | 0.722 | 0.722 | 0.681\n",
      "0.706 | 0.667 | 0.686 | 0.688\n",
      "0.688 | 0.611 | 0.647 | 0.701\n",
      "0.667 | 0.556 | 0.606 | 0.744\n",
      "0.714 | 0.556 | 0.625 | 0.767\n",
      "0.769 | 0.556 | 0.645 | 0.770\n",
      "0.833 | 0.556 | 0.667 | 0.816\n",
      "0.818 | 0.500 | 0.621 | 0.818\n",
      "0.900 | 0.500 | 0.643 | 0.825\n",
      "0.889 | 0.444 | 0.593 | 0.832\n",
      "0.875 | 0.389 | 0.538 | 0.839\n",
      "1.000 | 0.389 | 0.560 | 0.843\n",
      "1.000 | 0.333 | 0.500 | 0.850\n",
      "1.000 | 0.278 | 0.435 | 0.850\n",
      "1.000 | 0.222 | 0.364 | 0.857\n",
      "1.000 | 0.167 | 0.286 | 0.883\n",
      "1.000 | 0.111 | 0.200 | 0.910\n",
      "1.000 | 0.056 | 0.105 | 0.912\n",
      "------------------------------\n"
     ]
    },
    {
     "data": {
      "image/png": "[encoded data removed]",
      "text/plain": [
       "<Figure size 432x288 with 1 Axes>"
      ]
     },
     "metadata": {
      "needs_background": "light"
     },
     "output_type": "display_data"
    },
    {
     "data": {
      "image/png": "[encoded data removed]",
      "text/plain": [
       "<Figure size 432x288 with 1 Axes>"
      ]
     },
     "metadata": {
      "needs_background": "light"
     },
     "output_type": "display_data"
    },
    {
     "data": {
      "image/png": "[encoded data removed]",
      "text/plain": [
       "<Figure size 720x288 with 2 Axes>"
      ]
     },
     "metadata": {
      "needs_background": "light"
     },
     "output_type": "display_data"
    },
    {
     "data": {
      "image/png": "[encoded data removed]",
      "text/plain": [
       "<Figure size 288x504 with 1 Axes>"
      ]
     },
     "metadata": {
      "needs_background": "light"
     },
     "output_type": "display_data"
    }
   ],
   "source": [
    "clf = train_classifier(pipeline.train_set, class_weight={1: 1, 0: 0.3}, C=1)\n",
    "evaluate(clf, pipeline)"
   ]
  },
  {
   "cell_type": "code",
   "execution_count": 17,
   "metadata": {},
   "outputs": [],
   "source": []
  },
  {
   "cell_type": "code",
   "execution_count": null,
   "metadata": {},
   "outputs": [],
   "source": [
    "class Predictor:\n",
    "    def __init__(self):\n",
    "        pass\n",
    "    \n",
    "    def __call__(self):\n",
    "        "
   ]
  },
  {
   "cell_type": "code",
   "execution_count": null,
   "metadata": {},
   "outputs": [],
   "source": []
  },
  {
   "cell_type": "code",
   "execution_count": 401,
   "metadata": {},
   "outputs": [
    {
     "name": "stdout",
     "output_type": "stream",
     "text": [
      "82\n"
     ]
    },
    {
     "data": {
      "text/plain": [
       "'\\nlayer keywords\\nthen fetch these contain the tokens in the transformed(to keyword) description\\n\\nhow?\\nfor each keyword, fetch a layer?\\n'"
      ]
     },
     "execution_count": 401,
     "metadata": {},
     "output_type": "execute_result"
    }
   ],
   "source": [
    "from collections import Counter\n",
    "print(len(layerbase.layer_vocab_))\n",
    "c = Counter(layerbase.layer_vocab_)\n",
    "for layer, count in c.most_common():\n",
    "    if count <= 1: break\n",
    "    print(ravel(layer.entities_), count)\n",
    "\"\"\"\n",
    "layer keywords\n",
    "then fetch these contain the tokens in the transformed(to keyword) description\n",
    "\n",
    "how?\n",
    "for each keyword, fetch a layer?\n",
    "\"\"\""
   ]
  },
  {
   "cell_type": "markdown",
   "metadata": {},
   "source": [
    "### generator"
   ]
  },
  {
   "cell_type": "code",
   "execution_count": 8,
   "metadata": {},
   "outputs": [
    {
     "name": "stdout",
     "output_type": "stream",
     "text": [
      "0 A DT True\n",
      "1 joyful JJ False\n",
      "2 man NN False\n",
      "3 plays VBZ False\n",
      "4 computer NN False\n",
      "5 frequently RB False\n",
      "6 and CC True\n",
      "7 sits VBZ False\n",
      "8 on IN True\n",
      "9 the DT True\n",
      "10 ground NN False\n"
     ]
    }
   ],
   "source": [
    "import spacy\n",
    "# from spacy.pipeline import Tagger\n",
    "nlp = spacy.load(\"en_core_web_sm\")\n",
    "# tagger = Tagger(nlp.vocab)\n",
    "# tagger = nlp.create_pipe(\"tagger\")\n",
    "# tagger(\n",
    "doc = nlp(u'A joyful man plays computer frequently and sits on the ground')\n",
    "for token in doc:\n",
    "    print(token.i, token.text, token.tag_, token.is_stop)\n"
   ]
  },
  {
   "cell_type": "code",
   "execution_count": 10,
   "metadata": {},
   "outputs": [
    {
     "data": {
      "text/plain": [
       "False"
      ]
     },
     "execution_count": 10,
     "metadata": {},
     "output_type": "execute_result"
    }
   ],
   "source": [
    "token.is_space"
   ]
  },
  {
   "cell_type": "code",
   "execution_count": 72,
   "metadata": {},
   "outputs": [
    {
     "ename": "AttributeError",
     "evalue": "'spacy.tokens.doc.Doc' object has no attribute 'lower'",
     "output_type": "error",
     "traceback": [
      "\u001b[0;31m---------------------------------------------------------------------------\u001b[0m",
      "\u001b[0;31mAttributeError\u001b[0m                            Traceback (most recent call last)",
      "\u001b[0;32m<ipython-input-72-0ab29e4b441f>\u001b[0m in \u001b[0;36m<module>\u001b[0;34m\u001b[0m\n\u001b[1;32m      3\u001b[0m \u001b[0mlemmatizer\u001b[0m \u001b[0;34m=\u001b[0m \u001b[0mLemmatizer\u001b[0m\u001b[0;34m(\u001b[0m\u001b[0mLEMMA_INDEX\u001b[0m\u001b[0;34m,\u001b[0m \u001b[0mLEMMA_EXC\u001b[0m\u001b[0;34m,\u001b[0m \u001b[0mLEMMA_RULES\u001b[0m\u001b[0;34m)\u001b[0m\u001b[0;34m\u001b[0m\u001b[0;34m\u001b[0m\u001b[0m\n\u001b[1;32m      4\u001b[0m \u001b[0mtoken\u001b[0m \u001b[0;34m=\u001b[0m \u001b[0mnlp\u001b[0m\u001b[0;34m(\u001b[0m\u001b[0;34m'ducks'\u001b[0m\u001b[0;34m)\u001b[0m\u001b[0;34m\u001b[0m\u001b[0;34m\u001b[0m\u001b[0m\n\u001b[0;32m----> 5\u001b[0;31m \u001b[0mlemmas\u001b[0m \u001b[0;34m=\u001b[0m \u001b[0mlemmatizer\u001b[0m\u001b[0;34m(\u001b[0m\u001b[0mtoken\u001b[0m\u001b[0;34m,\u001b[0m \u001b[0;34mu\"adjective\"\u001b[0m\u001b[0;34m)\u001b[0m\u001b[0;34m\u001b[0m\u001b[0;34m\u001b[0m\u001b[0m\n\u001b[0m\u001b[1;32m      6\u001b[0m \u001b[0;31m# assert lemmas == [u\"duck\"]\u001b[0m\u001b[0;34m\u001b[0m\u001b[0;34m\u001b[0m\u001b[0;34m\u001b[0m\u001b[0m\n\u001b[1;32m      7\u001b[0m \u001b[0mtype\u001b[0m\u001b[0;34m(\u001b[0m\u001b[0mtoken\u001b[0m\u001b[0;34m)\u001b[0m\u001b[0;34m\u001b[0m\u001b[0;34m\u001b[0m\u001b[0m\n",
      "\u001b[0;32m~/miniconda2/envs/text2scene/lib/python3.7/site-packages/spacy/lemmatizer.py\u001b[0m in \u001b[0;36m__call__\u001b[0;34m(self, string, univ_pos, morphology)\u001b[0m\n\u001b[1;32m     39\u001b[0m             \u001b[0;32mreturn\u001b[0m \u001b[0;34m[\u001b[0m\u001b[0mstring\u001b[0m\u001b[0;34m]\u001b[0m\u001b[0;34m\u001b[0m\u001b[0;34m\u001b[0m\u001b[0m\n\u001b[1;32m     40\u001b[0m         \u001b[0;32melse\u001b[0m\u001b[0;34m:\u001b[0m\u001b[0;34m\u001b[0m\u001b[0;34m\u001b[0m\u001b[0m\n\u001b[0;32m---> 41\u001b[0;31m             \u001b[0;32mreturn\u001b[0m \u001b[0;34m[\u001b[0m\u001b[0mstring\u001b[0m\u001b[0;34m.\u001b[0m\u001b[0mlower\u001b[0m\u001b[0;34m(\u001b[0m\u001b[0;34m)\u001b[0m\u001b[0;34m]\u001b[0m\u001b[0;34m\u001b[0m\u001b[0;34m\u001b[0m\u001b[0m\n\u001b[0m\u001b[1;32m     42\u001b[0m         \u001b[0;31m# See Issue #435 for example of where this logic is requied.\u001b[0m\u001b[0;34m\u001b[0m\u001b[0;34m\u001b[0m\u001b[0;34m\u001b[0m\u001b[0m\n\u001b[1;32m     43\u001b[0m         \u001b[0;32mif\u001b[0m \u001b[0mself\u001b[0m\u001b[0;34m.\u001b[0m\u001b[0mis_base_form\u001b[0m\u001b[0;34m(\u001b[0m\u001b[0muniv_pos\u001b[0m\u001b[0;34m,\u001b[0m \u001b[0mmorphology\u001b[0m\u001b[0;34m)\u001b[0m\u001b[0;34m:\u001b[0m\u001b[0;34m\u001b[0m\u001b[0;34m\u001b[0m\u001b[0m\n",
      "\u001b[0;31mAttributeError\u001b[0m: 'spacy.tokens.doc.Doc' object has no attribute 'lower'"
     ]
    }
   ],
   "source": [
    "from spacy.lemmatizer import Lemmatizer\n",
    "from spacy.lang.en import LEMMA_INDEX, LEMMA_EXC, LEMMA_RULES\n",
    "lemmatizer = Lemmatizer(LEMMA_INDEX, LEMMA_EXC, LEMMA_RULES)\n",
    "token = nlp('ducks')\n",
    "lemmas = lemmatizer(u\"ducks\", u\"adjective\")\n",
    "# assert lemmas == [u\"duck\"]\n",
    "type(token)"
   ]
  },
  {
   "cell_type": "code",
   "execution_count": 134,
   "metadata": {},
   "outputs": [
    {
     "name": "stdout",
     "output_type": "stream",
     "text": [
      "det(man-2, A:DT-1)\n",
      "nsubj(plays-3, man:NN-2)\n",
      "ROOT(plays-3, plays:VBZ-3)\n",
      "dobj(plays-3, computer:NN-4)\n",
      "cc(plays-3, and:CC-5)\n",
      "conj(plays-3, hits:VBZ-6)\n",
      "det(ground-8, the:DT-7)\n",
      "dobj(hits-6, ground:NN-8)\n",
      "punct(plays-3, .:.-9)\n",
      "det(woman-11, A:DT-10)\n",
      "nsubj(waving-13, woman:NN-11)\n",
      "aux(waving-13, is:VBZ-12)\n",
      "ROOT(waving-13, waving:VBG-13)\n",
      "punct(waving-13, .:.-14)\n"
     ]
    }
   ],
   "source": [
    "import spacy\n",
    "nlp = spacy.load(\"en_core_web_sm\")\n",
    "doc = nlp(u'A man plays computer and hits the ground. A woman is waving.')\n",
    "for token in doc:\n",
    "    print(\"{2}({3}-{6}, {0}:{1}-{5})\".format(token.text, token.tag_, token.dep_, token.head.text, token.head.tag_, token.i+1, token.head.i+1))"
   ]
  },
  {
   "cell_type": "code",
   "execution_count": 409,
   "metadata": {
    "scrolled": true
   },
   "outputs": [
    {
     "name": "stdout",
     "output_type": "stream",
     "text": [
      "det(man-2, A:DT-1)\n",
      "nsubj(lying-4, man:NN-2)\n",
      "aux(lying-4, is:VBZ-3)\n",
      "ROOT(lying-4, lying:VBG-4)\n",
      "prep(lying-4, on:IN-5)\n",
      "det(sofa-7, the:DT-6)\n",
      "pobj(on-5, sofa:NN-7)\n",
      "advcl(lying-4, watching:VBG-8)\n",
      "det(movie-10, the:DT-9)\n",
      "dobj(watching-8, movie:NN-10)\n"
     ]
    }
   ],
   "source": [
    "# doc = nlp(u'A man and a man play computer on the ground. A woman is waving.')\n",
    "# doc = nlp(u'There is a tree and some plants in the park')\n",
    "doc = nlp(u'A man is lying on the sofa watching the movie') # xcomp\n",
    "for token in doc:\n",
    "    print(\"{2}({3}-{6}, {0}:{1}-{5})\".format(token.text, token.tag_, token.dep_, token.head.text, token.head.tag_, token.i+1, token.head.i+1))"
   ]
  },
  {
   "cell_type": "code",
   "execution_count": 275,
   "metadata": {},
   "outputs": [
    {
     "data": {
      "text/plain": [
       "[a, and, plants, in]"
      ]
     },
     "execution_count": 275,
     "metadata": {},
     "output_type": "execute_result"
    }
   ],
   "source": [
    "list(list(list(doc.sents)[0].root.children)[1].children)"
   ]
  },
  {
   "cell_type": "code",
   "execution_count": 285,
   "metadata": {},
   "outputs": [
    {
     "name": "stdout",
     "output_type": "stream",
     "text": [
      "1\n"
     ]
    }
   ],
   "source": [
    "if list(doc.sents)[0].root.children:\n",
    "    print(1)"
   ]
  },
  {
   "cell_type": "code",
   "execution_count": 152,
   "metadata": {},
   "outputs": [
    {
     "data": {
      "text/plain": [
       "[ground]"
      ]
     },
     "execution_count": 152,
     "metadata": {},
     "output_type": "execute_result"
    }
   ],
   "source": [
    "list(list(doc[9].children)[0].children)"
   ]
  },
  {
   "cell_type": "code",
   "execution_count": 142,
   "metadata": {},
   "outputs": [
    {
     "data": {
      "text/plain": [
       "[[man, are, computer, and, sits, .], [woman, is, .]]"
      ]
     },
     "execution_count": 142,
     "metadata": {},
     "output_type": "execute_result"
    }
   ],
   "source": [
    "[list(sent.root.children) for sent in doc.sents]"
   ]
  },
  {
   "cell_type": "code",
   "execution_count": 154,
   "metadata": {},
   "outputs": [
    {
     "name": "stdout",
     "output_type": "stream",
     "text": [
      "[A man and a man are playing computer and sitting on the ground., A woman is waving.]\n",
      "['playing', 'waving']\n",
      "[['man', 'man', 'play', 'computer', 'sit', 'ground'], ['woman', 'wave']]\n"
     ]
    }
   ],
   "source": [
    "## entities detection\n",
    "list(doc.ents)\n",
    "## sentences\n",
    "print(list(doc.sents))\n",
    "print([s.root.text for s in doc.sents])\n",
    "\n",
    "\n",
    "## sentencizer # this would be sufficient for current ravel similarity\n",
    "doc = nlp(u'A man and a man are playing computer and sitting on the ground. A woman is waving.')\n",
    "keywords = []\n",
    "for s in doc.sents:\n",
    "    keywords.append([t.lemma_ for t in s if t.pos_ in ['VERB', 'NOUN'] and not t.is_stop])\n",
    "print(keywords)"
   ]
  },
  {
   "cell_type": "code",
   "execution_count": 160,
   "metadata": {},
   "outputs": [
    {
     "data": {
      "text/plain": [
       "<re.Match object; span=(0, 4), match='dobj'>"
      ]
     },
     "execution_count": 160,
     "metadata": {},
     "output_type": "execute_result"
    }
   ],
   "source": [
    "re.match(r'\\w+obj','dobj')"
   ]
  },
  {
   "cell_type": "code",
   "execution_count": 297,
   "metadata": {},
   "outputs": [],
   "source": [
    "def recur_search_children(root, dep_r=r'\\w*obj',\n",
    "                                pos_r=r'.*',\n",
    "                                skip_conj=True):\n",
    "    objs = []\n",
    "    for t in root.children:\n",
    "        if skip_conj:\n",
    "            if t.dep_ == 'conj':\n",
    "                continue\n",
    "        if re.match(dep_r, t.dep_) and re.match(pos_r, t.pos_):\n",
    "            objs.append(t)\n",
    "        if t.children:\n",
    "            objs.extend(recur_search_children(t, dep_r=dep_r,\n",
    "                                                 pos_r=pos_r,\n",
    "                                                 skip_conj=skip_conj))\n",
    "    return objs\n",
    "\n",
    "def rect_lemma(t):\n",
    "    if t.is_stop:\n",
    "        return 'have'\n",
    "    return t.lemma_\n",
    "\n",
    "def incre_name(s, dic):\n",
    "    count = 0\n",
    "    for k in dic:\n",
    "        sub = re.sub(r'\\w+(\\d+)','', k)\n",
    "        if re.match(r'%s\\d*' % sub, s):\n",
    "            count += 1\n",
    "    if count > 0:\n",
    "        return '%s%i' % (s, count)\n",
    "    return s\n",
    "    \n",
    "def parse(doc):\n",
    "    list_nested = []\n",
    "    for s in doc.sents:\n",
    "        nested_ = defaultdict(lambda: defaultdict(set))\n",
    "        # root verb\n",
    "        subjs = recur_search_children(s.root, dep_r=r'\\w*subj')\n",
    "        if not subjs:\n",
    "            subj_lemma = ''\n",
    "        elif len(subjs) == 1:\n",
    "            subj_lemma = subjs[0].lemma_\n",
    "        else:\n",
    "            raise ValueError\n",
    "        nested_[subj_lemma][rect_lemma(s.root)] = set()\n",
    "        \n",
    "        objs = recur_search_children(s.root,\n",
    "                                     dep_r=r'\\w*(?=obj|attr)',\n",
    "                                     skip_conj=False)\n",
    "        for obj in objs:\n",
    "            nested_[subj_lemma][rect_lemma(s.root)].add(obj.lemma_)\n",
    "        \n",
    "        # conj verbs\n",
    "        conj_acts = recur_search_children(s.root,\n",
    "                                          dep_r=r'\\w*conj',\n",
    "                                          pos_r=r'VERB',\n",
    "                                          skip_conj=False)\n",
    "        for act in conj_acts:\n",
    "            \n",
    "            nested_[subj_lemma][rect_lemma(act)] = set()\n",
    "            objs = recur_search_children(act,\n",
    "                                         dep_r=r'\\w*(?=obj|attr)',\n",
    "                                         skip_conj=False)            \n",
    "            for obj in objs:\n",
    "                nested_[subj_lemma][rect_lemma(act)].add(obj.lemma_) \n",
    "\n",
    "        # conj subjs\n",
    "        if subjs:\n",
    "            conj_subjs = recur_search_children(subjs[0],\n",
    "                                               dep_r=r'\\w*conj',\n",
    "                                               pos_r=r'NOUN',\n",
    "                                               skip_conj=False)\n",
    "\n",
    "            for conj_subj in conj_subjs:\n",
    "                conj_subj_lemma = incre_name(conj_subj.lemma_,\n",
    "                                             nested_)\n",
    "                nested_[conj_subj_lemma] = nested_[subj_lemma]\n",
    "        \n",
    "        list_nested.append(nested_)\n",
    "#     for subj in doc:\n",
    "#         if subj.dep_ == 'nsubj':\n",
    "#             assert(subj.head.pos_ == 'VERB')\n",
    "#             act = subj.head\n",
    "#             nested_entities[subj.lemma_][act.lemma_] = set()\n",
    "#             for token in doc:\n",
    "#                 if token.head == act and token.dep_ == 'dobj':\n",
    "#                     nested_entities[subj.lemma_][act.lemma_].add(token.lemma_)\n",
    "#                 if token.head == act and token.dep_ =='conj':\n",
    "#                     nested_entities[subj.lemma_][token.lemma_] = set()\n",
    "#                     for t in doc:\n",
    "#                         if t.head == token and t.dep_ == 'dobj':\n",
    "#                             nested_entities[subj.lemma_][token.lemma_].add(t.lemma_)\n",
    "#                 if token.head == act and token.dep_ == 'prep':\n",
    "#                     for t in doc:\n",
    "#                         if t.head == token and t.dep_ == 'pobj':\n",
    "#                             nested_entities[subj.lemma_]['have'].add(t.lemma_)\n",
    "# #             for token in doc:\n",
    "# #                 if token.\n",
    "    return list_nested"
   ]
  },
  {
   "cell_type": "code",
   "execution_count": 411,
   "metadata": {},
   "outputs": [],
   "source": [
    "# if conj subj: copy at the last"
   ]
  },
  {
   "cell_type": "code",
   "execution_count": 412,
   "metadata": {},
   "outputs": [],
   "source": []
  },
  {
   "cell_type": "code",
   "execution_count": null,
   "metadata": {},
   "outputs": [],
   "source": []
  },
  {
   "cell_type": "code",
   "execution_count": null,
   "metadata": {},
   "outputs": [],
   "source": []
  },
  {
   "cell_type": "code",
   "execution_count": null,
   "metadata": {},
   "outputs": [],
   "source": []
  },
  {
   "cell_type": "code",
   "execution_count": 401,
   "metadata": {},
   "outputs": [
    {
     "ename": "AttributeError",
     "evalue": "'dict' object has no attribute 'deepcopy'",
     "output_type": "error",
     "traceback": [
      "\u001b[0;31m---------------------------------------------------------------------------\u001b[0m",
      "\u001b[0;31mAttributeError\u001b[0m                            Traceback (most recent call last)",
      "\u001b[0;32m<ipython-input-401-b3939b495546>\u001b[0m in \u001b[0;36m<module>\u001b[0;34m\u001b[0m\n\u001b[1;32m      1\u001b[0m \u001b[0ma\u001b[0m \u001b[0;34m=\u001b[0m \u001b[0;34m{\u001b[0m\u001b[0;34m'a'\u001b[0m\u001b[0;34m:\u001b[0m\u001b[0;36m1\u001b[0m\u001b[0;34m}\u001b[0m\u001b[0;34m\u001b[0m\u001b[0;34m\u001b[0m\u001b[0m\n\u001b[0;32m----> 2\u001b[0;31m \u001b[0ma\u001b[0m\u001b[0;34m.\u001b[0m\u001b[0mdeepcopy\u001b[0m\u001b[0;34m(\u001b[0m\u001b[0;34m)\u001b[0m\u001b[0;34m\u001b[0m\u001b[0;34m\u001b[0m\u001b[0m\n\u001b[0m",
      "\u001b[0;31mAttributeError\u001b[0m: 'dict' object has no attribute 'deepcopy'"
     ]
    }
   ],
   "source": [
    "a = {'a':1}\n",
    "a.deepcopy()"
   ]
  },
  {
   "cell_type": "code",
   "execution_count": 375,
   "metadata": {},
   "outputs": [
    {
     "data": {
      "text/plain": [
       "[A,\n",
       " and,\n",
       " a,\n",
       " are,\n",
       " playing,\n",
       " computer,\n",
       " on,\n",
       " the,\n",
       " ground,\n",
       " in,\n",
       " the,\n",
       " park,\n",
       " .,\n",
       " A,\n",
       " woman,\n",
       " is,\n",
       " waving,\n",
       " .,\n",
       " A,\n",
       " man,\n",
       " is,\n",
       " playing,\n",
       " .,\n",
       " There,\n",
       " are,\n",
       " some,\n",
       " trees,\n",
       " and,\n",
       " plants,\n",
       " in,\n",
       " the,\n",
       " park,\n",
       " .]"
      ]
     },
     "execution_count": 375,
     "metadata": {},
     "output_type": "execute_result"
    }
   ],
   "source": [
    "l = list(doc)\n",
    "l.remove(doc[1])\n",
    "l.remove(doc[4])\n",
    "l"
   ]
  },
  {
   "cell_type": "code",
   "execution_count": 345,
   "metadata": {},
   "outputs": [
    {
     "name": "stdout",
     "output_type": "stream",
     "text": [
      "man\n"
     ]
    },
    {
     "data": {
      "text/plain": [
       "[man,\n",
       " playing,\n",
       " computer,\n",
       " ground,\n",
       " park,\n",
       " woman,\n",
       " waving,\n",
       " man,\n",
       " playing,\n",
       " trees,\n",
       " plants,\n",
       " park]"
      ]
     },
     "execution_count": 345,
     "metadata": {},
     "output_type": "execute_result"
    }
   ],
   "source": [
    "l = remove_stop(doc)\n",
    "print(list_tokens[0])\n",
    "l.remove(list_tokens[0])\n",
    "l"
   ]
  },
  {
   "cell_type": "code",
   "execution_count": 328,
   "metadata": {},
   "outputs": [
    {
     "data": {
      "text/plain": [
       "'man'"
      ]
     },
     "execution_count": 328,
     "metadata": {},
     "output_type": "execute_result"
    }
   ],
   "source": [
    "re.sub(r'(?<=\\w)\\d+','', 'man1')"
   ]
  },
  {
   "cell_type": "code",
   "execution_count": 324,
   "metadata": {},
   "outputs": [],
   "source": [
    "re.match(r'man\\d*', 'park')"
   ]
  },
  {
   "cell_type": "code",
   "execution_count": null,
   "metadata": {},
   "outputs": [],
   "source": []
  },
  {
   "cell_type": "code",
   "execution_count": null,
   "metadata": {},
   "outputs": [],
   "source": []
  },
  {
   "cell_type": "code",
   "execution_count": null,
   "metadata": {},
   "outputs": [],
   "source": []
  },
  {
   "cell_type": "code",
   "execution_count": null,
   "metadata": {},
   "outputs": [],
   "source": []
  },
  {
   "cell_type": "code",
   "execution_count": null,
   "metadata": {},
   "outputs": [],
   "source": []
  },
  {
   "cell_type": "code",
   "execution_count": 73,
   "metadata": {},
   "outputs": [
    {
     "data": {
      "text/plain": [
       "{'text': 'A man plays computer and sits on the ground. A woman is waving.',\n",
       " 'ents': [],\n",
       " 'sents': [{'start': 0, 'end': 44}, {'start': 45, 'end': 63}],\n",
       " 'tokens': [{'id': 0,\n",
       "   'start': 0,\n",
       "   'end': 1,\n",
       "   'pos': 'DET',\n",
       "   'tag': 'DT',\n",
       "   'dep': 'det',\n",
       "   'head': 1},\n",
       "  {'id': 1,\n",
       "   'start': 2,\n",
       "   'end': 5,\n",
       "   'pos': 'NOUN',\n",
       "   'tag': 'NN',\n",
       "   'dep': 'nsubj',\n",
       "   'head': 2},\n",
       "  {'id': 2,\n",
       "   'start': 6,\n",
       "   'end': 11,\n",
       "   'pos': 'VERB',\n",
       "   'tag': 'VBZ',\n",
       "   'dep': 'ROOT',\n",
       "   'head': 2},\n",
       "  {'id': 3,\n",
       "   'start': 12,\n",
       "   'end': 20,\n",
       "   'pos': 'NOUN',\n",
       "   'tag': 'NN',\n",
       "   'dep': 'dobj',\n",
       "   'head': 2},\n",
       "  {'id': 4,\n",
       "   'start': 21,\n",
       "   'end': 24,\n",
       "   'pos': 'CCONJ',\n",
       "   'tag': 'CC',\n",
       "   'dep': 'cc',\n",
       "   'head': 2},\n",
       "  {'id': 5,\n",
       "   'start': 25,\n",
       "   'end': 29,\n",
       "   'pos': 'VERB',\n",
       "   'tag': 'VBZ',\n",
       "   'dep': 'conj',\n",
       "   'head': 2},\n",
       "  {'id': 6,\n",
       "   'start': 30,\n",
       "   'end': 32,\n",
       "   'pos': 'ADP',\n",
       "   'tag': 'IN',\n",
       "   'dep': 'prep',\n",
       "   'head': 5},\n",
       "  {'id': 7,\n",
       "   'start': 33,\n",
       "   'end': 36,\n",
       "   'pos': 'DET',\n",
       "   'tag': 'DT',\n",
       "   'dep': 'det',\n",
       "   'head': 8},\n",
       "  {'id': 8,\n",
       "   'start': 37,\n",
       "   'end': 43,\n",
       "   'pos': 'NOUN',\n",
       "   'tag': 'NN',\n",
       "   'dep': 'pobj',\n",
       "   'head': 6},\n",
       "  {'id': 9,\n",
       "   'start': 43,\n",
       "   'end': 44,\n",
       "   'pos': 'PUNCT',\n",
       "   'tag': '.',\n",
       "   'dep': 'punct',\n",
       "   'head': 2},\n",
       "  {'id': 10,\n",
       "   'start': 45,\n",
       "   'end': 46,\n",
       "   'pos': 'DET',\n",
       "   'tag': 'DT',\n",
       "   'dep': 'det',\n",
       "   'head': 11},\n",
       "  {'id': 11,\n",
       "   'start': 47,\n",
       "   'end': 52,\n",
       "   'pos': 'NOUN',\n",
       "   'tag': 'NN',\n",
       "   'dep': 'nsubj',\n",
       "   'head': 13},\n",
       "  {'id': 12,\n",
       "   'start': 53,\n",
       "   'end': 55,\n",
       "   'pos': 'VERB',\n",
       "   'tag': 'VBZ',\n",
       "   'dep': 'aux',\n",
       "   'head': 13},\n",
       "  {'id': 13,\n",
       "   'start': 56,\n",
       "   'end': 62,\n",
       "   'pos': 'VERB',\n",
       "   'tag': 'VBG',\n",
       "   'dep': 'ROOT',\n",
       "   'head': 13},\n",
       "  {'id': 14,\n",
       "   'start': 62,\n",
       "   'end': 63,\n",
       "   'pos': 'PUNCT',\n",
       "   'tag': '.',\n",
       "   'dep': 'punct',\n",
       "   'head': 13}]}"
      ]
     },
     "execution_count": 73,
     "metadata": {},
     "output_type": "execute_result"
    }
   ],
   "source": [
    "doc.to_json()"
   ]
  },
  {
   "cell_type": "code",
   "execution_count": 62,
   "metadata": {},
   "outputs": [
    {
     "name": "stdout",
     "output_type": "stream",
     "text": [
      "plays\n",
      "waving\n",
      "man\n",
      "sits\n",
      "ground\n",
      "on\n",
      "woman\n"
     ]
    },
    {
     "data": {
      "text/plain": [
       "[['man', 'plays', 'computer'], ['woman', 'waving'], [], [], [], [], []]"
      ]
     },
     "execution_count": 62,
     "metadata": {},
     "output_type": "execute_result"
    }
   ],
   "source": [
    "tuples = []\n",
    "from collections import Counter\n",
    "for text, c in Counter([token.head.text for token in doc]).most_common():\n",
    "    print(text)\n",
    "    tuples.append([token.text for token in doc if token.head.text == text and token.dep_ in ['nsubj', 'ROOT', 'dobj', 'conj']])\n",
    "tuples"
   ]
  },
  {
   "cell_type": "code",
   "execution_count": 86,
   "metadata": {},
   "outputs": [
    {
     "name": "stdout",
     "output_type": "stream",
     "text": [
      "A a DET DT det\n",
      "man man NOUN NN nsubj\n",
      "plays play VERB VBZ ROOT\n",
      "computer computer NOUN NN dobj\n",
      "and and CCONJ CC cc\n",
      "sits sit VERB VBZ conj\n",
      "on on ADP IN prep\n",
      "the the DET DT det\n",
      "ground ground NOUN NN pobj\n",
      ". . PUNCT . punct\n",
      "A a DET DT det\n",
      "woman woman NOUN NN nsubj\n",
      "is be VERB VBZ aux\n",
      "waving wave VERB VBG ROOT\n",
      ". . PUNCT . punct\n"
     ]
    }
   ],
   "source": [
    "for token in doc:\n",
    "    print(token.text, token.lemma_, token.pos_, token.tag_, token.dep_)"
   ]
  },
  {
   "cell_type": "code",
   "execution_count": 27,
   "metadata": {},
   "outputs": [],
   "source": [
    "def generator(description):\n",
    "    \"\"\"\n",
    "    Given a description, propose several layers for selection\n",
    "    \"\"\"\n",
    "    assert(isinstance(description, Description))\n",
    "    "
   ]
  },
  {
   "cell_type": "code",
   "execution_count": 16,
   "metadata": {},
   "outputs": [
    {
     "data": {
      "text/plain": [
       "True"
      ]
     },
     "execution_count": 16,
     "metadata": {},
     "output_type": "execute_result"
    }
   ],
   "source": [
    "LayerName('#man(have[pant,woof],do[shit])').nested_entities_ == LayerName('#man(do[shit],have[woof,pant])').nested_entities_"
   ]
  },
  {
   "cell_type": "code",
   "execution_count": 21,
   "metadata": {},
   "outputs": [
    {
     "data": {
      "text/plain": [
       "dict_items([('man', {'have': {'woof', 'pant'}, 'do': {'shit'}})])"
      ]
     },
     "execution_count": 21,
     "metadata": {},
     "output_type": "execute_result"
    }
   ],
   "source": [
    "LayerName('#man(have[pant,woof],do[shit])').nested_entities_.items()"
   ]
  },
  {
   "cell_type": "code",
   "execution_count": 77,
   "metadata": {},
   "outputs": [
    {
     "data": {
      "text/plain": [
       "{1}"
      ]
     },
     "execution_count": 77,
     "metadata": {},
     "output_type": "execute_result"
    }
   ],
   "source": [
    "a = set()\n",
    "a.add(1)\n",
    "a\n",
    "a.union({1,2})\n",
    "a"
   ]
  },
  {
   "cell_type": "code",
   "execution_count": 22,
   "metadata": {},
   "outputs": [
    {
     "data": {
      "text/plain": [
       "((1,), (2,))"
      ]
     },
     "execution_count": 22,
     "metadata": {},
     "output_type": "execute_result"
    }
   ],
   "source": [
    "((1,),(2,))"
   ]
  },
  {
   "cell_type": "code",
   "execution_count": null,
   "metadata": {},
   "outputs": [],
   "source": []
  }
 ],
 "metadata": {
  "kernelspec": {
   "display_name": "text2scene",
   "language": "python",
   "name": "text2scene"
  },
  "language_info": {
   "codemirror_mode": {
    "name": "ipython",
    "version": 3
   },
   "file_extension": ".py",
   "mimetype": "text/x-python",
   "name": "python",
   "nbconvert_exporter": "python",
   "pygments_lexer": "ipython3",
   "version": "3.7.3"
  }
 },
 "nbformat": 4,
 "nbformat_minor": 2
}
