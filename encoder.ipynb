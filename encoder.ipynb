{
 "cells": [
  {
   "cell_type": "code",
   "execution_count": 2,
   "metadata": {},
   "outputs": [],
   "source": [
    "from collections import defaultdict\n",
    "import dill\n",
    "import glob\n",
    "import warnings\n",
    "warnings.filterwarnings('always')\n",
    "\n",
    "from tools.text_process import LemmaTokenizer\n",
    "from tools.image_process import LayerName, getLayerNames\n",
    "from tools.instance import Node\n",
    "from tools.knowledge import LayerBase, TextBase\n",
    "from tools.common import ravel"
   ]
  },
  {
   "cell_type": "code",
   "execution_count": 8,
   "metadata": {
    "scrolled": true
   },
   "outputs": [
    {
     "name": "stdout",
     "output_type": "stream",
     "text": [
      "50\n"
     ]
    },
    {
     "data": {
      "text/plain": [
       "85"
      ]
     },
     "execution_count": 8,
     "metadata": {},
     "output_type": "execute_result"
    }
   ],
   "source": [
    "layerbase = LayerBase()\n",
    "print(layerbase.index(Node('man','subj')))\n",
    "\n",
    "textbase = TextBase()\n",
    "len(textbase.vocab_)#index('man','n')\n",
    "# textbase.vocab_"
   ]
  },
  {
   "cell_type": "code",
   "execution_count": 3,
   "metadata": {},
   "outputs": [],
   "source": [
    "# with open('relateDict.pkl', 'rb') as f:\n",
    "#     relateDict = dill.load(f)\n",
    "# sum([len(relateDict[key]) for key in relateDict])"
   ]
  },
  {
   "cell_type": "code",
   "execution_count": 25,
   "metadata": {},
   "outputs": [],
   "source": [
    "class Picture:\n",
    "    def __init__(self, img_name):\n",
    "        self.img_name = img_name\n",
    "        self.layernames_ = getLayerNames(img_name)\n",
    "        self.layer_merge_ = LayerName()\n",
    "        self.layers_ = []\n",
    "        for layername in self.layernames_:\n",
    "            layer = LayerName(layername)\n",
    "            self.layers_.append(layer)\n",
    "            self.layer_merge_.absorb(layer)\n",
    "        # make the layers immutable\n",
    "        self.layers_ = tuple(self.layers_)\n",
    "        self.plot = self.layer_merge_.plot\n",
    "        self.keywords_ = ravel(self.layer_merge_.entities_)\n",
    "        \n",
    "    def __repr__(self):\n",
    "        \"\"\"\n",
    "        used to print a string when directly call the object?\n",
    "        \"\"\"\n",
    "        return '; '.join(self.layernames_)\n",
    "\n",
    "class Description:\n",
    "    \"\"\"\n",
    "    save tokens and original sentence\n",
    "    \"\"\"\n",
    "    def __init__(self, txt_name):\n",
    "        self.txt_name = txt_name\n",
    "\n",
    "        tokenizer = LemmaTokenizer()\n",
    "        with open('%s/%s.txt' % (txt_dir, name)) as f:\n",
    "            self.text = f.read()\n",
    "        self.tokens_ = tokenizer(self.text)\n",
    "        \n",
    "    def __repr__(self):\n",
    "        return self.text\n",
    "\n",
    "# picture = Picture('images/Firmware.svg')\n",
    "# [n.t for n in picture.ravel_]\n",
    "# picture.plot()"
   ]
  },
  {
   "cell_type": "code",
   "execution_count": 26,
   "metadata": {},
   "outputs": [],
   "source": [
    "# temporarily set to 0\n",
    "relateDict = defaultdict(lambda: defaultdict(float))"
   ]
  },
  {
   "cell_type": "code",
   "execution_count": 27,
   "metadata": {},
   "outputs": [
    {
     "name": "stdout",
     "output_type": "stream",
     "text": [
      "#background; #alien(have[robot],stand); #man(exercise,step_on[stone]); #man(work,play[computer],sit)\n"
     ]
    },
    {
     "data": {
      "text/plain": [
       "A man played the computer. A man stepped on the stone and exercised. They had a robot."
      ]
     },
     "execution_count": 27,
     "metadata": {},
     "output_type": "execute_result"
    }
   ],
   "source": [
    "img_dir='images'\n",
    "txt_dir='text'\n",
    "name = 'Firmware'\n",
    "\n",
    "description = Description('%s/%s.txt' % (txt_dir, name))\n",
    "picture = Picture('%s/%s.svg' % (img_dir, name))\n",
    "print(picture)\n",
    "description"
   ]
  },
  {
   "cell_type": "code",
   "execution_count": 28,
   "metadata": {},
   "outputs": [],
   "source": [
    "from scipy import sparse\n",
    "import numpy as np\n",
    "\n",
    "class Encoder():\n",
    "    def __init__(self):\n",
    "        self.layerbase = LayerBase()\n",
    "        self.textbase = TextBase()\n",
    "\n",
    "    def encode(self, tokens, keywords, length=5):\n",
    "        assert(length < len(self.textbase)), (length,\n",
    "                                              len(self.textbase))\n",
    "        tuples = []\n",
    "        for token in tokens:\n",
    "            for keyword in keywords:\n",
    "                tuples.append((self.layerbase.index(keyword),\n",
    "                               self.textbase.index(token),\n",
    "                               relateDict[keyword.t][token.t]))\n",
    "        row, col, data = zip(*tuples)\n",
    "        matrix = sparse.csr_matrix((data, (row, col)),\n",
    "                                    shape=(len(self.layerbase),\n",
    "                                           len(self.textbase)))\n",
    "        return self.to_hists(matrix, length)\n",
    "    \n",
    "    def to_hists(self, matrix, num=5):\n",
    "        assert(isinstance(matrix, sparse.csr_matrix))\n",
    "        assert(matrix.min()>=0)\n",
    "        assert(matrix.max()<=1)\n",
    "        \n",
    "        arr = matrix.toarray()\n",
    "        bins = np.linspace(0, 1, num+1)\n",
    "        hists = []\n",
    "        for row in range(arr.shape[0]):\n",
    "            hists.append(np.histogram(arr[row], bins)[0])\n",
    "        return np.vstack(hists)\n",
    "    "
   ]
  },
  {
   "cell_type": "code",
   "execution_count": 29,
   "metadata": {},
   "outputs": [
    {
     "data": {
      "text/plain": [
       "(101, 5)"
      ]
     },
     "execution_count": 29,
     "metadata": {},
     "output_type": "execute_result"
    }
   ],
   "source": [
    "encoder = Encoder()\n",
    "arr = encoder.encode(description.tokens_,\n",
    "                     picture.keywords_)#.toarray()\n",
    "arr.shape"
   ]
  },
  {
   "cell_type": "code",
   "execution_count": 30,
   "metadata": {},
   "outputs": [],
   "source": [
    "class LayerBase():\n",
    "    def __init__(self):\n",
    "\n",
    "\n",
    "        self.layer_merge_ = LayerName()\n",
    "        self.pictures_ = []\n",
    "        for svg in glob.glob('images/*.svg'):\n",
    "            picture = Picture(svg)\n",
    "            # for layer in getLayerNames(svg):\n",
    "            #     layername = LayerName(layer)\n",
    "            #     self.layers_.append(layername)\n",
    "            self.layer_merge_.absorb(picture.layer_merge_)\n",
    "            self.pictures_.append(picture)\n",
    "        self.entities_ = self.layer_merge_.entities_\n",
    "        self.keywords_ = sorted(ravel(self.layer_merge_.entities_))\n",
    "\n",
    "    # def index(self, keyword, attr):\n",
    "    #     return self.nodes_.index(Node(keyword, attr))\n",
    "\n",
    "    def index(self, keyword):\n",
    "        assert(isinstance(keyword, Node))\n",
    "        return self.keywords_.index(keyword)\n",
    "\n",
    "    def __len__(self):\n",
    "        return len(self.keywords_)"
   ]
  },
  {
   "cell_type": "code",
   "execution_count": 31,
   "metadata": {},
   "outputs": [],
   "source": [
    "layerbase = LayerBase()\n",
    "alllayers = [layer for picture in layerbase.pictures_ for layer in picture.layers_]"
   ]
  },
  {
   "cell_type": "code",
   "execution_count": 33,
   "metadata": {},
   "outputs": [
    {
     "name": "stdout",
     "output_type": "stream",
     "text": [
      "82\n",
      "{background(subj)} 29\n",
      "{leaf(obj), accessory(subj), have(act)} 3\n",
      "{man(subj), stand(act)} 3\n",
      "{plant(obj), wild(subj), have(act)} 3\n",
      "{tree(obj), plant(obj), wild(subj), have(act)} 2\n"
     ]
    },
    {
     "data": {
      "text/plain": [
       "'\\nlayer keywords\\nthen fetch these contain the tokens in the transformed(to keyword) description\\n\\nhow?\\nfor each keyword, fetch a layer?\\n'"
      ]
     },
     "execution_count": 33,
     "metadata": {},
     "output_type": "execute_result"
    }
   ],
   "source": [
    "from collections import Counter\n",
    "print(len(set(alllayers)))\n",
    "c = Counter(alllayers)\n",
    "for layer, count in c.most_common():\n",
    "    if count <= 1: break\n",
    "    print(ravel(layer.entities_), count)\n",
    "\"\"\"\n",
    "layer keywords\n",
    "then fetch these contain the tokens in the transformed(to keyword) description\n",
    "\n",
    "how?\n",
    "for each keyword, fetch a layer?\n",
    "\"\"\""
   ]
  },
  {
   "cell_type": "code",
   "execution_count": 47,
   "metadata": {},
   "outputs": [
    {
     "name": "stdout",
     "output_type": "stream",
     "text": [
      "A DT\n",
      "joyful JJ\n",
      "man NN\n",
      "plays VBZ\n",
      "computer NN\n",
      "frequently RB\n",
      "and CC\n",
      "sits VBZ\n",
      "on IN\n",
      "the DT\n",
      "ground NN\n"
     ]
    }
   ],
   "source": [
    "import spacy\n",
    "from spacy.pipeline import Tagger\n",
    "nlp = spacy.load(\"en_core_web_sm\")\n",
    "tagger = Tagger(nlp.vocab)\n",
    "tagger = nlp.create_pipe(\"tagger\")\n",
    "# tagger(\n",
    "doc = nlp(u'A joyful man plays computer frequently and sits on the ground')\n",
    "for token in doc:\n",
    "    print(token.text, token.tag_)\n"
   ]
  },
  {
   "cell_type": "code",
   "execution_count": 44,
   "metadata": {},
   "outputs": [
    {
     "name": "stdout",
     "output_type": "stream",
     "text": [
      "det(man-2, A-1)\n",
      "nsubj(plays-3, man-2)\n",
      "ROOT(plays-3, plays-3)\n",
      "dobj(plays-3, computer-4)\n",
      "cc(plays-3, and-5)\n",
      "conj(plays-3, sits-6)\n",
      "prep(sits-6, on-7)\n",
      "det(ground-9, the-8)\n",
      "pobj(on-7, ground-9)\n",
      "punct(plays-3, .-10)\n",
      "det(woman-12, A-11)\n",
      "nsubj(waving-14, woman-12)\n",
      "aux(waving-14, is-13)\n",
      "ROOT(waving-14, waving-14)\n",
      "punct(waving-14, .-15)\n"
     ]
    }
   ],
   "source": [
    "import spacy\n",
    "nlp = spacy.load(\"en_core_web_sm\")\n",
    "doc = nlp(u'A man plays computer and sits on the ground. A woman is waving.')\n",
    "for token in doc:\n",
    "    print(\"{2}({3}-{6}, {0}-{5})\".format(token.text, token.tag_, token.dep_, token.head.text, token.head.tag_, token.i+1, token.head.i+1))"
   ]
  },
  {
   "cell_type": "code",
   "execution_count": 27,
   "metadata": {},
   "outputs": [],
   "source": [
    "def generator(description):\n",
    "    \"\"\"\n",
    "    Given a description, propose several layers for selection\n",
    "    \"\"\"\n",
    "    assert(isinstance(description, Description))\n",
    "    "
   ]
  },
  {
   "cell_type": "code",
   "execution_count": 16,
   "metadata": {},
   "outputs": [
    {
     "data": {
      "text/plain": [
       "True"
      ]
     },
     "execution_count": 16,
     "metadata": {},
     "output_type": "execute_result"
    }
   ],
   "source": [
    "LayerName('#man(have[pant,woof],do[shit])').nested_entities_ == LayerName('#man(do[shit],have[woof,pant])').nested_entities_"
   ]
  },
  {
   "cell_type": "code",
   "execution_count": 21,
   "metadata": {},
   "outputs": [
    {
     "data": {
      "text/plain": [
       "dict_items([('man', {'have': {'woof', 'pant'}, 'do': {'shit'}})])"
      ]
     },
     "execution_count": 21,
     "metadata": {},
     "output_type": "execute_result"
    }
   ],
   "source": [
    "LayerName('#man(have[pant,woof],do[shit])').nested_entities_.items()"
   ]
  },
  {
   "cell_type": "code",
   "execution_count": 77,
   "metadata": {},
   "outputs": [
    {
     "data": {
      "text/plain": [
       "{1}"
      ]
     },
     "execution_count": 77,
     "metadata": {},
     "output_type": "execute_result"
    }
   ],
   "source": [
    "a = set()\n",
    "a.add(1)\n",
    "a\n",
    "a.union({1,2})\n",
    "a"
   ]
  },
  {
   "cell_type": "code",
   "execution_count": 22,
   "metadata": {},
   "outputs": [
    {
     "data": {
      "text/plain": [
       "((1,), (2,))"
      ]
     },
     "execution_count": 22,
     "metadata": {},
     "output_type": "execute_result"
    }
   ],
   "source": [
    "((1,),(2,))"
   ]
  },
  {
   "cell_type": "code",
   "execution_count": null,
   "metadata": {},
   "outputs": [],
   "source": []
  }
 ],
 "metadata": {
  "kernelspec": {
   "display_name": "text2scene",
   "language": "python",
   "name": "text2scene"
  },
  "language_info": {
   "codemirror_mode": {
    "name": "ipython",
    "version": 3
   },
   "file_extension": ".py",
   "mimetype": "text/x-python",
   "name": "python",
   "nbconvert_exporter": "python",
   "pygments_lexer": "ipython3",
   "version": "3.7.3"
  }
 },
 "nbformat": 4,
 "nbformat_minor": 2
}
