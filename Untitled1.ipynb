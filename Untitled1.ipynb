{
 "cells": [
  {
   "cell_type": "code",
   "execution_count": 11,
   "metadata": {},
   "outputs": [],
   "source": [
    "import re\n",
    "from xml.dom.minidom import parse\n",
    "from collections import defaultdict\n",
    "\n",
    "def dict_ai2puncs_():\n",
    "    dic = {}\n",
    "    dic['_x23_'] = '#'\n",
    "    dic['_x28_'] = '('\n",
    "    dic['_x29_'] = ')'\n",
    "    dic['_x5B_'] = '['\n",
    "    dic['_x5D_'] = ']'\n",
    "    dic['_x2C_'] = ','\n",
    "    dic['_x5F_'] = '-'\n",
    "    return dic\n",
    "\n",
    "def cleanName(s):\n",
    "    s = multiple_replace(dict_ai2puncs_(), s)\n",
    "    s = re.sub('_x?\\d+_', '', s) # remove other symbols\n",
    "    s = re.sub('_', '', s) # remove _  (space)\n",
    "    \n",
    "    return re.sub('-', '_', s) # replace - back to _\n",
    "\n",
    "def multiple_replace(dic, text):\n",
    "    \"\"\"\n",
    "    mutiple regex substitutions\n",
    "        Bug: keys that are prefixes of other keys will break\n",
    "    \"\"\"\n",
    "    # Create a regular expression  from the dictionary keys\n",
    "    regex = re.compile(\"(%s)\" % \"|\".join(map(re.escape,\n",
    "                                             dic.keys())))\n",
    "    \n",
    "    # For each match, look-up corresponding value in dictionary\n",
    "    return regex.sub(lambda mo:\n",
    "                     dic[mo.string[mo.start():mo.end()]],\n",
    "                     text)\n",
    "\n",
    "def rectifyLayer(path, li):\n",
    "    return li"
   ]
  },
  {
   "cell_type": "code",
   "execution_count": 12,
   "metadata": {},
   "outputs": [],
   "source": [
    "def getLayerNames(path):\n",
    "    \"\"\"\n",
    "    Get the name of each layer in the image\n",
    "        first check the id attribute of <svg>\n",
    "        then check the id attribute of <g>s\n",
    "    \"\"\"\n",
    "    doc = parse(path)\n",
    "    svg_list = doc.getElementsByTagName('svg')\n",
    "    assert(len(svg_list) == 1)\n",
    "    svg = svg_list[0]\n",
    "    # use * instead of g, some layer may not be a group\n",
    "    layers = [g for g in doc.getElementsByTagName('*') \\\n",
    "              if g.nodeType == 1 and \\\n",
    "                 g.hasAttribute('id') and \\\n",
    "                 g.getAttribute('id').startswith('_x23_')]\n",
    "\n",
    "    if layers:\n",
    "        return rectifyLayer(path, [cleanName(l.getAttribute('id')) for l in layers])\n",
    "    else:\n",
    "        if svg.hasAttribute('id') and \\\n",
    "           svg.getAttribute('id').startswith('_x23_'):\n",
    "            # if single layer case, id should belong to <svg>\n",
    "            return [cleanName(svg.getAttribute('id'))]\n",
    "        else:\n",
    "            raise ValueError('No valid id name found!')\n",
    "\n",
    "def checkLayerName(name):\n",
    "    obj = '\\[\\w+(,\\w+)*\\]'\n",
    "    act_obj = '\\w+(%s)*' % obj\n",
    "    reg_single = '\\w+(\\(%s(,%s)*\\))+' % (act_obj, act_obj)\n",
    "    reg_multi = 'group\\(have\\[%s(,%s)*\\]\\)' % (reg_single,\n",
    "                                               reg_single)\n",
    "    \n",
    "    from rules.labels import subjects\n",
    "    \n",
    "    if name.startswith('#background'):\n",
    "        if not name == '#background':\n",
    "            raise KeyError(name)\n",
    "    elif name.startswith('#group'):\n",
    "        if not re.match(r'^#%s$' % reg_multi, name):\n",
    "            raise KeyError(name)\n",
    "    elif name.startswith('#accessory'):\n",
    "        if not re.match(r'#accessory(\\(%s(,%s)*\\))*' % (act_obj, act_obj), name):\n",
    "            raise KeyError(name)\n",
    "    elif any([name.startswith('#%s' % key) for categ in subjects for key in subjects[categ]]):\n",
    "        if not re.match(r'^#%s$' % reg_single, name):\n",
    "            raise KeyError(name)\n",
    "    else:\n",
    "        raise KeyError(name)"
   ]
  },
  {
   "cell_type": "code",
   "execution_count": 13,
   "metadata": {},
   "outputs": [],
   "source": [
    "class Node:\n",
    "    def __init__(self, t, attr):\n",
    "        self.t = t\n",
    "        self.attr = attr\n",
    "        self.count = 1\n",
    "        self.neighbors = defaultdict(lambda: defaultdict(Node))\n",
    "        \n",
    "    def __str__(self):\n",
    "        return '%s(%s)' % (self.t, self.attr)\n",
    "    \n",
    "    def __eq__(self, other):\n",
    "        \"\"\"\n",
    "        must implement this to support comparation between nodes\n",
    "        \"\"\"\n",
    "        if not isinstance(other, Node):\n",
    "            raise TypeError(other)\n",
    "        return self.t == other.t and self.attr == other.attr\n",
    "    \n",
    "    def __ne__(self, other):\n",
    "        return not self.__eq__(other)\n",
    "    \n",
    "    def __hash__(self):\n",
    "        \"\"\"\n",
    "        need to explicitly implement hash function to make it hashable if __eq__ is implemented\n",
    "        seems to recommend xor.\n",
    "           see. https://stackoverflow.com/questions/4005318/how-to-implement-a-good-hash-function-in-python\n",
    "                https://stackoverflow.com/questions/2909106/whats-a-correct-and-good-way-to-implement-hash\n",
    "        \"\"\"\n",
    "        return hash((self.t, self.attr))"
   ]
  },
  {
   "cell_type": "code",
   "execution_count": 15,
   "metadata": {},
   "outputs": [
    {
     "ename": "SyntaxError",
     "evalue": "invalid syntax (<ipython-input-15-42cbc442fe79>, line 106)",
     "output_type": "error",
     "traceback": [
      "\u001b[0;36m  File \u001b[0;32m\"<ipython-input-15-42cbc442fe79>\"\u001b[0;36m, line \u001b[0;32m106\u001b[0m\n\u001b[0;31m    for act in re.findall(r'{subj}\\((.*?)\\)'.format(subj=subj, s):\u001b[0m\n\u001b[0m                                                                 ^\u001b[0m\n\u001b[0;31mSyntaxError\u001b[0m\u001b[0;31m:\u001b[0m invalid syntax\n"
     ]
    }
   ],
   "source": [
    "class Edges:\n",
    "    def __init__(self):\n",
    "        self.edges = set()\n",
    "    \n",
    "    def add(self, node1, node2):\n",
    "        self.edges.add((node1, node2))\n",
    "        \n",
    "    def __iter__(self):\n",
    "        for e in self.edges:\n",
    "            yield e\n",
    "        \n",
    "    def _print(self):\n",
    "        for n1, n2 in sorted(list(self.edges), key=lambda e: (e[0].attr, \n",
    "                                                              e[1].attr,\n",
    "                                                              e[0].t,\n",
    "                                                              e[1].t)):\n",
    "            print('%s - %s' % (n1.__str__(), n2.__str__()))\n",
    "        \n",
    "class Graph:\n",
    "    \"\"\"\n",
    "    see. https://stackoverflow.com/questions/19472530/representing-graphs-data-structure-in-python\n",
    "    \"\"\"\n",
    "    def __init__(self, s=None):\n",
    "        # pattern\n",
    "        self.obj_ptn = '\\[\\w+(,\\w+)*\\]'\n",
    "        self.act_obj_ptn = '\\w+(%s)*' % self.obj_ptn\n",
    "        self.single_ptn = '\\w+(\\(%s(,%s)*\\))*' % (self.act_obj_ptn,\n",
    "                                                  self.act_obj_ptn)\n",
    "        self.group_ptn = '%s\\(%s\\[%s(,%s)*\\]\\)' % ('group',\n",
    "                                                   'have',\n",
    "                                                    self.single_ptn,\n",
    "                                                    self.single_ptn)\n",
    "        \n",
    "        if s:\n",
    "            self.s = s\n",
    "            \n",
    "            # get all entity names\n",
    "            self.subjs_ = self.subjs()\n",
    "            self.acts_ = self.acts()\n",
    "            self.objs_ = self.objs()\n",
    "            \n",
    "            # instantiate a list\n",
    "            self.nodes_ = defaultdict(lambda: defaultdict(Node))\n",
    "            for subj in self.subjs_:\n",
    "                self.nodes_['subj'][subj] = Node(subj, 'subj')\n",
    "            for act in self.acts_:\n",
    "                self.nodes_['act'][act] = Node(act, 'act')\n",
    "            for obj in self.objs_:\n",
    "                self.nodes_['obj'][obj] = Node(obj, 'obj')\n",
    "            \n",
    "            # add edges\n",
    "            # assume that repetitive objects refer to the same one\n",
    "            #        when instantiate from a layer name\n",
    "            #        thus no need to check duplicate\n",
    "            for subj in self.subjs_:\n",
    "                for act in self.acts_:\n",
    "                    if self.is_connect_subj_act(subj, act):\n",
    "                        self.nodes_['subj'][subj].neighbors['act'][act] = self.nodes_['act'][act]\n",
    "                        self.nodes_['act'][act].neighbors['subj'][subj] = self.nodes_['subj'][subj]\n",
    "            for act in self.acts_:\n",
    "                for obj in self.objs_:\n",
    "                    if self.is_connect_act_obj(act, obj):\n",
    "                        self.nodes_['act'][act].neighbors['obj'][obj] = self.nodes_['obj'][obj]\n",
    "                        self.nodes_['obj'][obj].neighbors['act'][act] = self.nodes_['act'][act]\n",
    "            for obj in self.objs_:\n",
    "                for subj in self.subjs_:\n",
    "                    if self.is_connect_subj_obj(subj, obj):\n",
    "                        self.nodes_['obj'][obj].neighbors['subj'][subj] = self.nodes_['subj'][subj]\n",
    "                        self.nodes_['subj'][subj].neighbors['obj'][obj] = self.nodes_['obj'][obj]\n",
    "\n",
    "    def __check(self):\n",
    "        if not re.match(r'^#%s$' % self.single_ptn, self.s):\n",
    "            if not re.match(r'^#%s$' % self.group_ptn, self.s):\n",
    "                raise KeyError(self.s)\n",
    "                \n",
    "    def subjs(self):\n",
    "        if self.s.startswith('#background'):\n",
    "            return {'background'}\n",
    "        if self.s.startswith('#accessory'):\n",
    "            return {'accessory'}\n",
    "        if self.s.startswith('#group'):\n",
    "            subjs = re.findall('[\\[|,](\\w+)\\(', self.s)\n",
    "        else:\n",
    "            subjs = re.findall('^#(\\w+)\\(', self.s)\n",
    "            assert len(subjs) == 1, (self.s, subjs)\n",
    "        assert(len(subjs) == len(set(subjs)))\n",
    "        return set(subjs)\n",
    "\n",
    "    def acts(self, subjs):\n",
    "        assert(isinstance(subjs, list))\n",
    "        # give subj, find associated actions\n",
    "        # if group, remove group mark\n",
    "        if self.s.startswith('#group'):\n",
    "            s = re.sub('#group\\(have\\[', '', self.s)\n",
    "            s.strip('\\]\\)')\n",
    "        else:\n",
    "            s = self.s\n",
    "\n",
    "        # temporarily remove all objects\n",
    "        obj = '\\[\\w+(,\\w+)*\\]'\n",
    "        s = re.sub(obj, '', s)\n",
    "\n",
    "        # extend or append\n",
    "        acts = defaultdict(list)\n",
    "        for subj in subjs:\n",
    "            for act in re.findall(r'{subj}\\((.*?)\\)'.format(subj=subj, s):\n",
    "                if ',' in act:\n",
    "                    acts[subj].extend(act.split(','))\n",
    "                else:\n",
    "                    acts[subj].append(act)\n",
    "\n",
    "        return acts\n",
    "\n",
    "    def objs(self):\n",
    "        # if group, remove group mark\n",
    "        if self.s.startswith('#group'):\n",
    "            s = re.sub('#group\\(have\\[', '', self.s)\n",
    "            s.strip('\\]\\)')\n",
    "        else:\n",
    "            s = self.s\n",
    "\n",
    "        # extend or append\n",
    "        objs = []\n",
    "        for obj in re.findall(r'\\[(.*?)\\]', s):\n",
    "            if ',' in obj:\n",
    "                objs.extend(obj.split(','))\n",
    "            else:\n",
    "                objs.append(obj)\n",
    "\n",
    "        return set(objs)\n",
    "\n",
    "    def entities_(self):\n",
    "        return {'subjects': self.subjs_(),\n",
    "                'actions': self.acts_(),\n",
    "                'objects': self.objs_()}\n",
    "    \n",
    "    def to_node(self, t):\n",
    "        if t in self.subjs_:\n",
    "            return Node(t, 'subj')\n",
    "        elif t in self.acts_:\n",
    "            return Node(t, 'act')\n",
    "        elif t in self.objs_:\n",
    "            return Node(t, 'obj')\n",
    "        else:\n",
    "            raise ValueError('%s not in graph!' % t)\n",
    "            \n",
    "    def is_connect(self, t1, t2):\n",
    "        \"\"\"\n",
    "        Wrapper for connection between two entities\n",
    "            a problem will happen if a word can either be verb and noun\n",
    "                better indicate attribute when query\n",
    "        \"\"\"\n",
    "        if (self.to_node(t1), self.to_node(t2)) in self.edges_:\n",
    "            return True\n",
    "        else:\n",
    "            return (self.to_node(t2), self.to_node(t1)) in self.edges_\n",
    "\n",
    "    def is_connect_subj_obj(self, subj, obj):\n",
    "        obj_pat = '\\[\\w+(,\\w+)*\\]'\n",
    "        act_obj_pat = '\\w+(%s)*' % obj_pat\n",
    "        if re.match(r'.*?%s\\((%s,)*\\w+\\[(\\w+,)*%s(,\\w+)*\\](,%s)*\\).*?' % (subj, act_obj_pat, obj, act_obj_pat), self.s):\n",
    "            return True\n",
    "        return False\n",
    "\n",
    "    def is_connect_act_obj(self, act, obj):\n",
    "        if re.match(r'.*?%s\\[(\\w+,)*%s(,\\w+)*\\].*?' % (act, obj), self.s):\n",
    "            return True\n",
    "        return False\n",
    "\n",
    "    def is_connect_subj_act(self, subj, act):\n",
    "        if subj == 'group':\n",
    "            if re.match(r'#%s\\(%s.*?\\)$' % (subj, act), self.s):\n",
    "                return True\n",
    "            return False\n",
    "\n",
    "        obj = '\\[\\w+(,\\w+)*\\]'\n",
    "        act_obj = '\\w+(%s)*' % obj\n",
    "        if re.match(r'.*?%s\\((%s,)*%s(%s)*(,%s)*\\).*?' % (subj, act_obj, act, obj, act_obj), self.s):\n",
    "            return True\n",
    "        return False\n",
    "    \n",
    "    def merge(self, other):\n",
    "        \"\"\"\n",
    "        should use same reference in edges and nodes\n",
    "            so what about dict(set)?\n",
    "        \"\"\"\n",
    "        assert isinstance(other, Graph), 'the other one is not a graph'\n",
    "        graph = Graph()\n",
    "        graph.subjs_ = self.subjs_ | other.subjs_\n",
    "        graph.acts_ = self.acts_ | other.acts_\n",
    "        graph.objs_ = self.objs_ | other.objs_\n",
    "        graph.edges_ = self.edges_\n",
    "        graph.nodes_ = self.nodes_\n",
    "        for n1, n2 in other.edges_:\n",
    "            if (n1, n2) in graph.edges_:\n",
    "                for e in graph.edges_:\n",
    "                    if e == (n1, n2):\n",
    "                        e[0].count += 1\n",
    "                        e[1].count += 1\n",
    "                for n in graph.nodes_:\n",
    "                    if n == n1 or n == n2:\n",
    "                        n.count += 1\n",
    "            elif n1 in graph.nodes_:\n",
    "                for n in graph.nodes_:\n",
    "                    if n == n1:\n",
    "                        n.count += 1\n",
    "            elif n2 in graph.nodes_:\n",
    "                for n in graph.nodes_:\n",
    "                    if n == n2:\n",
    "                        n.count += 1\n",
    "\n",
    "    def print_(self):\n",
    "        for n1, n2 in sorted(list(self.edges_), key=lambda e: (e[0].attr, \n",
    "                                                               e[1].attr,\n",
    "                                                               e[0].t,\n",
    "                                                               e[1].t)):\n",
    "            print('%s - %s' % (n1.__str__(), n2.__str__()))\n",
    "            \n",
    "    def plot(self):\n",
    "        import matplotlib.pyplot as plt\n",
    "        figsize = (5, max(len(self.subjs_), len(self.acts_), len(self.objs_))/6*2)\n",
    "        plt.figure(figsize=figsize)\n",
    "        plt.plot([1]*len(self.subjs_), range(len(self.subjs_)),'r.')\n",
    "        plt.plot([2]*len(self.acts_), range(len(self.acts_)),'g.')\n",
    "        plt.plot([3]*len(self.objs_), range(len(self.objs_)), '.', color='orange')\n",
    "        \n",
    "        def get_xy(node):\n",
    "            if node.attr == 'subj':\n",
    "                return (1, sorted(list(self.subjs_)).index(node.t))\n",
    "            elif node.attr == 'act':\n",
    "                return (2, sorted(list(self.acts_)).index(node.t))\n",
    "            elif node.attr == 'obj':\n",
    "                return (3, sorted(list(self.objs_)).index(node.t))\n",
    "            else:\n",
    "                raise KeyError(attr)\n",
    "            \n",
    "        for edge in self.edges_:\n",
    "            xs, ys = list(zip(get_xy(edge[0]), get_xy(edge[1])))\n",
    "            if 'act' in [edge[0].attr, edge[1].attr]:\n",
    "                if edge[0].t != 'have' and edge[1].t != 'have':\n",
    "                    plt.plot(xs, ys, 'k-', alpha=0.1)\n",
    "                else:\n",
    "                    node = edge[1] if edge[0].t == 'have' else edge[0]\n",
    "                    for edge_ in self.edges_:\n",
    "                        if node in edge_ and edge_[0].t != 'have' and edge_[1].t != 'have':\n",
    "                            xs, ys = list(zip(get_xy(edge_[0]), get_xy(edge_[1])))\n",
    "                            plt.plot(xs, ys, 'k--', alpha=0.1)\n",
    "        \n",
    "                \n",
    "        for i, subj in enumerate(sorted(list(self.subjs_))):\n",
    "            plt.text(1, i, subj, color='r')\n",
    "        for i, act in enumerate(sorted(list(self.acts_))):\n",
    "            plt.text(2, i, act, color='g')\n",
    "        for i, obj in enumerate(sorted(list(self.objs_))):\n",
    "            plt.text(3, i, obj, color='orange')\n",
    "        plt.axis('off')\n",
    "        plt.show()"
   ]
  },
  {
   "cell_type": "code",
   "execution_count": 58,
   "metadata": {},
   "outputs": [],
   "source": [
    "def absorb_nested_dict(dic1, dic2):\n",
    "    \"\"\"\n",
    "    Input dictionary should be nested dictionary with list as leaf\n",
    "    \"\"\"\n",
    "    \n",
    "    for key in dic2:\n",
    "        if key not in dic1:\n",
    "            if isinstance(dic1, dict):\n",
    "                dic1[key] = dic2[key]\n",
    "            elif isinstance(dic1, list):\n",
    "                dic1.append(key)\n",
    "        else:\n",
    "            if isinstance(dic1, dict):\n",
    "                merge_nested_dict(dic1[key], dic2[key])"
   ]
  },
  {
   "cell_type": "code",
   "execution_count": 146,
   "metadata": {},
   "outputs": [],
   "source": [
    "class LayerName:\n",
    "    \"\"\"\n",
    "    given layer Name, return nested entities list\n",
    "    E.g. subj(act[obj]) -> {'subj': {'act': ['obj']}}\n",
    "    \"\"\"\n",
    "    def __init__(self, s=''):\n",
    "        assert(isinstance(s, str))\n",
    "        if s: checkLayerName(s)\n",
    "        \n",
    "        self.s = s\n",
    "#         self.obj_ptn = '\\[\\w+(?=,\\w+)*\\]'\n",
    "#         self.act_obj_ptn = '\\w+(?=%s)?' % self.obj_ptn\n",
    "        \n",
    "        self.nested_entities_ = self._get_nested_entities()\n",
    "        self.entities_ = self._get_entities()\n",
    "        \n",
    "    def _get_subjs(self):\n",
    "        \"\"\"\n",
    "        define a exclusion variable to determine if resolve conflict\n",
    "            same variable used by get_nested_subjs\n",
    "        \"\"\"\n",
    "        if self.s.startswith('#background'):\n",
    "            return ['background']\n",
    "        if self.s.startswith('#accessory'):\n",
    "            return ['accessory']\n",
    "        if self.s.startswith('#group'):\n",
    "            # action can not be neglected, thus here we can append \\(\n",
    "            # but if actions can be neglected, need to modify here\n",
    "            subjs = re.findall('[\\[|,](\\w+)\\(', self.s)\n",
    "            if len(subjs) != len(set(subjs)):\n",
    "                # there are multiple subjects are duplicate, e.g. man(), man()\n",
    "                # name them sequencially\n",
    "                duplicates = list(set([subj for subj in subjs if subjs.count(subj)>1]))\n",
    "                for subj in duplicates:\n",
    "                    for i in range(subjs.count(subj)):\n",
    "                        self.s = re.sub('(?<=[\\[,])%s(?=\\()' % subj,\n",
    "                                        '%s%i' % (subj, i+1),\n",
    "                                        self.s, count=1)\n",
    "                # find the subjects again\n",
    "                subjs = re.findall('[\\[|,](\\w+)\\(', self.s)\n",
    "        else:\n",
    "            subjs = re.findall('^#(\\w+)\\(', self.s)\n",
    "            assert len(subjs) == 1, (self.s, subjs)\n",
    "        # make sure there are no duplicated subjects\n",
    "        assert(len(subjs) == len(set(subjs)))\n",
    "        return subjs\n",
    "\n",
    "    def _get_acts(self):\n",
    "        \"\"\"\n",
    "        given subj, find associated actions\n",
    "            what if subjs are same? E.g. there are two man in the same layer!!\n",
    "        \"\"\"\n",
    "        subjs = self._get_subjs()\n",
    "        # if group, remove group mark\n",
    "        if self.s.startswith('#group'):\n",
    "            s = re.sub('#group\\(have', '', self.s)\n",
    "            s = s.rstrip(')')\n",
    "        else:\n",
    "            # make the form consistent\n",
    "            s = '[%s]' % self.s.lstrip('#')\n",
    "\n",
    "        # temporarily remove all objects\n",
    "        obj = '\\[\\w+(,\\w+)*\\]'\n",
    "        s = re.sub(obj, '', s)\n",
    "\n",
    "        # extend or append\n",
    "        acts = defaultdict(list)\n",
    "        for subj in subjs:\n",
    "            if subj not in acts:\n",
    "                acts[subj] = []\n",
    "            for act in re.findall(r'[\\[,]{subj}\\(([\\w,]+)\\)'.format(subj=subj), s):\n",
    "                if ',' in act:\n",
    "                    acts[subj].extend(act.split(','))\n",
    "                else:\n",
    "                    acts[subj].append(act)\n",
    "\n",
    "        return acts\n",
    "\n",
    "    def _get_nested_entities(self):\n",
    "        \"\"\"\n",
    "        given subj, actions,  find associated objects\n",
    "        \"\"\"\n",
    "        if not self.s:\n",
    "            return defaultdict(lambda: defaultdict(list))\n",
    "            # defaultdict(lambda: defaultdict(lambda: defaultdict(int)))\n",
    "        \n",
    "        acts = self._get_acts()\n",
    "        \n",
    "        # if group, remove group mark\n",
    "        if self.s.startswith('#group'):\n",
    "            s = re.sub('#group\\(have', '', self.s)\n",
    "            s = s.rstrip(')')\n",
    "        else:\n",
    "            s = '[%s]' % self.s.lstrip('#')\n",
    "\n",
    "        # extend or append\n",
    "        objs = defaultdict(lambda: defaultdict(list))\n",
    "        # objs = defaultdict(lambda: defaultdict(lambda: defaultdict(int)))\n",
    "        for subj in acts:\n",
    "            if subj not in objs:\n",
    "                objs[subj] = {}\n",
    "            for act in acts[subj]:\n",
    "                if act not in objs[subj]:\n",
    "                    objs[subj][act] = []\n",
    "                    # objs[subj][act] = {}\n",
    "                regex = r'[\\[,]{subj}\\([\\w,\\[\\]]*{act}\\[([\\w,]+)\\][\\w,\\[\\]]*\\)[\\],]'.format(subj=subj, act=act)\n",
    "                for obj in re.findall(regex, s):\n",
    "                    if obj:\n",
    "                        if ',' in obj:\n",
    "                            # for obj_ in obj.split(','):\n",
    "                            #     objs[subj][act][obj_] += 1\n",
    "                            objs[subj][act].extend(obj.split(','))\n",
    "                        else:\n",
    "                            # objs[subj][act][obj] += 1\n",
    "                            objs[subj][act].append(obj)\n",
    "\n",
    "        return objs\n",
    "    \n",
    "    def _get_entities(self):\n",
    "        \"\"\"\n",
    "        a dictionary of all the entities list\n",
    "            todo: need to resolve multiple subjects, because get_subjs resolve conflicts\n",
    "        \"\"\"\n",
    "        entities = defaultdict(lambda: defaultdict(int))\n",
    "        for subj in self.nested_entities_:\n",
    "            # to-do\n",
    "            sub = subj # re.sub(r'\\d*$','',subj)\n",
    "            entities['subj'][sub] += 1 #.add(subj)\n",
    "            for act in self.nested_entities_[subj]:\n",
    "                # same actions in different subject will be counted separately\n",
    "                entities['act'][act] += 1 #.add(act)\n",
    "                for obj in self.nested_entities_[subj][act]:\n",
    "                    entities['obj'][obj] += 1 #.add(obj)\n",
    "        return entities\n",
    "\n",
    "    def absorb(self, other, subj_exclusion=False):\n",
    "\n",
    "        # merge nested entites\n",
    "        if not subj_exclusion:\n",
    "            \n",
    "            # merge man1 and man2\n",
    "            self.collapse_subj()\n",
    "            other.collapse_subj()\n",
    "            absorb_nested_dict(self.nested_entities_,\n",
    "                               other.nested_entities_)\n",
    "            \n",
    "        else:\n",
    "            for subj in other.nested_entities_:\n",
    "                sub = re.sub(r'\\d*$','',subj)\n",
    "                if sub not in self.nested_entities_:\n",
    "                    self.nested_entities_[subj] = other.nested_entities_[subj]\n",
    "                else:\n",
    "                    count = 0\n",
    "                    for subj_ in self.nested_entities_:    \n",
    "                        if re.match('^{subj}\\d*$'.format(subj=sub), subj_):\n",
    "                            count += 1\n",
    "                    self.nested_entities_['%s%i' % (sub, count+1)] = other.nested_entities_[subj]\n",
    "            \n",
    "        # merge entities\n",
    "        # show new entities list\n",
    "        # self.entities_ = self.__get_entities()\n",
    "        for type_ in other.entities_:\n",
    "            for entity in other.entities_[type_]:\n",
    "                self.entities_[type_][entity] += other.entities_[type_][entity] \n",
    "        \n",
    "    def collapse_subj(self):\n",
    "        \"\"\"\n",
    "        collapse subjk such that we no longer label two men in one layer separately\n",
    "        \"\"\"\n",
    "        # collapse nested dict\n",
    "        nested_entities_clps_ = defaultdict(lambda: defaultdict(list))\n",
    "        for subj in self.nested_entities_:\n",
    "            if re.match(r'^\\w+\\d+$', subj):\n",
    "                sub = re.sub(r'\\d*$', '', subj)\n",
    "                absorb_nested_dict(nested_entities_clps_[sub],\n",
    "                                   self.nested_entities_[subj])\n",
    "            else:\n",
    "                nested_entities_clps_[subj] = self.nested_entities_[subj]  \n",
    "        self.nested_entities_ = nested_entities_clps_\n",
    "        \n",
    "        # collapse dict, such that count are summed\n",
    "        entities_clps_ = defaultdict(lambda: defaultdict(int))\n",
    "        for type_ in self.entities_:\n",
    "            for entity in self.entities_[type_]:\n",
    "                if re.match(r'^\\w+\\d+$', entity):\n",
    "                    sub = re.sub(r'\\d*$', '', entity)\n",
    "                    entities_clps_[type_][sub] += self.entities_[type_][entity]\n",
    "                else:\n",
    "                    entities_clps_[type_][entity] = self.entities_[type_][entity]\n",
    "        self.entities_ = entities_clps_        \n",
    "        \n",
    "            \n",
    "#     def collapse_act(self):\n",
    "        \n",
    "    def ravel(self):\n",
    "        \"\"\"\n",
    "            ravel a layer to a tuple of keywords (weighted)\n",
    "                what to do with keyword occurring more than once\n",
    "        \"\"\"\n",
    "        pass\n",
    "        return tuple()\n",
    "        \n",
    "    def print_(self):\n",
    "        for subj in self.nested_entities_:\n",
    "            if not self.nested_entities_[subj]:\n",
    "                print('%s(subj)' % subj)\n",
    "            for act in self.nested_entities_[subj]:\n",
    "                if not self.nested_entities_[subj][act]:\n",
    "                    print('%s(subj) - %s(act)' % (subj, act))\n",
    "                for obj in self.nested_entities_[subj][act]:\n",
    "                    print('%s(subj) - %s(act) - %s(obj)' % (subj, act, obj))\n",
    "    \n",
    "    def plot(self):\n",
    "        \n",
    "        # regain entities, because merge entities are sets\n",
    "        entities_ = self._get_entities()\n",
    "        \n",
    "        len_subj = len(entities_['subj'])\n",
    "        len_act = len(entities_['act'])\n",
    "        len_obj = len(entities_['obj'])\n",
    "        \n",
    "        import matplotlib.pyplot as plt\n",
    "        figsize = (5, max(len_subj, len_act, len_obj)/6*2)\n",
    "        plt.figure(figsize=figsize)\n",
    "        plt.plot([1]*len_subj, range(len_subj),'r.')\n",
    "        plt.plot([2]*len_act, range(len_act),'g.')\n",
    "        plt.plot([3]*len_obj, range(len_obj), '.', color='orange')\n",
    "\n",
    "        def atoi(text):\n",
    "            return int(text) if text.isdigit() else text\n",
    "\n",
    "        def natural_keys(text):\n",
    "            '''\n",
    "            alist.sort(key=natural_keys) sorts in human order\n",
    "            http://nedbatchelder.com/blog/200712/human_sorting.html\n",
    "            (See Toothy's implementation in the comments)\n",
    "            '''\n",
    "            return [ atoi(c) for c in re.split(r'(\\d+)', text) ]\n",
    "\n",
    "        def get_xy(t, attr):\n",
    "            if attr == 'subj':\n",
    "                return (1, sorted(list(entities_['subj']),\n",
    "                                  key=natural_keys).index(t))\n",
    "            elif attr == 'act':\n",
    "                return (2, sorted(list(entities_['act']),\n",
    "                                  key=natural_keys).index(t))\n",
    "            elif attr == 'obj':\n",
    "                return (3, sorted(list(entities_['obj']),\n",
    "                                  key=natural_keys).index(t))\n",
    "            else:\n",
    "                raise KeyError(attr)\n",
    "        \n",
    "        for subj in self.nested_entities_:\n",
    "            for act in self.nested_entities_[subj]:\n",
    "                if act != 'have':\n",
    "                    xs, ys = list(zip(get_xy(subj, 'subj'), get_xy(act, 'act')))\n",
    "                    plt.plot(xs, ys, 'k-', alpha=0.1)\n",
    "                    for obj in self.nested_entities_[subj][act]:\n",
    "                        xs, ys = list(zip(get_xy(act, 'act'), get_xy(obj, 'obj')))\n",
    "                        plt.plot(xs, ys, 'k-', alpha=0.1)\n",
    "                else:\n",
    "                    for obj in self.nested_entities_[subj][act]:\n",
    "                        xs, ys = list(zip(get_xy(subj, 'subj'), get_xy(obj, 'obj')))\n",
    "                        plt.plot(xs, ys, 'k:', alpha=0.1)                  \n",
    "                \n",
    "        for i, subj in enumerate(sorted(list(entities_['subj']),\n",
    "                                        key=natural_keys)):\n",
    "            plt.text(1, i, '%s(%i)' % (subj, self.entities_['subj'][subj]), color='r')\n",
    "        for i, act in enumerate(sorted(list(entities_['act']),\n",
    "                                       key=natural_keys)):\n",
    "            plt.text(2, i, '%s(%i)' % (act, self.entities_['act'][act]), color='g')\n",
    "        for i, obj in enumerate(sorted(list(entities_['obj']),\n",
    "                                       key=natural_keys)):\n",
    "            plt.text(3, i, '%s(%i)' % (obj, self.entities_['obj'][obj]), color='orange')\n",
    "        plt.axis('off')\n",
    "        plt.savefig('results/graph', bbox_inches='tight')\n",
    "        plt.show()"
   ]
  },
  {
   "cell_type": "code",
   "execution_count": null,
   "metadata": {},
   "outputs": [],
   "source": []
  },
  {
   "cell_type": "code",
   "execution_count": 147,
   "metadata": {},
   "outputs": [
    {
     "data": {
      "text/plain": [
       "{'a': {'b': [1, 2, 3, 4], 'c': 3}, 'e': {'f': [1]}, 'c': {'d': [1]}}"
      ]
     },
     "execution_count": 147,
     "metadata": {},
     "output_type": "execute_result"
    }
   ],
   "source": [
    "a = {'a': {'b': [1,2,3]},\n",
    "     'e': {'f': [1]}}\n",
    "b = {'c': {'d': [1]},\n",
    "     'a': {'b': [1,2,4],\n",
    "           'c': 3}}\n",
    "absorb_nested_dict(a,b)\n",
    "a"
   ]
  },
  {
   "cell_type": "code",
   "execution_count": 149,
   "metadata": {},
   "outputs": [
    {
     "data": {
      "text/plain": [
       "defaultdict(<function __main__.LayerName.collapse_subj.<locals>.<lambda>()>,\n",
       "            {'subj': defaultdict(int,\n",
       "                         {'man': 4, 'woman': 2, 'alien': 1, 'other': 1}),\n",
       "             'act': defaultdict(int,\n",
       "                         {'sit': 1,\n",
       "                          'play': 2,\n",
       "                          'stand': 3,\n",
       "                          'hold': 2,\n",
       "                          'have': 4,\n",
       "                          'work': 1}),\n",
       "             'obj': defaultdict(int,\n",
       "                         {'computer': 1,\n",
       "                          'phone': 1,\n",
       "                          'toy': 2,\n",
       "                          'ground': 1,\n",
       "                          'cellphone': 1})})"
      ]
     },
     "execution_count": 149,
     "metadata": {},
     "output_type": "execute_result"
    }
   ],
   "source": [
    "s = '#group(have[man(sit,play[computer]),man(stand,hold[phone],have),woman(have,hold[toy]),woman(stand[ground],have[toy]),alien(stand),other(have)])'\n",
    "checkLayerName(s)\n",
    "# s = '#background'\n",
    "checkLayerName(s)\n",
    "layer = LayerName(s)\n",
    "# layer.collapse_subj()\n",
    "# layer.collapse_subj()\n",
    "# layer.entities_\n",
    "layer2 = LayerName('#group(have[man(play[cellphone]),man(work)])')\n",
    "# layer2.entities_\n",
    "# layer2.collapse_subj()\n",
    "layer.absorb(layer2)\n",
    "layer.entities_"
   ]
  },
  {
   "cell_type": "code",
   "execution_count": 135,
   "metadata": {},
   "outputs": [
    {
     "name": "stdout",
     "output_type": "stream",
     "text": [
      "['#background', '#woman(stand,talk)', '#woman(point_to,show,stand)', '#wild(have[firework,plant])']\n"
     ]
    },
    {
     "data": {
      "text/plain": [
       "defaultdict(<function __main__.LayerName._get_nested_entities.<locals>.<lambda>()>,\n",
       "            {'background': {},\n",
       "             'woman': {'stand': [], 'talk': []},\n",
       "             'woman2': {'point_to': [], 'show': [], 'stand': []}})"
      ]
     },
     "execution_count": 135,
     "metadata": {},
     "output_type": "execute_result"
    }
   ],
   "source": [
    "svgs = getLayerNames('images2.0/Fireworks.svg')\n",
    "print(svgs)\n",
    "layername = LayerName(svgs[0])\n",
    "layername.absorb(LayerName(svgs[1]), subj_exclusion=True)\n",
    "layername.absorb(LayerName(svgs[2]), subj_exclusion=True)\n",
    "layername.nested_entities_"
   ]
  },
  {
   "cell_type": "code",
   "execution_count": 96,
   "metadata": {
    "scrolled": false
   },
   "outputs": [
    {
     "name": "stdout",
     "output_type": "stream",
     "text": [
      "images2.0/weather.svg\n",
      "['#background', '#accessory(have[plant])', '#other(have[bulletin])', '#man(stand,point_to)']\n",
      "images2.0/wandering_mind.svg\n",
      "['#background', '#other(have[plant,circle])', '#man(sit)']\n",
      "images2.0/Fitness_tracker.svg\n",
      "['#office(have[phone])', '#wild(have[plant,wind])', '#woman(sport,run)']\n",
      "images2.0/Follow_me_drone.svg\n",
      "['#background', '#other(have[drone])', '#woman(watch,have[head_shot])']\n",
      "images2.0/wall_post.svg\n",
      "['#background', '#other(have[website,plant])', '#woman(stand,hold[pencil])']\n",
      "images2.0/transfer_money.svg\n",
      "['#background', '#woman(sit,play[computer])', '#man(stand,hold[phone])', '#chart(have[money,arrow])']\n",
      "images2.0/Fishing.svg\n",
      "['#background', '#wild(have[lake,hill,cloud])', '#wild(have[boat])', '#man(fishing,stand,hold[fishing_rod])']\n",
      "images2.0/Game_day.svg\n",
      "['#background', '#accessory', '#home(have[sofa,toy,chips])', '#group(have[man(drink[beer],sit,raise[arm]),man(sit,raise[arm],eat[chips])])']\n",
      "images2.0/Freelancer.svg\n",
      "['#background', '#home(have[bookcase,apple,wall_clock])', '#woman(play[computer],work,sit)']\n",
      "images2.0/Gaming.svg\n",
      "['#background', '#man(touch,stand)', '#other(have[controllers])']\n"
     ]
    },
    {
     "data": {
      "image/png": "[encoded data removed]",
      "text/plain": [
       "<Figure size 360x624 with 1 Axes>"
      ]
     },
     "metadata": {
      "needs_background": "light"
     },
     "output_type": "display_data"
    }
   ],
   "source": [
    "import random\n",
    "# layers = getLayerNames('images2.0/transfer_money.svg')\n",
    "layername = LayerName()\n",
    "import glob\n",
    "svgs = glob.glob('images2.0/*.svg')\n",
    "# random.shuffle(svgs)\n",
    "for svg in svgs[:10]:\n",
    "    print(svg)\n",
    "    print(getLayerNames(svg))\n",
    "    for layer in getLayerNames(svg):\n",
    "        layername.absorb(LayerName(layer))\n",
    "layername.plot()"
   ]
  },
  {
   "cell_type": "code",
   "execution_count": null,
   "metadata": {},
   "outputs": [],
   "source": [
    "class Picture():\n",
    "    # must define layer __eq__\n",
    "    # reflect how layers co-occur in a picture; the connection between layers"
   ]
  },
  {
   "cell_type": "markdown",
   "metadata": {},
   "source": [
    "get all subj-action-obj tuples. not separately"
   ]
  },
  {
   "cell_type": "code",
   "execution_count": 1044,
   "metadata": {},
   "outputs": [
    {
     "data": {
      "text/plain": [
       "5"
      ]
     },
     "execution_count": 1044,
     "metadata": {},
     "output_type": "execute_result"
    }
   ],
   "source": [
    "a = set()\n",
    "a.add(Node('cat','obj'))\n",
    "for t in a:\n",
    "    if t == Node('cat','obj'):\n",
    "        break\n",
    "# a.remove(Node('cat','obj'))\n",
    "t.count = 4\n",
    "# a.pop().count\n",
    "b = set()\n",
    "b.add(t)\n",
    "for t1 in b:\n",
    "    if t1 == Node('cat','obj'):\n",
    "        break\n",
    "t1.count += 1\n",
    "list(a)[0].count"
   ]
  },
  {
   "cell_type": "code",
   "execution_count": 1045,
   "metadata": {},
   "outputs": [],
   "source": [
    "test_s1 = '#group(have[subj1(act0[obj1,obj2],act1[obj4],act2[obj1],act3,act4[obj3]),subj2(act2,act4,act6[obj1],act7[obj4,obj1,obj5]),subj3(act7,act3,act4)])'\n",
    "test_s2 = '#subj1(act0[obj1,obj2,obj3],act1[obj4],act2[obj1],act3,act4[obj3],act5,act6)'"
   ]
  },
  {
   "cell_type": "code",
   "execution_count": 1606,
   "metadata": {},
   "outputs": [
    {
     "data": {
      "image/png": "[encoded data removed]",
      "text/plain": [
       "<Figure size 360x120 with 1 Axes>"
      ]
     },
     "metadata": {
      "needs_background": "light"
     },
     "output_type": "display_data"
    }
   ],
   "source": [
    "layer = LayerName(getLayerNames('images2.0/Fish_bowl.svg')[0])\n",
    "layer.plot()"
   ]
  },
  {
   "cell_type": "code",
   "execution_count": 957,
   "metadata": {
    "scrolled": true
   },
   "outputs": [
    {
     "name": "stdout",
     "output_type": "stream",
     "text": [
      "act0(act) - obj1(obj)\n",
      "act0(act) - obj2(obj)\n",
      "act1(act) - obj4(obj)\n",
      "act2(act) - obj1(obj)\n",
      "act4(act) - obj3(obj)\n",
      "act6(act) - obj1(obj)\n",
      "act7(act) - obj1(obj)\n",
      "act7(act) - obj4(obj)\n",
      "act7(act) - obj5(obj)\n",
      "subj1(subj) - act0(act)\n",
      "subj1(subj) - act1(act)\n",
      "subj1(subj) - act2(act)\n",
      "subj1(subj) - act3(act)\n",
      "subj1(subj) - act4(act)\n",
      "subj2(subj) - act2(act)\n",
      "subj2(subj) - act4(act)\n",
      "subj2(subj) - act6(act)\n",
      "subj2(subj) - act7(act)\n",
      "subj3(subj) - act3(act)\n",
      "subj3(subj) - act4(act)\n",
      "subj3(subj) - act7(act)\n",
      "subj1(subj) - obj1(obj)\n",
      "subj1(subj) - obj2(obj)\n",
      "subj1(subj) - obj3(obj)\n",
      "subj1(subj) - obj4(obj)\n",
      "subj2(subj) - obj1(obj)\n",
      "subj2(subj) - obj4(obj)\n",
      "subj2(subj) - obj5(obj)\n"
     ]
    }
   ],
   "source": [
    "graph.edges_._print()"
   ]
  },
  {
   "cell_type": "markdown",
   "metadata": {},
   "source": [
    "* in one layer, only when group layer will entities repeat. And repetitive entities **often** refer to the same one\n",
    "* in different layer, repetitive entities **should** refer to different ones. **E.g**. Layer1: man(have[obj]) Layer2: woman(have[obj]). There must be two objs, otherwise one of them would be subj(have)"
   ]
  },
  {
   "cell_type": "code",
   "execution_count": 687,
   "metadata": {},
   "outputs": [],
   "source": [
    "def to_graph(layers):\n",
    "    \"\"\"\n",
    "    Given a list of layer names, output subj-act-obj graph\n",
    "    \"\"\"\n",
    "    assert(isinstance(layers, list)), layers\n",
    "    assert(isinstance(layers[0], str)), layers\n",
    "    from collections import defaultdict\n",
    "    subjects = defaultdict(set)\n",
    "    actions = defaultdict(set)\n",
    "    objects = set()\n",
    "    extras = set()\n",
    "    for name in layers:\n",
    "        entities = find_entities(name)\n",
    "        for subj in entities['subjects']:\n",
    "            if subj not in subjects:\n",
    "                subjects[subj] = set()\n",
    "            for act in entities['actions']:\n",
    "                if act == 'have': continue\n",
    "                if is_connect_subj_act(subj, act, name):\n",
    "                    subjects[subj].add(act)\n",
    "        for act in entities['actions']:\n",
    "            if act not in actions:\n",
    "                actions[act] = set()\n",
    "            if act == 'have':\n",
    "                for obj in entities['objects']:\n",
    "                    for subj in entities['subjects']:\n",
    "                        if is_connect_subj_obj(subj, obj, name):\n",
    "                            extras.add((subj, obj))\n",
    "            else:\n",
    "                for obj in entities['objects']:\n",
    "                    if is_connect_act_obj(act, obj, name):\n",
    "                        actions[act].add(obj)\n",
    "        objects |= entities['objects']\n",
    "    return {'subjects': subjects,\n",
    "            'actions': actions,\n",
    "            'objects': objects,\n",
    "            'extras': extras}"
   ]
  },
  {
   "cell_type": "markdown",
   "metadata": {},
   "source": [
    "### graph class with attribute(subj, act, obj)"
   ]
  },
  {
   "cell_type": "code",
   "execution_count": 692,
   "metadata": {},
   "outputs": [
    {
     "data": {
      "image/png": "[encoded data removed]",
      "text/plain": [
       "<Figure size 360x120 with 1 Axes>"
      ]
     },
     "metadata": {
      "needs_background": "light"
     },
     "output_type": "display_data"
    }
   ],
   "source": [
    "plot_graph(to_graph(getLayerNames('images2.0/83.svg')))"
   ]
  },
  {
   "cell_type": "code",
   "execution_count": 696,
   "metadata": {},
   "outputs": [],
   "source": [
    "def merge_dict_set(d_set1, d_set2):\n",
    "    d_set = d_set1.copy()\n",
    "    for key in d_set2:\n",
    "         d_set[key] |= d_set2[key]\n",
    "    return d_set"
   ]
  },
  {
   "cell_type": "code",
   "execution_count": 703,
   "metadata": {},
   "outputs": [
    {
     "name": "stdout",
     "output_type": "stream",
     "text": [
      "images2.0/Fitness_tracker.svg\n",
      "images2.0/Fishing.svg\n",
      "images2.0/Fish_bowl.svg\n",
      "images2.0/48.svg\n",
      "images2.0/60.svg\n",
      "images2.0/Fireworks.svg\n",
      "images2.0/3.svg\n",
      "images2.0/83.svg\n",
      "images2.0/Firmware.svg\n",
      "images2.0/5.svg\n",
      "images2.0/4.svg\n",
      "images2.0/56.svg\n"
     ]
    }
   ],
   "source": [
    "import glob\n",
    "from collections import defaultdict\n",
    "subjects = defaultdict(set)\n",
    "actions = defaultdict(set)\n",
    "objects = set()\n",
    "extras = set()\n",
    "for svg in glob.glob('images2.0/*.svg'):\n",
    "    print(svg)\n",
    "    graph = to_graph(getLayerNames(svg))\n",
    "    subjects = merge_dict_set(subjects, graph['subjects'])\n",
    "    actions = merge_dict_set(actions, graph['actions'])\n",
    "    objects |= graph['objects']\n",
    "    extras |= graph['extras']\n",
    "graph = {'subjects': subjects,\n",
    "         'actions': actions,\n",
    "         'objects': objects,\n",
    "         'extras': extras}"
   ]
  },
  {
   "cell_type": "code",
   "execution_count": 700,
   "metadata": {},
   "outputs": [
    {
     "data": {
      "image/png": "[encoded data removed]",
      "text/plain": [
       "<Figure size 360x720 with 1 Axes>"
      ]
     },
     "metadata": {
      "needs_background": "light"
     },
     "output_type": "display_data"
    }
   ],
   "source": [
    "plot_graph(graph)"
   ]
  },
  {
   "cell_type": "code",
   "execution_count": 691,
   "metadata": {},
   "outputs": [],
   "source": [
    "def plot_graph(graph, figsize=(5,10)):\n",
    "    assert(isinstance(graph, dict))\n",
    "    subjects = graph['subjects']\n",
    "    actions = graph['actions']\n",
    "    objects = graph['objects']\n",
    "    extras = graph['extras']\n",
    "    figsize = (5,len(objects)/6*2)\n",
    "\n",
    "    import matplotlib.pyplot as plt\n",
    "    plt.figure(figsize=figsize)\n",
    "    plt.plot([1]*len(subjects), range(len(subjects)),'r.')\n",
    "    plt.plot([2]*len(actions), range(len(actions)),'g.')\n",
    "    plt.plot([3]*len(objects), range(len(objects)), '.', color='orange')\n",
    "    for subj in subjects:\n",
    "        for act in subjects[subj]:\n",
    "            plt.plot([1,2], [sorted(subjects.keys()).index(subj),\n",
    "                             sorted(actions.keys()).index(act)], 'k-', alpha=0.2)\n",
    "    for act in actions:\n",
    "        for obj in actions[act]:\n",
    "            plt.plot([2,3], [sorted(actions.keys()).index(act),\n",
    "                             sorted(objects).index(obj)], 'k-', alpha=0.2)\n",
    "    for subj, obj in extras:\n",
    "        plt.plot([1,3], [sorted(subjects.keys()).index(subj),\n",
    "                        sorted(objects).index(obj)], 'k--', alpha=0.2)\n",
    "    for i, subj in enumerate(sorted(subjects)):\n",
    "        plt.text(1, i, subj, color='r')\n",
    "    for i, act in enumerate(sorted(actions)):\n",
    "        plt.text(2, i, act, color='g')\n",
    "    for i, obj in enumerate(sorted(objects)):\n",
    "        plt.text(3, i, obj, color='orange')\n",
    "    plt.axis('off')\n",
    "    plt.show()"
   ]
  },
  {
   "cell_type": "code",
   "execution_count": 568,
   "metadata": {},
   "outputs": [
    {
     "name": "stdout",
     "output_type": "stream",
     "text": [
      "subj1 act0 True\n",
      "subj1 act1 True\n",
      "subj1 act2 True\n",
      "subj1 act3 True\n",
      "subj1 act4 True\n",
      "subj1 act5 True\n",
      "subj1 act6 True\n"
     ]
    }
   ],
   "source": [
    "entities = find_entities(test_s2)\n",
    "for subj in sorted(entities['subjects']):\n",
    "    for act in sorted(entities['actions']):\n",
    "        print(subj, act, is_connect_subj_act(subj, act, test_s2))\n",
    "# for act in sorted(entities['actions']):\n",
    "#     for obj in sorted(entities['objects']):\n",
    "#         print(act, obj, is_connect_act_obj(act, obj, test_s2))"
   ]
  },
  {
   "cell_type": "markdown",
   "metadata": {},
   "source": [
    "### subj - act - obj\n",
    "\n",
    "but subj - act and act - obj means subj - act - obj?"
   ]
  },
  {
   "cell_type": "code",
   "execution_count": 266,
   "metadata": {},
   "outputs": [],
   "source": [
    "# we'd rather maintain 3 dicts of sets?"
   ]
  },
  {
   "cell_type": "code",
   "execution_count": null,
   "metadata": {},
   "outputs": [],
   "source": []
  },
  {
   "cell_type": "code",
   "execution_count": 79,
   "metadata": {},
   "outputs": [
    {
     "data": {
      "text/plain": [
       "['',\n",
       " '_x23_background',\n",
       " '_x23_wild_x28_have_x5B_lake_x2C_hill_x2C_cloud_x5D__x29_',\n",
       " '',\n",
       " '_x23_wild_x28_have_x5B_boat_x5D__x29_',\n",
       " '',\n",
       " '_x23_man_x28_fishing_x2C_stand_x2C_hold_x5B_fishing_x5F_rod_x5D__x29__1_',\n",
       " '',\n",
       " '']"
      ]
     },
     "execution_count": 79,
     "metadata": {},
     "output_type": "execute_result"
    }
   ],
   "source": [
    "doc = parse('images2.0/Fishing.svg')\n",
    "[g.getAttribute('id') for g in doc.getElementsByTagName('g')]"
   ]
  },
  {
   "cell_type": "code",
   "execution_count": 1058,
   "metadata": {},
   "outputs": [
    {
     "ename": "WordNetError",
     "evalue": "Computing the least common subsumer requires Synset('dog.n.01') and Synset('feed.v.01') to have the same part of speech.",
     "output_type": "error",
     "traceback": [
      "\u001b[0;31m---------------------------------------------------------------------------\u001b[0m",
      "\u001b[0;31mWordNetError\u001b[0m                              Traceback (most recent call last)",
      "\u001b[0;32m<ipython-input-1058-ef75557de39f>\u001b[0m in \u001b[0;36m<module>\u001b[0;34m\u001b[0m\n\u001b[1;32m      4\u001b[0m \u001b[0;32mfrom\u001b[0m \u001b[0mnltk\u001b[0m\u001b[0;34m.\u001b[0m\u001b[0mcorpus\u001b[0m \u001b[0;32mimport\u001b[0m \u001b[0mgenesis\u001b[0m\u001b[0;34m\u001b[0m\u001b[0;34m\u001b[0m\u001b[0m\n\u001b[1;32m      5\u001b[0m \u001b[0mgenesis_ic\u001b[0m \u001b[0;34m=\u001b[0m \u001b[0mwn\u001b[0m\u001b[0;34m.\u001b[0m\u001b[0mic\u001b[0m\u001b[0;34m(\u001b[0m\u001b[0mgenesis\u001b[0m\u001b[0;34m,\u001b[0m \u001b[0;32mFalse\u001b[0m\u001b[0;34m,\u001b[0m \u001b[0;36m0.0\u001b[0m\u001b[0;34m)\u001b[0m\u001b[0;34m\u001b[0m\u001b[0;34m\u001b[0m\u001b[0m\n\u001b[0;32m----> 6\u001b[0;31m \u001b[0mdog\u001b[0m\u001b[0;34m.\u001b[0m\u001b[0mres_similarity\u001b[0m\u001b[0;34m(\u001b[0m\u001b[0mfeed\u001b[0m\u001b[0;34m,\u001b[0m \u001b[0mgenesis_ic\u001b[0m\u001b[0;34m)\u001b[0m\u001b[0;34m\u001b[0m\u001b[0;34m\u001b[0m\u001b[0m\n\u001b[0m",
      "\u001b[0;32m~/miniconda2/envs/text2scene/lib/python3.7/site-packages/nltk/corpus/reader/wordnet.py\u001b[0m in \u001b[0;36mres_similarity\u001b[0;34m(self, other, ic, verbose)\u001b[0m\n\u001b[1;32m    976\u001b[0m         \"\"\"\n\u001b[1;32m    977\u001b[0m \u001b[0;34m\u001b[0m\u001b[0m\n\u001b[0;32m--> 978\u001b[0;31m         \u001b[0mic1\u001b[0m\u001b[0;34m,\u001b[0m \u001b[0mic2\u001b[0m\u001b[0;34m,\u001b[0m \u001b[0mlcs_ic\u001b[0m \u001b[0;34m=\u001b[0m \u001b[0m_lcs_ic\u001b[0m\u001b[0;34m(\u001b[0m\u001b[0mself\u001b[0m\u001b[0;34m,\u001b[0m \u001b[0mother\u001b[0m\u001b[0;34m,\u001b[0m \u001b[0mic\u001b[0m\u001b[0;34m)\u001b[0m\u001b[0;34m\u001b[0m\u001b[0;34m\u001b[0m\u001b[0m\n\u001b[0m\u001b[1;32m    979\u001b[0m         \u001b[0;32mreturn\u001b[0m \u001b[0mlcs_ic\u001b[0m\u001b[0;34m\u001b[0m\u001b[0;34m\u001b[0m\u001b[0m\n\u001b[1;32m    980\u001b[0m \u001b[0;34m\u001b[0m\u001b[0m\n",
      "\u001b[0;32m~/miniconda2/envs/text2scene/lib/python3.7/site-packages/nltk/corpus/reader/wordnet.py\u001b[0m in \u001b[0;36m_lcs_ic\u001b[0;34m(synset1, synset2, ic, verbose)\u001b[0m\n\u001b[1;32m   2121\u001b[0m         raise WordNetError(\n\u001b[1;32m   2122\u001b[0m             \u001b[0;34m'Computing the least common subsumer requires '\u001b[0m\u001b[0;34m\u001b[0m\u001b[0;34m\u001b[0m\u001b[0m\n\u001b[0;32m-> 2123\u001b[0;31m             \u001b[0;34m'%s and %s to have the same part of speech.'\u001b[0m \u001b[0;34m%\u001b[0m \u001b[0;34m(\u001b[0m\u001b[0msynset1\u001b[0m\u001b[0;34m,\u001b[0m \u001b[0msynset2\u001b[0m\u001b[0;34m)\u001b[0m\u001b[0;34m\u001b[0m\u001b[0;34m\u001b[0m\u001b[0m\n\u001b[0m\u001b[1;32m   2124\u001b[0m         )\n\u001b[1;32m   2125\u001b[0m \u001b[0;34m\u001b[0m\u001b[0m\n",
      "\u001b[0;31mWordNetError\u001b[0m: Computing the least common subsumer requires Synset('dog.n.01') and Synset('feed.v.01') to have the same part of speech."
     ]
    }
   ],
   "source": [
    "from nltk.corpus import wordnet as wn\n",
    "dog = wn.synset('dog.n.01')\n",
    "feed = wn.synset('feed.v.01')\n",
    "from nltk.corpus import genesis\n",
    "genesis_ic = wn.ic(genesis, False, 0.0)\n",
    "dog.res_similarity(feed, genesis_ic)"
   ]
  },
  {
   "cell_type": "code",
   "execution_count": 1062,
   "metadata": {
    "scrolled": true
   },
   "outputs": [
    {
     "data": {
      "text/plain": [
       "{'@id': '/c/en/sit',\n",
       " 'related': [{'@id': '/c/en/sit', 'weight': 1.0},\n",
       "  {'@id': '/c/en/sits', 'weight': 0.863},\n",
       "  {'@id': '/c/en/hold_steady', 'weight': 0.82},\n",
       "  {'@id': '/c/en/sitting', 'weight': 0.759},\n",
       "  {'@id': '/c/en/seated', 'weight': 0.755},\n",
       "  {'@id': '/c/en/sitten', 'weight': 0.746},\n",
       "  {'@id': '/c/en/sit_down', 'weight': 0.693},\n",
       "  {'@id': '/c/en/folding_chair', 'weight': 0.685},\n",
       "  {'@id': '/c/en/sittings', 'weight': 0.664},\n",
       "  {'@id': '/c/en/sat', 'weight': 0.582},\n",
       "  {'@id': '/c/en/seat', 'weight': 0.538},\n",
       "  {'@id': '/c/en/beanbag_chair', 'weight': 0.522},\n",
       "  {'@id': '/c/en/seiza', 'weight': 0.516},\n",
       "  {'@id': '/c/en/recline', 'weight': 0.502},\n",
       "  {'@id': '/c/en/reclined', 'weight': 0.5},\n",
       "  {'@id': '/c/en/sittin', 'weight': 0.495},\n",
       "  {'@id': '/c/en/reclining', 'weight': 0.492},\n",
       "  {'@id': '/c/en/cross_legged', 'weight': 0.476},\n",
       "  {'@id': '/c/en/stands', 'weight': 0.475},\n",
       "  {'@id': '/c/en/stand', 'weight': 0.471},\n",
       "  {'@id': '/c/en/standing', 'weight': 0.462},\n",
       "  {'@id': '/c/en/seating', 'weight': 0.462},\n",
       "  {'@id': '/c/en/chair', 'weight': 0.455},\n",
       "  {'@id': '/c/en/recliner', 'weight': 0.446},\n",
       "  {'@id': '/c/en/swivel_chair', 'weight': 0.445},\n",
       "  {'@id': '/c/en/stood', 'weight': 0.44},\n",
       "  {'@id': '/c/en/bench', 'weight': 0.435},\n",
       "  {'@id': '/c/en/crouched', 'weight': 0.434},\n",
       "  {'@id': '/c/en/fauteuil', 'weight': 0.431},\n",
       "  {'@id': '/c/en/chaise_lounge', 'weight': 0.429},\n",
       "  {'@id': '/c/en/bar_stool', 'weight': 0.425},\n",
       "  {'@id': '/c/en/sitdown', 'weight': 0.425},\n",
       "  {'@id': '/c/en/kneel', 'weight': 0.422},\n",
       "  {'@id': '/c/en/chairs', 'weight': 0.422},\n",
       "  {'@id': '/c/en/hunkers', 'weight': 0.421},\n",
       "  {'@id': '/c/en/lawn_chair', 'weight': 0.416},\n",
       "  {'@id': '/c/en/chaise_longue', 'weight': 0.416},\n",
       "  {'@id': '/c/en/hunker', 'weight': 0.415},\n",
       "  {'@id': '/c/en/lounging', 'weight': 0.413},\n",
       "  {'@id': '/c/en/perched', 'weight': 0.411},\n",
       "  {'@id': '/c/en/pecha_kucha', 'weight': 0.411},\n",
       "  {'@id': '/c/en/kneels', 'weight': 0.409},\n",
       "  {'@id': '/c/en/barrel_race', 'weight': 0.408},\n",
       "  {'@id': '/c/en/banquette', 'weight': 0.408},\n",
       "  {'@id': '/c/en/recliners', 'weight': 0.407},\n",
       "  {'@id': '/c/en/armchair', 'weight': 0.406},\n",
       "  {'@id': '/c/en/benches', 'weight': 0.406},\n",
       "  {'@id': '/c/en/relax', 'weight': 0.402},\n",
       "  {'@id': '/c/en/loveseat', 'weight': 0.4},\n",
       "  {'@id': '/c/en/kneeler', 'weight': 0.397},\n",
       "  {'@id': '/c/en/seats', 'weight': 0.393},\n",
       "  {'@id': '/c/en/chaise_longues', 'weight': 0.392},\n",
       "  {'@id': '/c/en/ensconced', 'weight': 0.392},\n",
       "  {'@id': '/c/en/squat_toilet', 'weight': 0.391},\n",
       "  {'@id': '/c/en/squat', 'weight': 0.39},\n",
       "  {'@id': '/c/en/crouches', 'weight': 0.389},\n",
       "  {'@id': '/c/en/kneeling', 'weight': 0.388},\n",
       "  {'@id': '/c/en/stop_worrying', 'weight': 0.385},\n",
       "  {'@id': '/c/en/tuffet', 'weight': 0.385},\n",
       "  {'@id': '/c/en/deckchair', 'weight': 0.384},\n",
       "  {'@id': '/c/en/slouching', 'weight': 0.384},\n",
       "  {'@id': '/c/en/waiting', 'weight': 0.382},\n",
       "  {'@id': '/c/en/curule', 'weight': 0.38},\n",
       "  {'@id': '/c/en/seater', 'weight': 0.38},\n",
       "  {'@id': '/c/en/armchairs', 'weight': 0.379},\n",
       "  {'@id': '/c/en/settee', 'weight': 0.378},\n",
       "  {'@id': '/c/en/ensconce', 'weight': 0.378},\n",
       "  {'@id': '/c/en/couches', 'weight': 0.378},\n",
       "  {'@id': '/c/en/stool', 'weight': 0.377},\n",
       "  {'@id': '/c/en/knelt', 'weight': 0.373},\n",
       "  {'@id': '/c/en/huddled', 'weight': 0.371},\n",
       "  {'@id': '/c/en/lie', 'weight': 0.37},\n",
       "  {'@id': '/c/en/wait', 'weight': 0.37},\n",
       "  {'@id': '/c/en/cathedra', 'weight': 0.368},\n",
       "  {'@id': '/c/en/couch', 'weight': 0.368},\n",
       "  {'@id': '/c/en/laze', 'weight': 0.365},\n",
       "  {'@id': '/c/en/resting', 'weight': 0.362},\n",
       "  {'@id': '/c/en/lounger', 'weight': 0.362},\n",
       "  {'@id': '/c/en/waits', 'weight': 0.361},\n",
       "  {'@id': '/c/en/settle', 'weight': 0.361},\n",
       "  {'@id': '/c/en/hunkered', 'weight': 0.361},\n",
       "  {'@id': '/c/en/padmasana', 'weight': 0.36},\n",
       "  {'@id': '/c/en/sofa', 'weight': 0.359},\n",
       "  {'@id': '/c/en/enthroned', 'weight': 0.358},\n",
       "  {'@id': '/c/en/sunbathe', 'weight': 0.357},\n",
       "  {'@id': '/c/en/loll', 'weight': 0.356},\n",
       "  {'@id': '/c/en/lay', 'weight': 0.356},\n",
       "  {'@id': '/c/en/encamped', 'weight': 0.355},\n",
       "  {'@id': '/c/en/reclining_chair', 'weight': 0.355},\n",
       "  {'@id': '/c/en/idly', 'weight': 0.352},\n",
       "  {'@id': '/c/en/howdah', 'weight': 0.352},\n",
       "  {'@id': '/c/en/squatted', 'weight': 0.352},\n",
       "  {'@id': '/c/en/motionless', 'weight': 0.351},\n",
       "  {'@id': '/c/en/kneeled', 'weight': 0.349},\n",
       "  {'@id': '/c/en/pcat', 'weight': 0.348},\n",
       "  {'@id': '/c/en/sunlounger', 'weight': 0.347},\n",
       "  {'@id': '/c/en/hunched', 'weight': 0.346},\n",
       "  {'@id': '/c/en/bide', 'weight': 0.346},\n",
       "  {'@id': '/c/en/transat', 'weight': 0.346},\n",
       "  {'@id': '/c/en/stare', 'weight': 0.345}]}"
      ]
     },
     "execution_count": 1062,
     "metadata": {},
     "output_type": "execute_result"
    }
   ],
   "source": [
    "import requests\n",
    "requests.get('http://api.conceptnet.io/related/c/en/sit?filter=/c/en&limit=1000').json()"
   ]
  },
  {
   "cell_type": "code",
   "execution_count": 1770,
   "metadata": {},
   "outputs": [
    {
     "data": {
      "text/plain": [
       "0.593"
      ]
     },
     "execution_count": 1770,
     "metadata": {},
     "output_type": "execute_result"
    }
   ],
   "source": [
    "requests.get('http://api.conceptnet.io/relatedness?node1=/c/en/fishing&node2=/c/en/fishing_rod').json()['value']"
   ]
  },
  {
   "cell_type": "code",
   "execution_count": 1782,
   "metadata": {},
   "outputs": [
    {
     "data": {
      "text/plain": [
       "0.223"
      ]
     },
     "execution_count": 1782,
     "metadata": {},
     "output_type": "execute_result"
    }
   ],
   "source": [
    "requests.get('http://api.conceptnet.io/relatedness?node1=/c/en/computer&node2=/c/en/office').json()['value']"
   ]
  },
  {
   "cell_type": "code",
   "execution_count": 1786,
   "metadata": {},
   "outputs": [
    {
     "data": {
      "text/plain": [
       "0.174"
      ]
     },
     "execution_count": 1786,
     "metadata": {},
     "output_type": "execute_result"
    }
   ],
   "source": [
    "requests.get('http://api.conceptnet.io/relatedness?node1=/c/en/watch&node2=/c/en/movie').json()['value']"
   ]
  },
  {
   "cell_type": "code",
   "execution_count": 1790,
   "metadata": {},
   "outputs": [
    {
     "data": {
      "text/plain": [
       "0.098"
      ]
     },
     "execution_count": 1790,
     "metadata": {},
     "output_type": "execute_result"
    }
   ],
   "source": [
    "requests.get('http://api.conceptnet.io/relatedness?node1=/c/en/play&node2=/c/en/computer').json()['value']"
   ]
  },
  {
   "cell_type": "code",
   "execution_count": 1791,
   "metadata": {},
   "outputs": [
    {
     "data": {
      "text/plain": [
       "0.001"
      ]
     },
     "execution_count": 1791,
     "metadata": {},
     "output_type": "execute_result"
    }
   ],
   "source": [
    "requests.get('http://api.conceptnet.io/relatedness?node1=/c/en/watch&node2=/c/en/computer').json()['value']"
   ]
  },
  {
   "cell_type": "code",
   "execution_count": 1801,
   "metadata": {},
   "outputs": [
    {
     "data": {
      "text/plain": [
       "0.041"
      ]
     },
     "execution_count": 1801,
     "metadata": {},
     "output_type": "execute_result"
    }
   ],
   "source": [
    "requests.get('http://api.conceptnet.io/relatedness?node1=/c/en/present/v&node2=/c/en/chart/n').json()['value']"
   ]
  },
  {
   "cell_type": "code",
   "execution_count": 1799,
   "metadata": {},
   "outputs": [
    {
     "data": {
      "text/plain": [
       "0.059"
      ]
     },
     "execution_count": 1799,
     "metadata": {},
     "output_type": "execute_result"
    }
   ],
   "source": [
    "requests.get('http://api.conceptnet.io/relatedness?node1=/c/en/present/v&node2=/c/en/box/n').json()['value']"
   ]
  },
  {
   "cell_type": "code",
   "execution_count": 1783,
   "metadata": {},
   "outputs": [
    {
     "data": {
      "text/plain": [
       "1.4403615823901665"
      ]
     },
     "execution_count": 1783,
     "metadata": {},
     "output_type": "execute_result"
    }
   ],
   "source": [
    "from nltk.corpus import wordnet as wn\n",
    "wn.synsets('computer')[0].lch_similarity(wn.synsets('office')[0])"
   ]
  },
  {
   "cell_type": "code",
   "execution_count": null,
   "metadata": {},
   "outputs": [],
   "source": []
  }
 ],
 "metadata": {
  "kernelspec": {
   "display_name": "text2scene",
   "language": "python",
   "name": "text2scene"
  },
  "language_info": {
   "codemirror_mode": {
    "name": "ipython",
    "version": 3
   },
   "file_extension": ".py",
   "mimetype": "text/x-python",
   "name": "python",
   "nbconvert_exporter": "python",
   "pygments_lexer": "ipython3",
   "version": "3.7.3"
  }
 },
 "nbformat": 4,
 "nbformat_minor": 2
}
