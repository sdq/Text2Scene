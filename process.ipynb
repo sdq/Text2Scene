{
 "cells": [
  {
   "cell_type": "markdown",
   "metadata": {},
   "source": [
    "## Export materiall from images"
   ]
  },
  {
   "cell_type": "code",
   "execution_count": 4,
   "metadata": {},
   "outputs": [
    {
     "name": "stdout",
     "output_type": "stream",
     "text": [
      "1_PS.svg\n",
      "['A-3-1.png', 'A-2-1-2-1.png']\n",
      "2_PSB.svg\n",
      "['A-1.png', 'A-3-1.png', 'A-2-1-2-2.png']\n",
      "3_PSB1.svg\n",
      "['A-1.png', 'A-2-2-1.png', 'A-3-2.png']\n",
      "4_PSD.svg\n",
      "['A-1.png', 'A-3-2-1.png', 'A-2-1-1.png']\n",
      "5_S.svg\n",
      "['A-2-1-1.png']\n",
      "6_SB.svg\n",
      "['A-1.png', 'A-2-1-2.png']\n"
     ]
    }
   ],
   "source": [
    "## export layers to dir named after file\n",
    "import os\n",
    "for file in sorted(os.listdir('images')):\n",
    "    base, ext = os.path.splitext(file)\n",
    "    if ext == '.svg' and base != 'test' and base != 'stack':\n",
    "        print(file)\n",
    "        os.system(\"./export_svg.sh %s\" % file)\n",
    "        print(os.listdir('images/m_%s' % base))"
   ]
  },
  {
   "cell_type": "code",
   "execution_count": 15,
   "metadata": {},
   "outputs": [],
   "source": [
    "def group_layers(prefix='m_', target='material', image_dir='images'):\n",
    "    \"\"\"\n",
    "    Collect layers in separate dirs into material\n",
    "    Extend name if necessary\n",
    "    \"\"\"\n",
    "    import glob\n",
    "    import shutil\n",
    "    if os.path.exists(target):\n",
    "        files = glob.glob(target+'/*')\n",
    "        for file in files:\n",
    "            os.remove(file)\n",
    "    else:\n",
    "        os.system('mkdir '+target)\n",
    "\n",
    "    for d_ in sorted(os.listdir(image_dir)):\n",
    "        d = image_dir + '/' + d_\n",
    "        if os.path.isdir(d) and d_.startswith(prefix):\n",
    "            print(d)\n",
    "            for m in os.listdir(d):\n",
    "                print('  %s' % m)\n",
    "                if m in os.listdir(target):\n",
    "                    base, ext = os.path.splitext(m)\n",
    "                    num = len(glob.glob('%s/%s*.png' % (target,\n",
    "                                                        base)))\n",
    "                    new_m = '%s_(%s)%s' % (base, num, ext)\n",
    "                else:\n",
    "                    new_m = m\n",
    "                shutil.move(d+'/'+m, target+'/'+new_m)\n",
    "            os.rmdir(d)"
   ]
  },
  {
   "cell_type": "code",
   "execution_count": 16,
   "metadata": {},
   "outputs": [
    {
     "name": "stdout",
     "output_type": "stream",
     "text": [
      "images/m_1_PS\n",
      "  A-3-1.png\n",
      "  A-2-1-2-1.png\n",
      "images/m_2_PSB\n",
      "  A-1.png\n",
      "  A-3-1.png\n",
      "  A-2-1-2-2.png\n",
      "images/m_3_PSB1\n",
      "  A-1.png\n",
      "  A-2-2-1.png\n",
      "  A-3-2.png\n",
      "images/m_4_PSD\n",
      "  A-1.png\n",
      "  A-3-2-1.png\n",
      "  A-2-1-1.png\n",
      "images/m_5_S\n",
      "  A-2-1-1.png\n",
      "images/m_6_SB\n",
      "  A-1.png\n",
      "  A-2-1-2.png\n"
     ]
    }
   ],
   "source": [
    "group_layers()"
   ]
  },
  {
   "cell_type": "code",
   "execution_count": 17,
   "metadata": {},
   "outputs": [],
   "source": [
    "# Weird!\n",
    "# every time use svg-objects-export.py to export a .svg, or use parse in xml to read a .svg, the objects in this image will move  to the right for a random length, but it won't affect the next read or parse, and it won't affect the appearance of exported .png files\n",
    "# also, use parse, export or even open the .svg in the browser, the layers will be stacked into one layer on the very top\n",
    "# seems a problem with minidom or inkscape"
   ]
  },
  {
   "cell_type": "code",
   "execution_count": null,
   "metadata": {},
   "outputs": [],
   "source": []
  },
  {
   "cell_type": "markdown",
   "metadata": {},
   "source": [
    "## Image reader"
   ]
  },
  {
   "cell_type": "code",
   "execution_count": 98,
   "metadata": {},
   "outputs": [],
   "source": [
    "from xml.dom.minidom import parse\n",
    "import os\n",
    "import numpy as np\n",
    "import glob"
   ]
  },
  {
   "cell_type": "code",
   "execution_count": 99,
   "metadata": {},
   "outputs": [],
   "source": [
    "# rewrite this\n",
    "# if one layer: id with svg\n",
    "# if multiple layers: the first <g> with id"
   ]
  },
  {
   "cell_type": "code",
   "execution_count": 107,
   "metadata": {},
   "outputs": [],
   "source": [
    "def getLayerNames(file):\n",
    "    doc = parse(file)\n",
    "    svg_list = doc.getElementsByTagName('svg')\n",
    "    assert(len(svg_list) == 1)\n",
    "    svg = svg_list[0]\n",
    "    layers = [g for g in svg.childNodes \\\n",
    "              if g.nodeType == 1 and \\\n",
    "                 g.tagName == 'g' and \\\n",
    "                 g.hasAttribute('id')]\n",
    "    if layers:\n",
    "        return [l.getAttribute('id') for l in layers]\n",
    "    else:\n",
    "        if svg.hasAttribute('id'):\n",
    "            # if single layer case, id belongs to <svg>\n",
    "            assert(len([g for g in svg.childNodes \\\n",
    "                          if g.nodeType == 1 and \\\n",
    "                             g.tagName == 'g']) == 1)\n",
    "            return [svg.getAttribute('id')]\n",
    "        else:\n",
    "            raise ValueError('No valid id name found!')\n",
    "\n",
    "def name2code(name):\n",
    "    \"\"\"\n",
    "    input: A-1-2-3-4\n",
    "    output: [1,2,3,4]\n",
    "    \"\"\"\n",
    "    return [int(d) for d in name.split('-')[1:]]\n",
    "    \n",
    "def checkLayerNames(names):\n",
    "    ### styling check\n",
    "    # names of layers must start with 'A-'\n",
    "    for name in names:\n",
    "        assert(name.startswith('A-')), \"%s does not start with A-\" % name\n",
    "    \n",
    "    # names of layers should match \\d-\\d\n",
    "    import re\n",
    "    for name in names:\n",
    "        assert(re.match(r'A(-\\d)+', name)), \"%s does not match the pattern!\" % name\n",
    "    \n",
    "    ### sanity check\n",
    "    cat_codes = [name2code(s)[0] for s in names]\n",
    "    \n",
    "    # if background in, it must be the most bottom layer\n",
    "    if 1 in cat_codes:\n",
    "        assert(cat_codes.index(1) == 0), 'background should be the most bottom!'\n",
    "        \n",
    "    # if decoration in, it must be the toppest layer\n",
    "    if 4 in cat_codes:\n",
    "        assert(cat_codes.index(4) == len(cat_codes) - 1), 'decoration should be the most top!'\n",
    "    \n",
    "    if len(cat_codes) == 1:\n",
    "        # if only one layer, must be surrounding layer\n",
    "        assert(cat_codes[0] == 2), 'it must be the surrounding layer if there is only one layer'\n",
    "    else:\n",
    "        # if multiple layers, check the cat order\n",
    "        # background 1 - surroundings 2 - person 3 - decoration 4    \n",
    "        for code1, code2 in zip(cat_codes[:-1], cat_codes[1:]):\n",
    "            assert(code2 > code1), \\\n",
    "               'layer %s should not be below layer %s!' % (code2, code1)"
   ]
  },
  {
   "cell_type": "code",
   "execution_count": 108,
   "metadata": {},
   "outputs": [
    {
     "name": "stdout",
     "output_type": "stream",
     "text": [
      "images/1_PS.svg\n",
      "['A-2-1-2-1', 'A-3-1']\n",
      "images/2_PSB.svg\n",
      "['A-1', 'A-2-1-2-2', 'A-3-1']\n",
      "images/3_PSB1.svg\n",
      "['A-1', 'A-2-2-1', 'A-3-2-3']\n",
      "images/4_PSD.svg\n",
      "['A-1', 'A-2-1-1', 'A-3-2-1']\n",
      "images/5_S.svg\n",
      "['A-2-1-1']\n",
      "images/6_SB.svg\n",
      "['A-1', 'A-2-1-2-3']\n"
     ]
    }
   ],
   "source": [
    "for fileName in sorted(glob.glob('images/*.svg')):\n",
    "    # base, ext = os.path.splitext(fileName)\n",
    "    # if ext == '.svg' and base != 'test' and base != 'stack':\n",
    "    if 'test' in fileName or 'stack' in fileName:\n",
    "        continue\n",
    "    print(fileName)\n",
    "    # print(get_id_list(fileName))\n",
    "    names = getLayerNames(fileName)\n",
    "    checkLayerNames(names)\n",
    "    print(names)"
   ]
  },
  {
   "cell_type": "code",
   "execution_count": 103,
   "metadata": {},
   "outputs": [],
   "source": [
    "# Caveats\n",
    "# The first <image> element in a <g> is the shadow, namely the extra .png file in the dir"
   ]
  },
  {
   "cell_type": "markdown",
   "metadata": {},
   "source": [
    "## Image embedding"
   ]
  },
  {
   "cell_type": "code",
   "execution_count": 119,
   "metadata": {},
   "outputs": [],
   "source": [
    "from itertools import count\n",
    "\n",
    "def recurReplace(nested, id_list, value=1):\n",
    "    \"\"\"\n",
    "    Replace an element in a nested list recursively\n",
    "    \"\"\"\n",
    "    # number of indexes should be lower than the depth\n",
    "    assert(len(id_list) <= getDepth(nested))\n",
    "    \n",
    "    # print(nested, '--', id_list)\n",
    "    if len(id_list) > 1:  \n",
    "        recurReplace(nested[id_list[0]], id_list[1:])\n",
    "    else:\n",
    "        nested[id_list[0]] = value\n",
    "        \n",
    "def getDepth(li):\n",
    "    \"\"\"\n",
    "    Get the depth of a nested list\n",
    "    \"\"\"\n",
    "    for level in count():\n",
    "        if not li:\n",
    "            return level\n",
    "        li = [e for l in li if isinstance(l, list) for e in l]\n",
    "\n",
    "def isPureList(l):\n",
    "    \"\"\"\n",
    "    Check if a list is not a nested one\n",
    "    \"\"\"\n",
    "    for e in l:\n",
    "        if isinstance(e, list):\n",
    "            return False\n",
    "    return True\n",
    "\n",
    "def extractLeaf(feat, depth, concat=[], level=0):\n",
    "    \"\"\"\n",
    "    Extract the leaf lists in the same level in a nested list\n",
    "    \"\"\"\n",
    "    level += 1\n",
    "    # print('  ', level, depth, concat)\n",
    "    for i, e in enumerate(feat):\n",
    "        if isinstance(e, list):\n",
    "            if isPureList(e):\n",
    "                # lowest level only\n",
    "                if level == depth - 1:\n",
    "                    concat.extend(e)\n",
    "                    feat[i] = sum(e)\n",
    "            else:\n",
    "                feat[i], concat = extractLeaf(e, depth, concat, level)\n",
    "    return feat, concat\n",
    "\n",
    "def oneHotStruct(feat):\n",
    "    \"\"\"\n",
    "    Given the nested features,\n",
    "        encode each category level into one-hot\n",
    "    \"\"\"\n",
    "    concats = []\n",
    "    while not isPureList(feat):\n",
    "        feat, concat = extractLeaf(feat,\n",
    "                                   getDepth(feat),\n",
    "                                   concat=[],\n",
    "                                   level=0)\n",
    "        # print(feat, concat)\n",
    "        ## use append to differ between sources\n",
    "        # concats.append(concat)\n",
    "        concats.extend(concat)\n",
    "    # concats.append(feat)    \n",
    "    concats.extend(concat)\n",
    "    return concats[::-1]\n",
    "\n",
    "def code2indslist(code):\n",
    "    \"\"\"\n",
    "    Turn a code into the reference indexes of a nested list\n",
    "        Eg. [2,1,2,1] -> [0,1,0]\n",
    "        the first number is the ident code of the layer type\n",
    "    \"\"\"\n",
    "    return [d-1 for d in code[1:]]\n",
    "\n",
    "def image2feature(layer_names):\n",
    "    \n",
    "    features = []\n",
    "    \n",
    "    # number of layers\n",
    "    features.append(len(layer_names))\n",
    "    \n",
    "    # convert to digit codes first\n",
    "    codes = [name2code(name) for name in layer_names]\n",
    "    \n",
    "    # four layer type, binary\n",
    "    cat_feat = [0] * 4\n",
    "    for code in codes:\n",
    "        cat_feat[code[0] - 1] = 1\n",
    "    features.append(cat_feat)\n",
    "    \n",
    "    # sub-categories: one-hot for each level \n",
    "    for code in codes:\n",
    "        if code[0] == 1 or code[0] == 4:\n",
    "            # background or decoration, no need to encode\n",
    "            assert(len(code) == 1)\n",
    "        \n",
    "        elif code[0] == 2:\n",
    "            # surrounding\n",
    "            # initilize features based on grouping table\n",
    "            feat = [[0,[0,0,0]],[0,[0,0,0],[0,0]]]\n",
    "            recurReplace(feat, code2indslist(code))\n",
    "            features.append(oneHotStruct(feat))\n",
    "        \n",
    "        elif code[0] == 3:\n",
    "            # person\n",
    "            feat = [0,[0,0,0],[0,0,0,0]]\n",
    "            recurReplace(feat, code2indslist(code))\n",
    "            features.append(oneHotStruct(feat))           \n",
    "        \n",
    "    return features"
   ]
  },
  {
   "cell_type": "code",
   "execution_count": 120,
   "metadata": {},
   "outputs": [
    {
     "name": "stdout",
     "output_type": "stream",
     "text": [
      "[3, [0, 1, 1, 1], [0, 0, 0, 1, 0, 0, 0, 0, 1, 0, 0, 0, 0, 0, 0, 0, 0, 1], [0, 0, 0, 0, 0, 0, 0, 0, 0, 0, 0, 0, 0, 0]]\n"
     ]
    }
   ],
   "source": [
    "print(image2feature(['A-2-1-2-1', 'A-3-1', 'A-4']))"
   ]
  },
  {
   "cell_type": "markdown",
   "metadata": {},
   "source": [
    "### test text descriptions"
   ]
  },
  {
   "cell_type": "code",
   "execution_count": 21,
   "metadata": {},
   "outputs": [
    {
     "data": {
      "text/plain": [
       "['A man is lying on the sofa.',\n",
       " 'A man is sitting next to a computer.',\n",
       " 'A man is presenting a chart.',\n",
       " 'A woman is standing next to a bucket.',\n",
       " 'A deer in a sock',\n",
       " 'A christmas tree with presents']"
      ]
     },
     "execution_count": 21,
     "metadata": {},
     "output_type": "execute_result"
    }
   ],
   "source": [
    "['A man is lying on the sofa.',\n",
    " 'A man is sitting next to a computer.',\n",
    " 'A man is presenting a chart.',\n",
    " 'A woman is standing next to a bucket.',\n",
    " 'A deer in a sock',\n",
    " 'A christmas tree with presents']"
   ]
  },
  {
   "cell_type": "markdown",
   "metadata": {},
   "source": [
    "## Renderer"
   ]
  },
  {
   "cell_type": "code",
   "execution_count": 42,
   "metadata": {},
   "outputs": [],
   "source": [
    "def str2num_size(size):\n",
    "    assert type(size) is str\n",
    "    return int(float(size.strip('pt')))\n",
    "    \n",
    "def get_size(file):\n",
    "    \"\"\"\n",
    "    Get the width and height of an image\n",
    "    \n",
    "    .svg:\n",
    "        use xml's parse\n",
    "        By check the 'viewBox' attribute in the 'svg' tag\n",
    "    \n",
    "    .png:\n",
    "        use PIL\n",
    "    \"\"\"\n",
    "    \n",
    "    basename, ext = os.path.splitext(file)\n",
    "    if ext == '.svg':   \n",
    "        from xml.dom.minidom import parse\n",
    "        doc = parse(file)\n",
    "        # search svg element\n",
    "        image_list = doc.getElementsByTagName('svg')\n",
    "        assert(image_list), 'no svg element found!'\n",
    "        assert(len(image_list) == 1), file\n",
    "        img = image_list[0]\n",
    "        assert(img.hasAttribute('viewBox'))\n",
    "        width, height = img.getAttribute('viewBox').split()[2:]\n",
    "        width, height = (str2num_size(width), str2num_size(height))\n",
    "        # try search image element, then g element\n",
    "#     try:\n",
    "#         assert image_list\n",
    "#     except AssertionError:\n",
    "#         image_list = doc.getElementsByTagName('svg')\n",
    "#         assert image_list\n",
    "#         assert image_list[0].hasAttribute('width')\n",
    "#     assert(len(image_list) == 1), svg_file\n",
    "#     ## if multiple images, size is the maximum size in either direction        \n",
    "    elif ext == '.png':\n",
    "        from PIL import Image\n",
    "        width, height = Image.open(file).size\n",
    "\n",
    "    return (width, height)"
   ]
  },
  {
   "cell_type": "code",
   "execution_count": 43,
   "metadata": {},
   "outputs": [],
   "source": [
    "def stack_svgs(file_list, opt_file=None, canvas_size=None):\n",
    " \n",
    "    import cairosvg\n",
    "    from svgutils.compose import Figure, Image #,SVG\n",
    "    \n",
    "    if not opt_file:\n",
    "        opt_file = 'stack.svg'\n",
    "        \n",
    "    if canvas_size:\n",
    "        canvas_w, canvas_h = canvas_size\n",
    "    else:\n",
    "        canvas_w, canvas_h = 0, 0\n",
    "        for file in file_list:\n",
    "            width, height = get_size(file)\n",
    "            if width > canvas_w: canvas_w = width\n",
    "            if height > canvas_h: canvas_h = height\n",
    "    print('Canvas size:', (canvas_w, canvas_h))\n",
    "    \n",
    "    # if svg, convert to png first\n",
    "    file_list_png = []\n",
    "    for file in file_list:\n",
    "        basename, ext = os.path.splitext(file)\n",
    "        if ext == '.svg':\n",
    "            png_file = basename + '.png'\n",
    "            cairosvg.svg2png(url=file,\n",
    "                             write_to=png_file)\n",
    "            file_list_png.append(png_file)\n",
    "        elif ext == '.png':\n",
    "            file_list_png.append(file)\n",
    "        else:\n",
    "            raise ValueError('File type not availale!')\n",
    "    \n",
    "    image_list = []\n",
    "    # \n",
    "    for file in file_list_png:\n",
    "        print('File:', file)\n",
    "        width, height = get_size(file)\n",
    "        img = Image(width, height, file)\n",
    "        img.move(int((canvas_w-width)/2),\n",
    "                 int((canvas_h-height)/2))\n",
    "        image_list.append(img)\n",
    "    \n",
    "        \n",
    "    Figure(canvas_w, canvas_h, *image_list).save(opt_file)"
   ]
  },
  {
   "cell_type": "code",
   "execution_count": 46,
   "metadata": {
    "scrolled": true
   },
   "outputs": [
    {
     "name": "stdout",
     "output_type": "stream",
     "text": [
      "Canvas size: (1114, 786)\n",
      "File: svg-objects-export/A-1.png\n",
      "File: svg-objects-export/A-2-1-2-1.png\n",
      "File: svg-objects-export/A-3-1.png\n"
     ]
    }
   ],
   "source": [
    "stack_svgs(['svg-objects-export/A-1.png', \n",
    "            'svg-objects-export/A-2-1-2-1.png', \n",
    "            'svg-objects-export/A-3-1.png'])"
   ]
  },
  {
   "cell_type": "code",
   "execution_count": 45,
   "metadata": {
    "scrolled": false
   },
   "outputs": [
    {
     "name": "stdout",
     "output_type": "stream",
     "text": [
      "Canvas size: (1145, 816)\n",
      "File: material/背景4.png\n",
      "File: material/123.png\n",
      "File: material/生活方式3.png\n"
     ]
    },
    {
     "name": "stderr",
     "output_type": "stream",
     "text": [
      "/Users/dongjustin/miniconda2/envs/text2scene/lib/python3.7/site-packages/cairosvg/parser.py:416: UserWarning: No tag with id=未命名的渐变_12-2 found.\n",
      "  warnings.warn('No tag with id={} found.'.format(element_id))\n",
      "/Users/dongjustin/miniconda2/envs/text2scene/lib/python3.7/site-packages/cairosvg/parser.py:416: UserWarning: No tag with id=未命名的渐变_12-3 found.\n",
      "  warnings.warn('No tag with id={} found.'.format(element_id))\n",
      "/Users/dongjustin/miniconda2/envs/text2scene/lib/python3.7/site-packages/cairosvg/parser.py:416: UserWarning: No tag with id=未命名的渐变_12-4 found.\n",
      "  warnings.warn('No tag with id={} found.'.format(element_id))\n"
     ]
    }
   ],
   "source": [
    "stack_svgs(['material/背景4.svg', \n",
    "            'material/123.svg', \n",
    "            'material/生活方式3.svg'])"
   ]
  },
  {
   "cell_type": "code",
   "execution_count": 13,
   "metadata": {},
   "outputs": [],
   "source": [
    "## write a tool to stack two svgs:\n",
    "### put <g> altogether, then for each elememt, add attribute recursively"
   ]
  },
  {
   "cell_type": "code",
   "execution_count": 354,
   "metadata": {},
   "outputs": [],
   "source": [
    "## ValueError: material/124.svg\n",
    "## issue of cairosvg converter"
   ]
  },
  {
   "cell_type": "markdown",
   "metadata": {},
   "source": [
    "## Test"
   ]
  },
  {
   "cell_type": "code",
   "execution_count": 132,
   "metadata": {},
   "outputs": [],
   "source": [
    "doc = parse('SB.svg')\n",
    "# ele = [c for c in doc.childNodes if c.nodeType == 1]\n",
    "# assert(len(ele) == 1)\n",
    "# [n.getAttribute('id') for n in ele[0].childNodes if n.nodeType==1 and n.tagName=='g']\n",
    "# [g.getAttribute('id') for g in doc.getElementsByTagName('g') if g.hasAttribute('id')]\n",
    "# id_list = [g.getAttribute('id') for g in doc.getElementsByTagName('g') if g.hasAttribute('id')]\n",
    "# assert(id_list)\n",
    "\n",
    "# get the tagname: element.tagName"
   ]
  },
  {
   "cell_type": "code",
   "execution_count": 76,
   "metadata": {},
   "outputs": [],
   "source": [
    "# the order may be reversed, that's weird\n",
    "# at least. background must be at the bottom\n",
    "# but what if there are only person and surronding\n",
    "\n",
    "# it's reversed\n",
    "# because the first object is at the bottom"
   ]
  },
  {
   "cell_type": "code",
   "execution_count": 74,
   "metadata": {},
   "outputs": [
    {
     "data": {
      "text/plain": [
       "[<DOM Element: image at 0x112681cc0>]"
      ]
     },
     "execution_count": 74,
     "metadata": {},
     "output_type": "execute_result"
    }
   ],
   "source": [
    "doc.getElementsByTagName('image')"
   ]
  },
  {
   "cell_type": "code",
   "execution_count": 56,
   "metadata": {},
   "outputs": [
    {
     "data": {
      "text/plain": [
       "['_x31__x5F_1_x5F_1']"
      ]
     },
     "execution_count": 56,
     "metadata": {},
     "output_type": "execute_result"
    }
   ],
   "source": [
    "[g.getAttribute('id') for g in doc.getElementsByTagName('*') if g.hasAttribute('id')]"
   ]
  },
  {
   "cell_type": "code",
   "execution_count": null,
   "metadata": {},
   "outputs": [],
   "source": []
  }
 ],
 "metadata": {
  "kernelspec": {
   "display_name": "text2scene",
   "language": "python",
   "name": "text2scene"
  },
  "language_info": {
   "codemirror_mode": {
    "name": "ipython",
    "version": 3
   },
   "file_extension": ".py",
   "mimetype": "text/x-python",
   "name": "python",
   "nbconvert_exporter": "python",
   "pygments_lexer": "ipython3",
   "version": "3.7.3"
  }
 },
 "nbformat": 4,
 "nbformat_minor": 2
}
