{
 "cells": [
  {
   "cell_type": "markdown",
   "metadata": {},
   "source": [
    "## Image encoder"
   ]
  },
  {
   "cell_type": "code",
   "execution_count": 44,
   "metadata": {
    "scrolled": false
   },
   "outputs": [
    {
     "name": "stdout",
     "output_type": "stream",
     "text": [
      "images/1.svg\n",
      "['A2122', 'A3212']\n",
      "images/10.svg\n",
      "['A1', 'A2121_1_', 'A323']\n",
      "images/11.svg\n",
      "['A1', 'A2121_1_', 'A313']\n",
      "images/2.svg\n",
      "['A4', 'A2121', 'A324']\n",
      "images/3.svg\n",
      "['A4', 'A2122', 'A312']\n",
      "images/4.svg\n",
      "['A2211', 'A311']\n",
      "images/5.svg\n",
      "['A2212', 'A3211']\n",
      "images/6.svg\n",
      "['A2112', 'A311']\n",
      "images/7.svg\n",
      "['A2121', 'A324']\n",
      "images/8.svg\n",
      "['A311', 'A2121']\n",
      "images/9.svg\n",
      "['A2121']\n",
      "(11, 37)\n"
     ]
    }
   ],
   "source": [
    "from tools.image_process import getLayerNames, checkLayerNames, image2feature\n",
    "import glob\n",
    "\n",
    "img_embed = []\n",
    "for fileName in sorted(glob.glob('images/*.svg')):\n",
    "    # base, ext = os.path.splitext(fileName)\n",
    "    # if ext == '.svg' and base != 'test' and base != 'stack':\n",
    "    if 'test' in fileName or 'stack' in fileName:\n",
    "        continue\n",
    "    print(fileName)\n",
    "    # print(get_id_list(fileName))\n",
    "    names = getLayerNames(fileName)\n",
    "    checkLayerNames(names)\n",
    "    print(names)\n",
    "    # print(image2feature(names))\n",
    "    img_embed.append(image2feature(names))\n",
    "    \n",
    "img_embed = np.array(img_embed)\n",
    "print(img_embed.shape)"
   ]
  },
  {
   "cell_type": "code",
   "execution_count": 3,
   "metadata": {},
   "outputs": [],
   "source": [
    "# Caveats\n",
    "# The first <image> element in a <g> is the shadow, namely the extra .png file in the dir"
   ]
  },
  {
   "cell_type": "code",
   "execution_count": 4,
   "metadata": {},
   "outputs": [],
   "source": [
    "## test corpus\n",
    "test_text = ['A man is lying on the sofa.',\n",
    "             'A man is sitting next to a computer.',\n",
    "             'A man is presenting a chart. The light is on. we',\n",
    "             'A woman is standing next to a bucket.',\n",
    "             \"It's a deer in a sock\",\n",
    "             'A christmas tree with presents']"
   ]
  },
  {
   "cell_type": "markdown",
   "metadata": {},
   "source": [
    "## text encoder"
   ]
  },
  {
   "cell_type": "code",
   "execution_count": 3,
   "metadata": {
    "scrolled": false
   },
   "outputs": [
    {
     "name": "stdout",
     "output_type": "stream",
     "text": [
      "text/1.txt\n",
      "A man looks at his chart with his back.\n",
      "\n",
      "['man.n.01', 'look.v.01', 'chart.n.01', 'back.n.01']\n",
      "----\n",
      "text/10.txt\n",
      "A man walks past a web Icon\n",
      "['man.n.01', 'walk.v.01', 'past.n.01', 'web.n.01', 'icon.n.01']\n",
      "----\n",
      "text/11.txt\n",
      "A man and a woman are interacting\n",
      "['man.n.01', 'woman.n.01', 'be.v.01', 'interact.v.01']\n",
      "----\n",
      "text/2.txt\n",
      "A man demonstrates the chart.\n",
      "['man.n.01', 'show.v.01', 'chart.n.01']\n",
      "----\n",
      "text/3.txt\n",
      "A man and a woman play circles with compasses.\n",
      "['man.n.01', 'woman.n.01', 'play.n.01', 'circle.n.01', 'compass.n.01']\n",
      "----\n",
      "text/4.txt\n",
      "A girl was leaning against a car.\n",
      "['girl.n.01', 'be.v.01', 'lean.v.01', 'car.n.01']\n",
      "----\n",
      "text/5.txt\n",
      "A girl was standing on the edge of the city.\n",
      "['girl.n.01', 'be.v.01', 'stand.v.01', 'edge.n.01', 'city.n.01']\n",
      "----\n",
      "text/6.txt\n",
      "A man is cleaning his computer.\n",
      "['man.n.01', 'be.v.01', 'clean.v.01', 'computer.n.01']\n",
      "----\n",
      "text/7.txt\n",
      "A boy is demonstrating a form.\n",
      "['male_child.n.01', 'be.v.01', 'show.v.01', 'form.n.01']\n",
      "----\n",
      "text/8.txt\n",
      "There are three trademarks around a person\n",
      "['be.v.01', 'three.n.01', 'hallmark.n.01', 'about.r.03', 'person.n.01']\n",
      "----\n",
      "text/9.txt\n",
      "Mobile phones and charts\n",
      "['mobile.n.01', 'telephone.n.01', 'chart.n.01']\n",
      "----\n"
     ]
    }
   ],
   "source": [
    "import glob\n",
    "from tools.text_process import LemmaTokenizer\n",
    "tokenizer = LemmaTokenizer()\n",
    "sentences = []\n",
    "for fileName in sorted(glob.glob('text/*.txt')):\n",
    "    print(fileName)\n",
    "    with open(fileName, 'r') as f:\n",
    "        sent = f.read()\n",
    "        print(sent)\n",
    "        tokens = tokenizer(sent)\n",
    "        print(tokens)\n",
    "        print('----')\n",
    "        sentences.append(tokens)"
   ]
  },
  {
   "cell_type": "markdown",
   "metadata": {},
   "source": [
    "#### vectorizer"
   ]
  },
  {
   "cell_type": "code",
   "execution_count": 4,
   "metadata": {
    "scrolled": true
   },
   "outputs": [
    {
     "name": "stdout",
     "output_type": "stream",
     "text": [
      "<class 'scipy.sparse.csr.csr_matrix'>\n",
      "(11, 64)\n",
      "64\n"
     ]
    }
   ],
   "source": [
    "from sklearn.feature_extraction.text import TfidfVectorizer, CountVectorizer\n",
    "\n",
    "vectorizer = TfidfVectorizer(ngram_range=(1,2),\n",
    "                             norm=None,\n",
    "                             sublinear_tf=True,\n",
    "                             stop_words=[],\n",
    "                             lowercase=False,\n",
    "                             tokenizer=lambda l: l)\n",
    "text_embed = vectorizer.fit_transform(sentences)\n",
    "print(type(text_embed))\n",
    "print(text_embed.shape)\n",
    "# print(vectorizer.fit_transform(sentences).toarray())\n",
    "print(len(vectorizer.vocabulary_))"
   ]
  },
  {
   "cell_type": "markdown",
   "metadata": {},
   "source": [
    "#### Similarity between category keywords and the description"
   ]
  },
  {
   "cell_type": "code",
   "execution_count": 5,
   "metadata": {},
   "outputs": [],
   "source": [
    "from tools.text_process import keywordSimi\n",
    "import numpy as np"
   ]
  },
  {
   "cell_type": "code",
   "execution_count": 9,
   "metadata": {
    "scrolled": false
   },
   "outputs": [
    {
     "name": "stdout",
     "output_type": "stream",
     "text": [
      "['man.n.01', 'look.v.01', 'chart.n.01', 'back.n.01']\n",
      "['man.n.01', 'walk.v.01', 'past.n.01', 'web.n.01', 'icon.n.01']\n",
      "['man.n.01', 'woman.n.01', 'be.v.01', 'interact.v.01']\n",
      "['man.n.01', 'show.v.01', 'chart.n.01']\n",
      "['man.n.01', 'woman.n.01', 'play.n.01', 'circle.n.01', 'compass.n.01']\n",
      "['girl.n.01', 'be.v.01', 'lean.v.01', 'car.n.01']\n",
      "['girl.n.01', 'be.v.01', 'stand.v.01', 'edge.n.01', 'city.n.01']\n",
      "['man.n.01', 'be.v.01', 'clean.v.01', 'computer.n.01']\n",
      "['male_child.n.01', 'be.v.01', 'show.v.01', 'form.n.01']\n",
      "['be.v.01', 'three.n.01', 'hallmark.n.01', 'about.r.03', 'person.n.01']\n",
      "['mobile.n.01', 'telephone.n.01', 'chart.n.01']\n"
     ]
    }
   ],
   "source": [
    "kw_simis = []\n",
    "for sentence in sentences:\n",
    "    print(sentence)\n",
    "    kw_simis.append(keywordSimi(sentence))\n",
    "\n",
    "kw_simis = np.array(kw_simis)"
   ]
  },
  {
   "cell_type": "markdown",
   "metadata": {},
   "source": [
    "#### all"
   ]
  },
  {
   "cell_type": "code",
   "execution_count": 7,
   "metadata": {},
   "outputs": [],
   "source": [
    "import scipy"
   ]
  },
  {
   "cell_type": "code",
   "execution_count": 10,
   "metadata": {},
   "outputs": [
    {
     "name": "stdout",
     "output_type": "stream",
     "text": [
      "(11, 97)\n",
      "(11, 33)\n",
      "(11, 130)\n"
     ]
    }
   ],
   "source": [
    "print(text_embed.shape)\n",
    "print(kw_simis.shape)\n",
    "text_embed = scipy.sparse.hstack([text_embed, kw_simis])\n",
    "print(text_embed.shape)"
   ]
  },
  {
   "cell_type": "markdown",
   "metadata": {},
   "source": [
    "### random image generator"
   ]
  },
  {
   "cell_type": "markdown",
   "metadata": {},
   "source": [
    "## Training"
   ]
  },
  {
   "cell_type": "code",
   "execution_count": 47,
   "metadata": {},
   "outputs": [
    {
     "data": {
      "text/plain": [
       "(11, 134)"
      ]
     },
     "execution_count": 47,
     "metadata": {},
     "output_type": "execute_result"
    }
   ],
   "source": [
    "scipy.sparse.hstack([text_embed, img_embed]).shape"
   ]
  },
  {
   "cell_type": "markdown",
   "metadata": {},
   "source": [
    "## Renderer"
   ]
  },
  {
   "cell_type": "code",
   "execution_count": 42,
   "metadata": {},
   "outputs": [],
   "source": [
    "def str2num_size(size):\n",
    "    assert type(size) is str\n",
    "    return int(float(size.strip('pt')))\n",
    "    \n",
    "def get_size(file):\n",
    "    \"\"\"\n",
    "    Get the width and height of an image\n",
    "    \n",
    "    .svg:\n",
    "        use xml's parse\n",
    "        By check the 'viewBox' attribute in the 'svg' tag\n",
    "    \n",
    "    .png:\n",
    "        use PIL\n",
    "    \"\"\"\n",
    "    \n",
    "    basename, ext = os.path.splitext(file)\n",
    "    if ext == '.svg':   \n",
    "        from xml.dom.minidom import parse\n",
    "        doc = parse(file)\n",
    "        # search svg element\n",
    "        image_list = doc.getElementsByTagName('svg')\n",
    "        assert(image_list), 'no svg element found!'\n",
    "        assert(len(image_list) == 1), file\n",
    "        img = image_list[0]\n",
    "        assert(img.hasAttribute('viewBox'))\n",
    "        width, height = img.getAttribute('viewBox').split()[2:]\n",
    "        width, height = (str2num_size(width), str2num_size(height))\n",
    "        # try search image element, then g element\n",
    "#     try:\n",
    "#         assert image_list\n",
    "#     except AssertionError:\n",
    "#         image_list = doc.getElementsByTagName('svg')\n",
    "#         assert image_list\n",
    "#         assert image_list[0].hasAttribute('width')\n",
    "#     assert(len(image_list) == 1), svg_file\n",
    "#     ## if multiple images, size is the maximum size in either direction        \n",
    "    elif ext == '.png':\n",
    "        from PIL import Image\n",
    "        width, height = Image.open(file).size\n",
    "\n",
    "    return (width, height)"
   ]
  },
  {
   "cell_type": "code",
   "execution_count": 43,
   "metadata": {},
   "outputs": [],
   "source": [
    "def stack_svgs(file_list, opt_file=None, canvas_size=None):\n",
    " \n",
    "    import cairosvg\n",
    "    from svgutils.compose import Figure, Image #,SVG\n",
    "    \n",
    "    if not opt_file:\n",
    "        opt_file = 'stack.svg'\n",
    "        \n",
    "    if canvas_size:\n",
    "        canvas_w, canvas_h = canvas_size\n",
    "    else:\n",
    "        canvas_w, canvas_h = 0, 0\n",
    "        for file in file_list:\n",
    "            width, height = get_size(file)\n",
    "            if width > canvas_w: canvas_w = width\n",
    "            if height > canvas_h: canvas_h = height\n",
    "    print('Canvas size:', (canvas_w, canvas_h))\n",
    "    \n",
    "    # if svg, convert to png first\n",
    "    file_list_png = []\n",
    "    for file in file_list:\n",
    "        basename, ext = os.path.splitext(file)\n",
    "        if ext == '.svg':\n",
    "            png_file = basename + '.png'\n",
    "            cairosvg.svg2png(url=file,\n",
    "                             write_to=png_file)\n",
    "            file_list_png.append(png_file)\n",
    "        elif ext == '.png':\n",
    "            file_list_png.append(file)\n",
    "        else:\n",
    "            raise ValueError('File type not availale!')\n",
    "    \n",
    "    image_list = []\n",
    "    # \n",
    "    for file in file_list_png:\n",
    "        print('File:', file)\n",
    "        width, height = get_size(file)\n",
    "        img = Image(width, height, file)\n",
    "        img.move(int((canvas_w-width)/2),\n",
    "                 int((canvas_h-height)/2))\n",
    "        image_list.append(img)\n",
    "    \n",
    "        \n",
    "    Figure(canvas_w, canvas_h, *image_list).save(opt_file)"
   ]
  },
  {
   "cell_type": "code",
   "execution_count": 46,
   "metadata": {
    "scrolled": true
   },
   "outputs": [
    {
     "name": "stdout",
     "output_type": "stream",
     "text": [
      "Canvas size: (1114, 786)\n",
      "File: svg-objects-export/A-1.png\n",
      "File: svg-objects-export/A-2-1-2-1.png\n",
      "File: svg-objects-export/A-3-1.png\n"
     ]
    }
   ],
   "source": [
    "stack_svgs(['svg-objects-export/A-1.png', \n",
    "            'svg-objects-export/A-2-1-2-1.png', \n",
    "            'svg-objects-export/A-3-1.png'])"
   ]
  },
  {
   "cell_type": "code",
   "execution_count": 45,
   "metadata": {
    "scrolled": false
   },
   "outputs": [
    {
     "name": "stdout",
     "output_type": "stream",
     "text": [
      "Canvas size: (1145, 816)\n",
      "File: material/背景4.png\n",
      "File: material/123.png\n",
      "File: material/生活方式3.png\n"
     ]
    },
    {
     "name": "stderr",
     "output_type": "stream",
     "text": [
      "/Users/dongjustin/miniconda2/envs/text2scene/lib/python3.7/site-packages/cairosvg/parser.py:416: UserWarning: No tag with id=未命名的渐变_12-2 found.\n",
      "  warnings.warn('No tag with id={} found.'.format(element_id))\n",
      "/Users/dongjustin/miniconda2/envs/text2scene/lib/python3.7/site-packages/cairosvg/parser.py:416: UserWarning: No tag with id=未命名的渐变_12-3 found.\n",
      "  warnings.warn('No tag with id={} found.'.format(element_id))\n",
      "/Users/dongjustin/miniconda2/envs/text2scene/lib/python3.7/site-packages/cairosvg/parser.py:416: UserWarning: No tag with id=未命名的渐变_12-4 found.\n",
      "  warnings.warn('No tag with id={} found.'.format(element_id))\n"
     ]
    }
   ],
   "source": [
    "stack_svgs(['material/背景4.svg', \n",
    "            'material/123.svg', \n",
    "            'material/生活方式3.svg'])"
   ]
  },
  {
   "cell_type": "code",
   "execution_count": 13,
   "metadata": {},
   "outputs": [],
   "source": [
    "## write a tool to stack two svgs:\n",
    "### put <g> altogether, then for each elememt, add attribute recursively"
   ]
  },
  {
   "cell_type": "code",
   "execution_count": 354,
   "metadata": {},
   "outputs": [],
   "source": [
    "## ValueError: material/124.svg\n",
    "## issue of cairosvg converter"
   ]
  },
  {
   "cell_type": "markdown",
   "metadata": {},
   "source": [
    "## Test"
   ]
  },
  {
   "cell_type": "code",
   "execution_count": 132,
   "metadata": {},
   "outputs": [],
   "source": [
    "doc = parse('SB.svg')\n",
    "# ele = [c for c in doc.childNodes if c.nodeType == 1]\n",
    "# assert(len(ele) == 1)\n",
    "# [n.getAttribute('id') for n in ele[0].childNodes if n.nodeType==1 and n.tagName=='g']\n",
    "# [g.getAttribute('id') for g in doc.getElementsByTagName('g') if g.hasAttribute('id')]\n",
    "# id_list = [g.getAttribute('id') for g in doc.getElementsByTagName('g') if g.hasAttribute('id')]\n",
    "# assert(id_list)\n",
    "\n",
    "# get the tagname: element.tagName"
   ]
  },
  {
   "cell_type": "code",
   "execution_count": 76,
   "metadata": {},
   "outputs": [],
   "source": [
    "# the order may be reversed, that's weird\n",
    "# at least. background must be at the bottom\n",
    "# but what if there are only person and surronding\n",
    "\n",
    "# it's reversed\n",
    "# because the first object is at the bottom"
   ]
  },
  {
   "cell_type": "code",
   "execution_count": 74,
   "metadata": {},
   "outputs": [
    {
     "data": {
      "text/plain": [
       "[<DOM Element: image at 0x112681cc0>]"
      ]
     },
     "execution_count": 74,
     "metadata": {},
     "output_type": "execute_result"
    }
   ],
   "source": [
    "doc.getElementsByTagName('image')"
   ]
  },
  {
   "cell_type": "code",
   "execution_count": 56,
   "metadata": {},
   "outputs": [
    {
     "data": {
      "text/plain": [
       "['_x31__x5F_1_x5F_1']"
      ]
     },
     "execution_count": 56,
     "metadata": {},
     "output_type": "execute_result"
    }
   ],
   "source": [
    "[g.getAttribute('id') for g in doc.getElementsByTagName('*') if g.hasAttribute('id')]"
   ]
  },
  {
   "cell_type": "code",
   "execution_count": null,
   "metadata": {},
   "outputs": [],
   "source": []
  }
 ],
 "metadata": {
  "kernelspec": {
   "display_name": "text2scene",
   "language": "python",
   "name": "text2scene"
  },
  "language_info": {
   "codemirror_mode": {
    "name": "ipython",
    "version": 3
   },
   "file_extension": ".py",
   "mimetype": "text/x-python",
   "name": "python",
   "nbconvert_exporter": "python",
   "pygments_lexer": "ipython3",
   "version": "3.7.3"
  }
 },
 "nbformat": 4,
 "nbformat_minor": 2
}
