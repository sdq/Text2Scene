{
 "cells": [
  {
   "cell_type": "markdown",
   "metadata": {},
   "source": [
    "### latex category auto"
   ]
  },
  {
   "cell_type": "code",
   "execution_count": 8,
   "metadata": {},
   "outputs": [
    {
     "data": {
      "text/plain": [
       "['interaction.n.01', 'person.n.02']"
      ]
     },
     "execution_count": 8,
     "metadata": {},
     "output_type": "execute_result"
    }
   ],
   "source": [
    "from tools.common import nestedDict2NestedList, getNodesWithDepth, getDepth\n",
    "from rules.category import surrouding_dict, person_dict\n",
    "\n",
    "getNodesWithDepth(nestedDict2NestedList(person_dict), 1)"
   ]
  },
  {
   "cell_type": "code",
   "execution_count": 30,
   "metadata": {},
   "outputs": [
    {
     "name": "stdout",
     "output_type": "stream",
     "text": [
      "\\begin{tabular}{ccc}\n",
      "\\midrule\n",
      " interaction & person \\\\\n",
      " occupation & abstraction & emotion & sociable & travel & enjoyment & stand & sit & sport & show & gesture \\\\\n",
      " lean & back & front \\\\\n",
      "\\end{tabular}\n"
     ]
    }
   ],
   "source": [
    "from rules.category import surrouding_dict, person_dict\n",
    "li = nestedDict2NestedList(person_dict)\n",
    "d = getDepth(li)\n",
    "\n",
    "max_row_length = len(getNodesWithDepth(li, d))\n",
    "\n",
    "print('\\\\begin{tabular}{%s}' % ('c'* max_row_length))\n",
    "print('\\\\midrule')\n",
    "for l in range(1, getDepth(li)+1):\n",
    "    ts = getNodesWithDepth(li, l)\n",
    "    for t in ts[:-1]:\n",
    "        print(' %s ' % t.split('.')[0], end = '&')\n",
    "    print(' %s ' % ts[-1].split('.')[0], end = '\\\\\\\\\\n')\n",
    "print('\\\\end{tabular}')"
   ]
  },
  {
   "cell_type": "code",
   "execution_count": 24,
   "metadata": {},
   "outputs": [
    {
     "data": {
      "text/plain": [
       "['furniture.n.01',\n",
       " 'appliance.n.02',\n",
       " 'wall.n.01',\n",
       " 'sundries.n.01',\n",
       " 'chart.n.01',\n",
       " 'art.n.01',\n",
       " 'street.n.01',\n",
       " 'building.n.01',\n",
       " 'vehicle.n.01',\n",
       " 'park.n.02',\n",
       " 'wild.n.01']"
      ]
     },
     "execution_count": 24,
     "metadata": {},
     "output_type": "execute_result"
    }
   ],
   "source": []
  },
  {
   "cell_type": "code",
   "execution_count": null,
   "metadata": {},
   "outputs": [],
   "source": []
  }
 ],
 "metadata": {
  "kernelspec": {
   "display_name": "text2scene",
   "language": "python",
   "name": "text2scene"
  },
  "language_info": {
   "codemirror_mode": {
    "name": "ipython",
    "version": 3
   },
   "file_extension": ".py",
   "mimetype": "text/x-python",
   "name": "python",
   "nbconvert_exporter": "python",
   "pygments_lexer": "ipython3",
   "version": "3.7.3"
  }
 },
 "nbformat": 4,
 "nbformat_minor": 2
}
