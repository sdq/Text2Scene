{
 "cells": [
  {
   "cell_type": "markdown",
   "metadata": {},
   "source": [
    "### spacy tagger performs better than nltk tree-bank tagger\n",
    "    * sits"
   ]
  },
  {
   "cell_type": "code",
   "execution_count": 27,
   "metadata": {},
   "outputs": [
    {
     "name": "stdout",
     "output_type": "stream",
     "text": [
      "A DT\n",
      "man NN\n",
      "plays VBZ\n",
      "computer NN\n",
      "and CC\n",
      "sits VBZ\n",
      "on IN\n",
      "the DT\n",
      "ground NN\n"
     ]
    }
   ],
   "source": [
    "import spacy\n",
    "from spacy.pipeline import Tagger\n",
    "nlp = spacy.load(\"en_core_web_sm\")\n",
    "tagger = Tagger(nlp.vocab)\n",
    "tagger = nlp.create_pipe(\"tagger\")\n",
    "# tagger(\n",
    "doc = nlp(u'A man plays computer and sits on the ground')\n",
    "for token in doc:\n",
    "    print(token.text, token.tag_)"
   ]
  },
  {
   "cell_type": "code",
   "execution_count": 28,
   "metadata": {},
   "outputs": [
    {
     "data": {
      "text/plain": [
       "[('A', 'DT'),\n",
       " ('man', 'NN'),\n",
       " ('plays', 'VBZ'),\n",
       " ('computer', 'NN'),\n",
       " ('and', 'CC'),\n",
       " ('sits', 'NNS'),\n",
       " ('on', 'IN'),\n",
       " ('the', 'DT'),\n",
       " ('ground', 'NN')]"
      ]
     },
     "execution_count": 28,
     "metadata": {},
     "output_type": "execute_result"
    }
   ],
   "source": [
    "from nltk.corpus import wordnet as wn\n",
    "from nltk import pos_tag, word_tokenize\n",
    "pos_tag(word_tokenize('A man plays computer and sits on the ground'))"
   ]
  },
  {
   "cell_type": "code",
   "execution_count": null,
   "metadata": {},
   "outputs": [],
   "source": []
  }
 ],
 "metadata": {
  "kernelspec": {
   "display_name": "text2scene",
   "language": "python",
   "name": "text2scene"
  },
  "language_info": {
   "codemirror_mode": {
    "name": "ipython",
    "version": 3
   },
   "file_extension": ".py",
   "mimetype": "text/x-python",
   "name": "python",
   "nbconvert_exporter": "python",
   "pygments_lexer": "ipython3",
   "version": "3.7.3"
  }
 },
 "nbformat": 4,
 "nbformat_minor": 2
}
