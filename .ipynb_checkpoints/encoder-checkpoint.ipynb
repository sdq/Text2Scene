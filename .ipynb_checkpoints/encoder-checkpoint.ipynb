{
 "cells": [
  {
   "cell_type": "code",
   "execution_count": 1,
   "metadata": {},
   "outputs": [
    {
     "name": "stderr",
     "output_type": "stream",
     "text": [
      "/Users/dongjustin/miniconda2/envs/text2scene/lib/python3.7/importlib/_bootstrap.py:219: RuntimeWarning: numpy.ufunc size changed, may indicate binary incompatibility. Expected 192 from C header, got 216 from PyObject\n",
      "  return f(*args, **kwds)\n",
      "/Users/dongjustin/miniconda2/envs/text2scene/lib/python3.7/importlib/_bootstrap.py:219: RuntimeWarning: numpy.ufunc size changed, may indicate binary incompatibility. Expected 192 from C header, got 216 from PyObject\n",
      "  return f(*args, **kwds)\n",
      "/Users/dongjustin/miniconda2/envs/text2scene/lib/python3.7/importlib/_bootstrap.py:219: RuntimeWarning: numpy.ufunc size changed, may indicate binary incompatibility. Expected 192 from C header, got 216 from PyObject\n",
      "  return f(*args, **kwds)\n",
      "/Users/dongjustin/miniconda2/envs/text2scene/lib/python3.7/importlib/_bootstrap.py:219: RuntimeWarning: numpy.ufunc size changed, may indicate binary incompatibility. Expected 192 from C header, got 216 from PyObject\n",
      "  return f(*args, **kwds)\n",
      "/Users/dongjustin/miniconda2/envs/text2scene/lib/python3.7/importlib/_bootstrap.py:219: RuntimeWarning: numpy.ufunc size changed, may indicate binary incompatibility. Expected 192 from C header, got 216 from PyObject\n",
      "  return f(*args, **kwds)\n",
      "/Users/dongjustin/miniconda2/envs/text2scene/lib/python3.7/importlib/_bootstrap.py:219: RuntimeWarning: numpy.ufunc size changed, may indicate binary incompatibility. Expected 192 from C header, got 216 from PyObject\n",
      "  return f(*args, **kwds)\n",
      "/Users/dongjustin/miniconda2/envs/text2scene/lib/python3.7/importlib/_bootstrap.py:219: RuntimeWarning: numpy.ufunc size changed, may indicate binary incompatibility. Expected 192 from C header, got 216 from PyObject\n",
      "  return f(*args, **kwds)\n",
      "/Users/dongjustin/miniconda2/envs/text2scene/lib/python3.7/importlib/_bootstrap.py:219: RuntimeWarning: numpy.ufunc size changed, may indicate binary incompatibility. Expected 192 from C header, got 216 from PyObject\n",
      "  return f(*args, **kwds)\n",
      "/Users/dongjustin/miniconda2/envs/text2scene/lib/python3.7/importlib/_bootstrap.py:219: RuntimeWarning: numpy.ufunc size changed, may indicate binary incompatibility. Expected 192 from C header, got 216 from PyObject\n",
      "  return f(*args, **kwds)\n",
      "/Users/dongjustin/miniconda2/envs/text2scene/lib/python3.7/importlib/_bootstrap.py:219: RuntimeWarning: numpy.ufunc size changed, may indicate binary incompatibility. Expected 192 from C header, got 216 from PyObject\n",
      "  return f(*args, **kwds)\n",
      "/Users/dongjustin/miniconda2/envs/text2scene/lib/python3.7/importlib/_bootstrap.py:219: RuntimeWarning: numpy.ufunc size changed, may indicate binary incompatibility. Expected 192 from C header, got 216 from PyObject\n",
      "  return f(*args, **kwds)\n",
      "/Users/dongjustin/miniconda2/envs/text2scene/lib/python3.7/importlib/_bootstrap.py:219: RuntimeWarning: numpy.ufunc size changed, may indicate binary incompatibility. Expected 192 from C header, got 216 from PyObject\n",
      "  return f(*args, **kwds)\n",
      "/Users/dongjustin/miniconda2/envs/text2scene/lib/python3.7/importlib/_bootstrap.py:219: RuntimeWarning: numpy.ufunc size changed, may indicate binary incompatibility. Expected 192 from C header, got 216 from PyObject\n",
      "  return f(*args, **kwds)\n",
      "/Users/dongjustin/miniconda2/envs/text2scene/lib/python3.7/importlib/_bootstrap.py:219: RuntimeWarning: numpy.ufunc size changed, may indicate binary incompatibility. Expected 192 from C header, got 216 from PyObject\n",
      "  return f(*args, **kwds)\n",
      "/Users/dongjustin/miniconda2/envs/text2scene/lib/python3.7/importlib/_bootstrap.py:219: RuntimeWarning: numpy.ufunc size changed, may indicate binary incompatibility. Expected 192 from C header, got 216 from PyObject\n",
      "  return f(*args, **kwds)\n",
      "/Users/dongjustin/miniconda2/envs/text2scene/lib/python3.7/importlib/_bootstrap.py:219: RuntimeWarning: numpy.ufunc size changed, may indicate binary incompatibility. Expected 192 from C header, got 216 from PyObject\n",
      "  return f(*args, **kwds)\n",
      "/Users/dongjustin/miniconda2/envs/text2scene/lib/python3.7/importlib/_bootstrap.py:219: RuntimeWarning: numpy.ufunc size changed, may indicate binary incompatibility. Expected 192 from C header, got 216 from PyObject\n",
      "  return f(*args, **kwds)\n",
      "/Users/dongjustin/miniconda2/envs/text2scene/lib/python3.7/importlib/_bootstrap.py:219: RuntimeWarning: numpy.ufunc size changed, may indicate binary incompatibility. Expected 192 from C header, got 216 from PyObject\n",
      "  return f(*args, **kwds)\n",
      "/Users/dongjustin/miniconda2/envs/text2scene/lib/python3.7/importlib/_bootstrap.py:219: RuntimeWarning: numpy.ufunc size changed, may indicate binary incompatibility. Expected 192 from C header, got 216 from PyObject\n",
      "  return f(*args, **kwds)\n",
      "/Users/dongjustin/miniconda2/envs/text2scene/lib/python3.7/importlib/_bootstrap.py:219: RuntimeWarning: numpy.ufunc size changed, may indicate binary incompatibility. Expected 192 from C header, got 216 from PyObject\n",
      "  return f(*args, **kwds)\n",
      "/Users/dongjustin/miniconda2/envs/text2scene/lib/python3.7/importlib/_bootstrap.py:219: RuntimeWarning: numpy.ufunc size changed, may indicate binary incompatibility. Expected 192 from C header, got 216 from PyObject\n",
      "  return f(*args, **kwds)\n",
      "/Users/dongjustin/miniconda2/envs/text2scene/lib/python3.7/importlib/_bootstrap.py:219: RuntimeWarning: numpy.ufunc size changed, may indicate binary incompatibility. Expected 192 from C header, got 216 from PyObject\n",
      "  return f(*args, **kwds)\n",
      "/Users/dongjustin/miniconda2/envs/text2scene/lib/python3.7/site-packages/nltk/decorators.py:68: DeprecationWarning: `formatargspec` is deprecated since Python 3.5. Use `signature` and the `Signature` object directly\n",
      "  regargs, varargs, varkwargs, defaults, formatvalue=lambda value: \"\"\n",
      "/Users/dongjustin/miniconda2/envs/text2scene/lib/python3.7/site-packages/nltk/lm/counter.py:15: DeprecationWarning: Using or importing the ABCs from 'collections' instead of from 'collections.abc' is deprecated, and in 3.8 it will stop working\n",
      "  from collections import Sequence, defaultdict\n",
      "/Users/dongjustin/miniconda2/envs/text2scene/lib/python3.7/site-packages/nltk/lm/vocabulary.py:13: DeprecationWarning: Using or importing the ABCs from 'collections' instead of from 'collections.abc' is deprecated, and in 3.8 it will stop working\n",
      "  from collections import Counter, Iterable\n",
      "/Users/dongjustin/miniconda2/envs/text2scene/lib/python3.7/importlib/_bootstrap.py:219: RuntimeWarning: numpy.ufunc size changed, may indicate binary incompatibility. Expected 192 from C header, got 216 from PyObject\n",
      "  return f(*args, **kwds)\n",
      "/Users/dongjustin/miniconda2/envs/text2scene/lib/python3.7/importlib/_bootstrap.py:219: RuntimeWarning: numpy.ufunc size changed, may indicate binary incompatibility. Expected 192 from C header, got 216 from PyObject\n",
      "  return f(*args, **kwds)\n",
      "/Users/dongjustin/miniconda2/envs/text2scene/lib/python3.7/importlib/_bootstrap.py:219: RuntimeWarning: numpy.ufunc size changed, may indicate binary incompatibility. Expected 192 from C header, got 216 from PyObject\n",
      "  return f(*args, **kwds)\n",
      "/Users/dongjustin/miniconda2/envs/text2scene/lib/python3.7/importlib/_bootstrap.py:219: RuntimeWarning: numpy.ufunc size changed, may indicate binary incompatibility. Expected 192 from C header, got 216 from PyObject\n",
      "  return f(*args, **kwds)\n",
      "/Users/dongjustin/miniconda2/envs/text2scene/lib/python3.7/importlib/_bootstrap.py:219: RuntimeWarning: numpy.ufunc size changed, may indicate binary incompatibility. Expected 192 from C header, got 216 from PyObject\n",
      "  return f(*args, **kwds)\n",
      "/Users/dongjustin/miniconda2/envs/text2scene/lib/python3.7/importlib/_bootstrap.py:219: RuntimeWarning: numpy.ufunc size changed, may indicate binary incompatibility. Expected 192 from C header, got 216 from PyObject\n",
      "  return f(*args, **kwds)\n",
      "/Users/dongjustin/miniconda2/envs/text2scene/lib/python3.7/importlib/_bootstrap.py:219: RuntimeWarning: numpy.ufunc size changed, may indicate binary incompatibility. Expected 192 from C header, got 216 from PyObject\n",
      "  return f(*args, **kwds)\n",
      "/Users/dongjustin/miniconda2/envs/text2scene/lib/python3.7/importlib/_bootstrap.py:219: RuntimeWarning: numpy.ufunc size changed, may indicate binary incompatibility. Expected 192 from C header, got 216 from PyObject\n",
      "  return f(*args, **kwds)\n",
      "/Users/dongjustin/miniconda2/envs/text2scene/lib/python3.7/importlib/_bootstrap.py:219: RuntimeWarning: numpy.ufunc size changed, may indicate binary incompatibility. Expected 192 from C header, got 216 from PyObject\n",
      "  return f(*args, **kwds)\n",
      "/Users/dongjustin/miniconda2/envs/text2scene/lib/python3.7/importlib/_bootstrap.py:219: RuntimeWarning: numpy.ufunc size changed, may indicate binary incompatibility. Expected 192 from C header, got 216 from PyObject\n",
      "  return f(*args, **kwds)\n",
      "/Users/dongjustin/miniconda2/envs/text2scene/lib/python3.7/importlib/_bootstrap.py:219: RuntimeWarning: numpy.ufunc size changed, may indicate binary incompatibility. Expected 192 from C header, got 216 from PyObject\n",
      "  return f(*args, **kwds)\n",
      "/Users/dongjustin/miniconda2/envs/text2scene/lib/python3.7/importlib/_bootstrap.py:219: RuntimeWarning: numpy.ufunc size changed, may indicate binary incompatibility. Expected 192 from C header, got 216 from PyObject\n",
      "  return f(*args, **kwds)\n",
      "/Users/dongjustin/miniconda2/envs/text2scene/lib/python3.7/importlib/_bootstrap.py:219: RuntimeWarning: numpy.ufunc size changed, may indicate binary incompatibility. Expected 192 from C header, got 216 from PyObject\n",
      "  return f(*args, **kwds)\n",
      "/Users/dongjustin/miniconda2/envs/text2scene/lib/python3.7/importlib/_bootstrap.py:219: RuntimeWarning: numpy.ufunc size changed, may indicate binary incompatibility. Expected 192 from C header, got 216 from PyObject\n",
      "  return f(*args, **kwds)\n",
      "/Users/dongjustin/miniconda2/envs/text2scene/lib/python3.7/importlib/_bootstrap.py:219: RuntimeWarning: numpy.ufunc size changed, may indicate binary incompatibility. Expected 192 from C header, got 216 from PyObject\n",
      "  return f(*args, **kwds)\n",
      "/Users/dongjustin/miniconda2/envs/text2scene/lib/python3.7/importlib/_bootstrap.py:219: RuntimeWarning: numpy.ufunc size changed, may indicate binary incompatibility. Expected 192 from C header, got 216 from PyObject\n",
      "  return f(*args, **kwds)\n",
      "/Users/dongjustin/miniconda2/envs/text2scene/lib/python3.7/importlib/_bootstrap.py:219: RuntimeWarning: numpy.ufunc size changed, may indicate binary incompatibility. Expected 192 from C header, got 216 from PyObject\n",
      "  return f(*args, **kwds)\n",
      "/Users/dongjustin/miniconda2/envs/text2scene/lib/python3.7/importlib/_bootstrap.py:219: RuntimeWarning: numpy.ufunc size changed, may indicate binary incompatibility. Expected 192 from C header, got 216 from PyObject\n",
      "  return f(*args, **kwds)\n",
      "/Users/dongjustin/miniconda2/envs/text2scene/lib/python3.7/importlib/_bootstrap.py:219: RuntimeWarning: numpy.ufunc size changed, may indicate binary incompatibility. Expected 192 from C header, got 216 from PyObject\n",
      "  return f(*args, **kwds)\n",
      "/Users/dongjustin/miniconda2/envs/text2scene/lib/python3.7/importlib/_bootstrap.py:219: RuntimeWarning: numpy.ufunc size changed, may indicate binary incompatibility. Expected 192 from C header, got 216 from PyObject\n",
      "  return f(*args, **kwds)\n",
      "/Users/dongjustin/Documents/Text2Scene/Text2Scene/tools/image_process.py:21: DeprecationWarning: invalid escape sequence \\d\n",
      "  s = re.sub('_x?\\d+_', '', s) # remove other symbols\n",
      "/Users/dongjustin/Documents/Text2Scene/Text2Scene/tools/image_process.py:73: DeprecationWarning: invalid escape sequence \\[\n",
      "  obj = '\\[\\w+(,\\w+)*\\]'\n",
      "/Users/dongjustin/Documents/Text2Scene/Text2Scene/tools/image_process.py:74: DeprecationWarning: invalid escape sequence \\w\n",
      "  act_obj = '\\w+(%s)*' % obj\n",
      "/Users/dongjustin/Documents/Text2Scene/Text2Scene/tools/image_process.py:75: DeprecationWarning: invalid escape sequence \\w\n",
      "  reg_single = '\\w+(\\(%s(,%s)*\\))+' % (act_obj, act_obj)\n",
      "/Users/dongjustin/Documents/Text2Scene/Text2Scene/tools/image_process.py:76: DeprecationWarning: invalid escape sequence \\(\n",
      "  reg_multi = 'group\\(have\\[%s(,%s)*\\]\\)' % (reg_single,\n",
      "/Users/dongjustin/Documents/Text2Scene/Text2Scene/tools/image_process.py:134: DeprecationWarning: invalid escape sequence \\[\n",
      "  subjs = re.findall('[\\[|,](\\w+)\\(', self.s)\n",
      "/Users/dongjustin/Documents/Text2Scene/Text2Scene/tools/image_process.py:141: DeprecationWarning: invalid escape sequence \\[\n",
      "  self.s = re.sub('(?<=[\\[,])%s(?=\\()' % subj,\n",
      "/Users/dongjustin/Documents/Text2Scene/Text2Scene/tools/image_process.py:145: DeprecationWarning: invalid escape sequence \\[\n",
      "  subjs = re.findall('[\\[|,](\\w+)\\(', self.s)\n",
      "/Users/dongjustin/Documents/Text2Scene/Text2Scene/tools/image_process.py:147: DeprecationWarning: invalid escape sequence \\w\n",
      "  subjs = re.findall('^#(\\w+)\\(', self.s)\n",
      "/Users/dongjustin/Documents/Text2Scene/Text2Scene/tools/image_process.py:161: DeprecationWarning: invalid escape sequence \\(\n",
      "  s = re.sub('#group\\(have', '', self.s)\n",
      "/Users/dongjustin/Documents/Text2Scene/Text2Scene/tools/image_process.py:168: DeprecationWarning: invalid escape sequence \\[\n",
      "  obj = '\\[\\w+(,\\w+)*\\]'\n",
      "/Users/dongjustin/Documents/Text2Scene/Text2Scene/tools/image_process.py:200: DeprecationWarning: invalid escape sequence \\(\n",
      "  s = re.sub('#group\\(have', '', self.s)\n",
      "/Users/dongjustin/Documents/Text2Scene/Text2Scene/tools/image_process.py:284: DeprecationWarning: invalid escape sequence \\d\n",
      "  if re.match('^{subj}\\d*$'.format(subj=sub), subj_):\n"
     ]
    }
   ],
   "source": [
    "from collections import defaultdict\n",
    "import dill\n",
    "import glob\n",
    "import warnings\n",
    "warnings.filterwarnings('always')\n",
    "\n",
    "from tools.text_process import LemmaTokenizer\n",
    "from tools.image_process import LayerName, getLayerNames\n",
    "from tools.instance import Node\n",
    "from tools.knowledge import LayerBase, TextBase\n",
    "from tools.common import ravel"
   ]
  },
  {
   "cell_type": "code",
   "execution_count": 2,
   "metadata": {
    "scrolled": true
   },
   "outputs": [
    {
     "name": "stdout",
     "output_type": "stream",
     "text": [
      "50\n"
     ]
    },
    {
     "data": {
      "text/plain": [
       "85"
      ]
     },
     "execution_count": 2,
     "metadata": {},
     "output_type": "execute_result"
    }
   ],
   "source": [
    "layerbase = LayerBase()\n",
    "print(layerbase.index(Node('man','subj')))\n",
    "\n",
    "textbase = TextBase()\n",
    "len([(n.t, n.attr) for n in textbase.vocab_])#index('man','n')"
   ]
  },
  {
   "cell_type": "code",
   "execution_count": 3,
   "metadata": {},
   "outputs": [],
   "source": [
    "# with open('relateDict.pkl', 'rb') as f:\n",
    "#     relateDict = dill.load(f)\n",
    "# sum([len(relateDict[key]) for key in relateDict])"
   ]
  },
  {
   "cell_type": "code",
   "execution_count": 4,
   "metadata": {},
   "outputs": [],
   "source": [
    "class Picture:\n",
    "    def __init__(self, img_name):\n",
    "        self.img_name = img_name\n",
    "        self.layernames_ = getLayerNames(img_name)\n",
    "        self.layer_merge_ = LayerName()\n",
    "        self.layers_ = []\n",
    "        for layername in self.layernames_:\n",
    "            layer = LayerName(layername)\n",
    "            self.layers_.append(layer)\n",
    "            self.layer_merge_.absorb(layer)\n",
    "        # make the layers immutable\n",
    "        self.layers_ = tuple(self.layers_)\n",
    "        self.plot = self.layer_merge_.plot\n",
    "        self.keywords_ = ravel(self.layer_merge_.entities_)\n",
    "\n",
    "class Description:\n",
    "    \"\"\"\n",
    "    save tokens and original sentence\n",
    "    \"\"\"\n",
    "    def __init__(self, txt_name):\n",
    "        self.txt_name = txt_name\n",
    "\n",
    "        tokenizer = LemmaTokenizer()\n",
    "        with open('%s/%s.txt' % (txt_dir, name)) as f:\n",
    "            self.text = f.read()\n",
    "        self.tokens_ = tokenizer(self.text)\n",
    "\n",
    "# picture = Picture('images/Firmware.svg')\n",
    "# [n.t for n in picture.ravel_]\n",
    "# picture.plot()"
   ]
  },
  {
   "cell_type": "code",
   "execution_count": 5,
   "metadata": {},
   "outputs": [],
   "source": [
    "# temporarily set to 0\n",
    "relateDict = defaultdict(lambda: defaultdict(float))"
   ]
  },
  {
   "cell_type": "code",
   "execution_count": 6,
   "metadata": {},
   "outputs": [],
   "source": [
    "img_dir='images'\n",
    "txt_dir='text'\n",
    "name = 'Firmware'\n",
    "\n",
    "description = Description('%s/%s.txt' % (txt_dir, name))\n",
    "picture = Picture('%s/%s.svg' % (img_dir, name))"
   ]
  },
  {
   "cell_type": "code",
   "execution_count": 61,
   "metadata": {},
   "outputs": [],
   "source": [
    "from scipy import sparse\n",
    "import numpy as np\n",
    "\n",
    "class Encoder():\n",
    "    def __init__(self):\n",
    "        self.layerbase = LayerBase()\n",
    "        self.textbase = TextBase()\n",
    "\n",
    "    def encode(self, tokens, keywords, length=5):\n",
    "        assert(length < len(self.textbase)), (length,\n",
    "                                              len(self.textbase))\n",
    "        tuples = []\n",
    "        for token in tokens:\n",
    "            for keyword in keywords:\n",
    "                tuples.append((self.layerbase.index(keyword),\n",
    "                               self.textbase.index(token),\n",
    "                               relateDict[keyword.t][token.t]))\n",
    "        row, col, data = zip(*tuples)\n",
    "        matrix = sparse.csr_matrix((data, (row, col)),\n",
    "                                    shape=(len(self.layerbase),\n",
    "                                           len(self.textbase)))\n",
    "        return self.to_hists(matrix, length)\n",
    "    \n",
    "    def to_hists(self, matrix, num=5):\n",
    "        assert(isinstance(matrix, sparse.csr_matrix))\n",
    "        assert(matrix.min()>=0)\n",
    "        assert(matrix.max()<=1)\n",
    "        \n",
    "        arr = matrix.toarray()\n",
    "        bins = np.linspace(0, 1, num+1)\n",
    "        hists = []\n",
    "        for row in range(arr.shape[0]):\n",
    "            hists.append(np.histogram(arr[row], bins)[0])\n",
    "        return np.vstack(hists)\n",
    "    "
   ]
  },
  {
   "cell_type": "code",
   "execution_count": 62,
   "metadata": {},
   "outputs": [
    {
     "data": {
      "text/plain": [
       "(101, 5)"
      ]
     },
     "execution_count": 62,
     "metadata": {},
     "output_type": "execute_result"
    }
   ],
   "source": [
    "encoder = Encoder()\n",
    "arr = encoder.encode(description.tokens_,\n",
    "                     picture.keywords_)#.toarray()\n",
    "arr.shape"
   ]
  },
  {
   "cell_type": "code",
   "execution_count": 9,
   "metadata": {},
   "outputs": [],
   "source": [
    "class LayerBase():\n",
    "    def __init__(self):\n",
    "\n",
    "\n",
    "        self.layer_merge_ = LayerName()\n",
    "        self.pictures_ = []\n",
    "        for svg in glob.glob('images/*.svg'):\n",
    "            picture = Picture(svg)\n",
    "            # for layer in getLayerNames(svg):\n",
    "            #     layername = LayerName(layer)\n",
    "            #     self.layers_.append(layername)\n",
    "            self.layer_merge_.absorb(picture.layer_merge_)\n",
    "            self.pictures_.append(picture)\n",
    "        self.entities_ = self.layer_merge_.entities_\n",
    "        self.keywords_ = sorted(ravel(self.layer_merge_.entities_))\n",
    "\n",
    "    # def index(self, keyword, attr):\n",
    "    #     return self.nodes_.index(Node(keyword, attr))\n",
    "\n",
    "    def index(self, keyword):\n",
    "        assert(isinstance(keyword, Node))\n",
    "        return self.keywords_.index(keyword)\n",
    "\n",
    "    def __len__(self):\n",
    "        return len(self.keywords_)"
   ]
  },
  {
   "cell_type": "code",
   "execution_count": 10,
   "metadata": {},
   "outputs": [],
   "source": [
    "layerbase = LayerBase()\n",
    "alllayers = [layer for picture in layerbase.pictures_ for layer in picture.layers_]"
   ]
  },
  {
   "cell_type": "code",
   "execution_count": 30,
   "metadata": {},
   "outputs": [
    {
     "name": "stdout",
     "output_type": "stream",
     "text": [
      "82\n",
      "{<tools.instance.Node object at 0x129e19898>} 29\n",
      "{<tools.instance.Node object at 0x129f4a240>, <tools.instance.Node object at 0x129e19898>, <tools.instance.Node object at 0x129f4a278>} 3\n",
      "{<tools.instance.Node object at 0x129f4a278>, <tools.instance.Node object at 0x129e19898>} 3\n",
      "{<tools.instance.Node object at 0x129e19898>, <tools.instance.Node object at 0x129f4a1d0>, <tools.instance.Node object at 0x129f4a278>} 3\n",
      "{<tools.instance.Node object at 0x129e19898>, <tools.instance.Node object at 0x129f4a438>, <tools.instance.Node object at 0x129f4a1d0>, <tools.instance.Node object at 0x129f4a278>} 2\n"
     ]
    }
   ],
   "source": [
    "from collections import Counter\n",
    "print(len(set(alllayers)))\n",
    "c = Counter(alllayers)\n",
    "for layer, count in c.most_common():\n",
    "    if count <= 1: break\n",
    "    print(ravel(layer.entities_), count)\n",
    "\"\"\"\n",
    "layer keywords\n",
    "then fetch these contain the tokens in the transformed(to keyword) description\n",
    "\n",
    "how?\n",
    "for each keyword, fetch a layer?\n",
    "\"\"\""
   ]
  },
  {
   "cell_type": "code",
   "execution_count": 80,
   "metadata": {},
   "outputs": [
    {
     "name": "stdout",
     "output_type": "stream",
     "text": [
      "A DT\n",
      "man NN\n",
      "plays VBZ\n",
      "computer NN\n",
      "and CC\n",
      "sits VBZ\n",
      "on IN\n",
      "the DT\n",
      "ground NN\n"
     ]
    }
   ],
   "source": [
    "import spacy\n",
    "from spacy.pipeline import Tagger\n",
    "nlp = spacy.load(\"en_core_web_sm\")\n",
    "tagger = Tagger(nlp.vocab)\n",
    "tagger = nlp.create_pipe(\"tagger\")\n",
    "# tagger(\n",
    "doc = nlp(u'A man plays computer and sits on the ground')\n",
    "for token in doc:\n",
    "    print(token.text, token.tag_)\n"
   ]
  },
  {
   "cell_type": "code",
   "execution_count": 85,
   "metadata": {},
   "outputs": [
    {
     "data": {
      "text/plain": [
       "'A man plays computer and sits on the ground'"
      ]
     },
     "execution_count": 85,
     "metadata": {},
     "output_type": "execute_result"
    }
   ],
   "source": [
    "doc.__str__()"
   ]
  },
  {
   "cell_type": "code",
   "execution_count": 86,
   "metadata": {},
   "outputs": [
    {
     "data": {
      "text/plain": [
       "<tools.image_process.LayerName at 0x127859dd8>"
      ]
     },
     "execution_count": 86,
     "metadata": {},
     "output_type": "execute_result"
    }
   ],
   "source": [
    "layer"
   ]
  },
  {
   "cell_type": "code",
   "execution_count": 27,
   "metadata": {},
   "outputs": [],
   "source": [
    "def generator(description):\n",
    "    \"\"\"\n",
    "    Given a description, propose several layers for selection\n",
    "    \"\"\"\n",
    "    assert(isinstance(description, Description))\n",
    "    "
   ]
  },
  {
   "cell_type": "code",
   "execution_count": 16,
   "metadata": {},
   "outputs": [
    {
     "data": {
      "text/plain": [
       "True"
      ]
     },
     "execution_count": 16,
     "metadata": {},
     "output_type": "execute_result"
    }
   ],
   "source": [
    "LayerName('#man(have[pant,woof],do[shit])').nested_entities_ == LayerName('#man(do[shit],have[woof,pant])').nested_entities_"
   ]
  },
  {
   "cell_type": "code",
   "execution_count": 21,
   "metadata": {},
   "outputs": [
    {
     "data": {
      "text/plain": [
       "dict_items([('man', {'have': {'woof', 'pant'}, 'do': {'shit'}})])"
      ]
     },
     "execution_count": 21,
     "metadata": {},
     "output_type": "execute_result"
    }
   ],
   "source": [
    "LayerName('#man(have[pant,woof],do[shit])').nested_entities_.items()"
   ]
  },
  {
   "cell_type": "code",
   "execution_count": 77,
   "metadata": {},
   "outputs": [
    {
     "data": {
      "text/plain": [
       "{1}"
      ]
     },
     "execution_count": 77,
     "metadata": {},
     "output_type": "execute_result"
    }
   ],
   "source": [
    "a = set()\n",
    "a.add(1)\n",
    "a\n",
    "a.union({1,2})\n",
    "a"
   ]
  },
  {
   "cell_type": "code",
   "execution_count": 22,
   "metadata": {},
   "outputs": [
    {
     "data": {
      "text/plain": [
       "((1,), (2,))"
      ]
     },
     "execution_count": 22,
     "metadata": {},
     "output_type": "execute_result"
    }
   ],
   "source": [
    "((1,),(2,))"
   ]
  },
  {
   "cell_type": "code",
   "execution_count": null,
   "metadata": {},
   "outputs": [],
   "source": []
  }
 ],
 "metadata": {
  "kernelspec": {
   "display_name": "text2scene",
   "language": "python",
   "name": "text2scene"
  },
  "language_info": {
   "codemirror_mode": {
    "name": "ipython",
    "version": 3
   },
   "file_extension": ".py",
   "mimetype": "text/x-python",
   "name": "python",
   "nbconvert_exporter": "python",
   "pygments_lexer": "ipython3",
   "version": "3.7.3"
  }
 },
 "nbformat": 4,
 "nbformat_minor": 2
}
