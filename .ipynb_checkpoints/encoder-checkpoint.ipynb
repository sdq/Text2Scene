{
 "cells": [
  {
   "cell_type": "code",
   "execution_count": 1,
   "metadata": {},
   "outputs": [
    {
     "name": "stderr",
     "output_type": "stream",
     "text": [
      "/Users/dongjustin/miniconda2/envs/text2scene/lib/python3.7/importlib/_bootstrap.py:219: RuntimeWarning: numpy.ufunc size changed, may indicate binary incompatibility. Expected 192 from C header, got 216 from PyObject\n",
      "  return f(*args, **kwds)\n",
      "/Users/dongjustin/miniconda2/envs/text2scene/lib/python3.7/importlib/_bootstrap.py:219: RuntimeWarning: numpy.ufunc size changed, may indicate binary incompatibility. Expected 192 from C header, got 216 from PyObject\n",
      "  return f(*args, **kwds)\n",
      "/Users/dongjustin/miniconda2/envs/text2scene/lib/python3.7/importlib/_bootstrap.py:219: RuntimeWarning: numpy.ufunc size changed, may indicate binary incompatibility. Expected 192 from C header, got 216 from PyObject\n",
      "  return f(*args, **kwds)\n",
      "/Users/dongjustin/miniconda2/envs/text2scene/lib/python3.7/importlib/_bootstrap.py:219: RuntimeWarning: numpy.ufunc size changed, may indicate binary incompatibility. Expected 192 from C header, got 216 from PyObject\n",
      "  return f(*args, **kwds)\n",
      "/Users/dongjustin/miniconda2/envs/text2scene/lib/python3.7/importlib/_bootstrap.py:219: RuntimeWarning: numpy.ufunc size changed, may indicate binary incompatibility. Expected 192 from C header, got 216 from PyObject\n",
      "  return f(*args, **kwds)\n",
      "/Users/dongjustin/miniconda2/envs/text2scene/lib/python3.7/importlib/_bootstrap.py:219: RuntimeWarning: numpy.ufunc size changed, may indicate binary incompatibility. Expected 192 from C header, got 216 from PyObject\n",
      "  return f(*args, **kwds)\n",
      "/Users/dongjustin/miniconda2/envs/text2scene/lib/python3.7/importlib/_bootstrap.py:219: RuntimeWarning: numpy.ufunc size changed, may indicate binary incompatibility. Expected 192 from C header, got 216 from PyObject\n",
      "  return f(*args, **kwds)\n",
      "/Users/dongjustin/miniconda2/envs/text2scene/lib/python3.7/importlib/_bootstrap.py:219: RuntimeWarning: numpy.ufunc size changed, may indicate binary incompatibility. Expected 192 from C header, got 216 from PyObject\n",
      "  return f(*args, **kwds)\n",
      "/Users/dongjustin/miniconda2/envs/text2scene/lib/python3.7/importlib/_bootstrap.py:219: RuntimeWarning: numpy.ufunc size changed, may indicate binary incompatibility. Expected 192 from C header, got 216 from PyObject\n",
      "  return f(*args, **kwds)\n",
      "/Users/dongjustin/miniconda2/envs/text2scene/lib/python3.7/importlib/_bootstrap.py:219: RuntimeWarning: numpy.ufunc size changed, may indicate binary incompatibility. Expected 192 from C header, got 216 from PyObject\n",
      "  return f(*args, **kwds)\n",
      "/Users/dongjustin/miniconda2/envs/text2scene/lib/python3.7/importlib/_bootstrap.py:219: RuntimeWarning: numpy.ufunc size changed, may indicate binary incompatibility. Expected 192 from C header, got 216 from PyObject\n",
      "  return f(*args, **kwds)\n",
      "/Users/dongjustin/miniconda2/envs/text2scene/lib/python3.7/importlib/_bootstrap.py:219: RuntimeWarning: numpy.ufunc size changed, may indicate binary incompatibility. Expected 192 from C header, got 216 from PyObject\n",
      "  return f(*args, **kwds)\n",
      "/Users/dongjustin/miniconda2/envs/text2scene/lib/python3.7/importlib/_bootstrap.py:219: RuntimeWarning: numpy.ufunc size changed, may indicate binary incompatibility. Expected 192 from C header, got 216 from PyObject\n",
      "  return f(*args, **kwds)\n",
      "/Users/dongjustin/miniconda2/envs/text2scene/lib/python3.7/importlib/_bootstrap.py:219: RuntimeWarning: numpy.ufunc size changed, may indicate binary incompatibility. Expected 192 from C header, got 216 from PyObject\n",
      "  return f(*args, **kwds)\n",
      "/Users/dongjustin/miniconda2/envs/text2scene/lib/python3.7/importlib/_bootstrap.py:219: RuntimeWarning: numpy.ufunc size changed, may indicate binary incompatibility. Expected 192 from C header, got 216 from PyObject\n",
      "  return f(*args, **kwds)\n",
      "/Users/dongjustin/miniconda2/envs/text2scene/lib/python3.7/importlib/_bootstrap.py:219: RuntimeWarning: numpy.ufunc size changed, may indicate binary incompatibility. Expected 192 from C header, got 216 from PyObject\n",
      "  return f(*args, **kwds)\n",
      "/Users/dongjustin/miniconda2/envs/text2scene/lib/python3.7/importlib/_bootstrap.py:219: RuntimeWarning: numpy.ufunc size changed, may indicate binary incompatibility. Expected 192 from C header, got 216 from PyObject\n",
      "  return f(*args, **kwds)\n",
      "/Users/dongjustin/miniconda2/envs/text2scene/lib/python3.7/importlib/_bootstrap.py:219: RuntimeWarning: numpy.ufunc size changed, may indicate binary incompatibility. Expected 192 from C header, got 216 from PyObject\n",
      "  return f(*args, **kwds)\n",
      "/Users/dongjustin/miniconda2/envs/text2scene/lib/python3.7/importlib/_bootstrap.py:219: RuntimeWarning: numpy.ufunc size changed, may indicate binary incompatibility. Expected 192 from C header, got 216 from PyObject\n",
      "  return f(*args, **kwds)\n",
      "/Users/dongjustin/miniconda2/envs/text2scene/lib/python3.7/importlib/_bootstrap.py:219: RuntimeWarning: numpy.ufunc size changed, may indicate binary incompatibility. Expected 192 from C header, got 216 from PyObject\n",
      "  return f(*args, **kwds)\n",
      "/Users/dongjustin/miniconda2/envs/text2scene/lib/python3.7/importlib/_bootstrap.py:219: RuntimeWarning: numpy.ufunc size changed, may indicate binary incompatibility. Expected 192 from C header, got 216 from PyObject\n",
      "  return f(*args, **kwds)\n",
      "/Users/dongjustin/miniconda2/envs/text2scene/lib/python3.7/importlib/_bootstrap.py:219: RuntimeWarning: numpy.ufunc size changed, may indicate binary incompatibility. Expected 192 from C header, got 216 from PyObject\n",
      "  return f(*args, **kwds)\n",
      "/Users/dongjustin/miniconda2/envs/text2scene/lib/python3.7/site-packages/nltk/decorators.py:68: DeprecationWarning: `formatargspec` is deprecated since Python 3.5. Use `signature` and the `Signature` object directly\n",
      "  regargs, varargs, varkwargs, defaults, formatvalue=lambda value: \"\"\n",
      "/Users/dongjustin/miniconda2/envs/text2scene/lib/python3.7/site-packages/nltk/lm/counter.py:15: DeprecationWarning: Using or importing the ABCs from 'collections' instead of from 'collections.abc' is deprecated, and in 3.8 it will stop working\n",
      "  from collections import Sequence, defaultdict\n",
      "/Users/dongjustin/miniconda2/envs/text2scene/lib/python3.7/site-packages/nltk/lm/vocabulary.py:13: DeprecationWarning: Using or importing the ABCs from 'collections' instead of from 'collections.abc' is deprecated, and in 3.8 it will stop working\n",
      "  from collections import Counter, Iterable\n",
      "/Users/dongjustin/miniconda2/envs/text2scene/lib/python3.7/importlib/_bootstrap.py:219: RuntimeWarning: numpy.ufunc size changed, may indicate binary incompatibility. Expected 192 from C header, got 216 from PyObject\n",
      "  return f(*args, **kwds)\n",
      "/Users/dongjustin/miniconda2/envs/text2scene/lib/python3.7/importlib/_bootstrap.py:219: RuntimeWarning: numpy.ufunc size changed, may indicate binary incompatibility. Expected 192 from C header, got 216 from PyObject\n",
      "  return f(*args, **kwds)\n",
      "/Users/dongjustin/miniconda2/envs/text2scene/lib/python3.7/importlib/_bootstrap.py:219: RuntimeWarning: numpy.ufunc size changed, may indicate binary incompatibility. Expected 192 from C header, got 216 from PyObject\n",
      "  return f(*args, **kwds)\n",
      "/Users/dongjustin/miniconda2/envs/text2scene/lib/python3.7/importlib/_bootstrap.py:219: RuntimeWarning: numpy.ufunc size changed, may indicate binary incompatibility. Expected 192 from C header, got 216 from PyObject\n",
      "  return f(*args, **kwds)\n",
      "/Users/dongjustin/miniconda2/envs/text2scene/lib/python3.7/importlib/_bootstrap.py:219: RuntimeWarning: numpy.ufunc size changed, may indicate binary incompatibility. Expected 192 from C header, got 216 from PyObject\n",
      "  return f(*args, **kwds)\n",
      "/Users/dongjustin/miniconda2/envs/text2scene/lib/python3.7/importlib/_bootstrap.py:219: RuntimeWarning: numpy.ufunc size changed, may indicate binary incompatibility. Expected 192 from C header, got 216 from PyObject\n",
      "  return f(*args, **kwds)\n",
      "/Users/dongjustin/miniconda2/envs/text2scene/lib/python3.7/importlib/_bootstrap.py:219: RuntimeWarning: numpy.ufunc size changed, may indicate binary incompatibility. Expected 192 from C header, got 216 from PyObject\n",
      "  return f(*args, **kwds)\n",
      "/Users/dongjustin/miniconda2/envs/text2scene/lib/python3.7/importlib/_bootstrap.py:219: RuntimeWarning: numpy.ufunc size changed, may indicate binary incompatibility. Expected 192 from C header, got 216 from PyObject\n",
      "  return f(*args, **kwds)\n",
      "/Users/dongjustin/miniconda2/envs/text2scene/lib/python3.7/importlib/_bootstrap.py:219: RuntimeWarning: numpy.ufunc size changed, may indicate binary incompatibility. Expected 192 from C header, got 216 from PyObject\n",
      "  return f(*args, **kwds)\n",
      "/Users/dongjustin/miniconda2/envs/text2scene/lib/python3.7/importlib/_bootstrap.py:219: RuntimeWarning: numpy.ufunc size changed, may indicate binary incompatibility. Expected 192 from C header, got 216 from PyObject\n",
      "  return f(*args, **kwds)\n",
      "/Users/dongjustin/miniconda2/envs/text2scene/lib/python3.7/importlib/_bootstrap.py:219: RuntimeWarning: numpy.ufunc size changed, may indicate binary incompatibility. Expected 192 from C header, got 216 from PyObject\n",
      "  return f(*args, **kwds)\n",
      "/Users/dongjustin/miniconda2/envs/text2scene/lib/python3.7/importlib/_bootstrap.py:219: RuntimeWarning: numpy.ufunc size changed, may indicate binary incompatibility. Expected 192 from C header, got 216 from PyObject\n",
      "  return f(*args, **kwds)\n",
      "/Users/dongjustin/miniconda2/envs/text2scene/lib/python3.7/importlib/_bootstrap.py:219: RuntimeWarning: numpy.ufunc size changed, may indicate binary incompatibility. Expected 192 from C header, got 216 from PyObject\n",
      "  return f(*args, **kwds)\n",
      "/Users/dongjustin/miniconda2/envs/text2scene/lib/python3.7/importlib/_bootstrap.py:219: RuntimeWarning: numpy.ufunc size changed, may indicate binary incompatibility. Expected 192 from C header, got 216 from PyObject\n",
      "  return f(*args, **kwds)\n",
      "/Users/dongjustin/miniconda2/envs/text2scene/lib/python3.7/importlib/_bootstrap.py:219: RuntimeWarning: numpy.ufunc size changed, may indicate binary incompatibility. Expected 192 from C header, got 216 from PyObject\n",
      "  return f(*args, **kwds)\n",
      "/Users/dongjustin/miniconda2/envs/text2scene/lib/python3.7/importlib/_bootstrap.py:219: RuntimeWarning: numpy.ufunc size changed, may indicate binary incompatibility. Expected 192 from C header, got 216 from PyObject\n",
      "  return f(*args, **kwds)\n",
      "/Users/dongjustin/miniconda2/envs/text2scene/lib/python3.7/importlib/_bootstrap.py:219: RuntimeWarning: numpy.ufunc size changed, may indicate binary incompatibility. Expected 192 from C header, got 216 from PyObject\n",
      "  return f(*args, **kwds)\n",
      "/Users/dongjustin/miniconda2/envs/text2scene/lib/python3.7/importlib/_bootstrap.py:219: RuntimeWarning: numpy.ufunc size changed, may indicate binary incompatibility. Expected 192 from C header, got 216 from PyObject\n",
      "  return f(*args, **kwds)\n",
      "/Users/dongjustin/miniconda2/envs/text2scene/lib/python3.7/importlib/_bootstrap.py:219: RuntimeWarning: numpy.ufunc size changed, may indicate binary incompatibility. Expected 192 from C header, got 216 from PyObject\n",
      "  return f(*args, **kwds)\n",
      "/Users/dongjustin/miniconda2/envs/text2scene/lib/python3.7/importlib/_bootstrap.py:219: RuntimeWarning: numpy.ufunc size changed, may indicate binary incompatibility. Expected 192 from C header, got 216 from PyObject\n",
      "  return f(*args, **kwds)\n"
     ]
    },
    {
     "name": "stderr",
     "output_type": "stream",
     "text": [
      "/Users/dongjustin/miniconda2/envs/text2scene/lib/python3.7/site-packages/thinc/neural/train.py:7: DeprecationWarning: Using or importing the ABCs from 'collections' instead of from 'collections.abc' is deprecated, and in 3.8 it will stop working\n",
      "  from .optimizers import Adam, linear_decay\n",
      "/Users/dongjustin/miniconda2/envs/text2scene/lib/python3.7/site-packages/thinc/check.py:4: DeprecationWarning: Using or importing the ABCs from 'collections' instead of from 'collections.abc' is deprecated, and in 3.8 it will stop working\n",
      "  from collections import Sequence, Sized, Iterable, Callable\n"
     ]
    }
   ],
   "source": [
    "from collections import defaultdict\n",
    "import dill\n",
    "import glob\n",
    "import warnings\n",
    "warnings.filterwarnings('always')\n",
    "\n",
    "from tools.text_process import SpacyLemmaTokenizer\n",
    "from tools.image_process import LayerName, getLayerNames\n",
    "from tools.instance import Node\n",
    "from tools.knowledge import LayerBase, TextBase\n",
    "from tools.common import ravel"
   ]
  },
  {
   "cell_type": "code",
   "execution_count": 2,
   "metadata": {
    "scrolled": true
   },
   "outputs": [
    {
     "name": "stdout",
     "output_type": "stream",
     "text": [
      "50\n"
     ]
    },
    {
     "data": {
      "text/plain": [
       "75"
      ]
     },
     "execution_count": 2,
     "metadata": {},
     "output_type": "execute_result"
    }
   ],
   "source": [
    "layerbase = LayerBase()\n",
    "print(layerbase.index(Node('man','subj')))\n",
    "\n",
    "textbase = TextBase()\n",
    "len(textbase.vocab_)#index('man','n')\n",
    "# textbase.vocab_"
   ]
  },
  {
   "cell_type": "code",
   "execution_count": 2,
   "metadata": {},
   "outputs": [],
   "source": [
    "class Picture:\n",
    "    def __init__(self, img_name=None, layernames=None):\n",
    "        \"\"\"\n",
    "        either built from file, or from self-punched layer names\n",
    "        \"\"\"\n",
    "        if img_name:\n",
    "            self.img_name = img_name\n",
    "            self.layernames_ = getLayerNames(img_name)\n",
    "        else:\n",
    "            warnings.warn('Caveats! img name bypassed!')\n",
    "            assert(layernames)\n",
    "            self.layernames_ = layernames\n",
    "            \n",
    "        self.layer_merge_ = LayerName()\n",
    "        self.layers_ = []\n",
    "        for layername in self.layernames_:\n",
    "            layer = LayerName(layername)\n",
    "            self.layers_.append(layer)\n",
    "            self.layer_merge_.absorb(layer)\n",
    "        # make the layers immutable\n",
    "        self.layers_ = tuple(self.layers_)\n",
    "        self.plot = self.layer_merge_.plot\n",
    "        \n",
    "        # vocab is a set, no duplicates\n",
    "        self.vocab_ = ravel(self.layer_merge_.entities_)\n",
    "        \n",
    "        self.triple_set_ = set([layer.triples_ for layer in self.layers_])\n",
    "        \n",
    "    def __repr__(self):\n",
    "        \"\"\"\n",
    "        used to print a string when directly call the object?\n",
    "        also used to compare if two pictures are same. same as __eq__?\n",
    "        \"\"\"\n",
    "        return '; '.join(self.layernames_)\n",
    "    \n",
    "    def __eq__(self, other):\n",
    "        # should consider overlapping order here?\n",
    "        # but it should make no difference if ravel the keywords as features\n",
    "        # lets omit it for now\n",
    "        return self.triple_set_ == other.triple_set_\n",
    "    \n",
    "    def __hash__(self):\n",
    "        return hash(tuple(self.triple_set_))\n",
    "\n",
    "class Description:\n",
    "    \"\"\"\n",
    "    save tokens and original sentence\n",
    "    \"\"\"\n",
    "    def __init__(self, txt_name=None, text=None):\n",
    "        if txt_name:\n",
    "            self.txt_name = txt_name\n",
    "            with open(txt_name) as f:\n",
    "                self.text_ = f.read() \n",
    "        else:\n",
    "            warnings.warn('Caveats! txt name bypassed!')\n",
    "            assert(text)\n",
    "            self.text_ = text\n",
    "\n",
    "        tokenizer = SpacyLemmaTokenizer()\n",
    "        self.tokens_ = tokenizer(self.text_)\n",
    "        \n",
    "        # vocab is a set, no duplicates\n",
    "        self.vocab_ = set(self.tokens_)\n",
    "        \n",
    "    def __repr__(self):\n",
    "        return self.text_\n",
    "    \n",
    "    def __eq__(self, other):\n",
    "        assert(isinstance(other, Description))\n",
    "        return self.text_ == other.text_\n",
    "    \n",
    "    def __hash__(self):\n",
    "        return hash(self.text_)\n",
    "\n",
    "# picture = Picture('images/Firmware.svg')\n",
    "# [n.t for n in picture.ravel_]\n",
    "# picture.plot()"
   ]
  },
  {
   "cell_type": "code",
   "execution_count": 3,
   "metadata": {},
   "outputs": [
    {
     "name": "stderr",
     "output_type": "stream",
     "text": [
      "/Users/dongjustin/miniconda2/envs/text2scene/lib/python3.7/site-packages/ipykernel_launcher.py:10: UserWarning: Caveats! img name bypassed!\n",
      "  # Remove the CWD from sys.path while we load stuff.\n",
      "/Users/dongjustin/miniconda2/envs/text2scene/lib/python3.7/site-packages/ipykernel_launcher.py:10: UserWarning: Caveats! img name bypassed!\n",
      "  # Remove the CWD from sys.path while we load stuff.\n"
     ]
    },
    {
     "data": {
      "text/plain": [
       "True"
      ]
     },
     "execution_count": 3,
     "metadata": {},
     "output_type": "execute_result"
    }
   ],
   "source": [
    "# the order of layers doesn't matter\n",
    "Picture(layernames=['#background', '#man(sit)']) == Picture(layernames=['#man(sit)','#background'])"
   ]
  },
  {
   "cell_type": "code",
   "execution_count": 4,
   "metadata": {
    "scrolled": true
   },
   "outputs": [
    {
     "name": "stdout",
     "output_type": "stream",
     "text": [
      "#background; #alien(have[robot],stand); #man(exercise,step_on[stone]); #man(work,play[computer],sit)\n"
     ]
    },
    {
     "data": {
      "text/plain": [
       "A man played the computer. A man stepped on the stone and exercised. They had a robot."
      ]
     },
     "execution_count": 4,
     "metadata": {},
     "output_type": "execute_result"
    }
   ],
   "source": [
    "img_dir='images'\n",
    "txt_dir='text'\n",
    "name = 'Firmware'\n",
    "\n",
    "description = Description('%s/%s.txt' % (txt_dir, name))\n",
    "picture = Picture('%s/%s.svg' % (img_dir, name))\n",
    "print(picture)\n",
    "description"
   ]
  },
  {
   "cell_type": "code",
   "execution_count": 5,
   "metadata": {},
   "outputs": [],
   "source": [
    "class LayerBase():\n",
    "    \"\"\"\n",
    "    layer Base knowledge, show only built on train set!\n",
    "    \"\"\"\n",
    "    def __init__(self, filenames=[],\n",
    "                 img_dir='images',\n",
    "                 ext='.svg'):\n",
    "        \n",
    "        \"\"\"\n",
    "        need other dictionary to save the layer frequency\n",
    "        \"\"\"\n",
    "        if not filenames:\n",
    "            filenames = glob.glob('%s/*%s' % (img_dir, ext))\n",
    "        else:\n",
    "            filenames = ['%s/%s%s' % (img_dir, name, ext) for name in filenames]\n",
    "        \n",
    "        self.layer_merge_ = LayerName()\n",
    "        self.pictures_ = []\n",
    "        for svg in filenames:\n",
    "            picture = Picture(svg)\n",
    "            # for layer in getLayerNames(svg):\n",
    "            #     layername = LayerName(layer)\n",
    "            #     self.layers_.append(layername)\n",
    "            self.layer_merge_.absorb(picture.layer_merge_)\n",
    "            self.pictures_.append(picture)\n",
    "        self.entities_ = self.layer_merge_.entities_\n",
    "        \n",
    "        # picture vocab contains no dupicates\n",
    "        self.pic_vocab_ = set(self.pictures_)\n",
    "        \n",
    "        # layer vocab contains no dupicates\n",
    "        self.layer_vocab_ = set([layer for picture in self.pictures_ for layer in picture.layers_])\n",
    "        \n",
    "        # keyword vocab contains no dupicates\n",
    "        # here we explicitly need the order the make sure results reproducable\n",
    "        ## such as index and line up features\n",
    "        self.vocab_ = sorted(ravel(self.layer_merge_.entities_))\n",
    "\n",
    "    def index(self, keyword):\n",
    "        assert(isinstance(keyword, Node))\n",
    "        return self.vocab_.index(keyword)\n",
    "\n",
    "    def __len__(self):\n",
    "        return len(self.vocab_)\n",
    "    \n",
    "    \n",
    "class TextBase():\n",
    "    def __init__(self, filenames=[],\n",
    "                 txt_dir='text',\n",
    "                 ext='.txt'):\n",
    "        \n",
    "        if not filenames:\n",
    "            filenames = glob.glob('%s/*%s' % (txt_dir, ext))\n",
    "        else:\n",
    "            filenames = ['%s/%s%s' % (txt_dir, name, ext) for name in filenames]\n",
    "            \n",
    "        self.vocab_ = set()\n",
    "        self.doc_vocab_ = set()\n",
    "        for txt in filenames:\n",
    "            doc = Description(txt)\n",
    "            self.vocab_ |= doc.vocab_\n",
    "            self.doc_vocab_.add(doc)\n",
    "        self.vocab_ = sorted(self.vocab_)\n",
    "        \n",
    "    def index(self, token):\n",
    "        assert(isinstance(token, Node))\n",
    "        return self.vocab_.index(token)\n",
    "\n",
    "    def __len__(self):\n",
    "        return len(self.vocab_)\n",
    "    \n",
    "    def __iter__(self):\n",
    "        return iter(self.vocab_)"
   ]
  },
  {
   "cell_type": "code",
   "execution_count": 616,
   "metadata": {},
   "outputs": [],
   "source": [
    "layerbase = LayerBase()\n",
    "# layerbase.layer_vocab_"
   ]
  },
  {
   "cell_type": "code",
   "execution_count": 6,
   "metadata": {},
   "outputs": [],
   "source": [
    "from scipy import sparse\n",
    "import numpy as np\n",
    "import dill\n",
    "from sklearn.preprocessing import MinMaxScaler\n",
    "\n",
    "# temporarily set to 0\n",
    "class Encoder():\n",
    "    \"\"\"\n",
    "    IDF?\n",
    "        E.g. man and woman are everywhere\n",
    "    \"\"\"\n",
    "    def __init__(self, names=[], length=5):\n",
    "        \n",
    "        # feature length\n",
    "        self.length = length\n",
    "        \n",
    "        print(' - Initiate layer base..')\n",
    "        # self.layerbase = LayerBase(names)\n",
    "        ## layerbase can utilize the entire dataset\n",
    "        self.layerbase = LayerBase()\n",
    "        print(' - Initiate text base..')\n",
    "        self.textbase = TextBase(names)\n",
    "        \n",
    "        assert(length < len(self.textbase)), 'feature length should be smaller than the textbase length %i' % len(self.textbase)\n",
    "        \n",
    "        print(' - Load relatedness dict..')\n",
    "        with open('relateDict.pkl', 'rb') as f:\n",
    "            self.relateDict = dill.load(f)\n",
    "            \n",
    "        print(' - Initiate scaler..')\n",
    "        self.scaler = MinMaxScaler()\n",
    "        self.scaler.fit(np.array([self.relateDict[k.t][t.t] for k in self.layerbase.vocab_ for t in self.textbase.vocab_]).reshape(-1,1))\n",
    "        \n",
    "        # bins = np.linspace(0, 1, num+1)\n",
    "        # extra bin to make the right one open to filter zeros\n",
    "        self.bins = np.arange(0, 1 + 2/length, 1/length)\n",
    "        \n",
    "        print(' - List feature names..')\n",
    "        str_bins = ['(%g,%g]' % tup for tup in zip(self.bins[:-2], self.bins[1:-1])]\n",
    "        self.features_ = ['_%s_%s_' % (k, b) for k in self.layerbase.vocab_ for b in str_bins]\n",
    "        \n",
    "    def encode(self, doc, pic):\n",
    "        # tokens or keywords should contain no duplicates\n",
    "        assert(isinstance(doc, Description))\n",
    "        assert(isinstance(pic, Picture))\n",
    "        \n",
    "        # record the input for share\n",
    "        self.tokens = doc.vocab_\n",
    "        self.keywords = pic.vocab_\n",
    "        \n",
    "        # print(' -- gen sparse..')\n",
    "        tuples = []\n",
    "        for token in doc.vocab_:\n",
    "            if token not in self.textbase:\n",
    "                warnings.warn('Unseen word encountered! %s(%s)' % (token.t, token.attr))\n",
    "                continue\n",
    "            for keyword in pic.vocab_:\n",
    "                assert(self.relateDict[keyword.t][token.t] <= 1.0),\\\n",
    "                      (keyword.t, token.t)\n",
    "                tuples.append((self.layerbase.index(keyword),\n",
    "                               self.textbase.index(token),\n",
    "                               self.relateDict[keyword.t][token.t]))\n",
    "        if not tuples:\n",
    "            warnings.warn('No word in \\\"%s\\\" are seen. Returned zero matrix.' % doc.text_.strip('\\n'))\n",
    "            return np.zeros((len(self.layerbase), self.length)).ravel()\n",
    "        \n",
    "        row, col, data = zip(*tuples)\n",
    "\n",
    "        # print(' -- scale..')\n",
    "        data = self.scaler.transform(np.array(data).reshape(-1,1)).ravel()\n",
    "        \n",
    "        assert(min(data) >= 0), min(data)\n",
    "        assert(max(data) <= 1), max(data)\n",
    "        \n",
    "        # scipy sparse unexpected doubles some value\n",
    "        # because there are duplicate tokens in the token list\n",
    "        # turn it into set\n",
    "        matrix = sparse.csr_matrix((data, (row, col)),\n",
    "                                    shape=(len(self.layerbase),\n",
    "                                           len(self.textbase)))\n",
    "        \n",
    "        # print(' -- gen hists..')\n",
    "        return self.to_hists(matrix).ravel()\n",
    "    \n",
    "    def to_hists(self, matrix):\n",
    "        \n",
    "        assert(isinstance(matrix, sparse.csr_matrix))\n",
    "        # assert(isinstance(matrix, np.ndarray))\n",
    "        assert(len(matrix.shape) == 2)\n",
    "        assert(matrix.min()>=0), matrix.min()\n",
    "        assert(matrix.max()<=1), matrix.max()\n",
    "        \n",
    "        # such that the bins are lefthand open. E.g. (0,0.2]\n",
    "        arr = 1 - matrix.toarray()\n",
    "        hists = []\n",
    "        for row in range(arr.shape[0]):\n",
    "            # [:-1]: clip the stats of zeros in the hists\n",
    "            hist = np.histogram(arr[row], self.bins)[0][::-1][1:]\n",
    "            assert(sum(hist) <= len(self.tokens))\n",
    "            hists.append(hist)\n",
    "        return np.vstack(hists)\n",
    "    \n",
    "    def show_hists(self, vec):\n",
    "        \"\"\"\n",
    "        bind no-zeros rows to layer keywords to check sanity\n",
    "        \"\"\"\n",
    "        for line in filter(lambda x: sum(x[0])>0, list(zip(vec, self.layerbase.vocab_))):\n",
    "            print(line)\n",
    "    "
   ]
  },
  {
   "cell_type": "code",
   "execution_count": 618,
   "metadata": {},
   "outputs": [
    {
     "name": "stdout",
     "output_type": "stream",
     "text": [
      " - Initiate layer base..\n",
      " - Initiate text base..\n",
      " - Load relatedness dict..\n",
      " - Initiate scaler..\n",
      " - List feature names..\n"
     ]
    },
    {
     "data": {
      "text/plain": [
       "(505,)"
      ]
     },
     "execution_count": 618,
     "metadata": {},
     "output_type": "execute_result"
    }
   ],
   "source": [
    "encoder = Encoder()\n",
    "vec = encoder.encode(description, picture)#.toarray()\n",
    "vec.shape"
   ]
  },
  {
   "cell_type": "code",
   "execution_count": 7,
   "metadata": {},
   "outputs": [],
   "source": [
    "class Dataset():\n",
    "    def __init__(self, img_dir='images',\n",
    "                       txt_dir='text',\n",
    "                       names=[]):\n",
    "        \n",
    "        self.img_dir = img_dir\n",
    "        self.txt_dir = txt_dir\n",
    "        self.names = names # specify training data\n",
    "\n",
    "        print(' - Initialize encoder..')\n",
    "        self.encoder = Encoder(names=names)\n",
    "        self.features_ = self.encoder.features_\n",
    "\n",
    "    def _get_pair(self, txt_name=None, img_name=None,\n",
    "                        ran_txt=False, ran_img=False,\n",
    "                        fake_img=False):\n",
    "        ##### preprocess\n",
    "        ## text\n",
    "        assert txt_name\n",
    "        doc = Description(txt_name)\n",
    "            \n",
    "        if ran_txt:\n",
    "            # make sure random chosen doc are different\n",
    "            while True:\n",
    "                ran_doc = random.choice(list(self.encoder.textbase.doc_vocab_))\n",
    "                if ran_doc != doc:\n",
    "                    break\n",
    "            doc = ran_doc\n",
    "        else:\n",
    "            # use true doc\n",
    "            pass\n",
    "        \n",
    "        ## image\n",
    "        assert img_name\n",
    "        pic = Picture(img_name)\n",
    "        \n",
    "        if ran_img:\n",
    "            # then choose one from all unique pictures\n",
    "            assert not fake_img\n",
    "            \n",
    "            # make sure random chosen pic are different\n",
    "            while True:\n",
    "                ran_pic = random.choice(list(self.encoder.layerbase.pic_vocab_))\n",
    "                if ran_pic != pic:\n",
    "                    break\n",
    "            pic = ran_pic\n",
    "            \n",
    "        elif fake_img:\n",
    "            # then choose several unique layers\n",
    "            assert not ran_img\n",
    "            \n",
    "            # make sure random chosen pic are different\n",
    "            while True:\n",
    "                # randomly choose 1 - 5 layers\n",
    "                num_layers = random.choice(range(1,6))\n",
    "                ran_layers = []\n",
    "                for _ in range(num_layers):\n",
    "                    ran_layers.append(random.choice(list(self.encoder.layerbase.layer_vocab_)))\n",
    "                ran_pic = Picture(layernames=[l.s for l in ran_layers])\n",
    "                if ran_pic != pic:\n",
    "                    break\n",
    "            pic = ran_pic                \n",
    "        else:\n",
    "            # use true pic\n",
    "            pass\n",
    "\n",
    "        return doc, pic\n",
    "\n",
    "    def encode(self, doc, pic):\n",
    "        return self.encoder.encode(doc, pic)\n",
    "\n",
    "    def __getitem__(self, name):\n",
    "        img_name = '%s/%s.svg' % (self.img_dir, name)\n",
    "        txt_name = '%s/%s.txt' % (self.txt_dir, name)\n",
    "\n",
    "        # assert((layers and sent) or (not layers and not sent)), 'layers and sentence must be provided together, or neither'\n",
    "\n",
    "        # get layers\n",
    "        # if not layers and not sent:\n",
    "        #     layers, sent = self.getOneLayerSent(**kwargs)\n",
    "\n",
    "        # triplets\n",
    "        triplets = []\n",
    "        triplets_pair = []\n",
    "\n",
    "        # true match\n",
    "        doc, pic = self._get_pair(txt_name=txt_name,\n",
    "                                  img_name=img_name)\n",
    "        triplets_pair.append((doc, pic))\n",
    "        # print('- encode true pairs..')\n",
    "        triplets.append(self.encode(doc, pic))\n",
    "\n",
    "\n",
    "        # mismatched text\n",
    "        doc, pic = self._get_pair(txt_name=txt_name,\n",
    "                                      img_name=img_name,\n",
    "                                      ran_txt=True)\n",
    "        triplets_pair.append((doc, pic))\n",
    "        # print('- encode true pic and ran doc..')\n",
    "        triplets.append(self.encode(doc, pic))\n",
    "\n",
    "        # mismatched image\n",
    "        doc, pic = self._get_pair(txt_name=txt_name,\n",
    "                                      img_name=img_name,\n",
    "                                      ran_img=True)\n",
    "        triplets_pair.append((doc, pic))\n",
    "        # print('- encode true doc and ran pic..')\n",
    "        triplets.append(self.encode(doc, pic))\n",
    "    \n",
    "        # fake image\n",
    "        # triplets.append(self.encode(txt_name=txt_name,\n",
    "        #                             fake_img=True))\n",
    "\n",
    "        # concatenate\n",
    "        xs = np.vstack(triplets)\n",
    "        ys = np.array([1,0,0]).reshape(-1,1)\n",
    "\n",
    "        return sparse.csr_matrix(np.hstack([xs, ys])), triplets_pair\n",
    "\n",
    "    def getFakeLayers(self):\n",
    "        pass\n",
    "        return ranGenLayer()\n",
    "\n",
    "    def __len__(self):\n",
    "        # return len(glob.glob(self.img_dir+'/*.svg'))\n",
    "        # return len(list(getOrderedList(self.img_dir+'/*.svg')))\n",
    "        # return len(list(getFiles(self.img_dir, ext='.svg', index=self.index)))\n",
    "        return len(self.names)\n"
   ]
  },
  {
   "cell_type": "code",
   "execution_count": 577,
   "metadata": {},
   "outputs": [
    {
     "name": "stdout",
     "output_type": "stream",
     "text": [
      " - Initialize encoder..\n",
      " - Initiate layer base..\n",
      " - Initiate text base..\n",
      " - Load relatedness dict..\n",
      " - Initiate scaler..\n",
      "- encode true pairs..\n",
      " -- gen sparse..\n",
      " -- scale..\n",
      " -- gen hists..\n",
      "- encode true pic and ran doc..\n",
      " -- gen sparse..\n",
      " -- scale..\n",
      " -- gen hists..\n",
      "- encode true doc and ran pic..\n",
      " -- gen sparse..\n",
      " -- scale..\n",
      " -- gen hists..\n"
     ]
    },
    {
     "data": {
      "text/plain": [
       "(<3x506 sparse matrix of type '<class 'numpy.int64'>'\n",
       " \twith 54 stored elements in Compressed Sparse Row format>,\n",
       " [(Two women enjoyed fireworks in the wild.,\n",
       "   #background; #woman(stand,talk); #woman(point_to,show,stand); #wild(have[firework,plant])),\n",
       "  (A man is standing and a woman is sitting with a computer to transfer money.,\n",
       "   #background; #woman(stand,talk); #woman(point_to,show,stand); #wild(have[firework,plant])),\n",
       "  (Two women enjoyed fireworks in the wild.,\n",
       "   #background; #woman(sit_on[chair]))])"
      ]
     },
     "execution_count": 577,
     "metadata": {},
     "output_type": "execute_result"
    }
   ],
   "source": [
    "dataset = Dataset()\n",
    "dataset['Fireworks']"
   ]
  },
  {
   "cell_type": "code",
   "execution_count": 8,
   "metadata": {},
   "outputs": [],
   "source": [
    "import re\n",
    "import random\n",
    "from sklearn.linear_model import LogisticRegression\n",
    "from ana.visual import STAT, ROC, FEAT\n",
    "random.seed(7)\n",
    "np.random.seed(7)\n",
    "\n",
    "class Pipeline:\n",
    "    def __init__(self):\n",
    "        print(' ------ train test split -------')\n",
    "        self.train_names, self.test_names = self.train_test_split()\n",
    "        # assert('Frozen' in self.train_names)\n",
    "        \n",
    "        print(' ------ build dataset -------')\n",
    "        self.dataset = Dataset(names=self.train_names)\n",
    "        \n",
    "        print(' ------ gather data -------')\n",
    "        \n",
    "        self.train_set, self.test_set = self.build_data(self.train_names,self.test_names)\n",
    "#         print(' ------ train classifier -------')\n",
    "#         self.clf = self.train_classifier(self.train_set)\n",
    "#         self.evaluate(sel.clf, self.train_set, self.test_set)\n",
    "    \n",
    "    def _get_root(self, path):\n",
    "        return re.findall(r'\\/(\\w+)\\.', path)[0]\n",
    "    \n",
    "    def train_test_split(self, test_r=0.2, shuffle=True):\n",
    "        names = [self._get_root(path) for path in glob.glob('images/*.svg')]\n",
    "        names_ = [self._get_root(path) for path in glob.glob('text/*.txt')]\n",
    "        \n",
    "        # names must be unique\n",
    "        assert(len(names) == len(set(names)))\n",
    "        # names from both sides must be identical\n",
    "        assert(set(names) == set(names_))\n",
    "        \n",
    "        if shuffle:\n",
    "            random.shuffle(names)\n",
    "        \n",
    "        ind = int(len(names) * (1-test_r))\n",
    "        \n",
    "        return names[:ind], names[ind:]\n",
    "    \n",
    "    def __fetch_data(self, names):\n",
    "        data = []\n",
    "        pairs = []\n",
    "        for c, name in enumerate(names):\n",
    "            print('    Fetching - [%i]' % c, end='\\r')\n",
    "            vec, pair = self.dataset[name]\n",
    "            data.append(vec)\n",
    "            pairs.extend(pair)\n",
    "        print('     Fetched - [%i]' % (c+1))\n",
    "        data = sparse.vstack(data)\n",
    "        return data, pairs\n",
    "    \n",
    "    def build_data(self, train, test):\n",
    "#         train_set = []\n",
    "#         train_pairs = []\n",
    "#         for name in train:\n",
    "#             print('     ------ Fetching [%s]' % name,\n",
    "#                   end='\\r')\n",
    "#             vec, pair = self.dataset[name]\n",
    "#             train_set.append(vec)\n",
    "#             train_pairs.append(pair)\n",
    "        \n",
    "        print(' -------------- train set ---------------- ')\n",
    "        train_set, train_pairs = self.__fetch_data(train) # np.vstack(train_set)\n",
    "        \n",
    "        print(' -------------- test set ---------------- ')\n",
    "        # test_set = np.vstack([self.dataset[name] for name in test])\n",
    "        test_set, test_pairs = self.__fetch_data(test)\n",
    "        return train_set, test_set\n",
    "        # return None, None\n",
    "    \n",
    "    def train_classifier(self, train_set, class_weight={1: 1, 0: 0.1}, C=1.0):\n",
    "        clf = LogisticRegression(# random_state=0,\n",
    "                         solver='liblinear',\n",
    "                         class_weight=class_weight,\n",
    "                         penalty='l1',\n",
    "                         C=C,\n",
    "                         max_iter=100)\n",
    "        \n",
    "        clf.fit(train_set[:,:-1],\n",
    "                train_set[:,-1].toarray().flatten())\n",
    "        return clf\n",
    "    \n",
    "    def evaluate(self, clf, train_set, test_set):\n",
    "        print('------- train ---------')\n",
    "        y_true = train_set[:,-1].toarray().flatten()\n",
    "        y_prob = clf.predict_proba(train_set[:,:-1])[:,1]\n",
    "        STAT(y_true, y_prob, path='STAT_%s' % suffix)\n",
    "        \n",
    "        print('------- test ---------')\n",
    "        y_true = test_set[:,-1].toarray().flatten()\n",
    "        y_prob = clf.predict_proba(test_set[:,:-1])[:,1]\n",
    "        STAT(y_true, y_prob, path='STAT_%s' % suffix)"
   ]
  },
  {
   "cell_type": "code",
   "execution_count": 9,
   "metadata": {},
   "outputs": [],
   "source": [
    "### it's ok to have layerbase cover all the pictures\n",
    "### because pictures are made from our layer base anyway\n",
    "### not like text can type arbitraily\n",
    "\n",
    "### 1.0: categories are fixed, thus no way there's an unseen category"
   ]
  },
  {
   "cell_type": "code",
   "execution_count": 10,
   "metadata": {
    "scrolled": true
   },
   "outputs": [
    {
     "name": "stdout",
     "output_type": "stream",
     "text": [
      " ------ train test split -------\n",
      " ------ build dataset -------\n",
      " - Initialize encoder..\n",
      " - Initiate layer base..\n",
      " - Initiate text base..\n",
      " - Load relatedness dict..\n",
      " - Initiate scaler..\n"
     ]
    },
    {
     "ename": "NameError",
     "evalue": "name 'relateDict' is not defined",
     "output_type": "error",
     "traceback": [
      "\u001b[0;31m---------------------------------------------------------------------------\u001b[0m",
      "\u001b[0;31mNameError\u001b[0m                                 Traceback (most recent call last)",
      "\u001b[0;32m<ipython-input-10-7aeaacbcffae>\u001b[0m in \u001b[0;36m<module>\u001b[0;34m\u001b[0m\n\u001b[0;32m----> 1\u001b[0;31m \u001b[0mpipeline\u001b[0m \u001b[0;34m=\u001b[0m \u001b[0mPipeline\u001b[0m\u001b[0;34m(\u001b[0m\u001b[0;34m)\u001b[0m\u001b[0;34m\u001b[0m\u001b[0;34m\u001b[0m\u001b[0m\n\u001b[0m",
      "\u001b[0;32m<ipython-input-8-3ad4e67c2e1c>\u001b[0m in \u001b[0;36m__init__\u001b[0;34m(self)\u001b[0m\n\u001b[1;32m     13\u001b[0m \u001b[0;34m\u001b[0m\u001b[0m\n\u001b[1;32m     14\u001b[0m         \u001b[0mprint\u001b[0m\u001b[0;34m(\u001b[0m\u001b[0;34m' ------ build dataset -------'\u001b[0m\u001b[0;34m)\u001b[0m\u001b[0;34m\u001b[0m\u001b[0;34m\u001b[0m\u001b[0m\n\u001b[0;32m---> 15\u001b[0;31m         \u001b[0mself\u001b[0m\u001b[0;34m.\u001b[0m\u001b[0mdataset\u001b[0m \u001b[0;34m=\u001b[0m \u001b[0mDataset\u001b[0m\u001b[0;34m(\u001b[0m\u001b[0mnames\u001b[0m\u001b[0;34m=\u001b[0m\u001b[0mself\u001b[0m\u001b[0;34m.\u001b[0m\u001b[0mtrain_names\u001b[0m\u001b[0;34m)\u001b[0m\u001b[0;34m\u001b[0m\u001b[0;34m\u001b[0m\u001b[0m\n\u001b[0m\u001b[1;32m     16\u001b[0m \u001b[0;34m\u001b[0m\u001b[0m\n\u001b[1;32m     17\u001b[0m         \u001b[0mprint\u001b[0m\u001b[0;34m(\u001b[0m\u001b[0;34m' ------ gather data -------'\u001b[0m\u001b[0;34m)\u001b[0m\u001b[0;34m\u001b[0m\u001b[0;34m\u001b[0m\u001b[0m\n",
      "\u001b[0;32m<ipython-input-7-aa74f0cdb322>\u001b[0m in \u001b[0;36m__init__\u001b[0;34m(self, img_dir, txt_dir, names)\u001b[0m\n\u001b[1;32m      9\u001b[0m \u001b[0;34m\u001b[0m\u001b[0m\n\u001b[1;32m     10\u001b[0m         \u001b[0mprint\u001b[0m\u001b[0;34m(\u001b[0m\u001b[0;34m' - Initialize encoder..'\u001b[0m\u001b[0;34m)\u001b[0m\u001b[0;34m\u001b[0m\u001b[0;34m\u001b[0m\u001b[0m\n\u001b[0;32m---> 11\u001b[0;31m         \u001b[0mself\u001b[0m\u001b[0;34m.\u001b[0m\u001b[0mencoder\u001b[0m \u001b[0;34m=\u001b[0m \u001b[0mEncoder\u001b[0m\u001b[0;34m(\u001b[0m\u001b[0mnames\u001b[0m\u001b[0;34m=\u001b[0m\u001b[0mnames\u001b[0m\u001b[0;34m)\u001b[0m\u001b[0;34m\u001b[0m\u001b[0;34m\u001b[0m\u001b[0m\n\u001b[0m\u001b[1;32m     12\u001b[0m         \u001b[0mself\u001b[0m\u001b[0;34m.\u001b[0m\u001b[0mfeatures_\u001b[0m \u001b[0;34m=\u001b[0m \u001b[0mself\u001b[0m\u001b[0;34m.\u001b[0m\u001b[0mencoder\u001b[0m\u001b[0;34m.\u001b[0m\u001b[0mfeatures_\u001b[0m\u001b[0;34m\u001b[0m\u001b[0;34m\u001b[0m\u001b[0m\n\u001b[1;32m     13\u001b[0m \u001b[0;34m\u001b[0m\u001b[0m\n",
      "\u001b[0;32m<ipython-input-6-e4233d31ee3f>\u001b[0m in \u001b[0;36m__init__\u001b[0;34m(self, names, length)\u001b[0m\n\u001b[1;32m     30\u001b[0m         \u001b[0mprint\u001b[0m\u001b[0;34m(\u001b[0m\u001b[0;34m' - Initiate scaler..'\u001b[0m\u001b[0;34m)\u001b[0m\u001b[0;34m\u001b[0m\u001b[0;34m\u001b[0m\u001b[0m\n\u001b[1;32m     31\u001b[0m         \u001b[0mself\u001b[0m\u001b[0;34m.\u001b[0m\u001b[0mscaler\u001b[0m \u001b[0;34m=\u001b[0m \u001b[0mMinMaxScaler\u001b[0m\u001b[0;34m(\u001b[0m\u001b[0;34m)\u001b[0m\u001b[0;34m\u001b[0m\u001b[0;34m\u001b[0m\u001b[0m\n\u001b[0;32m---> 32\u001b[0;31m         \u001b[0mself\u001b[0m\u001b[0;34m.\u001b[0m\u001b[0mscaler\u001b[0m\u001b[0;34m.\u001b[0m\u001b[0mfit\u001b[0m\u001b[0;34m(\u001b[0m\u001b[0mnp\u001b[0m\u001b[0;34m.\u001b[0m\u001b[0marray\u001b[0m\u001b[0;34m(\u001b[0m\u001b[0;34m[\u001b[0m\u001b[0mrelateDict\u001b[0m\u001b[0;34m[\u001b[0m\u001b[0mk\u001b[0m\u001b[0;34m.\u001b[0m\u001b[0mt\u001b[0m\u001b[0;34m]\u001b[0m\u001b[0;34m[\u001b[0m\u001b[0mt\u001b[0m\u001b[0;34m.\u001b[0m\u001b[0mt\u001b[0m\u001b[0;34m]\u001b[0m \u001b[0;32mfor\u001b[0m \u001b[0mk\u001b[0m \u001b[0;32min\u001b[0m \u001b[0mself\u001b[0m\u001b[0;34m.\u001b[0m\u001b[0mlayerbase\u001b[0m\u001b[0;34m.\u001b[0m\u001b[0mvocab_\u001b[0m \u001b[0;32mfor\u001b[0m \u001b[0mt\u001b[0m \u001b[0;32min\u001b[0m \u001b[0mself\u001b[0m\u001b[0;34m.\u001b[0m\u001b[0mtextbase\u001b[0m\u001b[0;34m.\u001b[0m\u001b[0mvocab_\u001b[0m\u001b[0;34m]\u001b[0m\u001b[0;34m)\u001b[0m\u001b[0;34m.\u001b[0m\u001b[0mreshape\u001b[0m\u001b[0;34m(\u001b[0m\u001b[0;34m-\u001b[0m\u001b[0;36m1\u001b[0m\u001b[0;34m,\u001b[0m\u001b[0;36m1\u001b[0m\u001b[0;34m)\u001b[0m\u001b[0;34m)\u001b[0m\u001b[0;34m\u001b[0m\u001b[0;34m\u001b[0m\u001b[0m\n\u001b[0m\u001b[1;32m     33\u001b[0m \u001b[0;34m\u001b[0m\u001b[0m\n\u001b[1;32m     34\u001b[0m         \u001b[0;31m# bins = np.linspace(0, 1, num+1)\u001b[0m\u001b[0;34m\u001b[0m\u001b[0;34m\u001b[0m\u001b[0;34m\u001b[0m\u001b[0m\n",
      "\u001b[0;32m<ipython-input-6-e4233d31ee3f>\u001b[0m in \u001b[0;36m<listcomp>\u001b[0;34m(.0)\u001b[0m\n\u001b[1;32m     30\u001b[0m         \u001b[0mprint\u001b[0m\u001b[0;34m(\u001b[0m\u001b[0;34m' - Initiate scaler..'\u001b[0m\u001b[0;34m)\u001b[0m\u001b[0;34m\u001b[0m\u001b[0;34m\u001b[0m\u001b[0m\n\u001b[1;32m     31\u001b[0m         \u001b[0mself\u001b[0m\u001b[0;34m.\u001b[0m\u001b[0mscaler\u001b[0m \u001b[0;34m=\u001b[0m \u001b[0mMinMaxScaler\u001b[0m\u001b[0;34m(\u001b[0m\u001b[0;34m)\u001b[0m\u001b[0;34m\u001b[0m\u001b[0;34m\u001b[0m\u001b[0m\n\u001b[0;32m---> 32\u001b[0;31m         \u001b[0mself\u001b[0m\u001b[0;34m.\u001b[0m\u001b[0mscaler\u001b[0m\u001b[0;34m.\u001b[0m\u001b[0mfit\u001b[0m\u001b[0;34m(\u001b[0m\u001b[0mnp\u001b[0m\u001b[0;34m.\u001b[0m\u001b[0marray\u001b[0m\u001b[0;34m(\u001b[0m\u001b[0;34m[\u001b[0m\u001b[0mrelateDict\u001b[0m\u001b[0;34m[\u001b[0m\u001b[0mk\u001b[0m\u001b[0;34m.\u001b[0m\u001b[0mt\u001b[0m\u001b[0;34m]\u001b[0m\u001b[0;34m[\u001b[0m\u001b[0mt\u001b[0m\u001b[0;34m.\u001b[0m\u001b[0mt\u001b[0m\u001b[0;34m]\u001b[0m \u001b[0;32mfor\u001b[0m \u001b[0mk\u001b[0m \u001b[0;32min\u001b[0m \u001b[0mself\u001b[0m\u001b[0;34m.\u001b[0m\u001b[0mlayerbase\u001b[0m\u001b[0;34m.\u001b[0m\u001b[0mvocab_\u001b[0m \u001b[0;32mfor\u001b[0m \u001b[0mt\u001b[0m \u001b[0;32min\u001b[0m \u001b[0mself\u001b[0m\u001b[0;34m.\u001b[0m\u001b[0mtextbase\u001b[0m\u001b[0;34m.\u001b[0m\u001b[0mvocab_\u001b[0m\u001b[0;34m]\u001b[0m\u001b[0;34m)\u001b[0m\u001b[0;34m.\u001b[0m\u001b[0mreshape\u001b[0m\u001b[0;34m(\u001b[0m\u001b[0;34m-\u001b[0m\u001b[0;36m1\u001b[0m\u001b[0;34m,\u001b[0m\u001b[0;36m1\u001b[0m\u001b[0;34m)\u001b[0m\u001b[0;34m)\u001b[0m\u001b[0;34m\u001b[0m\u001b[0;34m\u001b[0m\u001b[0m\n\u001b[0m\u001b[1;32m     33\u001b[0m \u001b[0;34m\u001b[0m\u001b[0m\n\u001b[1;32m     34\u001b[0m         \u001b[0;31m# bins = np.linspace(0, 1, num+1)\u001b[0m\u001b[0;34m\u001b[0m\u001b[0;34m\u001b[0m\u001b[0;34m\u001b[0m\u001b[0m\n",
      "\u001b[0;31mNameError\u001b[0m: name 'relateDict' is not defined"
     ]
    }
   ],
   "source": [
    "pipeline = Pipeline()"
   ]
  },
  {
   "cell_type": "code",
   "execution_count": 608,
   "metadata": {},
   "outputs": [],
   "source": [
    "def train_classifier(train_set, class_weight={1: 1, 0: 0.1}, C=1.0):\n",
    "    clf = LogisticRegression(# random_state=0,\n",
    "                     solver='liblinear',\n",
    "                     class_weight=class_weight,\n",
    "                     penalty='l1',\n",
    "                     C=C,\n",
    "                     max_iter=100)\n",
    "\n",
    "    clf.fit(train_set[:,:-1],\n",
    "            train_set[:,-1].toarray().flatten())\n",
    "    return clf\n",
    "\n",
    "def evaluate(clf, train_set, test_set, save=False, suffix='temp'):\n",
    "    print('------- train ---------')\n",
    "    y_true = train_set[:,-1].toarray().flatten()\n",
    "    y_prob = clf.predict_proba(train_set[:,:-1])[:,1]\n",
    "    STAT(y_true, y_prob, path='STAT_%s' % suffix)\n",
    "\n",
    "    print('------- test ---------')\n",
    "    y_true = test_set[:,-1].toarray().flatten()\n",
    "    y_prob = clf.predict_proba(test_set[:,:-1])[:,1]\n",
    "    STAT(y_true, y_prob, path='STAT_%s' % suffix)\n",
    "    \n",
    "    ROC(y_true, y_prob, path='ROC_%s' % suffix)\n",
    "    "
   ]
  },
  {
   "cell_type": "code",
   "execution_count": 609,
   "metadata": {},
   "outputs": [
    {
     "name": "stdout",
     "output_type": "stream",
     "text": [
      "------- train ---------\n",
      "32 positives out of 96 test examples\n",
      "Overall accuracy: 0.333333\n",
      "*Recall(thresh=0.5)/AccuracyOf1: 1.000000\n",
      "Precision(thresh=0.5): 0.333333\n",
      "AccuracyOf0(thresh=0.5): 0.333333\n",
      "------- test ---------\n",
      "8 positives out of 24 test examples\n",
      "Overall accuracy: 0.375000\n",
      "*Recall(thresh=0.5)/AccuracyOf1: 0.875000\n",
      "Precision(thresh=0.5): 0.333333\n",
      "AccuracyOf0(thresh=0.5): 0.375000\n",
      "precision | recall | F1 | threshold\n",
      "------------------------------\n",
      "0.333 | 1.000 | 0.500 | 0.500\n",
      "0.333 | 0.875 | 0.483 | 0.503\n",
      "0.350 | 0.875 | 0.500 | 0.523\n",
      "0.368 | 0.875 | 0.519 | 0.551\n",
      "0.389 | 0.875 | 0.538 | 0.565\n",
      "0.412 | 0.875 | 0.560 | 0.591\n",
      "0.438 | 0.875 | 0.583 | 0.660\n",
      "0.467 | 0.875 | 0.609 | 0.662\n",
      "0.500 | 0.875 | 0.636 | 0.793\n",
      "0.364 | 0.500 | 0.421 | 0.808\n",
      "0.400 | 0.500 | 0.444 | 0.822\n",
      "0.286 | 0.250 | 0.267 | 0.828\n",
      "0.333 | 0.250 | 0.286 | 0.831\n",
      "0.400 | 0.250 | 0.308 | 0.831\n",
      "0.500 | 0.250 | 0.333 | 0.848\n",
      "0.667 | 0.250 | 0.364 | 0.860\n",
      "1.000 | 0.250 | 0.400 | 0.879\n",
      "1.000 | 0.125 | 0.222 | 0.883\n",
      "------------------------------\n"
     ]
    },
    {
     "data": {
      "image/png": "[encoded data removed]",
      "text/plain": [
       "<Figure size 432x288 with 1 Axes>"
      ]
     },
     "metadata": {
      "needs_background": "light"
     },
     "output_type": "display_data"
    },
    {
     "data": {
      "image/png": "[encoded data removed]",
      "text/plain": [
       "<Figure size 432x288 with 1 Axes>"
      ]
     },
     "metadata": {
      "needs_background": "light"
     },
     "output_type": "display_data"
    },
    {
     "data": {
      "image/png": "[encoded data removed]",
      "text/plain": [
       "<Figure size 720x288 with 2 Axes>"
      ]
     },
     "metadata": {
      "needs_background": "light"
     },
     "output_type": "display_data"
    }
   ],
   "source": [
    "clf = train_classifier(pipeline.train_set)\n",
    "evaluate(clf, pipeline.train_set, pipeline.test_set)"
   ]
  },
  {
   "cell_type": "code",
   "execution_count": null,
   "metadata": {},
   "outputs": [],
   "source": []
  },
  {
   "cell_type": "code",
   "execution_count": null,
   "metadata": {},
   "outputs": [],
   "source": []
  },
  {
   "cell_type": "code",
   "execution_count": null,
   "metadata": {},
   "outputs": [],
   "source": []
  },
  {
   "cell_type": "code",
   "execution_count": 401,
   "metadata": {},
   "outputs": [
    {
     "name": "stdout",
     "output_type": "stream",
     "text": [
      "82\n"
     ]
    },
    {
     "data": {
      "text/plain": [
       "'\\nlayer keywords\\nthen fetch these contain the tokens in the transformed(to keyword) description\\n\\nhow?\\nfor each keyword, fetch a layer?\\n'"
      ]
     },
     "execution_count": 401,
     "metadata": {},
     "output_type": "execute_result"
    }
   ],
   "source": [
    "from collections import Counter\n",
    "print(len(layerbase.layer_vocab_))\n",
    "c = Counter(layerbase.layer_vocab_)\n",
    "for layer, count in c.most_common():\n",
    "    if count <= 1: break\n",
    "    print(ravel(layer.entities_), count)\n",
    "\"\"\"\n",
    "layer keywords\n",
    "then fetch these contain the tokens in the transformed(to keyword) description\n",
    "\n",
    "how?\n",
    "for each keyword, fetch a layer?\n",
    "\"\"\""
   ]
  },
  {
   "cell_type": "code",
   "execution_count": 8,
   "metadata": {},
   "outputs": [
    {
     "name": "stdout",
     "output_type": "stream",
     "text": [
      "0 A DT True\n",
      "1 joyful JJ False\n",
      "2 man NN False\n",
      "3 plays VBZ False\n",
      "4 computer NN False\n",
      "5 frequently RB False\n",
      "6 and CC True\n",
      "7 sits VBZ False\n",
      "8 on IN True\n",
      "9 the DT True\n",
      "10 ground NN False\n"
     ]
    }
   ],
   "source": [
    "import spacy\n",
    "# from spacy.pipeline import Tagger\n",
    "nlp = spacy.load(\"en_core_web_sm\")\n",
    "# tagger = Tagger(nlp.vocab)\n",
    "# tagger = nlp.create_pipe(\"tagger\")\n",
    "# tagger(\n",
    "doc = nlp(u'A joyful man plays computer frequently and sits on the ground')\n",
    "for token in doc:\n",
    "    print(token.i, token.text, token.tag_, token.is_stop)\n"
   ]
  },
  {
   "cell_type": "code",
   "execution_count": 10,
   "metadata": {},
   "outputs": [
    {
     "data": {
      "text/plain": [
       "False"
      ]
     },
     "execution_count": 10,
     "metadata": {},
     "output_type": "execute_result"
    }
   ],
   "source": [
    "token.is_space"
   ]
  },
  {
   "cell_type": "code",
   "execution_count": 72,
   "metadata": {},
   "outputs": [
    {
     "ename": "AttributeError",
     "evalue": "'spacy.tokens.doc.Doc' object has no attribute 'lower'",
     "output_type": "error",
     "traceback": [
      "\u001b[0;31m---------------------------------------------------------------------------\u001b[0m",
      "\u001b[0;31mAttributeError\u001b[0m                            Traceback (most recent call last)",
      "\u001b[0;32m<ipython-input-72-0ab29e4b441f>\u001b[0m in \u001b[0;36m<module>\u001b[0;34m\u001b[0m\n\u001b[1;32m      3\u001b[0m \u001b[0mlemmatizer\u001b[0m \u001b[0;34m=\u001b[0m \u001b[0mLemmatizer\u001b[0m\u001b[0;34m(\u001b[0m\u001b[0mLEMMA_INDEX\u001b[0m\u001b[0;34m,\u001b[0m \u001b[0mLEMMA_EXC\u001b[0m\u001b[0;34m,\u001b[0m \u001b[0mLEMMA_RULES\u001b[0m\u001b[0;34m)\u001b[0m\u001b[0;34m\u001b[0m\u001b[0;34m\u001b[0m\u001b[0m\n\u001b[1;32m      4\u001b[0m \u001b[0mtoken\u001b[0m \u001b[0;34m=\u001b[0m \u001b[0mnlp\u001b[0m\u001b[0;34m(\u001b[0m\u001b[0;34m'ducks'\u001b[0m\u001b[0;34m)\u001b[0m\u001b[0;34m\u001b[0m\u001b[0;34m\u001b[0m\u001b[0m\n\u001b[0;32m----> 5\u001b[0;31m \u001b[0mlemmas\u001b[0m \u001b[0;34m=\u001b[0m \u001b[0mlemmatizer\u001b[0m\u001b[0;34m(\u001b[0m\u001b[0mtoken\u001b[0m\u001b[0;34m,\u001b[0m \u001b[0;34mu\"adjective\"\u001b[0m\u001b[0;34m)\u001b[0m\u001b[0;34m\u001b[0m\u001b[0;34m\u001b[0m\u001b[0m\n\u001b[0m\u001b[1;32m      6\u001b[0m \u001b[0;31m# assert lemmas == [u\"duck\"]\u001b[0m\u001b[0;34m\u001b[0m\u001b[0;34m\u001b[0m\u001b[0;34m\u001b[0m\u001b[0m\n\u001b[1;32m      7\u001b[0m \u001b[0mtype\u001b[0m\u001b[0;34m(\u001b[0m\u001b[0mtoken\u001b[0m\u001b[0;34m)\u001b[0m\u001b[0;34m\u001b[0m\u001b[0;34m\u001b[0m\u001b[0m\n",
      "\u001b[0;32m~/miniconda2/envs/text2scene/lib/python3.7/site-packages/spacy/lemmatizer.py\u001b[0m in \u001b[0;36m__call__\u001b[0;34m(self, string, univ_pos, morphology)\u001b[0m\n\u001b[1;32m     39\u001b[0m             \u001b[0;32mreturn\u001b[0m \u001b[0;34m[\u001b[0m\u001b[0mstring\u001b[0m\u001b[0;34m]\u001b[0m\u001b[0;34m\u001b[0m\u001b[0;34m\u001b[0m\u001b[0m\n\u001b[1;32m     40\u001b[0m         \u001b[0;32melse\u001b[0m\u001b[0;34m:\u001b[0m\u001b[0;34m\u001b[0m\u001b[0;34m\u001b[0m\u001b[0m\n\u001b[0;32m---> 41\u001b[0;31m             \u001b[0;32mreturn\u001b[0m \u001b[0;34m[\u001b[0m\u001b[0mstring\u001b[0m\u001b[0;34m.\u001b[0m\u001b[0mlower\u001b[0m\u001b[0;34m(\u001b[0m\u001b[0;34m)\u001b[0m\u001b[0;34m]\u001b[0m\u001b[0;34m\u001b[0m\u001b[0;34m\u001b[0m\u001b[0m\n\u001b[0m\u001b[1;32m     42\u001b[0m         \u001b[0;31m# See Issue #435 for example of where this logic is requied.\u001b[0m\u001b[0;34m\u001b[0m\u001b[0;34m\u001b[0m\u001b[0;34m\u001b[0m\u001b[0m\n\u001b[1;32m     43\u001b[0m         \u001b[0;32mif\u001b[0m \u001b[0mself\u001b[0m\u001b[0;34m.\u001b[0m\u001b[0mis_base_form\u001b[0m\u001b[0;34m(\u001b[0m\u001b[0muniv_pos\u001b[0m\u001b[0;34m,\u001b[0m \u001b[0mmorphology\u001b[0m\u001b[0;34m)\u001b[0m\u001b[0;34m:\u001b[0m\u001b[0;34m\u001b[0m\u001b[0;34m\u001b[0m\u001b[0m\n",
      "\u001b[0;31mAttributeError\u001b[0m: 'spacy.tokens.doc.Doc' object has no attribute 'lower'"
     ]
    }
   ],
   "source": [
    "from spacy.lemmatizer import Lemmatizer\n",
    "from spacy.lang.en import LEMMA_INDEX, LEMMA_EXC, LEMMA_RULES\n",
    "lemmatizer = Lemmatizer(LEMMA_INDEX, LEMMA_EXC, LEMMA_RULES)\n",
    "token = nlp('ducks')\n",
    "lemmas = lemmatizer(u\"ducks\", u\"adjective\")\n",
    "# assert lemmas == [u\"duck\"]\n",
    "type(token)"
   ]
  },
  {
   "cell_type": "code",
   "execution_count": 44,
   "metadata": {},
   "outputs": [
    {
     "name": "stdout",
     "output_type": "stream",
     "text": [
      "det(man-2, A-1)\n",
      "nsubj(plays-3, man-2)\n",
      "ROOT(plays-3, plays-3)\n",
      "dobj(plays-3, computer-4)\n",
      "cc(plays-3, and-5)\n",
      "conj(plays-3, sits-6)\n",
      "prep(sits-6, on-7)\n",
      "det(ground-9, the-8)\n",
      "pobj(on-7, ground-9)\n",
      "punct(plays-3, .-10)\n",
      "det(woman-12, A-11)\n",
      "nsubj(waving-14, woman-12)\n",
      "aux(waving-14, is-13)\n",
      "ROOT(waving-14, waving-14)\n",
      "punct(waving-14, .-15)\n"
     ]
    }
   ],
   "source": [
    "import spacy\n",
    "nlp = spacy.load(\"en_core_web_sm\")\n",
    "doc = nlp(u'A man plays computer and sits on the ground. A woman is waving.')\n",
    "for token in doc:\n",
    "    print(\"{2}({3}-{6}, {0}-{5})\".format(token.text, token.tag_, token.dep_, token.head.text, token.head.tag_, token.i+1, token.head.i+1))"
   ]
  },
  {
   "cell_type": "code",
   "execution_count": 27,
   "metadata": {},
   "outputs": [],
   "source": [
    "def generator(description):\n",
    "    \"\"\"\n",
    "    Given a description, propose several layers for selection\n",
    "    \"\"\"\n",
    "    assert(isinstance(description, Description))\n",
    "    "
   ]
  },
  {
   "cell_type": "code",
   "execution_count": 16,
   "metadata": {},
   "outputs": [
    {
     "data": {
      "text/plain": [
       "True"
      ]
     },
     "execution_count": 16,
     "metadata": {},
     "output_type": "execute_result"
    }
   ],
   "source": [
    "LayerName('#man(have[pant,woof],do[shit])').nested_entities_ == LayerName('#man(do[shit],have[woof,pant])').nested_entities_"
   ]
  },
  {
   "cell_type": "code",
   "execution_count": 21,
   "metadata": {},
   "outputs": [
    {
     "data": {
      "text/plain": [
       "dict_items([('man', {'have': {'woof', 'pant'}, 'do': {'shit'}})])"
      ]
     },
     "execution_count": 21,
     "metadata": {},
     "output_type": "execute_result"
    }
   ],
   "source": [
    "LayerName('#man(have[pant,woof],do[shit])').nested_entities_.items()"
   ]
  },
  {
   "cell_type": "code",
   "execution_count": 77,
   "metadata": {},
   "outputs": [
    {
     "data": {
      "text/plain": [
       "{1}"
      ]
     },
     "execution_count": 77,
     "metadata": {},
     "output_type": "execute_result"
    }
   ],
   "source": [
    "a = set()\n",
    "a.add(1)\n",
    "a\n",
    "a.union({1,2})\n",
    "a"
   ]
  },
  {
   "cell_type": "code",
   "execution_count": 22,
   "metadata": {},
   "outputs": [
    {
     "data": {
      "text/plain": [
       "((1,), (2,))"
      ]
     },
     "execution_count": 22,
     "metadata": {},
     "output_type": "execute_result"
    }
   ],
   "source": [
    "((1,),(2,))"
   ]
  },
  {
   "cell_type": "code",
   "execution_count": null,
   "metadata": {},
   "outputs": [],
   "source": []
  }
 ],
 "metadata": {
  "kernelspec": {
   "display_name": "text2scene",
   "language": "python",
   "name": "text2scene"
  },
  "language_info": {
   "codemirror_mode": {
    "name": "ipython",
    "version": 3
   },
   "file_extension": ".py",
   "mimetype": "text/x-python",
   "name": "python",
   "nbconvert_exporter": "python",
   "pygments_lexer": "ipython3",
   "version": "3.7.3"
  }
 },
 "nbformat": 4,
 "nbformat_minor": 2
}
