{
 "cells": [
  {
   "cell_type": "code",
   "execution_count": 29,
   "metadata": {},
   "outputs": [],
   "source": [
    "import spacy\n",
    "nlp = spacy.load(\"en_core_web_sm\")"
   ]
  },
  {
   "cell_type": "code",
   "execution_count": 30,
   "metadata": {},
   "outputs": [
    {
     "name": "stdout",
     "output_type": "stream",
     "text": [
      "det(man-2, A:DT-1)\n",
      "nsubj(playing-7, man:NN-2)\n",
      "cc(man-2, and:CC-3)\n",
      "det(man-5, a:DT-4)\n",
      "conj(man-2, man:NN-5)\n",
      "aux(playing-7, are:VBP-6)\n",
      "ROOT(playing-7, playing:VBG-7)\n",
      "dobj(playing-7, computer:NN-8)\n",
      "cc(playing-7, and:CC-9)\n",
      "conj(playing-7, sitting:VBG-10)\n",
      "prep(sitting-10, on:IN-11)\n",
      "det(ground-13, the:DT-12)\n",
      "pobj(on-11, ground:NN-13)\n",
      "prep(sitting-10, in:IN-14)\n",
      "det(park-16, the:DT-15)\n",
      "pobj(in-14, park:NN-16)\n",
      "punct(playing-7, .:.-17)\n",
      "det(woman-19, A:DT-18)\n",
      "nsubj(waving-21, woman:NN-19)\n",
      "aux(waving-21, is:VBZ-20)\n",
      "ROOT(waving-21, waving:VBG-21)\n",
      "prep(waving-21, under:IN-22)\n",
      "det(tree-24, the:DT-23)\n",
      "pobj(under-22, tree:NN-24)\n",
      "punct(waving-21, .:.-25)\n",
      "det(man-27, A:DT-26)\n",
      "nsubj(lying-29, man:NN-27)\n",
      "aux(lying-29, is:VBZ-28)\n",
      "ROOT(lying-29, lying:VBG-29)\n",
      "prep(lying-29, on:IN-30)\n",
      "det(games-34, the:DT-31)\n",
      "compound(games-34, sofa:NN-32)\n",
      "compound(games-34, playing:NN-33)\n",
      "pobj(on-30, games:NNS-34)\n",
      "punct(lying-29, .:.-35)\n",
      "expl(are-37, There:EX-36)\n",
      "ROOT(are-37, are:VBP-37)\n",
      "det(trees-39, some:DT-38)\n",
      "attr(are-37, trees:NNS-39)\n",
      "cc(trees-39, and:CC-40)\n",
      "conj(trees-39, plants:NNS-41)\n",
      "prep(trees-39, in:IN-42)\n",
      "det(park-44, the:DT-43)\n",
      "pobj(in-42, park:NN-44)\n",
      "punct(are-37, .:.-45)\n",
      "det(alien-47, An:DT-46)\n",
      "nsubj(lying-49, alien:NN-47)\n",
      "aux(lying-49, is:VBZ-48)\n",
      "ROOT(lying-49, lying:VBG-49)\n",
      "xcomp(lying-49, crying:VBG-50)\n",
      "punct(lying-49, .:.-51)\n"
     ]
    }
   ],
   "source": [
    "doc = nlp(u'A man and a man are playing computer and sitting on the ground in the park. A woman is waving under the tree. A man is lying on the sofa playing games. There are some trees and plants in the park. An alien is lying crying.')\n",
    "# parse(doc)\n",
    "for token in doc:\n",
    "    print(\"{2}({3}-{6}, {0}:{1}-{5})\".format(token.text, token.tag_, token.dep_, token.head.text, token.head.tag_, token.i+1, token.head.i+1))"
   ]
  },
  {
   "cell_type": "code",
   "execution_count": null,
   "metadata": {},
   "outputs": [],
   "source": []
  }
 ],
 "metadata": {
  "kernelspec": {
   "display_name": "text2scene",
   "language": "python",
   "name": "text2scene"
  },
  "language_info": {
   "codemirror_mode": {
    "name": "ipython",
    "version": 3
   },
   "file_extension": ".py",
   "mimetype": "text/x-python",
   "name": "python",
   "nbconvert_exporter": "python",
   "pygments_lexer": "ipython3",
   "version": "3.7.3"
  }
 },
 "nbformat": 4,
 "nbformat_minor": 2
}
