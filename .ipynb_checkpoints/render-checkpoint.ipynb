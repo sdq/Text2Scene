{
 "cells": [
  {
   "cell_type": "markdown",
   "metadata": {},
   "source": [
    "## Export material from images"
   ]
  },
  {
   "cell_type": "code",
   "execution_count": 1,
   "metadata": {},
   "outputs": [
    {
     "name": "stdout",
     "output_type": "stream",
     "text": [
      "1.svg\n",
      "['A3212.png', 'A2122.png']\n",
      "10.svg\n",
      "['A1.png', 'A2121_1_.png', 'A323.png']\n",
      "11.svg\n",
      "['A1.png', 'A2121_1_.png', 'A313.png']\n",
      "2.svg\n",
      "['A2121.png', 'A4.png', 'A324.png']\n",
      "3.svg\n",
      "['A312.png']\n",
      "4.svg\n",
      "['A2211.png', 'A311.png']\n",
      "5.svg\n",
      "['A3211.png', 'A2212.png']\n",
      "6.svg\n",
      "['A311.png', 'A2112.png']\n",
      "7.svg\n",
      "['A2121.png', 'A324.png']\n",
      "8.svg\n",
      "['A2121.png', 'A311.png']\n",
      "9.svg\n",
      "['A2121.png']\n"
     ]
    }
   ],
   "source": [
    "## export layers to dir named after file\n",
    "import os\n",
    "img_dir = 'images'\n",
    "for file in sorted(os.listdir(img_dir)):\n",
    "    base, ext = os.path.splitext(file)\n",
    "    if ext == '.svg' and base != 'test' and base != 'stack':\n",
    "        print(file)\n",
    "        os.system(\"./export_svg.sh %s %s\" % (file, img_dir))\n",
    "        print(os.listdir('%s/m_%s' % (img_dir, base)))"
   ]
  },
  {
   "cell_type": "code",
   "execution_count": 2,
   "metadata": {},
   "outputs": [],
   "source": [
    "def group_layers(prefix='m_', target='material', image_dir='images'):\n",
    "    \"\"\"\n",
    "    Collect layers in separate dirs into material\n",
    "    Extend name if necessary\n",
    "    \"\"\"\n",
    "    import glob\n",
    "    import shutil\n",
    "    from tools.image_process import cleanName\n",
    "    \n",
    "    if os.path.exists(target):\n",
    "        files = glob.glob(target+'/*')\n",
    "        for file in files:\n",
    "            os.remove(file)\n",
    "    else:\n",
    "        os.system('mkdir '+target)\n",
    "\n",
    "    for d_ in sorted(os.listdir(image_dir)):\n",
    "        d = image_dir + '/' + d_\n",
    "        if os.path.isdir(d) and d_.startswith(prefix):\n",
    "            print(d)\n",
    "            for m in os.listdir(d):\n",
    "                print('  %s' % m)\n",
    "                if m in os.listdir(target):\n",
    "                    base, ext = os.path.splitext(m)\n",
    "                    base = cleanName(base)\n",
    "                    num = len(glob.glob('%s/%s*.png' % (target,\n",
    "                                                        base)))\n",
    "                    new_m = '%s_(%s)%s' % (base, num, ext)\n",
    "                else:\n",
    "                    new_m = cleanName(m)\n",
    "                shutil.copy(d+'/'+m, target+'/'+new_m)\n",
    "            # os.rmdir(d)"
   ]
  },
  {
   "cell_type": "code",
   "execution_count": 3,
   "metadata": {},
   "outputs": [
    {
     "name": "stdout",
     "output_type": "stream",
     "text": [
      "images/m_1\n",
      "  A3212.png\n",
      "  A2122.png\n",
      "images/m_10\n",
      "  A1.png\n",
      "  A2121_1_.png\n",
      "  A323.png\n",
      "images/m_11\n",
      "  A1.png\n",
      "  A2121_1_.png\n",
      "  A313.png\n",
      "images/m_2\n",
      "  A2121.png\n",
      "  A4.png\n",
      "  A324.png\n",
      "images/m_3\n",
      "  A312.png\n",
      "images/m_4\n",
      "  A2211.png\n",
      "  A311.png\n",
      "images/m_5\n",
      "  A3211.png\n",
      "  A2212.png\n",
      "images/m_6\n",
      "  A311.png\n",
      "  A2112.png\n",
      "images/m_7\n",
      "  A2121.png\n",
      "  A324.png\n",
      "images/m_8\n",
      "  A2121.png\n",
      "  A311.png\n",
      "images/m_9\n",
      "  A2121.png\n"
     ]
    }
   ],
   "source": [
    "group_layers()"
   ]
  },
  {
   "cell_type": "code",
   "execution_count": 4,
   "metadata": {},
   "outputs": [],
   "source": [
    "# Weird!\n",
    "# every time use svg-objects-export.py to export a .svg, or use parse in xml to read a .svg, the objects in this image will move  to the right for a random length, but it won't affect the next read or parse, and it won't affect the appearance of exported .png files\n",
    "# also, use parse, export or even open the .svg in the browser, the layers will be stacked into one layer on the very top\n",
    "# seems a problem with minidom or inkscape"
   ]
  },
  {
   "cell_type": "markdown",
   "metadata": {},
   "source": [
    "## Synthesis"
   ]
  },
  {
   "cell_type": "code",
   "execution_count": 1,
   "metadata": {},
   "outputs": [],
   "source": [
    "def str2num_size(size):\n",
    "    assert type(size) is str\n",
    "    return int(float(size.strip('pt')))\n",
    "    \n",
    "def get_size(file):\n",
    "    \"\"\"\n",
    "    Get the width and height of an image\n",
    "    \n",
    "    .svg:\n",
    "        use xml's parse\n",
    "        By check the 'viewBox' attribute in the 'svg' tag\n",
    "    \n",
    "    .png:\n",
    "        use PIL\n",
    "    \"\"\"\n",
    "    \n",
    "    basename, ext = os.path.splitext(file)\n",
    "    if ext == '.svg':   \n",
    "        from xml.dom.minidom import parse\n",
    "        doc = parse(file)\n",
    "        # search svg element\n",
    "        image_list = doc.getElementsByTagName('svg')\n",
    "        assert(image_list), 'no svg element found!'\n",
    "        assert(len(image_list) == 1), file\n",
    "        img = image_list[0]\n",
    "        assert(img.hasAttribute('viewBox'))\n",
    "        width, height = img.getAttribute('viewBox').split()[2:]\n",
    "        width, height = (str2num_size(width), str2num_size(height))\n",
    "        # try search image element, then g element\n",
    "#     try:\n",
    "#         assert image_list\n",
    "#     except AssertionError:\n",
    "#         image_list = doc.getElementsByTagName('svg')\n",
    "#         assert image_list\n",
    "#         assert image_list[0].hasAttribute('width')\n",
    "#     assert(len(image_list) == 1), svg_file\n",
    "#     ## if multiple images, size is the maximum size in either direction        \n",
    "    elif ext == '.png':\n",
    "        from PIL import Image\n",
    "        width, height = Image.open(file).size\n",
    "\n",
    "    return (width, height)"
   ]
  },
  {
   "cell_type": "code",
   "execution_count": 3,
   "metadata": {},
   "outputs": [],
   "source": [
    "def stack_svgs(file_list, opt_file=None, canvas_size=None):\n",
    " \n",
    "    import cairosvg\n",
    "    from svgutils.compose import Figure, Image #,SVG\n",
    "    \n",
    "    if not opt_file:\n",
    "        opt_file = 'stack.svg'\n",
    "        \n",
    "    if canvas_size:\n",
    "        canvas_w, canvas_h = canvas_size\n",
    "    else:\n",
    "        canvas_w, canvas_h = 0, 0\n",
    "        for file in file_list:\n",
    "            width, height = get_size(file)\n",
    "            if width > canvas_w: canvas_w = width\n",
    "            if height > canvas_h: canvas_h = height\n",
    "    print('Canvas size:', (canvas_w, canvas_h))\n",
    "    \n",
    "    # if svg, convert to png first\n",
    "    file_list_png = []\n",
    "    for file in file_list:\n",
    "        basename, ext = os.path.splitext(file)\n",
    "        if ext == '.svg':\n",
    "            png_file = basename + '.png'\n",
    "            cairosvg.svg2png(url=file,\n",
    "                             write_to=png_file)\n",
    "            file_list_png.append(png_file)\n",
    "        elif ext == '.png':\n",
    "            file_list_png.append(file)\n",
    "        else:\n",
    "            raise ValueError('File type not availale!')\n",
    "    \n",
    "    image_list = []\n",
    "    # \n",
    "    for file in file_list_png:\n",
    "        print('File:', file)\n",
    "        width, height = get_size(file)\n",
    "        img = Image(width, height, file)\n",
    "        img.move(int((canvas_w-width)/2),\n",
    "                 int((canvas_h-height)/2))\n",
    "        image_list.append(img)\n",
    "    \n",
    "        \n",
    "    Figure(canvas_w, canvas_h, *image_list).save(opt_file)"
   ]
  },
  {
   "cell_type": "code",
   "execution_count": 4,
   "metadata": {},
   "outputs": [
    {
     "ename": "NameError",
     "evalue": "name 'os' is not defined",
     "output_type": "error",
     "traceback": [
      "\u001b[0;31m---------------------------------------------------------------------------\u001b[0m",
      "\u001b[0;31mNameError\u001b[0m                                 Traceback (most recent call last)",
      "\u001b[0;32m<ipython-input-4-642a01a0039c>\u001b[0m in \u001b[0;36m<module>\u001b[0;34m\u001b[0m\n\u001b[1;32m      1\u001b[0m stack_svgs(['svg-objects-export/A-1.png', \n\u001b[1;32m      2\u001b[0m             \u001b[0;34m'svg-objects-export/A-2-1-2-1.png'\u001b[0m\u001b[0;34m,\u001b[0m\u001b[0;34m\u001b[0m\u001b[0;34m\u001b[0m\u001b[0m\n\u001b[0;32m----> 3\u001b[0;31m             'svg-objects-export/A-3-1.png'])\n\u001b[0m",
      "\u001b[0;32m<ipython-input-3-164f41f4df78>\u001b[0m in \u001b[0;36mstack_svgs\u001b[0;34m(file_list, opt_file, canvas_size)\u001b[0m\n\u001b[1;32m     12\u001b[0m         \u001b[0mcanvas_w\u001b[0m\u001b[0;34m,\u001b[0m \u001b[0mcanvas_h\u001b[0m \u001b[0;34m=\u001b[0m \u001b[0;36m0\u001b[0m\u001b[0;34m,\u001b[0m \u001b[0;36m0\u001b[0m\u001b[0;34m\u001b[0m\u001b[0;34m\u001b[0m\u001b[0m\n\u001b[1;32m     13\u001b[0m         \u001b[0;32mfor\u001b[0m \u001b[0mfile\u001b[0m \u001b[0;32min\u001b[0m \u001b[0mfile_list\u001b[0m\u001b[0;34m:\u001b[0m\u001b[0;34m\u001b[0m\u001b[0;34m\u001b[0m\u001b[0m\n\u001b[0;32m---> 14\u001b[0;31m             \u001b[0mwidth\u001b[0m\u001b[0;34m,\u001b[0m \u001b[0mheight\u001b[0m \u001b[0;34m=\u001b[0m \u001b[0mget_size\u001b[0m\u001b[0;34m(\u001b[0m\u001b[0mfile\u001b[0m\u001b[0;34m)\u001b[0m\u001b[0;34m\u001b[0m\u001b[0;34m\u001b[0m\u001b[0m\n\u001b[0m\u001b[1;32m     15\u001b[0m             \u001b[0;32mif\u001b[0m \u001b[0mwidth\u001b[0m \u001b[0;34m>\u001b[0m \u001b[0mcanvas_w\u001b[0m\u001b[0;34m:\u001b[0m \u001b[0mcanvas_w\u001b[0m \u001b[0;34m=\u001b[0m \u001b[0mwidth\u001b[0m\u001b[0;34m\u001b[0m\u001b[0;34m\u001b[0m\u001b[0m\n\u001b[1;32m     16\u001b[0m             \u001b[0;32mif\u001b[0m \u001b[0mheight\u001b[0m \u001b[0;34m>\u001b[0m \u001b[0mcanvas_h\u001b[0m\u001b[0;34m:\u001b[0m \u001b[0mcanvas_h\u001b[0m \u001b[0;34m=\u001b[0m \u001b[0mheight\u001b[0m\u001b[0;34m\u001b[0m\u001b[0;34m\u001b[0m\u001b[0m\n",
      "\u001b[0;32m<ipython-input-1-f82aa5a1ea4f>\u001b[0m in \u001b[0;36mget_size\u001b[0;34m(file)\u001b[0m\n\u001b[1;32m     15\u001b[0m     \"\"\"\n\u001b[1;32m     16\u001b[0m \u001b[0;34m\u001b[0m\u001b[0m\n\u001b[0;32m---> 17\u001b[0;31m     \u001b[0mbasename\u001b[0m\u001b[0;34m,\u001b[0m \u001b[0mext\u001b[0m \u001b[0;34m=\u001b[0m \u001b[0mos\u001b[0m\u001b[0;34m.\u001b[0m\u001b[0mpath\u001b[0m\u001b[0;34m.\u001b[0m\u001b[0msplitext\u001b[0m\u001b[0;34m(\u001b[0m\u001b[0mfile\u001b[0m\u001b[0;34m)\u001b[0m\u001b[0;34m\u001b[0m\u001b[0;34m\u001b[0m\u001b[0m\n\u001b[0m\u001b[1;32m     18\u001b[0m     \u001b[0;32mif\u001b[0m \u001b[0mext\u001b[0m \u001b[0;34m==\u001b[0m \u001b[0;34m'.svg'\u001b[0m\u001b[0;34m:\u001b[0m\u001b[0;34m\u001b[0m\u001b[0;34m\u001b[0m\u001b[0m\n\u001b[1;32m     19\u001b[0m         \u001b[0;32mfrom\u001b[0m \u001b[0mxml\u001b[0m\u001b[0;34m.\u001b[0m\u001b[0mdom\u001b[0m\u001b[0;34m.\u001b[0m\u001b[0mminidom\u001b[0m \u001b[0;32mimport\u001b[0m \u001b[0mparse\u001b[0m\u001b[0;34m\u001b[0m\u001b[0;34m\u001b[0m\u001b[0m\n",
      "\u001b[0;31mNameError\u001b[0m: name 'os' is not defined"
     ]
    }
   ],
   "source": [
    "stack_svgs(['svg-objects-export/A-1.png', \n",
    "            'svg-objects-export/A-2-1-2-1.png', \n",
    "            'svg-objects-export/A-3-1.png'])"
   ]
  },
  {
   "cell_type": "code",
   "execution_count": null,
   "metadata": {},
   "outputs": [],
   "source": [
    "stack_svgs(['material/背景4.svg', \n",
    "            'material/123.svg', \n",
    "            'material/生活方式3.svg'])"
   ]
  },
  {
   "cell_type": "code",
   "execution_count": null,
   "metadata": {},
   "outputs": [],
   "source": [
    "## write a tool to stack two svgs:\n",
    "### put <g> altogether, then for each elememt, add attribute recursively"
   ]
  },
  {
   "cell_type": "code",
   "execution_count": null,
   "metadata": {},
   "outputs": [],
   "source": [
    "## ValueError: material/124.svg\n",
    "## issue of cairosvg converter"
   ]
  }
 ],
 "metadata": {
  "kernelspec": {
   "display_name": "text2scene",
   "language": "python",
   "name": "text2scene"
  },
  "language_info": {
   "codemirror_mode": {
    "name": "ipython",
    "version": 3
   },
   "file_extension": ".py",
   "mimetype": "text/x-python",
   "name": "python",
   "nbconvert_exporter": "python",
   "pygments_lexer": "ipython3",
   "version": "3.7.3"
  }
 },
 "nbformat": 4,
 "nbformat_minor": 2
}
