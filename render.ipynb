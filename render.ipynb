{
 "cells": [
  {
   "cell_type": "markdown",
   "metadata": {},
   "source": [
    "## Export material from images"
   ]
  },
  {
   "cell_type": "code",
   "execution_count": 1,
   "metadata": {},
   "outputs": [
    {
     "name": "stdout",
     "output_type": "stream",
     "text": [
      "1.svg\n",
      "['A3212.png', 'A2122.png']\n",
      "10.svg\n",
      "['A1.png', 'A2121_1_.png', 'A323.png']\n",
      "11.svg\n",
      "['A1.png', 'A2121_1_.png', 'A313.png']\n",
      "2.svg\n",
      "['A2121.png', 'A4.png', 'A324.png']\n",
      "3.svg\n",
      "['A312.png']\n",
      "4.svg\n",
      "['A2211.png', 'A311.png']\n",
      "5.svg\n",
      "['A3211.png', 'A2212.png']\n",
      "6.svg\n",
      "['A311.png', 'A2112.png']\n",
      "7.svg\n",
      "['A2121.png', 'A324.png']\n",
      "8.svg\n",
      "['A2121.png', 'A311.png']\n",
      "9.svg\n",
      "['A2121.png']\n"
     ]
    }
   ],
   "source": [
    "## export layers to dir named after file\n",
    "import os\n",
    "for file in sorted(os.listdir('images')):\n",
    "    base, ext = os.path.splitext(file)\n",
    "    if ext == '.svg' and base != 'test' and base != 'stack':\n",
    "        print(file)\n",
    "        os.system(\"./export_svg.sh %s\" % file)\n",
    "        print(os.listdir('images/m_%s' % base))"
   ]
  },
  {
   "cell_type": "code",
   "execution_count": 2,
   "metadata": {},
   "outputs": [],
   "source": [
    "def group_layers(prefix='m_', target='material', image_dir='images'):\n",
    "    \"\"\"\n",
    "    Collect layers in separate dirs into material\n",
    "    Extend name if necessary\n",
    "    \"\"\"\n",
    "    import glob\n",
    "    import shutil\n",
    "    from tools.image_process import cleanName\n",
    "    \n",
    "    if os.path.exists(target):\n",
    "        files = glob.glob(target+'/*')\n",
    "        for file in files:\n",
    "            os.remove(file)\n",
    "    else:\n",
    "        os.system('mkdir '+target)\n",
    "\n",
    "    for d_ in sorted(os.listdir(image_dir)):\n",
    "        d = image_dir + '/' + d_\n",
    "        if os.path.isdir(d) and d_.startswith(prefix):\n",
    "            print(d)\n",
    "            for m in os.listdir(d):\n",
    "                print('  %s' % m)\n",
    "                if m in os.listdir(target):\n",
    "                    base, ext = os.path.splitext(m)\n",
    "                    base = cleanName(base)\n",
    "                    num = len(glob.glob('%s/%s*.png' % (target,\n",
    "                                                        base)))\n",
    "                    new_m = '%s_(%s)%s' % (base, num, ext)\n",
    "                else:\n",
    "                    new_m = cleanName(m)\n",
    "                shutil.copy(d+'/'+m, target+'/'+new_m)\n",
    "            # os.rmdir(d)"
   ]
  },
  {
   "cell_type": "code",
   "execution_count": 3,
   "metadata": {},
   "outputs": [
    {
     "name": "stdout",
     "output_type": "stream",
     "text": [
      "images/m_1\n",
      "  A3212.png\n",
      "  A2122.png\n",
      "images/m_10\n",
      "  A1.png\n",
      "  A2121_1_.png\n",
      "  A323.png\n",
      "images/m_11\n",
      "  A1.png\n",
      "  A2121_1_.png\n",
      "  A313.png\n",
      "images/m_2\n",
      "  A2121.png\n",
      "  A4.png\n",
      "  A324.png\n",
      "images/m_3\n",
      "  A312.png\n",
      "images/m_4\n",
      "  A2211.png\n",
      "  A311.png\n",
      "images/m_5\n",
      "  A3211.png\n",
      "  A2212.png\n",
      "images/m_6\n",
      "  A311.png\n",
      "  A2112.png\n",
      "images/m_7\n",
      "  A2121.png\n",
      "  A324.png\n",
      "images/m_8\n",
      "  A2121.png\n",
      "  A311.png\n",
      "images/m_9\n",
      "  A2121.png\n"
     ]
    }
   ],
   "source": [
    "group_layers()"
   ]
  },
  {
   "cell_type": "code",
   "execution_count": 4,
   "metadata": {},
   "outputs": [],
   "source": [
    "# Weird!\n",
    "# every time use svg-objects-export.py to export a .svg, or use parse in xml to read a .svg, the objects in this image will move  to the right for a random length, but it won't affect the next read or parse, and it won't affect the appearance of exported .png files\n",
    "# also, use parse, export or even open the .svg in the browser, the layers will be stacked into one layer on the very top\n",
    "# seems a problem with minidom or inkscape"
   ]
  },
  {
   "cell_type": "code",
   "execution_count": null,
   "metadata": {},
   "outputs": [],
   "source": []
  }
 ],
 "metadata": {
  "kernelspec": {
   "display_name": "text2scene",
   "language": "python",
   "name": "text2scene"
  },
  "language_info": {
   "codemirror_mode": {
    "name": "ipython",
    "version": 3
   },
   "file_extension": ".py",
   "mimetype": "text/x-python",
   "name": "python",
   "nbconvert_exporter": "python",
   "pygments_lexer": "ipython3",
   "version": "3.7.3"
  }
 },
 "nbformat": 4,
 "nbformat_minor": 2
}
