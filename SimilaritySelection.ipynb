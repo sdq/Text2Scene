{
 "cells": [
  {
   "cell_type": "markdown",
   "metadata": {},
   "source": [
    "### similarity selection"
   ]
  },
  {
   "cell_type": "code",
   "execution_count": 6,
   "metadata": {},
   "outputs": [],
   "source": [
    "import spacy\n",
    "nlp = spacy.load(\"en_core_web_md\")\n",
    "from query_relatedness import query_simi"
   ]
  },
  {
   "cell_type": "code",
   "execution_count": 7,
   "metadata": {},
   "outputs": [
    {
     "name": "stdout",
     "output_type": "stream",
     "text": [
      "1.0\n",
      "0.5157254\n",
      "0.68819237\n",
      "0.54641587\n"
     ]
    }
   ],
   "source": [
    "# conceptnet is significantly better than glove in concept similarity\n",
    "# E.g. seat and sit > stand and sit\n",
    "print(nlp('sit')[0].similarity(nlp('sit')[0]))\n",
    "print(nlp('sit')[0].similarity(nlp('seat')[0])) # be seated\n",
    "print(nlp('sit')[0].similarity(nlp('stand')[0]))\n",
    "print(nlp('sit')[0].similarity(nlp('chair')[0]))"
   ]
  },
  {
   "cell_type": "code",
   "execution_count": 8,
   "metadata": {},
   "outputs": [
    {
     "name": "stdout",
     "output_type": "stream",
     "text": [
      "0.67114556\n",
      "0.452\n",
      "0.63170236\n",
      "0.416\n"
     ]
    }
   ],
   "source": [
    "# noun binding seems ok. Compound words can be split then sum up the similarity. E.g. fishing_rod\n",
    "doc = nlp('chair ottoman')\n",
    "print(doc[0].similarity(doc[1]))\n",
    "print(query_simi('chair','ottoman'))\n",
    "doc = nlp('chair desk')\n",
    "print(doc[0].similarity(doc[1]))\n",
    "print(query_simi('chair','desk'))"
   ]
  },
  {
   "cell_type": "code",
   "execution_count": 9,
   "metadata": {},
   "outputs": [
    {
     "name": "stdout",
     "output_type": "stream",
     "text": [
      "0.658\n",
      "0.572\n",
      "0.572\n",
      "0.754\n",
      "0.754\n"
     ]
    }
   ],
   "source": [
    "# conceptNet seems to only check the first word, and penalize on the length difference between phrases\n",
    "# we can do it similarily using gloVe\n",
    "# maximum pair for now\n",
    "from query_relatedness import query_simi\n",
    "print(query_simi('fish','fishing'))\n",
    "print(query_simi('fish','fishing rod'))\n",
    "print(query_simi('fish','fishing not'))\n",
    "print(query_simi('fish aaio','fishing not'))\n",
    "print(query_simi('fish afsadf','fishing not'))"
   ]
  },
  {
   "cell_type": "code",
   "execution_count": 12,
   "metadata": {},
   "outputs": [
    {
     "data": {
      "text/plain": [
       "['sit']"
      ]
     },
     "execution_count": 12,
     "metadata": {},
     "output_type": "execute_result"
    }
   ],
   "source": [
    "import difflib\n",
    "difflib.get_close_matches('siat', ['sit', 'stand'])"
   ]
  },
  {
   "cell_type": "code",
   "execution_count": 13,
   "metadata": {},
   "outputs": [],
   "source": [
    "### fast text"
   ]
  },
  {
   "cell_type": "code",
   "execution_count": null,
   "metadata": {},
   "outputs": [],
   "source": []
  }
 ],
 "metadata": {
  "kernelspec": {
   "display_name": "text2scene",
   "language": "python",
   "name": "text2scene"
  },
  "language_info": {
   "codemirror_mode": {
    "name": "ipython",
    "version": 3
   },
   "file_extension": ".py",
   "mimetype": "text/x-python",
   "name": "python",
   "nbconvert_exporter": "python",
   "pygments_lexer": "ipython3",
   "version": "3.7.3"
  }
 },
 "nbformat": 4,
 "nbformat_minor": 2
}
