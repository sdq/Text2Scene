{
 "cells": [
  {
   "cell_type": "code",
   "execution_count": 6,
   "metadata": {
    "scrolled": true
   },
   "outputs": [
    {
     "name": "stdout",
     "output_type": "stream",
     "text": [
      "det(man-2, A:DT-1)\n",
      "nsubj(sitting-4, man:NN-2)\n",
      "aux(sitting-4, is:VBZ-3)\n",
      "ROOT(sitting-4, sitting:VBG-4)\n",
      "prep(sitting-4, on:IN-5)\n",
      "det(printer-7, a:DT-6)\n",
      "pobj(on-5, printer:NN-7)\n",
      "acl(printer-7, looking:VBG-8)\n",
      "prep(looking-8, at:IN-9)\n",
      "poss(phone-11, his:PRP$-10)\n",
      "pobj(at-9, phone:NN-11)\n",
      "punct(sitting-4, .:.-12)\n",
      "det(man-14, A:DT-13)\n",
      "nsubj(bending-19, man:NN-14)\n",
      "cc(man-14, and:CC-15)\n",
      "det(woman-17, a:DT-16)\n",
      "conj(man-14, woman:NN-17)\n",
      "aux(bending-19, are:VBP-18)\n",
      "ROOT(bending-19, bending:VBG-19)\n",
      "prt(bending-19, over:RP-20)\n",
      "aux(file-22, to:IN-21)\n",
      "advcl(bending-19, file:VB-22)\n",
      "punct(bending-19, .:.-23)\n"
     ]
    },
    {
     "data": {
      "text/html": [
       "<svg xmlns=\"http://www.w3.org/2000/svg\" xmlns:xlink=\"http://www.w3.org/1999/xlink\" xml:lang=\"en\" id=\"3d2734fcd32d47b59be1f4229dced684-0\" class=\"displacy\" width=\"3725\" height=\"487.0\" direction=\"ltr\" style=\"max-width: none; height: 487.0px; color: #000000; background: #ffffff; font-family: Arial; direction: ltr\">\n",
       "<text class=\"displacy-token\" fill=\"currentColor\" text-anchor=\"middle\" y=\"397.0\">\n",
       "    <tspan class=\"displacy-word\" fill=\"currentColor\" x=\"50\">A</tspan>\n",
       "    <tspan class=\"displacy-tag\" dy=\"2em\" fill=\"currentColor\" x=\"50\">DET</tspan>\n",
       "</text>\n",
       "\n",
       "<text class=\"displacy-token\" fill=\"currentColor\" text-anchor=\"middle\" y=\"397.0\">\n",
       "    <tspan class=\"displacy-word\" fill=\"currentColor\" x=\"225\">man</tspan>\n",
       "    <tspan class=\"displacy-tag\" dy=\"2em\" fill=\"currentColor\" x=\"225\">NOUN</tspan>\n",
       "</text>\n",
       "\n",
       "<text class=\"displacy-token\" fill=\"currentColor\" text-anchor=\"middle\" y=\"397.0\">\n",
       "    <tspan class=\"displacy-word\" fill=\"currentColor\" x=\"400\">is</tspan>\n",
       "    <tspan class=\"displacy-tag\" dy=\"2em\" fill=\"currentColor\" x=\"400\">VERB</tspan>\n",
       "</text>\n",
       "\n",
       "<text class=\"displacy-token\" fill=\"currentColor\" text-anchor=\"middle\" y=\"397.0\">\n",
       "    <tspan class=\"displacy-word\" fill=\"currentColor\" x=\"575\">sitting</tspan>\n",
       "    <tspan class=\"displacy-tag\" dy=\"2em\" fill=\"currentColor\" x=\"575\">VERB</tspan>\n",
       "</text>\n",
       "\n",
       "<text class=\"displacy-token\" fill=\"currentColor\" text-anchor=\"middle\" y=\"397.0\">\n",
       "    <tspan class=\"displacy-word\" fill=\"currentColor\" x=\"750\">on</tspan>\n",
       "    <tspan class=\"displacy-tag\" dy=\"2em\" fill=\"currentColor\" x=\"750\">ADP</tspan>\n",
       "</text>\n",
       "\n",
       "<text class=\"displacy-token\" fill=\"currentColor\" text-anchor=\"middle\" y=\"397.0\">\n",
       "    <tspan class=\"displacy-word\" fill=\"currentColor\" x=\"925\">a</tspan>\n",
       "    <tspan class=\"displacy-tag\" dy=\"2em\" fill=\"currentColor\" x=\"925\">DET</tspan>\n",
       "</text>\n",
       "\n",
       "<text class=\"displacy-token\" fill=\"currentColor\" text-anchor=\"middle\" y=\"397.0\">\n",
       "    <tspan class=\"displacy-word\" fill=\"currentColor\" x=\"1100\">printer</tspan>\n",
       "    <tspan class=\"displacy-tag\" dy=\"2em\" fill=\"currentColor\" x=\"1100\">NOUN</tspan>\n",
       "</text>\n",
       "\n",
       "<text class=\"displacy-token\" fill=\"currentColor\" text-anchor=\"middle\" y=\"397.0\">\n",
       "    <tspan class=\"displacy-word\" fill=\"currentColor\" x=\"1275\">looking</tspan>\n",
       "    <tspan class=\"displacy-tag\" dy=\"2em\" fill=\"currentColor\" x=\"1275\">VERB</tspan>\n",
       "</text>\n",
       "\n",
       "<text class=\"displacy-token\" fill=\"currentColor\" text-anchor=\"middle\" y=\"397.0\">\n",
       "    <tspan class=\"displacy-word\" fill=\"currentColor\" x=\"1450\">at</tspan>\n",
       "    <tspan class=\"displacy-tag\" dy=\"2em\" fill=\"currentColor\" x=\"1450\">ADP</tspan>\n",
       "</text>\n",
       "\n",
       "<text class=\"displacy-token\" fill=\"currentColor\" text-anchor=\"middle\" y=\"397.0\">\n",
       "    <tspan class=\"displacy-word\" fill=\"currentColor\" x=\"1625\">his</tspan>\n",
       "    <tspan class=\"displacy-tag\" dy=\"2em\" fill=\"currentColor\" x=\"1625\">DET</tspan>\n",
       "</text>\n",
       "\n",
       "<text class=\"displacy-token\" fill=\"currentColor\" text-anchor=\"middle\" y=\"397.0\">\n",
       "    <tspan class=\"displacy-word\" fill=\"currentColor\" x=\"1800\">phone.</tspan>\n",
       "    <tspan class=\"displacy-tag\" dy=\"2em\" fill=\"currentColor\" x=\"1800\">NOUN</tspan>\n",
       "</text>\n",
       "\n",
       "<text class=\"displacy-token\" fill=\"currentColor\" text-anchor=\"middle\" y=\"397.0\">\n",
       "    <tspan class=\"displacy-word\" fill=\"currentColor\" x=\"1975\">A</tspan>\n",
       "    <tspan class=\"displacy-tag\" dy=\"2em\" fill=\"currentColor\" x=\"1975\">DET</tspan>\n",
       "</text>\n",
       "\n",
       "<text class=\"displacy-token\" fill=\"currentColor\" text-anchor=\"middle\" y=\"397.0\">\n",
       "    <tspan class=\"displacy-word\" fill=\"currentColor\" x=\"2150\">man</tspan>\n",
       "    <tspan class=\"displacy-tag\" dy=\"2em\" fill=\"currentColor\" x=\"2150\">NOUN</tspan>\n",
       "</text>\n",
       "\n",
       "<text class=\"displacy-token\" fill=\"currentColor\" text-anchor=\"middle\" y=\"397.0\">\n",
       "    <tspan class=\"displacy-word\" fill=\"currentColor\" x=\"2325\">and</tspan>\n",
       "    <tspan class=\"displacy-tag\" dy=\"2em\" fill=\"currentColor\" x=\"2325\">CCONJ</tspan>\n",
       "</text>\n",
       "\n",
       "<text class=\"displacy-token\" fill=\"currentColor\" text-anchor=\"middle\" y=\"397.0\">\n",
       "    <tspan class=\"displacy-word\" fill=\"currentColor\" x=\"2500\">a</tspan>\n",
       "    <tspan class=\"displacy-tag\" dy=\"2em\" fill=\"currentColor\" x=\"2500\">DET</tspan>\n",
       "</text>\n",
       "\n",
       "<text class=\"displacy-token\" fill=\"currentColor\" text-anchor=\"middle\" y=\"397.0\">\n",
       "    <tspan class=\"displacy-word\" fill=\"currentColor\" x=\"2675\">woman</tspan>\n",
       "    <tspan class=\"displacy-tag\" dy=\"2em\" fill=\"currentColor\" x=\"2675\">NOUN</tspan>\n",
       "</text>\n",
       "\n",
       "<text class=\"displacy-token\" fill=\"currentColor\" text-anchor=\"middle\" y=\"397.0\">\n",
       "    <tspan class=\"displacy-word\" fill=\"currentColor\" x=\"2850\">are</tspan>\n",
       "    <tspan class=\"displacy-tag\" dy=\"2em\" fill=\"currentColor\" x=\"2850\">VERB</tspan>\n",
       "</text>\n",
       "\n",
       "<text class=\"displacy-token\" fill=\"currentColor\" text-anchor=\"middle\" y=\"397.0\">\n",
       "    <tspan class=\"displacy-word\" fill=\"currentColor\" x=\"3025\">bending</tspan>\n",
       "    <tspan class=\"displacy-tag\" dy=\"2em\" fill=\"currentColor\" x=\"3025\">VERB</tspan>\n",
       "</text>\n",
       "\n",
       "<text class=\"displacy-token\" fill=\"currentColor\" text-anchor=\"middle\" y=\"397.0\">\n",
       "    <tspan class=\"displacy-word\" fill=\"currentColor\" x=\"3200\">over</tspan>\n",
       "    <tspan class=\"displacy-tag\" dy=\"2em\" fill=\"currentColor\" x=\"3200\">PART</tspan>\n",
       "</text>\n",
       "\n",
       "<text class=\"displacy-token\" fill=\"currentColor\" text-anchor=\"middle\" y=\"397.0\">\n",
       "    <tspan class=\"displacy-word\" fill=\"currentColor\" x=\"3375\">to</tspan>\n",
       "    <tspan class=\"displacy-tag\" dy=\"2em\" fill=\"currentColor\" x=\"3375\">ADP</tspan>\n",
       "</text>\n",
       "\n",
       "<text class=\"displacy-token\" fill=\"currentColor\" text-anchor=\"middle\" y=\"397.0\">\n",
       "    <tspan class=\"displacy-word\" fill=\"currentColor\" x=\"3550\">file.</tspan>\n",
       "    <tspan class=\"displacy-tag\" dy=\"2em\" fill=\"currentColor\" x=\"3550\">VERB</tspan>\n",
       "</text>\n",
       "\n",
       "<g class=\"displacy-arrow\">\n",
       "    <path class=\"displacy-arc\" id=\"arrow-3d2734fcd32d47b59be1f4229dced684-0-0\" stroke-width=\"2px\" d=\"M70,352.0 C70,264.5 210.0,264.5 210.0,352.0\" fill=\"none\" stroke=\"currentColor\"/>\n",
       "    <text dy=\"1.25em\" style=\"font-size: 0.8em; letter-spacing: 1px\">\n",
       "        <textPath xlink:href=\"#arrow-3d2734fcd32d47b59be1f4229dced684-0-0\" class=\"displacy-label\" startOffset=\"50%\" side=\"left\" fill=\"currentColor\" text-anchor=\"middle\">det</textPath>\n",
       "    </text>\n",
       "    <path class=\"displacy-arrowhead\" d=\"M70,354.0 L62,342.0 78,342.0\" fill=\"currentColor\"/>\n",
       "</g>\n",
       "\n",
       "<g class=\"displacy-arrow\">\n",
       "    <path class=\"displacy-arc\" id=\"arrow-3d2734fcd32d47b59be1f4229dced684-0-1\" stroke-width=\"2px\" d=\"M245,352.0 C245,177.0 565.0,177.0 565.0,352.0\" fill=\"none\" stroke=\"currentColor\"/>\n",
       "    <text dy=\"1.25em\" style=\"font-size: 0.8em; letter-spacing: 1px\">\n",
       "        <textPath xlink:href=\"#arrow-3d2734fcd32d47b59be1f4229dced684-0-1\" class=\"displacy-label\" startOffset=\"50%\" side=\"left\" fill=\"currentColor\" text-anchor=\"middle\">nsubj</textPath>\n",
       "    </text>\n",
       "    <path class=\"displacy-arrowhead\" d=\"M245,354.0 L237,342.0 253,342.0\" fill=\"currentColor\"/>\n",
       "</g>\n",
       "\n",
       "<g class=\"displacy-arrow\">\n",
       "    <path class=\"displacy-arc\" id=\"arrow-3d2734fcd32d47b59be1f4229dced684-0-2\" stroke-width=\"2px\" d=\"M420,352.0 C420,264.5 560.0,264.5 560.0,352.0\" fill=\"none\" stroke=\"currentColor\"/>\n",
       "    <text dy=\"1.25em\" style=\"font-size: 0.8em; letter-spacing: 1px\">\n",
       "        <textPath xlink:href=\"#arrow-3d2734fcd32d47b59be1f4229dced684-0-2\" class=\"displacy-label\" startOffset=\"50%\" side=\"left\" fill=\"currentColor\" text-anchor=\"middle\">aux</textPath>\n",
       "    </text>\n",
       "    <path class=\"displacy-arrowhead\" d=\"M420,354.0 L412,342.0 428,342.0\" fill=\"currentColor\"/>\n",
       "</g>\n",
       "\n",
       "<g class=\"displacy-arrow\">\n",
       "    <path class=\"displacy-arc\" id=\"arrow-3d2734fcd32d47b59be1f4229dced684-0-3\" stroke-width=\"2px\" d=\"M595,352.0 C595,264.5 735.0,264.5 735.0,352.0\" fill=\"none\" stroke=\"currentColor\"/>\n",
       "    <text dy=\"1.25em\" style=\"font-size: 0.8em; letter-spacing: 1px\">\n",
       "        <textPath xlink:href=\"#arrow-3d2734fcd32d47b59be1f4229dced684-0-3\" class=\"displacy-label\" startOffset=\"50%\" side=\"left\" fill=\"currentColor\" text-anchor=\"middle\">prep</textPath>\n",
       "    </text>\n",
       "    <path class=\"displacy-arrowhead\" d=\"M735.0,354.0 L743.0,342.0 727.0,342.0\" fill=\"currentColor\"/>\n",
       "</g>\n",
       "\n",
       "<g class=\"displacy-arrow\">\n",
       "    <path class=\"displacy-arc\" id=\"arrow-3d2734fcd32d47b59be1f4229dced684-0-4\" stroke-width=\"2px\" d=\"M945,352.0 C945,264.5 1085.0,264.5 1085.0,352.0\" fill=\"none\" stroke=\"currentColor\"/>\n",
       "    <text dy=\"1.25em\" style=\"font-size: 0.8em; letter-spacing: 1px\">\n",
       "        <textPath xlink:href=\"#arrow-3d2734fcd32d47b59be1f4229dced684-0-4\" class=\"displacy-label\" startOffset=\"50%\" side=\"left\" fill=\"currentColor\" text-anchor=\"middle\">det</textPath>\n",
       "    </text>\n",
       "    <path class=\"displacy-arrowhead\" d=\"M945,354.0 L937,342.0 953,342.0\" fill=\"currentColor\"/>\n",
       "</g>\n",
       "\n",
       "<g class=\"displacy-arrow\">\n",
       "    <path class=\"displacy-arc\" id=\"arrow-3d2734fcd32d47b59be1f4229dced684-0-5\" stroke-width=\"2px\" d=\"M770,352.0 C770,177.0 1090.0,177.0 1090.0,352.0\" fill=\"none\" stroke=\"currentColor\"/>\n",
       "    <text dy=\"1.25em\" style=\"font-size: 0.8em; letter-spacing: 1px\">\n",
       "        <textPath xlink:href=\"#arrow-3d2734fcd32d47b59be1f4229dced684-0-5\" class=\"displacy-label\" startOffset=\"50%\" side=\"left\" fill=\"currentColor\" text-anchor=\"middle\">pobj</textPath>\n",
       "    </text>\n",
       "    <path class=\"displacy-arrowhead\" d=\"M1090.0,354.0 L1098.0,342.0 1082.0,342.0\" fill=\"currentColor\"/>\n",
       "</g>\n",
       "\n",
       "<g class=\"displacy-arrow\">\n",
       "    <path class=\"displacy-arc\" id=\"arrow-3d2734fcd32d47b59be1f4229dced684-0-6\" stroke-width=\"2px\" d=\"M1120,352.0 C1120,264.5 1260.0,264.5 1260.0,352.0\" fill=\"none\" stroke=\"currentColor\"/>\n",
       "    <text dy=\"1.25em\" style=\"font-size: 0.8em; letter-spacing: 1px\">\n",
       "        <textPath xlink:href=\"#arrow-3d2734fcd32d47b59be1f4229dced684-0-6\" class=\"displacy-label\" startOffset=\"50%\" side=\"left\" fill=\"currentColor\" text-anchor=\"middle\">acl</textPath>\n",
       "    </text>\n",
       "    <path class=\"displacy-arrowhead\" d=\"M1260.0,354.0 L1268.0,342.0 1252.0,342.0\" fill=\"currentColor\"/>\n",
       "</g>\n",
       "\n",
       "<g class=\"displacy-arrow\">\n",
       "    <path class=\"displacy-arc\" id=\"arrow-3d2734fcd32d47b59be1f4229dced684-0-7\" stroke-width=\"2px\" d=\"M1295,352.0 C1295,264.5 1435.0,264.5 1435.0,352.0\" fill=\"none\" stroke=\"currentColor\"/>\n",
       "    <text dy=\"1.25em\" style=\"font-size: 0.8em; letter-spacing: 1px\">\n",
       "        <textPath xlink:href=\"#arrow-3d2734fcd32d47b59be1f4229dced684-0-7\" class=\"displacy-label\" startOffset=\"50%\" side=\"left\" fill=\"currentColor\" text-anchor=\"middle\">prep</textPath>\n",
       "    </text>\n",
       "    <path class=\"displacy-arrowhead\" d=\"M1435.0,354.0 L1443.0,342.0 1427.0,342.0\" fill=\"currentColor\"/>\n",
       "</g>\n",
       "\n",
       "<g class=\"displacy-arrow\">\n",
       "    <path class=\"displacy-arc\" id=\"arrow-3d2734fcd32d47b59be1f4229dced684-0-8\" stroke-width=\"2px\" d=\"M1645,352.0 C1645,264.5 1785.0,264.5 1785.0,352.0\" fill=\"none\" stroke=\"currentColor\"/>\n",
       "    <text dy=\"1.25em\" style=\"font-size: 0.8em; letter-spacing: 1px\">\n",
       "        <textPath xlink:href=\"#arrow-3d2734fcd32d47b59be1f4229dced684-0-8\" class=\"displacy-label\" startOffset=\"50%\" side=\"left\" fill=\"currentColor\" text-anchor=\"middle\">poss</textPath>\n",
       "    </text>\n",
       "    <path class=\"displacy-arrowhead\" d=\"M1645,354.0 L1637,342.0 1653,342.0\" fill=\"currentColor\"/>\n",
       "</g>\n",
       "\n",
       "<g class=\"displacy-arrow\">\n",
       "    <path class=\"displacy-arc\" id=\"arrow-3d2734fcd32d47b59be1f4229dced684-0-9\" stroke-width=\"2px\" d=\"M1470,352.0 C1470,177.0 1790.0,177.0 1790.0,352.0\" fill=\"none\" stroke=\"currentColor\"/>\n",
       "    <text dy=\"1.25em\" style=\"font-size: 0.8em; letter-spacing: 1px\">\n",
       "        <textPath xlink:href=\"#arrow-3d2734fcd32d47b59be1f4229dced684-0-9\" class=\"displacy-label\" startOffset=\"50%\" side=\"left\" fill=\"currentColor\" text-anchor=\"middle\">pobj</textPath>\n",
       "    </text>\n",
       "    <path class=\"displacy-arrowhead\" d=\"M1790.0,354.0 L1798.0,342.0 1782.0,342.0\" fill=\"currentColor\"/>\n",
       "</g>\n",
       "\n",
       "<g class=\"displacy-arrow\">\n",
       "    <path class=\"displacy-arc\" id=\"arrow-3d2734fcd32d47b59be1f4229dced684-0-10\" stroke-width=\"2px\" d=\"M1995,352.0 C1995,264.5 2135.0,264.5 2135.0,352.0\" fill=\"none\" stroke=\"currentColor\"/>\n",
       "    <text dy=\"1.25em\" style=\"font-size: 0.8em; letter-spacing: 1px\">\n",
       "        <textPath xlink:href=\"#arrow-3d2734fcd32d47b59be1f4229dced684-0-10\" class=\"displacy-label\" startOffset=\"50%\" side=\"left\" fill=\"currentColor\" text-anchor=\"middle\">det</textPath>\n",
       "    </text>\n",
       "    <path class=\"displacy-arrowhead\" d=\"M1995,354.0 L1987,342.0 2003,342.0\" fill=\"currentColor\"/>\n",
       "</g>\n",
       "\n",
       "<g class=\"displacy-arrow\">\n",
       "    <path class=\"displacy-arc\" id=\"arrow-3d2734fcd32d47b59be1f4229dced684-0-11\" stroke-width=\"2px\" d=\"M2170,352.0 C2170,2.0 3025.0,2.0 3025.0,352.0\" fill=\"none\" stroke=\"currentColor\"/>\n",
       "    <text dy=\"1.25em\" style=\"font-size: 0.8em; letter-spacing: 1px\">\n",
       "        <textPath xlink:href=\"#arrow-3d2734fcd32d47b59be1f4229dced684-0-11\" class=\"displacy-label\" startOffset=\"50%\" side=\"left\" fill=\"currentColor\" text-anchor=\"middle\">nsubj</textPath>\n",
       "    </text>\n",
       "    <path class=\"displacy-arrowhead\" d=\"M2170,354.0 L2162,342.0 2178,342.0\" fill=\"currentColor\"/>\n",
       "</g>\n",
       "\n",
       "<g class=\"displacy-arrow\">\n",
       "    <path class=\"displacy-arc\" id=\"arrow-3d2734fcd32d47b59be1f4229dced684-0-12\" stroke-width=\"2px\" d=\"M2170,352.0 C2170,264.5 2310.0,264.5 2310.0,352.0\" fill=\"none\" stroke=\"currentColor\"/>\n",
       "    <text dy=\"1.25em\" style=\"font-size: 0.8em; letter-spacing: 1px\">\n",
       "        <textPath xlink:href=\"#arrow-3d2734fcd32d47b59be1f4229dced684-0-12\" class=\"displacy-label\" startOffset=\"50%\" side=\"left\" fill=\"currentColor\" text-anchor=\"middle\">cc</textPath>\n",
       "    </text>\n",
       "    <path class=\"displacy-arrowhead\" d=\"M2310.0,354.0 L2318.0,342.0 2302.0,342.0\" fill=\"currentColor\"/>\n",
       "</g>\n",
       "\n",
       "<g class=\"displacy-arrow\">\n",
       "    <path class=\"displacy-arc\" id=\"arrow-3d2734fcd32d47b59be1f4229dced684-0-13\" stroke-width=\"2px\" d=\"M2520,352.0 C2520,264.5 2660.0,264.5 2660.0,352.0\" fill=\"none\" stroke=\"currentColor\"/>\n",
       "    <text dy=\"1.25em\" style=\"font-size: 0.8em; letter-spacing: 1px\">\n",
       "        <textPath xlink:href=\"#arrow-3d2734fcd32d47b59be1f4229dced684-0-13\" class=\"displacy-label\" startOffset=\"50%\" side=\"left\" fill=\"currentColor\" text-anchor=\"middle\">det</textPath>\n",
       "    </text>\n",
       "    <path class=\"displacy-arrowhead\" d=\"M2520,354.0 L2512,342.0 2528,342.0\" fill=\"currentColor\"/>\n",
       "</g>\n",
       "\n",
       "<g class=\"displacy-arrow\">\n",
       "    <path class=\"displacy-arc\" id=\"arrow-3d2734fcd32d47b59be1f4229dced684-0-14\" stroke-width=\"2px\" d=\"M2170,352.0 C2170,89.5 2670.0,89.5 2670.0,352.0\" fill=\"none\" stroke=\"currentColor\"/>\n",
       "    <text dy=\"1.25em\" style=\"font-size: 0.8em; letter-spacing: 1px\">\n",
       "        <textPath xlink:href=\"#arrow-3d2734fcd32d47b59be1f4229dced684-0-14\" class=\"displacy-label\" startOffset=\"50%\" side=\"left\" fill=\"currentColor\" text-anchor=\"middle\">conj</textPath>\n",
       "    </text>\n",
       "    <path class=\"displacy-arrowhead\" d=\"M2670.0,354.0 L2678.0,342.0 2662.0,342.0\" fill=\"currentColor\"/>\n",
       "</g>\n",
       "\n",
       "<g class=\"displacy-arrow\">\n",
       "    <path class=\"displacy-arc\" id=\"arrow-3d2734fcd32d47b59be1f4229dced684-0-15\" stroke-width=\"2px\" d=\"M2870,352.0 C2870,264.5 3010.0,264.5 3010.0,352.0\" fill=\"none\" stroke=\"currentColor\"/>\n",
       "    <text dy=\"1.25em\" style=\"font-size: 0.8em; letter-spacing: 1px\">\n",
       "        <textPath xlink:href=\"#arrow-3d2734fcd32d47b59be1f4229dced684-0-15\" class=\"displacy-label\" startOffset=\"50%\" side=\"left\" fill=\"currentColor\" text-anchor=\"middle\">aux</textPath>\n",
       "    </text>\n",
       "    <path class=\"displacy-arrowhead\" d=\"M2870,354.0 L2862,342.0 2878,342.0\" fill=\"currentColor\"/>\n",
       "</g>\n",
       "\n",
       "<g class=\"displacy-arrow\">\n",
       "    <path class=\"displacy-arc\" id=\"arrow-3d2734fcd32d47b59be1f4229dced684-0-16\" stroke-width=\"2px\" d=\"M3045,352.0 C3045,264.5 3185.0,264.5 3185.0,352.0\" fill=\"none\" stroke=\"currentColor\"/>\n",
       "    <text dy=\"1.25em\" style=\"font-size: 0.8em; letter-spacing: 1px\">\n",
       "        <textPath xlink:href=\"#arrow-3d2734fcd32d47b59be1f4229dced684-0-16\" class=\"displacy-label\" startOffset=\"50%\" side=\"left\" fill=\"currentColor\" text-anchor=\"middle\">prt</textPath>\n",
       "    </text>\n",
       "    <path class=\"displacy-arrowhead\" d=\"M3185.0,354.0 L3193.0,342.0 3177.0,342.0\" fill=\"currentColor\"/>\n",
       "</g>\n",
       "\n",
       "<g class=\"displacy-arrow\">\n",
       "    <path class=\"displacy-arc\" id=\"arrow-3d2734fcd32d47b59be1f4229dced684-0-17\" stroke-width=\"2px\" d=\"M3395,352.0 C3395,264.5 3535.0,264.5 3535.0,352.0\" fill=\"none\" stroke=\"currentColor\"/>\n",
       "    <text dy=\"1.25em\" style=\"font-size: 0.8em; letter-spacing: 1px\">\n",
       "        <textPath xlink:href=\"#arrow-3d2734fcd32d47b59be1f4229dced684-0-17\" class=\"displacy-label\" startOffset=\"50%\" side=\"left\" fill=\"currentColor\" text-anchor=\"middle\">aux</textPath>\n",
       "    </text>\n",
       "    <path class=\"displacy-arrowhead\" d=\"M3395,354.0 L3387,342.0 3403,342.0\" fill=\"currentColor\"/>\n",
       "</g>\n",
       "\n",
       "<g class=\"displacy-arrow\">\n",
       "    <path class=\"displacy-arc\" id=\"arrow-3d2734fcd32d47b59be1f4229dced684-0-18\" stroke-width=\"2px\" d=\"M3045,352.0 C3045,89.5 3545.0,89.5 3545.0,352.0\" fill=\"none\" stroke=\"currentColor\"/>\n",
       "    <text dy=\"1.25em\" style=\"font-size: 0.8em; letter-spacing: 1px\">\n",
       "        <textPath xlink:href=\"#arrow-3d2734fcd32d47b59be1f4229dced684-0-18\" class=\"displacy-label\" startOffset=\"50%\" side=\"left\" fill=\"currentColor\" text-anchor=\"middle\">advcl</textPath>\n",
       "    </text>\n",
       "    <path class=\"displacy-arrowhead\" d=\"M3545.0,354.0 L3553.0,342.0 3537.0,342.0\" fill=\"currentColor\"/>\n",
       "</g>\n",
       "</svg>"
      ],
      "text/plain": [
       "<IPython.core.display.HTML object>"
      ]
     },
     "metadata": {},
     "output_type": "display_data"
    }
   ],
   "source": [
    "import spacy\n",
    "nlp = spacy.load(\"en_core_web_sm\")\n",
    "doc = nlp(u'A man and a boy are playing computer and sitting on the ground in the office. A woman is presenting a chart and a picture. A boy sits on the chair and laughing at the dog. A boy sits on the chair and laughing. A boy stands laughing. A man and a boy are talking to each other. A girl is talking to his friend. There are some trees and plants and flowers in the park. An alien is standing. There lies a tree. A toy is played by a boy. Lying on the sofa. The boy plays in the park.')\n",
    "# 'he is '\n",
    "# 'mike is'\n",
    "# Invalid case:\n",
    "# doc = nlp(u'A boy sits on the chair and a girl is laughing at the dog.')\n",
    "doc = nlp(u'A man is sitting on a printer looking at his phone. A man and a woman are bending over to file.')\n",
    "for token in doc:\n",
    "    print(\"{2}({3}-{6}, {0}:{1}-{5})\".format(token.text, token.tag_, token.dep_, token.head.text, token.head.tag_, token.i+1, token.head.i+1))\n",
    "spacy.displacy.render(doc, style='dep')"
   ]
  },
  {
   "cell_type": "code",
   "execution_count": 6,
   "metadata": {},
   "outputs": [],
   "source": [
    "import spacy\n",
    "nlp = spacy.load(\"en_core_web_md\")"
   ]
  },
  {
   "cell_type": "code",
   "execution_count": 7,
   "metadata": {},
   "outputs": [
    {
     "data": {
      "text/plain": [
       "0.73550904"
      ]
     },
     "execution_count": 7,
     "metadata": {},
     "output_type": "execute_result"
    }
   ],
   "source": [
    "doc = nlp('good bad')\n",
    "doc[0].similarity(doc[1])"
   ]
  },
  {
   "cell_type": "code",
   "execution_count": 8,
   "metadata": {},
   "outputs": [
    {
     "name": "stdout",
     "output_type": "stream",
     "text": [
      "Query Request: 1 bad - good\n"
     ]
    },
    {
     "data": {
      "text/plain": [
       "0.283"
      ]
     },
     "execution_count": 8,
     "metadata": {},
     "output_type": "execute_result"
    }
   ],
   "source": [
    "from query_relatedness import query_simi\n",
    "query_simi('good','bad')"
   ]
  },
  {
   "cell_type": "code",
   "execution_count": 344,
   "metadata": {},
   "outputs": [],
   "source": [
    "# difficult cases:\n",
    "##  \"a man is sitting next to a desk\": desk should be in surrounding (weak interaction)\n",
    "##  \"a man is watching a picture\": picture should be in surrounding (weak interaction)\n",
    "##  \"a man is walking on a street\": street should be in surrounding\n",
    "### in all cases, the key is that there's no such combinations in the layer base"
   ]
  },
  {
   "cell_type": "code",
   "execution_count": 354,
   "metadata": {},
   "outputs": [],
   "source": [
    "### entity -> coreference(typically same surroundings refers to the same one. But characters refer to different one.) -> infer subjects (in a missing nsubj case) -> infer relations (add it as long as there exists)\n",
    "\n",
    "#### infer implicits:\n",
    "## direct verbs can be a fixed edge\n",
    "## indirect verb can be a variable edge. It can either be replaced or removed"
   ]
  },
  {
   "cell_type": "code",
   "execution_count": 384,
   "metadata": {},
   "outputs": [],
   "source": [
    "# 4 nodes -> 6 edges -> 2^6 possible cases\n",
    "# 2**6\n",
    "# two expensive"
   ]
  },
  {
   "cell_type": "code",
   "execution_count": 385,
   "metadata": {},
   "outputs": [],
   "source": [
    "## then how to partition nodes? all possible ways\n",
    "# a man is talking to a woman -> group(have[man(talk) and woman(talk)]\n",
    "# a man is watching chart -> man | chart (because there's no such combinations in the base)"
   ]
  },
  {
   "cell_type": "code",
   "execution_count": 386,
   "metadata": {},
   "outputs": [
    {
     "data": {
      "text/plain": [
       "[((1,), (2, 3, 1)),\n",
       " ((2,), (1, 3, 1)),\n",
       " ((3,), (1, 2, 1)),\n",
       " ((1,), (1, 2, 3)),\n",
       " ((1, 2), (3, 1)),\n",
       " ((1, 3), (2, 1)),\n",
       " ((1, 1), (2, 3))]"
      ]
     },
     "execution_count": 386,
     "metadata": {},
     "output_type": "execute_result"
    }
   ],
   "source": [
    "from more_itertools import set_partitions\n",
    "list(set_partitions([1,2,3,1], 2))"
   ]
  },
  {
   "cell_type": "code",
   "execution_count": 351,
   "metadata": {},
   "outputs": [],
   "source": [
    "# so this is a global optimization\n",
    "# 4 nodes = 15 partitions\n",
    "# 1 partion = 1~3 * 100 layer comparison"
   ]
  },
  {
   "cell_type": "code",
   "execution_count": null,
   "metadata": {},
   "outputs": [],
   "source": [
    "# infer implicits before or after partition?\n"
   ]
  },
  {
   "cell_type": "code",
   "execution_count": null,
   "metadata": {},
   "outputs": [],
   "source": [
    "# metric: still weighted IOU + verb relatedness"
   ]
  },
  {
   "cell_type": "code",
   "execution_count": null,
   "metadata": {},
   "outputs": [],
   "source": []
  },
  {
   "cell_type": "code",
   "execution_count": 341,
   "metadata": {},
   "outputs": [
    {
     "name": "stdout",
     "output_type": "stream",
     "text": [
      "A man and a boy are playing computer and sitting on the ground in the office. A woman is presenting a chart and a picture. A boy sits on the chair and laughing at the dog. A boy sits on the chair and laughing. A boy stands laughing. A man and a boy are talking to each other. A girl is talking to his friend. There are some trees and plants and flowers in the park. An alien is standing. There lies a tree. A toy is played by a boy. Lying on the sofa. The boy plays in the park.\n",
      "\n",
      "[playing, sitting on, presenting, sits on, laughing at, sits on, laughing, stands, laughing, talking to, talking to, standing, lies, played by, Lying on, plays in]\n",
      "[laughing, stands, laughing, talking to, standing, lies, Lying on] [A man, a boy, computer, the ground, the office, A woman, a chart, a picture, A boy, the chair, the dog, A boy, the chair, A boy, A man, a boy, A girl, his friend, some trees, plants, flowers, the park, An alien, a tree, A toy, a boy, the sofa, The boy, the park]\n"
     ]
    },
    {
     "data": {
      "text/plain": [
       "([(A man, computer, {'verb': playing}),\n",
       "  (A man, computer, {'verb': sitting on}),\n",
       "  (A man, the ground, {'verb': sitting on}),\n",
       "  (A woman, a chart, {'verb': presenting}),\n",
       "  (A boy, the chair, {'verb': sits on}),\n",
       "  (A boy, the dog, {'verb': laughing at}),\n",
       "  (A boy, the chair, {'verb': sits on}),\n",
       "  (A girl, his friend, {'verb': talking to}),\n",
       "  (A toy, a boy, {'verb': played by}),\n",
       "  (The boy, the park, {'verb': plays in}),\n",
       "  (a boy, computer, {'verb': playing}),\n",
       "  (a boy, computer, {'verb': sitting on}),\n",
       "  (a boy, the ground, {'verb': sitting on}),\n",
       "  (A woman, a picture, {'verb': presenting})],\n",
       " [laughing],\n",
       " [(the chair, {'verb': laughing}),\n",
       "  (A boy, {'verb': stands}),\n",
       "  (A man, {'verb': talking to}),\n",
       "  (An alien, {'verb': standing}),\n",
       "  (a tree, {'verb': lies}),\n",
       "  (the sofa, {'verb': Lying on})])"
      ]
     },
     "execution_count": 341,
     "metadata": {},
     "output_type": "execute_result"
    }
   ],
   "source": [
    "from spacy.matcher import Matcher\n",
    "from tools.text_process import SimpleLemmaTokenizer\n",
    "import re\n",
    "\n",
    "# print([(t.text, t.pos_) for t in doc])\n",
    "# tokenizer = SimpleLemmaTokenizer()\n",
    "\n",
    "\n",
    "def get_verb_phrase(doc):\n",
    "    matcher = Matcher(doc.vocab)\n",
    "    pattern = [{\"POS\": \"VERB\"},\n",
    "               {\"POS\": {\"IN\": [\"ADV\",\"ADP\",\"PART\"]}, \"OP\": \"*\"}]\n",
    "    matcher.add(\"Verb Phrase:\", None, pattern)\n",
    "    phrases = []\n",
    "    for _, start, end in matcher(doc):\n",
    "        phrase = doc[start:end]\n",
    "        # remove single stop words such as 'is' 'are'\n",
    "        if len(phrase) == 1:\n",
    "            if phrase[0].is_stop:\n",
    "                continue\n",
    "        \n",
    "        # greedy match\n",
    "        same_roots = [p for p in phrases if p.root == phrase.root]\n",
    "        if same_roots:\n",
    "            assert(len(same_roots) == 1)\n",
    "            p_ = same_roots[0]\n",
    "            if len(p_) < len(phrase):\n",
    "                phrases.remove(p_)\n",
    "                phrases.append(phrase)\n",
    "        else:\n",
    "            phrases.append(phrase)\n",
    "    return phrases       \n",
    "\n",
    "def get_noun_phrase(doc):\n",
    "    return list(doc.noun_chunks)\n",
    "    \n",
    "def is_connect(nop, vp):\n",
    "    for v in vp:\n",
    "        # check if two are directly connected in the dependency tree\n",
    "        if nop.root.head == v or v.head == nop.root:\n",
    "            return nop.root.dep_\n",
    "#   this allow verbs to be reused, move to the end of the pipeline\n",
    "#     for c in np.conjuncts:\n",
    "#         if c.head == v:\n",
    "#             return c.dep_[1:]\n",
    "    for v in vp.conjuncts:\n",
    "        if nop.root.head == v or v.head == nop.root:\n",
    "            return nop.root.dep_\n",
    "    return None\n",
    "\n",
    "def to_subj_or_obj(dep, n, v):\n",
    "    if not dep: return None\n",
    "    if re.match(r'\\D*subj\\D*', dep): return 'subj'\n",
    "    if re.match(r'\\D*obj\\D*', dep): return 'obj'\n",
    "    raise ValueError('Unexpected dependency tag! %s' % dep, n, v)\n",
    "    \n",
    "def is_SVO(n1, n2, v):\n",
    "    \"\"\"\n",
    "    determine the connection is valid in a subj-verb-obj form\n",
    "        two subjects or two objs are invalid.\n",
    "            ! E.g. a man and a boy are playing computer.\n",
    "                \"man\" and \"boy\" are not connected.\n",
    "    \"\"\"\n",
    "    conns = [to_subj_or_obj(is_connect(n1, v), n1, v),\n",
    "             to_subj_or_obj(is_connect(n2, v), n2, v)]\n",
    "    conns = [c for c in conns if c]\n",
    "    # only if subj and obj occur together, SVO stands\n",
    "    if len(set(conns)) == 2:\n",
    "    # if len(conns) == 2:\n",
    "        return True\n",
    "    return False\n",
    "\n",
    "def conjunts_expand(conns, nps):\n",
    "    \"\"\"\n",
    "    The conjunctions of nouns share the same verbs and objects\n",
    "    E.g. \"A man and a boy are playing computer.\"\n",
    "        boy will be conjuncted to man\n",
    "    To-do: inherit dep_ tag\n",
    "    \"\"\"\n",
    "    conns_c = []\n",
    "    for n1, n2, dic in conns:\n",
    "        for c in n1.conjuncts:\n",
    "            for n_ in nps:\n",
    "                if c in n_:\n",
    "                    conns_c.append((n_, n2, dic))\n",
    "        for c in n2.conjuncts:\n",
    "            for n_ in nps:\n",
    "                if c in n_:\n",
    "                    conns_c.append((n1, n_, dic))\n",
    "    conns.extend(conns_c)\n",
    "    return conns\n",
    "            \n",
    "def get_edges(nouns, verbs):\n",
    "    \"\"\"\n",
    "    if passive, needs to rectify the order\n",
    "    \"\"\"\n",
    "    connections = []\n",
    "    # nouns_ = nouns.copy()\n",
    "    _verbs = []\n",
    "    for n1, n2 in itertools.combinations(nouns, 2):\n",
    "        for v in verbs:\n",
    "            if is_SVO(n1, n2, v):\n",
    "                connections.append((n1, n2, {'verb': v}))\n",
    "                _verbs.append(v)\n",
    "                # if n1 in nouns_: nouns_.remove(n1)\n",
    "                # if n2 in nouns_: nouns_.remove(n2)\n",
    "    conjunts_expand(connections, nouns)\n",
    "    return connections, [v for v in verbs if v not in _verbs] #, nouns_\n",
    "\n",
    "def append_verbs(verbs, nouns):\n",
    "    \"\"\"\n",
    "    absorb verbs with no subject or object\n",
    "    to-do: fill in missing subjects or objects using knowledge\n",
    "    \"\"\"\n",
    "    print(verbs, nouns)\n",
    "    noun_comps = []\n",
    "    _verbs = []\n",
    "    for v in verbs:\n",
    "        for n in nouns:\n",
    "            # if n.root.text == 'alien': print(n,v)\n",
    "            # print(v)\n",
    "            if is_connect(n, v):\n",
    "            # if n.root in v.root.children:\n",
    "                # print(n,v)\n",
    "                noun_comps.append((n, {'verb': v}))\n",
    "                _verbs.append(v)\n",
    "    return noun_comps, [v for v in verbs if v not in _verbs]\n",
    "                \n",
    "\n",
    "print(doc)\n",
    "print()\n",
    "print(get_verb_phrase(doc))\n",
    "nouns = get_noun_phrase(doc)\n",
    "# edges, verbs, nouns_ = get_edges(get_noun_phrase(doc), get_verb_phrase(doc))\n",
    "edges, verbs = get_edges(get_noun_phrase(doc), get_verb_phrase(doc))\n",
    "# print(verbs)\n",
    "noun_comps, verbs = append_verbs(verbs, get_noun_phrase(doc))\n",
    "edges, verbs, noun_comps\n"
   ]
  },
  {
   "cell_type": "code",
   "execution_count": 332,
   "metadata": {},
   "outputs": [
    {
     "name": "stdout",
     "output_type": "stream",
     "text": [
      "(A man, 'nsubj') (computer, 'dobj')\n",
      "(A man, 'nsubj') (computer, 'dobj')\n",
      "(A man, 'nsubj') (the ground, 'pobj')\n",
      "(A woman, 'nsubj') (a chart, 'dobj')\n",
      "(A boy, 'nsubj') (the chair, 'pobj')\n",
      "(A boy, 'nsubj') (the dog, 'pobj')\n",
      "(A boy, 'nsubj') (the chair, 'pobj')\n",
      "(A girl, 'nsubj') (his friend, 'pobj')\n",
      "(A toy, 'nsubjpass') (a boy, 'pobj')\n",
      "(a boy, 'conj') (computer, 'dobj')\n",
      "(a boy, 'conj') (computer, 'dobj')\n",
      "(a boy, 'conj') (the ground, 'pobj')\n",
      "(A woman, 'nsubj') (a picture, 'conj')\n"
     ]
    }
   ],
   "source": [
    "for n1, n2, v in edges:\n",
    "    print((n1, n1.root.dep_), (n2, n2.root.dep_))"
   ]
  },
  {
   "cell_type": "code",
   "execution_count": 342,
   "metadata": {},
   "outputs": [
    {
     "data": {
      "text/plain": [
       "'n'"
      ]
     },
     "execution_count": 342,
     "metadata": {},
     "output_type": "execute_result"
    }
   ],
   "source": [
    "# we could modify the dep_ tags\n",
    "## so: if passive, reverse the order and give correct tag\n",
    "##     if conj, inherit the tag from its parent\n",
    "## knowledge:\n",
    "##     fill in missing ends\n",
    "##     assign subject object tag according to the knowledge, in this way we don't need to modify dep_ tags\n",
    "doc[0].dep_ = 'n'\n",
    "doc[0].dep_"
   ]
  },
  {
   "cell_type": "code",
   "execution_count": 322,
   "metadata": {},
   "outputs": [
    {
     "name": "stdout",
     "output_type": "stream",
     "text": [
      "A boy sits on the chair and laughing.\n",
      "A boy stands laughing.\n"
     ]
    }
   ],
   "source": [
    "# erroneous conj between chair and laughing\n",
    "print(noun_comps[0][0].root.sent)\n",
    "# xcomp\n",
    "print(verbs[0].sent)"
   ]
  },
  {
   "cell_type": "code",
   "execution_count": 229,
   "metadata": {},
   "outputs": [],
   "source": [
    "# still needs coreference resolution\n",
    "# senior subjects take all the objects\n",
    "# but rest subjects still got the verb"
   ]
  },
  {
   "cell_type": "code",
   "execution_count": 328,
   "metadata": {
    "scrolled": true
   },
   "outputs": [
    {
     "name": "stdout",
     "output_type": "stream",
     "text": [
      "[A man, a boy, computer, the ground, the office, A woman, a chart, a picture, A boy, the chair, the dog, A boy, the chair, A boy, A man, a boy, A girl, his friend, some trees, plants, flowers, the park, An alien, a tree, A toy, a boy, the sofa]\n"
     ]
    }
   ],
   "source": [
    "print(nouns)"
   ]
  },
  {
   "cell_type": "code",
   "execution_count": 330,
   "metadata": {},
   "outputs": [
    {
     "data": {
      "text/plain": [
       "NodeView((A man, a boy, computer, the ground, the office, A woman, a chart, a picture, A boy, the chair, the dog, A boy, the chair, A boy, A man, a boy, A girl, his friend, some trees, plants, flowers, the park, An alien, a tree, A toy, a boy, the sofa))"
      ]
     },
     "execution_count": 330,
     "metadata": {},
     "output_type": "execute_result"
    },
    {
     "data": {
      "image/png": "[encoded data removed]",
      "text/plain": [
       "<Figure size 432x288 with 1 Axes>"
      ]
     },
     "metadata": {},
     "output_type": "display_data"
    }
   ],
   "source": [
    "import networkx as nx\n",
    "G = nx.Graph()\n",
    "G.add_nodes_from(nouns)\n",
    "G.add_nodes_from(noun_comps)\n",
    "G.add_edges_from(edges)\n",
    "pos = nx.spring_layout(G)\n",
    "# nx.draw_networkx_nodes(G, pos=pos, node_size=50)\n",
    "# nx.draw_networkx_labels(G, pos=pos)\n",
    "# nx.draw_networkx_edges(G, pos=pos, edge_color='k', width=1)\n",
    "nx.draw(G, with_labels=True, font_weight='bold', node_size=50)\n",
    "edge_labels = nx.get_edge_attributes(G,'verb')\n",
    "# nx.draw_networkx_edge_labels(G, pos=pos, edge_labels=edge_labels)\n",
    "G.nodes()"
   ]
  },
  {
   "cell_type": "code",
   "execution_count": 188,
   "metadata": {},
   "outputs": [
    {
     "data": {
      "text/plain": [
       "EdgeView([(A man, computer), (A man, the ground), (a boy, computer), (a boy, the ground), (A woman, a chart), (A woman, a picture), (A girl, the chair), (A man, the sofa)])"
      ]
     },
     "execution_count": 188,
     "metadata": {},
     "output_type": "execute_result"
    }
   ],
   "source": [
    "G.edges"
   ]
  },
  {
   "cell_type": "code",
   "execution_count": 67,
   "metadata": {},
   "outputs": [
    {
     "name": "stdout",
     "output_type": "stream",
     "text": [
      "1 2 {'a': 1}\n"
     ]
    }
   ],
   "source": [
    "a,b,c = (1,2,{'a':1})\n",
    "print(a,b,c)"
   ]
  },
  {
   "cell_type": "code",
   "execution_count": 3,
   "metadata": {},
   "outputs": [
    {
     "data": {
      "text/plain": [
       "1.0"
      ]
     },
     "execution_count": 3,
     "metadata": {},
     "output_type": "execute_result"
    }
   ],
   "source": [
    "from models.pipeline import Translate\n",
    "from tools.containers import Node\n",
    "translate = Translate()\n",
    "translate.entity_simi([Node('man','subj'),Node('woman','subj')],[Node('woman','subj'),Node('man','subj')])\n",
    "# translate.entity_simi([Node('man','subj'),Node('woman','subj')],[Node('woman','subj')])"
   ]
  },
  {
   "cell_type": "code",
   "execution_count": 23,
   "metadata": {},
   "outputs": [
    {
     "data": {
      "text/plain": [
       "0.8"
      ]
     },
     "execution_count": 23,
     "metadata": {},
     "output_type": "execute_result"
    }
   ],
   "source": [
    "set1 = [Node('man','subj'),Node('woman','subj'), Node('woman','subj')]\n",
    "set2 = [Node('man','subj'),Node('woman','subj')]\n",
    "len([n for n in set2 if n in set1])/(len(set1)+len(set2))*2"
   ]
  },
  {
   "cell_type": "code",
   "execution_count": 85,
   "metadata": {},
   "outputs": [
    {
     "data": {
      "text/plain": [
       "0.429"
      ]
     },
     "execution_count": 85,
     "metadata": {},
     "output_type": "execute_result"
    }
   ],
   "source": [
    "# mis-spelled words\n",
    "from query_relatedness import query_simi\n",
    "query_simi('pohone','phone')\n",
    "query_simi('lie_on','lie')"
   ]
  },
  {
   "cell_type": "code",
   "execution_count": 27,
   "metadata": {},
   "outputs": [
    {
     "data": {
      "text/plain": [
       "[]"
      ]
     },
     "execution_count": 27,
     "metadata": {},
     "output_type": "execute_result"
    }
   ],
   "source": [
    "a = ['man','man']\n",
    "a.remove('man')\n",
    "a.pop()\n",
    "a"
   ]
  },
  {
   "cell_type": "code",
   "execution_count": 14,
   "metadata": {},
   "outputs": [],
   "source": [
    "# similarity measure has serious problem!\n",
    "# should use IOU instead. Since all keywords has already bound"
   ]
  },
  {
   "cell_type": "code",
   "execution_count": 3,
   "metadata": {},
   "outputs": [
    {
     "name": "stdout",
     "output_type": "stream",
     "text": [
      " - [images/product_teardown.svg]]g]\r"
     ]
    }
   ],
   "source": [
    "# from rules.labels import subjects\n",
    "from tools.knowledge import LayerBase, TextBase\n",
    "layerbase = LayerBase()\n",
    "# prs_subjects = set([subj for subj in layerbase.entities_['subj'] if subj in subjects['character']])\n",
    "# prs_subjects"
   ]
  },
  {
   "cell_type": "code",
   "execution_count": 2,
   "metadata": {
    "scrolled": true
   },
   "outputs": [
    {
     "data": {
      "text/plain": [
       "[(#accessory, 'images/Game_day.svg'),\n",
       " (#accessory(book), 'images/podcast.svg'),\n",
       " (#accessory(have[circle,square]), 'images/portfolio_update.svg'),\n",
       " (#accessory(have[diamond,plant]), 'images/problem_solving.svg'),\n",
       " (#accessory(have[dot]), 'images/product_hunt.svg'),\n",
       " (#accessory(have[guardrail]), 'images/queue.svg'),\n",
       " (#accessory(have[leaf,plant]), 'images/word_of_mouth.svg'),\n",
       " (#accessory(have[leaf,rock]), 'images/product_teardown.svg'),\n",
       " (#accessory(have[leaf]), 'images/to_do_list.svg'),\n",
       " (#accessory(have[plant]), 'images/weather.svg'),\n",
       " (#accessory(have[sign,leaf]), 'images/questions.svg'),\n",
       " (#accessory(have[tree]), 'images/projections.svg'),\n",
       " (#alien(have[robot],stand), 'images/Firmware.svg'),\n",
       " (#alien(have[snowman]), 'images/Frozen.svg'),\n",
       " (#background, 'images/weather.svg'),\n",
       " (#chart(have[computer]), 'images/posting_photo.svg'),\n",
       " (#chart(have[diagram,arrow]), 'images/process.svg'),\n",
       " (#chart(have[folder,paper]), 'images/Folder.svg'),\n",
       " (#chart(have[list,paper]), 'images/to_do_list.svg'),\n",
       " (#chart(have[list]), 'images/Following.svg'),\n",
       " (#chart(have[message,leaf]), 'images/popular.svg'),\n",
       " (#chart(have[money,arrow]), 'images/transfer_money.svg'),\n",
       " (#chart(have[pad]), 'images/posting_photo.svg'),\n",
       " (#chart(have[paper,arrow]), 'images/timeline.svg'),\n",
       " (#chart(have[paper]), 'images/user_flow.svg'),\n",
       " (#chart(have[phone]), 'images/posting_photo.svg'),\n",
       " (#chart(have[sketch]), 'images/problem_solving.svg'),\n",
       " (#group(have[man(drink[beer],sit,raise[arm]),man(sit,raise[arm],eat[chips])]),\n",
       "  'images/Game_day.svg'),\n",
       " (#group(have[man(sit,hold),woman(lie,talk)]), 'images/Forever.svg'),\n",
       " (#group(have[woman(hug),man(hug)]), 'images/wedding.svg'),\n",
       " (#group(have[woman(hug),man(lift)]), 'images/play_time.svg'),\n",
       " (#group(have[woman(stand),man(stand)]), 'images/together.svg'),\n",
       " (#group(have[woman(stand,hold[balloon]),man(sit)]), 'images/pure_love.svg'),\n",
       " (#group(have[woman(stand,hold[card]),woman(stand),woman(stand,hold[card]),woman(stand,hold[card])]),\n",
       "  'images/women_day.svg'),\n",
       " (#group(have[woman(stand,point),man(stand)]), 'images/product_tour.svg'),\n",
       " (#group(have[woman(talk),man(listen)]), 'images/word_of_mouth.svg'),\n",
       " (#home(have[bonsai,cocktail]), 'images/powerful.svg'),\n",
       " (#home(have[bookcase,apple,wall_clock]), 'images/Freelancer.svg'),\n",
       " (#home(have[house,sun,tree]), 'images/For_sale.svg'),\n",
       " (#home(have[sofa,toy,chips]), 'images/Game_day.svg'),\n",
       " (#home(have[sofa]), 'images/pizza_sharing.svg'),\n",
       " (#man(collect[data]), 'images/visual_data.svg'),\n",
       " (#man(exercise,step_on[stone]), 'images/Firmware.svg'),\n",
       " (#man(fishing,stand,hold[fishing_rod]), 'images/Fishing.svg'),\n",
       " (#man(hold[cube],walk), 'images/Forming_ideas.svg'),\n",
       " (#man(jump), 'images/winners.svg'),\n",
       " (#man(lie_on[sofa],watch[movie]), 'images/virtual_reality.svg'),\n",
       " (#man(lie_on[stone],talk), 'images/Friendship.svg'),\n",
       " (#man(lift), 'images/printing_invoices.svg'),\n",
       " (#man(run), 'images/working_out.svg'),\n",
       " (#man(sit), 'images/wandering_mind.svg'),\n",
       " (#man(sit,hold[phone]), 'images/printing_invoices.svg'),\n",
       " (#man(sit,play[computer]), 'images/web_developer.svg'),\n",
       " (#man(sit,talk), 'images/Friendship.svg'),\n",
       " (#man(sit_on[chair],have[desk]), 'images/voice_control.svg'),\n",
       " (#man(sit_on[chair],watch[computer]), 'images/programming.svg'),\n",
       " (#man(sit_on[wheel_chair],hold[pohone]), 'images/podcast_audience.svg'),\n",
       " (#man(squat,play_with[toy]), 'images/toy_car.svg'),\n",
       " (#man(stand), 'images/queue.svg'),\n",
       " (#man(stand,carry[bag]), 'images/true_friends.svg'),\n",
       " (#man(stand,hold[phone]), 'images/queue.svg'),\n",
       " (#man(stand,hold[puzzle]), 'images/product_teardown.svg'),\n",
       " (#man(stand,point_to), 'images/weather.svg'),\n",
       " (#man(stand,pull[street_lamp]), 'images/young_and_happy.svg'),\n",
       " (#man(stand,put_up), 'images/work_chat.svg'),\n",
       " (#man(stand,show), 'images/projections.svg'),\n",
       " (#man(stand,walk), 'images/profile.svg'),\n",
       " (#man(think), 'images/Forgot_password.svg'),\n",
       " (#man(touch,stand), 'images/Gaming.svg'),\n",
       " (#man(walk,hold[paper]), 'images/timeline.svg'),\n",
       " (#man(walk,hold[phone]), 'images/problem_solving.svg'),\n",
       " (#man(work,play[computer],sit), 'images/Firmware.svg'),\n",
       " (#office(have[draw,plant,cloth,hanger]), 'images/winter_designer.svg'),\n",
       " (#office(have[pad,plant,table]), 'images/press_play.svg'),\n",
       " (#office(have[phone]), 'images/Fitness_tracker.svg'),\n",
       " (#other(have[blackboard]), 'images/professor.svg'),\n",
       " (#other(have[board,plant]), 'images/product_tour.svg'),\n",
       " (#other(have[bulletin]), 'images/weather.svg'),\n",
       " (#other(have[camera]), 'images/videographer.svg'),\n",
       " (#other(have[circle,message]), 'images/work_chat.svg'),\n",
       " (#other(have[computer,plant,leaf]), 'images/wireframing.svg'),\n",
       " (#other(have[dot,cup]), 'images/product_hunt.svg'),\n",
       " (#other(have[drone]), 'images/Follow_me_drone.svg'),\n",
       " (#other(have[gamepad]), 'images/Gaming.svg'),\n",
       " (#other(have[leaf,plant,firework]), 'images/wedding.svg'),\n",
       " (#other(have[pad,leaf,drawin_board]), 'images/prototyping_process.svg'),\n",
       " (#other(have[pad,leaf]), 'images/podcast_audience.svg'),\n",
       " (#other(have[plant,circle]), 'images/wandering_mind.svg'),\n",
       " (#other(have[printer]), 'images/printing_invoices.svg'),\n",
       " (#other(have[star,sky]), 'images/women_day.svg'),\n",
       " (#other(have[sun,cloud]), 'images/weather_app.svg'),\n",
       " (#other(have[tree,brick]), 'images/toy_car.svg'),\n",
       " (#other(have[tree,message]), 'images/texting.svg'),\n",
       " (#other(have[tree,people]), 'images/working_remotely.svg'),\n",
       " (#other(have[triangle,circle,square,tree]), 'images/Forming_ideas.svg'),\n",
       " (#other(have[trophy]), 'images/winners.svg'),\n",
       " (#other(have[webpage]), 'images/web_developer.svg'),\n",
       " (#other(have[website,plant]), 'images/wall_post.svg'),\n",
       " (#other(have[website]), 'images/web_development.svg'),\n",
       " (#other(have[windmill]), 'images/wind_turbine.svg'),\n",
       " (#other(have[window,clothes]), 'images/window_shopping.svg'),\n",
       " (#other(have[window,plant,building]), 'images/working_late.svg'),\n",
       " (#park(have[cloud,tree,hill]), 'images/together.svg'),\n",
       " (#park(have[plant]), 'images/voice_interface.svg'),\n",
       " (#website(have[webpage]), 'images/portfolio_update.svg'),\n",
       " (#wild(have[balloon]), 'images/viral_tweet.svg'),\n",
       " (#wild(have[boat]), 'images/Fishing.svg'),\n",
       " (#wild(have[chair,leaf]), 'images/pure_love.svg'),\n",
       " (#wild(have[firework,plant]), 'images/Fireworks.svg'),\n",
       " (#wild(have[fish,plant,water,fish_tank,cloud]), 'images/Fish_bowl.svg'),\n",
       " (#wild(have[grass]), 'images/working_out.svg'),\n",
       " (#wild(have[guideboard,plant]), 'images/walking_around.svg'),\n",
       " (#wild(have[hill,cloud]), 'images/viral_tweet.svg'),\n",
       " (#wild(have[lake,hill,cloud]), 'images/Fishing.svg'),\n",
       " (#wild(have[leaf,cloud]), 'images/play_time.svg'),\n",
       " (#wild(have[leaf,hole]), 'images/throw_down.svg'),\n",
       " (#wild(have[leaf,sun,ground]), 'images/team_work.svg'),\n",
       " (#wild(have[leaf]), 'images/web_development.svg'),\n",
       " (#wild(have[plant,beach,sun]), 'images/Forever.svg'),\n",
       " (#wild(have[plant,wind]), 'images/Fitness_tracker.svg'),\n",
       " (#wild(have[plant]), 'images/Gaming.svg'),\n",
       " (#wild(have[rock,plant]), 'images/usability_testing.svg'),\n",
       " (#wild(have[rock,sign]), 'images/warning_cyit.svg'),\n",
       " (#wild(have[sunflower]), 'images/Gardening.svg'),\n",
       " (#wild(have[tree,plant]), 'images/Focus.svg'),\n",
       " (#wild(have[tree,sign,sun]), 'images/road_sign.svg'),\n",
       " (#wild(have[tree]), 'images/posting_photo.svg'),\n",
       " (#woman(bend,write), 'images/to_do_list.svg'),\n",
       " (#woman(exercise,run_over[hurdle]), 'images/track_and_field.svg'),\n",
       " (#woman(hold[lantern]), 'images/wishes.svg'),\n",
       " (#woman(hold[pen],point_to), 'images/user_flow.svg'),\n",
       " (#woman(hold[phone],take[selfie]), 'images/taking_selfie.svg'),\n",
       " (#woman(jump), 'images/winners.svg'),\n",
       " (#woman(lean,play_with[toy]), 'images/teddy_bear.svg'),\n",
       " (#woman(lift), 'images/printing_invoices.svg'),\n",
       " (#woman(listen[music]), 'images/podcast.svg'),\n",
       " (#woman(play[computer],work,sit), 'images/Freelancer.svg'),\n",
       " (#woman(point_to,show,stand), 'images/Fireworks.svg'),\n",
       " (#woman(sit), 'images/weather_app.svg'),\n",
       " (#woman(sit,hold[flower]), 'images/Flowers.svg'),\n",
       " (#woman(sit,hold[phone]), 'images/viral_tweet.svg'),\n",
       " (#woman(sit,hold[phone],watch[computer]), 'images/working_remotely.svg'),\n",
       " (#woman(sit,hold[pizza]), 'images/pizza_sharing.svg'),\n",
       " (#woman(sit,play[computer]), 'images/transfer_money.svg'),\n",
       " (#woman(sit,play_with[computer]), 'images/working_late.svg'),\n",
       " (#woman(sit,take[pictures]), 'images/Focus.svg'),\n",
       " (#woman(sit,watch,play[computer]), 'images/web_development.svg'),\n",
       " (#woman(sit_on[bag]), 'images/travel_booking.svg'),\n",
       " (#woman(sit_on[chair]), 'images/winter_designer.svg'),\n",
       " (#woman(sit_on[chair],point), 'images/press_play.svg'),\n",
       " (#woman(sit_on[chair],watch[computer]), 'images/programmer.svg'),\n",
       " (#woman(sit_on[shelf],hold[ball]), 'images/throw_down.svg'),\n",
       " (#woman(sport,run), 'images/Fitness_tracker.svg'),\n",
       " (#woman(stand), 'images/queue.svg'),\n",
       " (#woman(stand,hold[apple],carry[bag]), 'images/true_friends.svg'),\n",
       " (#woman(stand,hold[computer]), 'images/posting_photo.svg'),\n",
       " (#woman(stand,hold[dumbbell]), 'images/working_out.svg'),\n",
       " (#woman(stand,hold[flag]), 'images/warning_cyit.svg'),\n",
       " (#woman(stand,hold[pen]), 'images/prototyping_process.svg'),\n",
       " (#woman(stand,hold[pencil]), 'images/wall_post.svg'),\n",
       " (#woman(stand,hold[phone]), 'images/texting.svg'),\n",
       " (#woman(stand,hold[sign]), 'images/questions.svg'),\n",
       " (#woman(stand,present), 'images/Following.svg'),\n",
       " (#woman(stand,talk), 'images/Fireworks.svg'),\n",
       " (#woman(stand,watch), 'images/window_shopping.svg'),\n",
       " (#woman(touch,stand,back_on), 'images/Gardening.svg'),\n",
       " (#woman(walk), 'images/queue.svg'),\n",
       " (#woman(walk,play[phone]), 'images/Fish_bowl.svg'),\n",
       " (#woman(walk,watch), 'images/wind_turbine.svg'),\n",
       " (#woman(walk,watch,hold[phone]), 'images/wordpress.svg'),\n",
       " (#woman(watch,have[head_shot]), 'images/Follow_me_drone.svg')]"
      ]
     },
     "execution_count": 2,
     "metadata": {},
     "output_type": "execute_result"
    }
   ],
   "source": [
    "sorted([(layer, layer.src) for layer in layerbase.layer_vocab_])"
   ]
  },
  {
   "cell_type": "code",
   "execution_count": 7,
   "metadata": {},
   "outputs": [],
   "source": [
    "# similairties between subjects: the largest common subset\n",
    "#     E.g. 1. text: man man and base: man woman\n",
    "#              man - man: 1 + man - woman: 0.5\n",
    "#          2. TEXT: man man and BASE: man\n",
    "#              man - man: 1\n",
    "#              so choose man and woman\n"
   ]
  },
  {
   "cell_type": "code",
   "execution_count": 14,
   "metadata": {},
   "outputs": [
    {
     "ename": "NameError",
     "evalue": "name 'Translate' is not defined",
     "output_type": "error",
     "traceback": [
      "\u001b[0;31m---------------------------------------------------------------------------\u001b[0m",
      "\u001b[0;31mNameError\u001b[0m                                 Traceback (most recent call last)",
      "\u001b[0;32m<ipython-input-14-bcb7ca78ddf9>\u001b[0m in \u001b[0;36m<module>\u001b[0;34m\u001b[0m\n\u001b[0;32m----> 1\u001b[0;31m \u001b[0mtranslate\u001b[0m \u001b[0;34m=\u001b[0m \u001b[0mTranslate\u001b[0m\u001b[0;34m(\u001b[0m\u001b[0;34m)\u001b[0m\u001b[0;34m\u001b[0m\u001b[0;34m\u001b[0m\u001b[0m\n\u001b[0m\u001b[1;32m      2\u001b[0m \u001b[0mtranslate\u001b[0m\u001b[0;34m(\u001b[0m\u001b[0;34m'gaming'\u001b[0m\u001b[0;34m)\u001b[0m\u001b[0;34m[\u001b[0m\u001b[0;36m0\u001b[0m\u001b[0;34m]\u001b[0m\u001b[0;34m.\u001b[0m\u001b[0mlayername\u001b[0m\u001b[0;34m\u001b[0m\u001b[0;34m\u001b[0m\u001b[0m\n",
      "\u001b[0;31mNameError\u001b[0m: name 'Translate' is not defined"
     ]
    }
   ],
   "source": [
    "translate = Translate()\n",
    "translate('gaming')[0].layername"
   ]
  },
  {
   "cell_type": "code",
   "execution_count": 1,
   "metadata": {},
   "outputs": [
    {
     "name": "stdout",
     "output_type": "stream",
     "text": [
      "- 1\r"
     ]
    }
   ],
   "source": [
    "from tools.common import wait\n",
    "wait(1)"
   ]
  },
  {
   "cell_type": "code",
   "execution_count": 5,
   "metadata": {
    "scrolled": true
   },
   "outputs": [
    {
     "name": "stdout",
     "output_type": "stream",
     "text": [
      "0\n",
      "1 1\n",
      "2 1\n",
      "3 1\n",
      "4 1\n",
      "5 1\n",
      "6 1\n",
      "7 1\n",
      "8 1\n",
      "9 1\n",
      "101\n",
      "111\n",
      "121\n",
      "131\n",
      "141\n",
      "151\n",
      "161\n",
      "171\n",
      "181\n",
      "191\n",
      "- 1\r"
     ]
    }
   ],
   "source": [
    "class Test:\n",
    "    def __init__(self):\n",
    "        self.exit = False\n",
    "    \n",
    "    def __call__(self):\n",
    "        for i in range(20):\n",
    "            if not self.exit:\n",
    "                print(i)\n",
    "                wait(1)\n",
    "                \n",
    "test = Test()\n",
    "test()"
   ]
  },
  {
   "cell_type": "code",
   "execution_count": 6,
   "metadata": {},
   "outputs": [],
   "source": [
    "test.exit = True"
   ]
  },
  {
   "cell_type": "code",
   "execution_count": 32,
   "metadata": {},
   "outputs": [],
   "source": [
    "# two men\n",
    "# freelancer: use computer shoud be play computer; each action must bound, if not, skip\n",
    "# Fitness_tracker: -> play: phone -> phone, but should phone -> other, this is dependent on how strict when bind\n",
    "# videographer: ->hold: {camera->phone} but should other: camera. Somehow don't fix the priority but use the similarity to select between all methods (syntactical, free-ground, subject-specified ground, action-specified ground)\n",
    "# Firmware: raise: {robot->arm} but should alien -> robot. Use similarity to select methods"
   ]
  },
  {
   "cell_type": "code",
   "execution_count": 34,
   "metadata": {},
   "outputs": [],
   "source": [
    "# really needs to set threshold, let's take maximum anyway"
   ]
  },
  {
   "cell_type": "code",
   "execution_count": 33,
   "metadata": {
    "scrolled": true
   },
   "outputs": [
    {
     "name": "stdout",
     "output_type": "stream",
     "text": [
      " -------------------------- \n",
      "road_sign\n",
      "(#wild(have[tree,sign,sun]), #man(stand))\n",
      "A man is standing in front of trees and signs.\n",
      "[man, standing, trees, signs]\n",
      "({man->man: {stand->stand: set()}}, {->wild: {->have: {sign->sign, tree->tree}}})\n",
      " -------------------------- \n",
      "to_do_list\n",
      "(#background, #accessory(have[leaf]), #accessory(have[leaf]), #chart(have[list,paper]), #woman(bend,write))\n",
      "A woman is writing paper with a pen.\n",
      "[woman, writing, paper, pen]\n",
      "({woman->woman: {write->write: {paper->pencil}, ->hold: {pen->pencil}}},)\n",
      " -------------------------- \n",
      "Gaming\n",
      "(#background, #wild(have[plant]), #other(have[gamepad]), #man(touch,stand))\n",
      "A man touches a gamepad.\n",
      "[man, touches, gamepad]\n",
      "({man->man: {touch->touch: set()}}, {->other: {->have: {gamepad->gamepad}}})\n",
      " -------------------------- \n",
      "Fishing\n",
      "(#background, #wild(have[lake,hill,cloud]), #wild(have[boat]), #man(fishing,stand,hold[fishing_rod]))\n",
      "A man is fishing on the lake.\n",
      "[man, fishing, lake]\n",
      "({man->man: {fish->fishing: set(), ->hold: {lake->fishing_rod}}},)\n",
      " -------------------------- \n",
      "Game_day\n",
      "(#background, #accessory, #home(have[sofa,toy,chips]), #group(have[man1(drink[beer],sit,raise[arm]),man2(sit,raise[arm],eat[chips])]))\n",
      "Two man sat on the sofa celebrating a game.\n",
      "[man, sat, sofa, celebrating, game]\n",
      "({man->man: {sit->sit: set(), celebrate->drink: set()}}, {->home: {->have: {sofa->sofa}}}, {->other: {->have: {game->gamepad}}})\n",
      " -------------------------- \n",
      "Freelancer\n",
      "(#background, #home(have[bookcase,apple,wall_clock]), #woman(play[computer],work,sit))\n",
      "A woman sit in the room and uses her computer.\n",
      "[woman, sit, room, uses, computer]\n",
      "({woman->woman: {sit->sit: set(), use->have: {computer->computer}}}, {->home: {->have: {room->house}}})\n",
      " -------------------------- \n",
      "weather\n",
      "(#background, #accessory(have[plant]), #other(have[bulletin]), #man(stand,point_to))\n",
      "A man is standing to give the weather report.\n",
      "[man, standing, weather, report]\n",
      "({man->man: {stand->stand: set(), ->collect: {report->data}}}, {->wild: {->have: {weather->wind}}})\n",
      " -------------------------- \n",
      "wandering_mind\n",
      "(#background, #other(have[plant,circle]), #man(sit))\n",
      "A man is sitting to rest.\n",
      "[man, sitting, rest]\n",
      "({man->man: {sit->sit: set(), rest->lie_on: set()}},)\n",
      " -------------------------- \n",
      "Fitness_tracker\n",
      "(#office(have[phone]), #wild(have[plant,wind]), #woman(sport,run))\n",
      "A woman runs next to her phone.\n",
      "[woman, runs, phone]\n",
      "({woman->woman: {run->run: set(), ->play: {phone->phone}}},)\n",
      " -------------------------- \n",
      "transfer_money\n",
      "(#background, #woman(sit,play[computer]), #man(stand,hold[phone]), #chart(have[money,arrow]))\n",
      "A man is standing and a woman is sitting with a computer to transfer money.\n",
      "[man, standing, woman, sitting, computer, transfer, money]\n",
      "({man->man: {stand->stand: set()}, woman->woman: {sit->sit: set(), transfer->: set(), ->play: {computer->computer}}}, {->chart: {->have: {money->money}}})\n",
      " -------------------------- \n",
      "wall_post\n",
      "(#background, #other(have[website,plant]), #woman(stand,hold[pencil]))\n",
      "A woman is writing a web page with a pen.\n",
      "[woman, writing, web, page, pen]\n",
      "({woman->woman: {write->write: set(), ->hold: {pen->pencil}}}, {->other: {->have: {page->webpage, web->website}}})\n",
      " -------------------------- \n",
      "Follow_me_drone\n",
      "(#background, #other(have[drone]), #woman(watch,have[head_shot]))\n",
      "A woman watches the drone.\n",
      "[woman, watches, drone]\n",
      "({woman->woman: {watch->watch: set()}}, {->other: {->have: {drone->drone}}})\n",
      " -------------------------- \n",
      "web_development\n",
      "(#background, #other(have[website]), #wild(have[leaf]), #woman(sit,watch,play[computer]))\n",
      "A woman is playing with her computer next to a web page.\n",
      "[woman, playing, computer, web, page]\n",
      "({woman->woman: {play->play: {computer->computer}}}, {->other: {->have: {page->webpage, web->website}}})\n",
      " -------------------------- \n",
      "weather_app\n",
      "(#other(have[sun,cloud]), #woman(sit))\n",
      "A woman is sitting on the clouds and the sun.\n",
      "[woman, sitting, clouds, sun]\n",
      "({woman->woman: {sit->sit: set()}}, {->wild: {->have: {cloud->cloud, sun->sun}}})\n",
      " -------------------------- \n",
      "Focus\n",
      "(#background, #wild(have[tree,plant]), #woman(sit,take[pictures]))\n",
      "A woman takes pictures under the tree.\n",
      "[woman, takes, pictures, tree]\n",
      "({woman->woman: {take->take: {picture->pictures}}}, {->wild: {->have: {tree->tree}}})\n",
      " -------------------------- \n",
      "Fireworks\n",
      "(#background, #woman(stand,talk), #woman(point_to,show,stand), #wild(have[firework,plant]))\n",
      "Two women enjoyed fireworks in the wild.\n",
      "[women, enjoyed, fireworks, wild]\n",
      "({woman->woman: {enjoy->take: set()}}, {wild->wild: {->have: {firework->firework}}})\n",
      " -------------------------- \n",
      "web_developer\n",
      "(#other(have[webpage]), #man(sit,play[computer]))\n",
      "A man is playing with his computer next to a web page.\n",
      "[man, playing, computer, web, page]\n",
      "({man->man: {play->play: {computer->computer}, ->hold: {page->paper}}}, {->other: {->have: {web->website}}})\n",
      " -------------------------- \n",
      "Forgot_password\n",
      "(#background, #man(think))\n",
      "A man is thinking.\n",
      "[man, thinking]\n",
      "({man->man: {think->think: set()}},)\n",
      " -------------------------- \n",
      "Following\n",
      "(#background, #chart(have[list]), #woman(stand,present))\n",
      "A woman is showing a chart.\n",
      "[woman, showing, chart]\n",
      "({woman->woman: {show->show: set()}}, {chart->chart: {}})\n",
      " -------------------------- \n",
      "walking_around\n",
      "(#background, #wild(have[guideboard,plant]), #woman(walk))\n",
      "A woman is walking.\n",
      "[woman, walking]\n",
      "({woman->woman: {walk->walk: set()}},)\n",
      " -------------------------- \n",
      "Gardening\n",
      "(#background, #wild(have[sunflower]), #woman(touch,stand,back_on))\n",
      "A woman touches the sunflowers.\n",
      "[woman, touches, sunflowers]\n",
      "({woman->woman: {touch->touch: {sunflower->flower}}},)\n",
      " -------------------------- \n",
      "videographer\n",
      "(#background, #other(have[camera]), #wild(have[plant]), #man(stand))\n",
      "A man is standing against the camera.\n",
      "[man, standing, camera]\n",
      "({man->man: {stand->stand: set(), ->hold: {camera->phone}}},)\n",
      " -------------------------- \n",
      "warning_cyit\n",
      "(#background, #wild(have[rock,sign]), #woman(stand,hold[flag]))\n",
      "A woman is standing with a flag beside some stones and a sign.\n",
      "[woman, standing, flag, stones, sign]\n",
      "({woman->woman: {stand->stand: set(), ->hold: {flag->flag, sign->flag}}}, {->wild: {->have: {stone->rock}}})\n",
      " -------------------------- \n",
      "Flowers\n",
      "(#wild(have[plant]), #woman(sit,hold[flower]))\n",
      "A woman holds a flower and sits on the grass.\n",
      "[woman, holds, flower, sits, grass]\n",
      "({woman->woman: {hold->hold: {flower->flower}, sit->sit: set()}}, {->accessory: {->have: {grass->leaf}}})\n",
      " -------------------------- \n",
      "Fish_bowl\n",
      "(#wild(have[fish,plant,water,fish_tank,cloud]), #woman(walk,play[phone]))\n",
      "A woman walk past a fish tank.\n",
      "[woman, walk, past, fish, tank]\n"
     ]
    },
    {
     "name": "stderr",
     "output_type": "stream",
     "text": [
      "/Users/dongjustin/miniconda2/envs/text2scene/lib/python3.7/site-packages/ipykernel_launcher.py:70: UserWarning: Tokens not exhausted!\n"
     ]
    },
    {
     "name": "stdout",
     "output_type": "stream",
     "text": [
      "-> left ungrounded tokens: [past]\n",
      "({woman->woman: {walk->walk: set()}}, {->wild: {->have: {fish->fish, tank->fish_tank}}})\n",
      " -------------------------- \n",
      "Firmware\n",
      "(#background, #alien(have[robot],stand), #man(exercise,step_on[stone]), #man(work,play[computer],sit))\n",
      "A man played the computer. A man stepped on the stone and exercised. They had a robot.\n",
      "[man, played, computer, man, stepped, stone, exercised, robot]\n",
      "({man->man: {play->play: {computer->computer}, ->step_on: {stone->stone}, ->raise: {robot->arm}}}, {man->man: {step->step_on: set(), exercise->exercise: set()}})\n",
      " -------------------------- \n",
      "visual_data\n",
      "(#background, #wild(have[tree]), #man(collect[data]))\n",
      "A man is standing to collect data.\n",
      "[man, standing, collect, data]\n",
      "({man->man: {stand->stand: set(), collect->collect: {datum->data}}},)\n",
      " -------------------------- \n",
      "viral_tweet\n",
      "(#wild(have[hill,cloud]), #accessory(have[leaf]), #wild(have[balloon]), #woman(sit,hold[phone]))\n",
      "A woman is sitting in a hot air balloon.\n",
      "[woman, sitting, hot, air, balloon]\n",
      "({woman->woman: {sit->sit: set()}}, {->wild: {->have: {balloon->balloon, air->balloon, hot->sun}}})\n",
      " -------------------------- \n",
      "Forming_ideas\n",
      "(#background, #man(hold[cube],walk), #other(have[triangle,circle,square,tree]))\n",
      "A man walks past some objects.\n",
      "[man, walks, past, objects]\n",
      "-> left ungrounded tokens: [past, objects]\n",
      "({man->man: {walk->walk: set()}},)\n",
      " -------------------------- \n",
      "voice_control\n",
      "(#background, #woman(sit_on[chair]))\n",
      "A woman is sitting at her desk.\n",
      "[woman, sitting, desk]\n",
      "({woman->woman: {sit->sit: set()}}, {desk->office: {}})\n",
      " -------------------------- \n",
      "Friendship\n",
      "(#background, #wild(have[tree,plant]), #man(lie_on[stone],talk), #man(sit,talk))\n",
      "A man talks with his friend under the tree.\n",
      "[man, talks, friend, tree]\n",
      "-> left ungrounded tokens: [friend]\n",
      "({man->man: {talk->talk: set()}}, {->wild: {->have: {tree->tree}}})\n",
      " -------------------------- \n",
      "Forever\n",
      "(#background, #wild(have[plant,beach,sun]), #group(have[man(sit,hold),woman(lie,talk)]))\n",
      "A couple were lying on the beach sunning themselves.\n",
      "[couple, lying, beach, sunning]\n",
      "[sunning]\n"
     ]
    },
    {
     "name": "stderr",
     "output_type": "stream",
     "text": [
      "/Users/dongjustin/miniconda2/envs/text2scene/lib/python3.7/site-packages/ipykernel_launcher.py:65: UserWarning: Verbs not exhausted!\n"
     ]
    },
    {
     "name": "stdout",
     "output_type": "stream",
     "text": [
      "-> left ungrounded tokens: [couple]\n",
      "({->woman: {lie->lie: set()}}, {->wild: {->have: {beach->beach, sun->sun}}})\n",
      " -------------------------- \n",
      "wind_turbine\n",
      "(#background, #other(have[windmill]), #woman(walk,watch))\n",
      "A woman is walking in front of three windmills.\n",
      "[woman, walking, windmills]\n",
      "({woman->woman: {walk->walk: set()}}, {->other: {->have: {windmill->windmill}}})\n",
      " -------------------------- \n",
      "Folder\n",
      "(#chart(have[folder,paper]), #man(stand))\n",
      "A man stands next to the folder.\n",
      "[man, stands, folder]\n",
      "({man->man: {stand->stand: set()}}, {->chart: {->have: {folder->folder}}})\n",
      " -------------------------- \n",
      "track_and_field\n",
      "(#background, #woman(exercise,run_over[hurdle]))\n",
      "A woman is running over hurdles.\n",
      "[woman, running, hurdles]\n",
      "({woman->woman: {run->run: set(), ->run_over: {hurdle->hurdle}}},)\n",
      " -------------------------- \n",
      "virtual_reality\n",
      "(#background, #man(lie,watch[movie]))\n",
      "A man is lying watching a movie.\n",
      "[man, lying, watching, movie]\n",
      "({man->man: {lie->lie: set(), watch->watch: {movie->movie}}},)\n",
      " -------------------------- \n",
      "For_sale\n",
      "(#home(have[house,sun,tree]),)\n",
      "A house with some tree.\n",
      "[house, tree]\n",
      "({house->home: {->have: {tree->tree}}},)\n",
      " -------------------------- \n",
      "timeline\n",
      "(#wild(have[plant]), #man(walk,hold[paper]), #chart(have[paper,arrow]))\n",
      "A man is walking with some paper in his hand.\n",
      "[man, walking, paper, hand]\n",
      "({man->man: {walk->walk: set(), ->hold: {paper->paper}, ->raise: {hand->arm}}},)\n",
      " -------------------------- \n",
      "voice_interface\n",
      "(#background, #park(have[plant]), #woman(sit,play[computer]))\n",
      "A woman sits using a computer.\n",
      "[woman, sits, computer]\n",
      "({woman->woman: {sit->sit: set(), ->play: {computer->computer}}},)\n",
      " -------------------------- \n",
      "Frozen\n",
      "(#alien(have[snowman]),)\n",
      "There is a snowman.\n",
      "[snowman]\n",
      "({->alien: {->have: {snowman->snowman}}},)\n"
     ]
    }
   ],
   "source": [
    "import glob\n",
    "import re\n",
    "from tools.containers import Picture\n",
    "ground = Ground()\n",
    "for txt_name in glob.glob('text/*.txt'):\n",
    "    print(' -------------------------- ')\n",
    "    name = re.findall(r'text/(\\w+).txt', txt_name)[0]\n",
    "    print(name)\n",
    "    # name = 'wind_turbine'\n",
    "    print(Picture('images/%s.svg' % name).layers_)\n",
    "    print(ground('text/%s.txt' % name))"
   ]
  },
  {
   "cell_type": "code",
   "execution_count": 262,
   "metadata": {},
   "outputs": [],
   "source": [
    "#  web development\n",
    "#  Text: A woman is playing with her computer next to a web page.\n",
    "#  Trouble: two plays: first with woman, second proposed by computer\n",
    "\n",
    "#  weather\n",
    "#  Text: A man is standing to give the weather report.\n",
    "#  Trouble: weather -> wind but should \"weathe report\" -> \"bulletin\"\n",
    "\n",
    "#  videographer\n",
    "#  Text: A man is standing against the camera.\n",
    "#  Trouble: \"camera\" is bound to \"phone\" under \"man\", because they are similar. No way it can be bound to \"camera\" in \"other\" because bindind to subjects in the list is prior\n",
    "\n",
    "#  transfer_money\n",
    "#  Text: A man is standing and a woman is sitting with a computer to transfer money.\n",
    "#  Trouble: \"money\" is syntactically connected to transfer, thus can't be further grounded into charts\n",
    "\n",
    "#  track and field: A woman is running over hurdles.\n",
    "#  hurdle isn't captured by woman. Extend the object capture to any subject\n",
    "\n",
    "#  A man talks with his friend under the tree.\n",
    "#   \"friend\" is not bound but is important. similar cases include couple.\n",
    "\n",
    "# For_sale.txt [resolved]\n",
    "#    syntactically bound surrounding subjects have no action\n",
    "#    thus add default action \n",
    "\n",
    "# Follow_me_drone\n",
    "#    \"woman watch drone\" rather than \"woman watch\" and \"other drone\"\n",
    "#    this is a syntactical grounding case, thus nothing can be done\n",
    "#    may require the difference between strong interaction and weak interaction. E.g. play and watch\n",
    "#    need special care when compare the similarity. keywords in a bag may be suitable in this case. Previously we propose layerwise retrieval, now picture level? The slicing is already done anyway. But then we cannot ensure, e.g. two men in a group is correctly bound, duplicate subjects information is lost after bagging.\n",
    "\n",
    "\n",
    "# text/Focus.txt [resolved]\n",
    "#    tree -> home rather than tree -> wild\n",
    "#    add a new ordering key in find_most_simi_subjs, the frequency of this object under this subject \n",
    "#    similarly, add the frequency key in get_simi_key\n",
    "#        in fact, this is the frequency prior\n",
    "\n",
    "# text/Flowers.txt\n",
    "#    grass -> leaf but should grass -> plant\n",
    "\n",
    "# 'text/Firmware.txt [resolved]\n",
    "#    robot can not be grounded to alien, because it's alien have robot, which is an oject\n",
    "#    -> ground to any subjects which have a \"have\" action, not just surrounding subjects\n",
    "\n",
    "# wild should be separate from man and boy? [resolved]\n",
    "#    generally if both are characters then in a layer group? surrounding cannot be in a group technically\n",
    "\n",
    "# chair should be with sit on?\n",
    "# but sofa should not be with lie on\n",
    "# what to do\n",
    "\n",
    "# in alien, lie is not bound to any keyword\n",
    "# because lie isn't in the collocations of alien"
   ]
  },
  {
   "cell_type": "code",
   "execution_count": 40,
   "metadata": {},
   "outputs": [],
   "source": [
    "# seemly that we don't need a second step"
   ]
  },
  {
   "cell_type": "markdown",
   "metadata": {},
   "source": [
    "### test"
   ]
  },
  {
   "cell_type": "code",
   "execution_count": 16,
   "metadata": {},
   "outputs": [
    {
     "data": {
      "text/plain": [
       "{man1(subj): {sit(act): set(),\n",
       "  drink(act): {beer(obj)},\n",
       "  raise(act): {arm(obj)}},\n",
       " man2(subj): {sit(act): set(), raise(act): {arm(obj)}, eat(act): {chips(obj)}}}"
      ]
     },
     "execution_count": 16,
     "metadata": {},
     "output_type": "execute_result"
    }
   ],
   "source": [
    "### group layer exclusion check\n",
    "sorted(list(layerbase.layer_vocab_))[12].nested_entities_"
   ]
  },
  {
   "cell_type": "code",
   "execution_count": 17,
   "metadata": {},
   "outputs": [
    {
     "name": "stdout",
     "output_type": "stream",
     "text": [
      "{'subj': {man(subj): 6}, 'act': {sit(act): 6, drink(act): 3, raise(act): 6, eat(act): 3}, 'obj': {beer(obj): 3, arm(obj): 6, chips(obj): 3}}\n",
      "{'subj': {man(subj): 6}, 'act': {sit(act): 6, drink(act): 3, raise(act): 6, eat(act): 3}, 'obj': {beer(obj): 3, arm(obj): 6, chips(obj): 3}}\n"
     ]
    },
    {
     "data": {
      "image/png": "[encoded data removed]",
      "text/plain": [
       "<Figure size 360x96 with 1 Axes>"
      ]
     },
     "metadata": {
      "needs_background": "light"
     },
     "output_type": "display_data"
    }
   ],
   "source": [
    "### absorption check\n",
    "from tools.containers import LayerName\n",
    "from tools.image_process import getLayerNames\n",
    "layer = LayerName(getLayerNames('images/Game_day.svg')[-1])#\n",
    "layer_c = LayerName()\n",
    "# layer_c.triples_\n",
    "# print(layer_c.entities_['subj'])\n",
    "layer_c.absorb(layer)\n",
    "layer_c.absorb(layer)\n",
    "layer_c.absorb(layer)\n",
    "layer_c.triples_\n",
    "# print(layer)\n",
    "# print(layer.entities_)\n",
    "# layer.collapse_subj()\n",
    "# print(layer.entities_)\n",
    "# layer.print_()\n",
    "# layer_c.plot()\n",
    "print(layer_c.entities_) # plot()\n",
    "print(layer_c._get_entities())\n",
    "layer_c.plot()"
   ]
  },
  {
   "cell_type": "code",
   "execution_count": null,
   "metadata": {},
   "outputs": [],
   "source": []
  }
 ],
 "metadata": {
  "kernelspec": {
   "display_name": "text2scene",
   "language": "python",
   "name": "text2scene"
  },
  "language_info": {
   "codemirror_mode": {
    "name": "ipython",
    "version": 3
   },
   "file_extension": ".py",
   "mimetype": "text/x-python",
   "name": "python",
   "nbconvert_exporter": "python",
   "pygments_lexer": "ipython3",
   "version": "3.7.3"
  }
 },
 "nbformat": 4,
 "nbformat_minor": 2
}
